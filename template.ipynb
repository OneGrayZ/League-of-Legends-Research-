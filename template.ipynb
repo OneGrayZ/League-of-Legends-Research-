{
 "cells": [
  {
   "cell_type": "markdown",
   "metadata": {},
   "source": [
    "# Digging into League of Legends\n",
    "\n",
    "**Name**: Yihui Zhang\n",
    "\n",
    "**Website Link**: https://onegrayz.github.io/League-of-Legends-Research-/"
   ]
  },
  {
   "cell_type": "code",
   "execution_count": 183,
   "metadata": {
    "ExecuteTime": {
     "end_time": "2019-10-31T23:36:28.652554Z",
     "start_time": "2019-10-31T23:36:27.180520Z"
    }
   },
   "outputs": [],
   "source": [
    "import pandas as pd\n",
    "import numpy as np\n",
    "from pathlib import Path\n",
    "\n",
    "import plotly.express as px\n",
    "pd.options.plotting.backend = 'plotly'\n",
    "\n",
    "# from dsc80_utils import * # Feel free to uncomment and use this."
   ]
  },
  {
   "cell_type": "markdown",
   "metadata": {},
   "source": [
    "## Step 1: Introduction"
   ]
  },
  {
   "cell_type": "markdown",
   "metadata": {},
   "source": [
    "League of Legends is a multiplayer online battle arena video game developed and published by Riot Games in 2009. This game is very popular worldwide. The format of the game is simply two teams play against each other which each team has 5 players. There are 5 roles for each team which are top line, jungle, mid line, bot line, and support. \n",
    "\n",
    "I played League of Legends for years, the first blood kill is a big thing for the game because it will give player advatanges in the game. If the player knows how to use his advatanges from the first blood, it will help the team to win much easier. My favorite position is jungle, so I am very curious in which jungle champion gets the first blood will increase team's win rate in the all professional league games. Some coaches or players either play in the professional league or play in daily rank will like to know that so they can have a better understanding of what condition they are in when the first blood kill happens.\n",
    "\n",
    "My dataset is on all of the professional League of Legends games that have taken place in 2024. The dataset contains 12 rows per game, one row per player and 2 rows of summary statistics (one for each team). \n",
    "\n",
    "The columns I am interested in to answer, “Which jungle champion gets the first blood kill will increase team's win rate” are: \"result\", \"position\", \"champion\", \"firstbloodkill\". I chose these columns because they showed me the result of the match, and which champion gets the first blood kill, which position gets the first blood kill. When I cleaned our data to isolate the games where position jungle appeared, I had 640 rows, and 4 columns.\n"
   ]
  },
  {
   "cell_type": "markdown",
   "metadata": {},
   "source": [
    "#### Descriptions of Columns\n",
    "- position: the position of game, top means top line, jng means jungle, mid means mid line, bot means bot line, and sup means support\n",
    "- champion: the champion that the player picked \n",
    "- result: 0 means defeat, 1 means victory\n",
    "- firstbooldkill: 0 means not got first blood kill, 1 means got first blood kill"
   ]
  },
  {
   "cell_type": "markdown",
   "metadata": {},
   "source": [
    "## Step 2: Data Cleaning and Exploratory Data Analysis"
   ]
  },
  {
   "cell_type": "markdown",
   "metadata": {},
   "source": [
    "### Raw Dataset"
   ]
  },
  {
   "cell_type": "code",
   "execution_count": 184,
   "metadata": {
    "ExecuteTime": {
     "end_time": "2019-10-31T23:36:28.657068Z",
     "start_time": "2019-10-31T23:36:28.654650Z"
    }
   },
   "outputs": [
    {
     "data": {
      "text/html": [
       "<div>\n",
       "<style scoped>\n",
       "    .dataframe tbody tr th:only-of-type {\n",
       "        vertical-align: middle;\n",
       "    }\n",
       "\n",
       "    .dataframe tbody tr th {\n",
       "        vertical-align: top;\n",
       "    }\n",
       "\n",
       "    .dataframe thead th {\n",
       "        text-align: right;\n",
       "    }\n",
       "</style>\n",
       "<table border=\"1\" class=\"dataframe\">\n",
       "  <thead>\n",
       "    <tr style=\"text-align: right;\">\n",
       "      <th></th>\n",
       "      <th>gameid</th>\n",
       "      <th>datacompleteness</th>\n",
       "      <th>url</th>\n",
       "      <th>league</th>\n",
       "      <th>year</th>\n",
       "      <th>split</th>\n",
       "      <th>playoffs</th>\n",
       "      <th>date</th>\n",
       "      <th>game</th>\n",
       "      <th>patch</th>\n",
       "      <th>...</th>\n",
       "      <th>opp_csat15</th>\n",
       "      <th>golddiffat15</th>\n",
       "      <th>xpdiffat15</th>\n",
       "      <th>csdiffat15</th>\n",
       "      <th>killsat15</th>\n",
       "      <th>assistsat15</th>\n",
       "      <th>deathsat15</th>\n",
       "      <th>opp_killsat15</th>\n",
       "      <th>opp_assistsat15</th>\n",
       "      <th>opp_deathsat15</th>\n",
       "    </tr>\n",
       "  </thead>\n",
       "  <tbody>\n",
       "    <tr>\n",
       "      <th>0</th>\n",
       "      <td>10660-10660_game_1</td>\n",
       "      <td>partial</td>\n",
       "      <td>https://lpl.qq.com/es/stats.shtml?bmid=10660</td>\n",
       "      <td>DCup</td>\n",
       "      <td>2023</td>\n",
       "      <td>NaN</td>\n",
       "      <td>0</td>\n",
       "      <td>2024-01-01 05:13:15</td>\n",
       "      <td>1</td>\n",
       "      <td>13.24</td>\n",
       "      <td>...</td>\n",
       "      <td>NaN</td>\n",
       "      <td>NaN</td>\n",
       "      <td>NaN</td>\n",
       "      <td>NaN</td>\n",
       "      <td>NaN</td>\n",
       "      <td>NaN</td>\n",
       "      <td>NaN</td>\n",
       "      <td>NaN</td>\n",
       "      <td>NaN</td>\n",
       "      <td>NaN</td>\n",
       "    </tr>\n",
       "    <tr>\n",
       "      <th>1</th>\n",
       "      <td>10660-10660_game_1</td>\n",
       "      <td>partial</td>\n",
       "      <td>https://lpl.qq.com/es/stats.shtml?bmid=10660</td>\n",
       "      <td>DCup</td>\n",
       "      <td>2023</td>\n",
       "      <td>NaN</td>\n",
       "      <td>0</td>\n",
       "      <td>2024-01-01 05:13:15</td>\n",
       "      <td>1</td>\n",
       "      <td>13.24</td>\n",
       "      <td>...</td>\n",
       "      <td>NaN</td>\n",
       "      <td>NaN</td>\n",
       "      <td>NaN</td>\n",
       "      <td>NaN</td>\n",
       "      <td>NaN</td>\n",
       "      <td>NaN</td>\n",
       "      <td>NaN</td>\n",
       "      <td>NaN</td>\n",
       "      <td>NaN</td>\n",
       "      <td>NaN</td>\n",
       "    </tr>\n",
       "    <tr>\n",
       "      <th>2</th>\n",
       "      <td>10660-10660_game_1</td>\n",
       "      <td>partial</td>\n",
       "      <td>https://lpl.qq.com/es/stats.shtml?bmid=10660</td>\n",
       "      <td>DCup</td>\n",
       "      <td>2023</td>\n",
       "      <td>NaN</td>\n",
       "      <td>0</td>\n",
       "      <td>2024-01-01 05:13:15</td>\n",
       "      <td>1</td>\n",
       "      <td>13.24</td>\n",
       "      <td>...</td>\n",
       "      <td>NaN</td>\n",
       "      <td>NaN</td>\n",
       "      <td>NaN</td>\n",
       "      <td>NaN</td>\n",
       "      <td>NaN</td>\n",
       "      <td>NaN</td>\n",
       "      <td>NaN</td>\n",
       "      <td>NaN</td>\n",
       "      <td>NaN</td>\n",
       "      <td>NaN</td>\n",
       "    </tr>\n",
       "    <tr>\n",
       "      <th>3</th>\n",
       "      <td>10660-10660_game_1</td>\n",
       "      <td>partial</td>\n",
       "      <td>https://lpl.qq.com/es/stats.shtml?bmid=10660</td>\n",
       "      <td>DCup</td>\n",
       "      <td>2023</td>\n",
       "      <td>NaN</td>\n",
       "      <td>0</td>\n",
       "      <td>2024-01-01 05:13:15</td>\n",
       "      <td>1</td>\n",
       "      <td>13.24</td>\n",
       "      <td>...</td>\n",
       "      <td>NaN</td>\n",
       "      <td>NaN</td>\n",
       "      <td>NaN</td>\n",
       "      <td>NaN</td>\n",
       "      <td>NaN</td>\n",
       "      <td>NaN</td>\n",
       "      <td>NaN</td>\n",
       "      <td>NaN</td>\n",
       "      <td>NaN</td>\n",
       "      <td>NaN</td>\n",
       "    </tr>\n",
       "    <tr>\n",
       "      <th>4</th>\n",
       "      <td>10660-10660_game_1</td>\n",
       "      <td>partial</td>\n",
       "      <td>https://lpl.qq.com/es/stats.shtml?bmid=10660</td>\n",
       "      <td>DCup</td>\n",
       "      <td>2023</td>\n",
       "      <td>NaN</td>\n",
       "      <td>0</td>\n",
       "      <td>2024-01-01 05:13:15</td>\n",
       "      <td>1</td>\n",
       "      <td>13.24</td>\n",
       "      <td>...</td>\n",
       "      <td>NaN</td>\n",
       "      <td>NaN</td>\n",
       "      <td>NaN</td>\n",
       "      <td>NaN</td>\n",
       "      <td>NaN</td>\n",
       "      <td>NaN</td>\n",
       "      <td>NaN</td>\n",
       "      <td>NaN</td>\n",
       "      <td>NaN</td>\n",
       "      <td>NaN</td>\n",
       "    </tr>\n",
       "  </tbody>\n",
       "</table>\n",
       "<p>5 rows × 131 columns</p>\n",
       "</div>"
      ],
      "text/plain": [
       "               gameid datacompleteness  \\\n",
       "0  10660-10660_game_1          partial   \n",
       "1  10660-10660_game_1          partial   \n",
       "2  10660-10660_game_1          partial   \n",
       "3  10660-10660_game_1          partial   \n",
       "4  10660-10660_game_1          partial   \n",
       "\n",
       "                                            url league  year split  playoffs  \\\n",
       "0  https://lpl.qq.com/es/stats.shtml?bmid=10660   DCup  2023   NaN         0   \n",
       "1  https://lpl.qq.com/es/stats.shtml?bmid=10660   DCup  2023   NaN         0   \n",
       "2  https://lpl.qq.com/es/stats.shtml?bmid=10660   DCup  2023   NaN         0   \n",
       "3  https://lpl.qq.com/es/stats.shtml?bmid=10660   DCup  2023   NaN         0   \n",
       "4  https://lpl.qq.com/es/stats.shtml?bmid=10660   DCup  2023   NaN         0   \n",
       "\n",
       "                  date  game  patch  ...  opp_csat15 golddiffat15 xpdiffat15  \\\n",
       "0  2024-01-01 05:13:15     1  13.24  ...         NaN          NaN        NaN   \n",
       "1  2024-01-01 05:13:15     1  13.24  ...         NaN          NaN        NaN   \n",
       "2  2024-01-01 05:13:15     1  13.24  ...         NaN          NaN        NaN   \n",
       "3  2024-01-01 05:13:15     1  13.24  ...         NaN          NaN        NaN   \n",
       "4  2024-01-01 05:13:15     1  13.24  ...         NaN          NaN        NaN   \n",
       "\n",
       "  csdiffat15 killsat15 assistsat15 deathsat15 opp_killsat15 opp_assistsat15  \\\n",
       "0        NaN       NaN         NaN        NaN           NaN             NaN   \n",
       "1        NaN       NaN         NaN        NaN           NaN             NaN   \n",
       "2        NaN       NaN         NaN        NaN           NaN             NaN   \n",
       "3        NaN       NaN         NaN        NaN           NaN             NaN   \n",
       "4        NaN       NaN         NaN        NaN           NaN             NaN   \n",
       "\n",
       "  opp_deathsat15  \n",
       "0            NaN  \n",
       "1            NaN  \n",
       "2            NaN  \n",
       "3            NaN  \n",
       "4            NaN  \n",
       "\n",
       "[5 rows x 131 columns]"
      ]
     },
     "execution_count": 184,
     "metadata": {},
     "output_type": "execute_result"
    }
   ],
   "source": [
    "df = pd.read_csv('2024_LoL_esports_match_data_from_OraclesElixir.csv')\n",
    "df.head()"
   ]
  },
  {
   "cell_type": "markdown",
   "metadata": {},
   "source": [
    "### Data cleaning:\n",
    "First of all, I only gets the columns that help to answer my question from the dataset which are 'position', 'champion', 'result', and 'firstbloodkill'. In the position columns, other than the 5 roles of the game which are top, jng, mid, bot, sup, there is another value called 'team' which I do not want. In addition, because I only care about the position, so I only have 'jng' in my position column. I also need to filter out the firstbloodkill column because I only care about the win rate when the champion got the first blood kill. I also realize that the 'result' and 'firstbloodkill' columns should be boolean values instead of integers, so I convert them to the right type. Then I check if there are any missing values now in each columns, and the output shows there is not empty cells in my dataset."
   ]
  },
  {
   "cell_type": "code",
   "execution_count": 185,
   "metadata": {},
   "outputs": [
    {
     "data": {
      "text/html": [
       "<div>\n",
       "<style scoped>\n",
       "    .dataframe tbody tr th:only-of-type {\n",
       "        vertical-align: middle;\n",
       "    }\n",
       "\n",
       "    .dataframe tbody tr th {\n",
       "        vertical-align: top;\n",
       "    }\n",
       "\n",
       "    .dataframe thead th {\n",
       "        text-align: right;\n",
       "    }\n",
       "</style>\n",
       "<table border=\"1\" class=\"dataframe\">\n",
       "  <thead>\n",
       "    <tr style=\"text-align: right;\">\n",
       "      <th></th>\n",
       "      <th>position</th>\n",
       "      <th>champion</th>\n",
       "      <th>result</th>\n",
       "      <th>firstbloodkill</th>\n",
       "    </tr>\n",
       "  </thead>\n",
       "  <tbody>\n",
       "    <tr>\n",
       "      <th>0</th>\n",
       "      <td>top</td>\n",
       "      <td>Aatrox</td>\n",
       "      <td>0</td>\n",
       "      <td>0.0</td>\n",
       "    </tr>\n",
       "    <tr>\n",
       "      <th>1</th>\n",
       "      <td>jng</td>\n",
       "      <td>Maokai</td>\n",
       "      <td>0</td>\n",
       "      <td>0.0</td>\n",
       "    </tr>\n",
       "    <tr>\n",
       "      <th>2</th>\n",
       "      <td>mid</td>\n",
       "      <td>Orianna</td>\n",
       "      <td>0</td>\n",
       "      <td>0.0</td>\n",
       "    </tr>\n",
       "    <tr>\n",
       "      <th>3</th>\n",
       "      <td>bot</td>\n",
       "      <td>Kalista</td>\n",
       "      <td>0</td>\n",
       "      <td>0.0</td>\n",
       "    </tr>\n",
       "    <tr>\n",
       "      <th>4</th>\n",
       "      <td>sup</td>\n",
       "      <td>Senna</td>\n",
       "      <td>0</td>\n",
       "      <td>0.0</td>\n",
       "    </tr>\n",
       "  </tbody>\n",
       "</table>\n",
       "</div>"
      ],
      "text/plain": [
       "  position champion  result  firstbloodkill\n",
       "0      top   Aatrox       0             0.0\n",
       "1      jng   Maokai       0             0.0\n",
       "2      mid  Orianna       0             0.0\n",
       "3      bot  Kalista       0             0.0\n",
       "4      sup    Senna       0             0.0"
      ]
     },
     "execution_count": 185,
     "metadata": {},
     "output_type": "execute_result"
    }
   ],
   "source": [
    "df = df[['position', 'champion', 'result', 'firstbloodkill']]\n",
    "df.head()\n"
   ]
  },
  {
   "cell_type": "code",
   "execution_count": 186,
   "metadata": {},
   "outputs": [
    {
     "data": {
      "text/html": [
       "<div>\n",
       "<style scoped>\n",
       "    .dataframe tbody tr th:only-of-type {\n",
       "        vertical-align: middle;\n",
       "    }\n",
       "\n",
       "    .dataframe tbody tr th {\n",
       "        vertical-align: top;\n",
       "    }\n",
       "\n",
       "    .dataframe thead th {\n",
       "        text-align: right;\n",
       "    }\n",
       "</style>\n",
       "<table border=\"1\" class=\"dataframe\">\n",
       "  <thead>\n",
       "    <tr style=\"text-align: right;\">\n",
       "      <th></th>\n",
       "      <th>position</th>\n",
       "      <th>champion</th>\n",
       "      <th>result</th>\n",
       "      <th>firstbloodkill</th>\n",
       "    </tr>\n",
       "  </thead>\n",
       "  <tbody>\n",
       "    <tr>\n",
       "      <th>25</th>\n",
       "      <td>jng</td>\n",
       "      <td>Bel'Veth</td>\n",
       "      <td>True</td>\n",
       "      <td>True</td>\n",
       "    </tr>\n",
       "    <tr>\n",
       "      <th>37</th>\n",
       "      <td>jng</td>\n",
       "      <td>Jarvan IV</td>\n",
       "      <td>True</td>\n",
       "      <td>True</td>\n",
       "    </tr>\n",
       "    <tr>\n",
       "      <th>73</th>\n",
       "      <td>jng</td>\n",
       "      <td>Nocturne</td>\n",
       "      <td>True</td>\n",
       "      <td>True</td>\n",
       "    </tr>\n",
       "    <tr>\n",
       "      <th>85</th>\n",
       "      <td>jng</td>\n",
       "      <td>Jarvan IV</td>\n",
       "      <td>True</td>\n",
       "      <td>True</td>\n",
       "    </tr>\n",
       "    <tr>\n",
       "      <th>126</th>\n",
       "      <td>jng</td>\n",
       "      <td>Lee Sin</td>\n",
       "      <td>True</td>\n",
       "      <td>True</td>\n",
       "    </tr>\n",
       "  </tbody>\n",
       "</table>\n",
       "</div>"
      ],
      "text/plain": [
       "    position   champion  result  firstbloodkill\n",
       "25       jng   Bel'Veth    True            True\n",
       "37       jng  Jarvan IV    True            True\n",
       "73       jng   Nocturne    True            True\n",
       "85       jng  Jarvan IV    True            True\n",
       "126      jng    Lee Sin    True            True"
      ]
     },
     "execution_count": 186,
     "metadata": {},
     "output_type": "execute_result"
    }
   ],
   "source": [
    "df = df[df['position'] == 'jng']\n",
    "df = df[df['firstbloodkill'] == 1]\n",
    "df['result'] = df['result'].apply(lambda x : bool(x))\n",
    "df['firstbloodkill'] = df['firstbloodkill'].apply(lambda x : bool(x))\n",
    "df.head()"
   ]
  },
  {
   "cell_type": "code",
   "execution_count": 187,
   "metadata": {},
   "outputs": [
    {
     "data": {
      "text/plain": [
       "position          0\n",
       "champion          0\n",
       "result            0\n",
       "firstbloodkill    0\n",
       "dtype: int64"
      ]
     },
     "execution_count": 187,
     "metadata": {},
     "output_type": "execute_result"
    }
   ],
   "source": [
    "df.isna().sum()"
   ]
  },
  {
   "cell_type": "markdown",
   "metadata": {},
   "source": [
    "### Univariate Analysis:\n",
    "First, let's look at all jungle champions' win rate when by drawing graph. This pie graph shows that the win rate of all jungle champions when they get the firstblood. Based on this graph, when a jungle champion gets the first blood kill, the team will have almost 60% to win. "
   ]
  },
  {
   "cell_type": "code",
   "execution_count": 188,
   "metadata": {},
   "outputs": [
    {
     "data": {
      "application/vnd.plotly.v1+json": {
       "config": {
        "plotlyServerURL": "https://plot.ly"
       },
       "data": [
        {
         "domain": {
          "x": [
           0,
           1
          ],
          "y": [
           0,
           1
          ]
         },
         "hovertemplate": "result=%{label}<br>firstbloodkill=%{value}<extra></extra>",
         "labels": [
          "victory",
          "victory",
          "victory",
          "victory",
          "victory",
          "defeat",
          "defeat",
          "victory",
          "victory",
          "victory",
          "victory",
          "victory",
          "victory",
          "defeat",
          "defeat",
          "victory",
          "defeat",
          "victory",
          "victory",
          "victory",
          "defeat",
          "victory",
          "defeat",
          "defeat",
          "defeat",
          "victory",
          "defeat",
          "victory",
          "victory",
          "defeat",
          "victory",
          "victory",
          "victory",
          "victory",
          "victory",
          "defeat",
          "victory",
          "defeat",
          "victory",
          "victory",
          "victory",
          "victory",
          "defeat",
          "defeat",
          "victory",
          "victory",
          "victory",
          "defeat",
          "defeat",
          "defeat",
          "defeat",
          "victory",
          "defeat",
          "victory",
          "defeat",
          "victory",
          "victory",
          "defeat",
          "victory",
          "victory",
          "defeat",
          "defeat",
          "victory",
          "defeat",
          "victory",
          "victory",
          "defeat",
          "victory",
          "victory",
          "defeat",
          "victory",
          "victory",
          "victory",
          "victory",
          "victory",
          "victory",
          "defeat",
          "victory",
          "defeat",
          "victory",
          "victory",
          "defeat",
          "victory",
          "victory",
          "victory",
          "victory",
          "victory",
          "victory",
          "defeat",
          "victory",
          "defeat",
          "defeat",
          "defeat",
          "victory",
          "victory",
          "victory",
          "victory",
          "victory",
          "victory",
          "victory",
          "defeat",
          "victory",
          "defeat",
          "defeat",
          "defeat",
          "victory",
          "defeat",
          "victory",
          "victory",
          "defeat",
          "victory",
          "victory",
          "victory",
          "victory",
          "victory",
          "defeat",
          "victory",
          "defeat",
          "victory",
          "victory",
          "victory",
          "victory",
          "defeat",
          "victory",
          "victory",
          "defeat",
          "defeat",
          "victory",
          "victory",
          "victory",
          "defeat",
          "defeat",
          "victory",
          "victory",
          "defeat",
          "defeat",
          "victory",
          "victory",
          "victory",
          "victory",
          "victory",
          "victory",
          "victory",
          "victory",
          "victory",
          "victory",
          "defeat",
          "victory",
          "defeat",
          "victory",
          "victory",
          "defeat",
          "victory",
          "defeat",
          "victory",
          "defeat",
          "victory",
          "victory",
          "defeat",
          "victory",
          "victory",
          "victory",
          "victory",
          "defeat",
          "victory",
          "defeat",
          "victory",
          "victory",
          "victory",
          "victory",
          "victory",
          "victory",
          "victory",
          "defeat",
          "defeat",
          "victory",
          "victory",
          "defeat",
          "victory",
          "defeat",
          "victory",
          "defeat",
          "victory",
          "victory",
          "victory",
          "defeat",
          "defeat",
          "defeat",
          "defeat",
          "victory",
          "defeat",
          "defeat",
          "defeat",
          "defeat",
          "victory",
          "victory",
          "victory",
          "defeat",
          "victory",
          "victory",
          "victory",
          "defeat",
          "defeat",
          "victory",
          "defeat",
          "victory",
          "defeat",
          "victory",
          "defeat",
          "defeat",
          "victory",
          "victory",
          "victory",
          "victory",
          "defeat",
          "defeat",
          "victory",
          "victory",
          "defeat",
          "victory",
          "victory",
          "defeat",
          "victory",
          "victory",
          "victory",
          "defeat",
          "victory",
          "victory",
          "victory",
          "victory",
          "victory",
          "defeat",
          "victory",
          "victory",
          "victory",
          "defeat",
          "victory",
          "victory",
          "victory",
          "victory",
          "defeat",
          "victory",
          "defeat",
          "defeat",
          "victory",
          "defeat",
          "victory",
          "victory",
          "victory",
          "defeat",
          "victory",
          "victory",
          "defeat",
          "victory",
          "victory",
          "defeat",
          "victory",
          "victory",
          "victory",
          "victory",
          "victory",
          "defeat",
          "defeat",
          "defeat",
          "defeat",
          "defeat",
          "victory",
          "victory",
          "defeat",
          "victory",
          "defeat",
          "victory",
          "victory",
          "defeat",
          "defeat",
          "victory",
          "victory",
          "defeat",
          "victory",
          "victory",
          "defeat",
          "victory",
          "defeat",
          "victory",
          "victory",
          "defeat",
          "defeat",
          "victory",
          "defeat",
          "victory",
          "defeat",
          "defeat",
          "defeat",
          "victory",
          "defeat",
          "defeat",
          "victory",
          "defeat",
          "defeat",
          "victory",
          "victory",
          "defeat",
          "victory",
          "defeat",
          "victory",
          "defeat",
          "victory",
          "defeat",
          "victory",
          "victory",
          "victory",
          "victory",
          "victory",
          "victory",
          "victory",
          "defeat",
          "victory",
          "defeat",
          "victory",
          "victory",
          "defeat",
          "victory",
          "defeat",
          "victory",
          "victory",
          "defeat",
          "defeat",
          "defeat",
          "victory",
          "defeat",
          "victory",
          "victory",
          "victory",
          "victory",
          "defeat",
          "victory",
          "victory",
          "victory",
          "victory",
          "defeat",
          "victory",
          "victory",
          "defeat",
          "defeat",
          "victory",
          "defeat",
          "defeat",
          "victory",
          "victory",
          "victory",
          "defeat",
          "defeat",
          "defeat",
          "defeat",
          "victory",
          "defeat",
          "defeat",
          "defeat",
          "victory",
          "defeat",
          "victory",
          "defeat",
          "victory",
          "victory",
          "victory",
          "defeat",
          "victory",
          "victory",
          "victory",
          "victory",
          "victory",
          "victory",
          "defeat",
          "defeat",
          "defeat",
          "defeat",
          "victory",
          "victory",
          "victory",
          "defeat",
          "victory",
          "victory",
          "victory",
          "victory",
          "defeat",
          "defeat",
          "defeat",
          "defeat",
          "victory",
          "victory",
          "victory",
          "defeat",
          "defeat",
          "defeat",
          "victory",
          "victory",
          "defeat",
          "victory",
          "defeat",
          "victory",
          "defeat",
          "defeat",
          "defeat",
          "defeat",
          "defeat",
          "defeat",
          "defeat",
          "victory",
          "defeat",
          "victory",
          "defeat",
          "victory",
          "defeat",
          "defeat",
          "victory",
          "defeat",
          "defeat",
          "defeat",
          "defeat",
          "defeat",
          "defeat",
          "victory",
          "defeat",
          "victory",
          "victory",
          "defeat",
          "defeat",
          "victory",
          "victory",
          "victory",
          "defeat",
          "defeat",
          "victory",
          "victory",
          "defeat",
          "defeat",
          "victory",
          "defeat",
          "victory",
          "victory",
          "defeat",
          "defeat",
          "defeat",
          "victory",
          "victory",
          "defeat",
          "defeat",
          "defeat",
          "defeat",
          "victory",
          "victory",
          "victory",
          "victory",
          "victory",
          "victory",
          "defeat",
          "victory",
          "victory",
          "victory",
          "victory",
          "victory",
          "victory",
          "victory",
          "defeat",
          "victory",
          "victory",
          "victory",
          "defeat",
          "victory",
          "victory",
          "defeat",
          "defeat",
          "defeat",
          "victory",
          "defeat",
          "defeat",
          "defeat",
          "victory",
          "victory",
          "victory",
          "defeat",
          "victory",
          "defeat",
          "defeat",
          "victory",
          "victory",
          "defeat",
          "defeat",
          "defeat",
          "victory",
          "victory",
          "defeat",
          "victory",
          "defeat",
          "defeat",
          "defeat",
          "defeat",
          "victory",
          "victory",
          "victory",
          "victory",
          "victory",
          "victory",
          "victory",
          "victory",
          "victory",
          "defeat",
          "defeat",
          "victory",
          "defeat",
          "victory",
          "defeat",
          "defeat",
          "victory",
          "victory",
          "defeat",
          "defeat",
          "defeat",
          "defeat",
          "defeat",
          "defeat",
          "defeat",
          "victory",
          "victory",
          "victory",
          "defeat",
          "victory",
          "victory",
          "victory",
          "defeat",
          "defeat",
          "victory",
          "defeat",
          "victory",
          "victory",
          "defeat",
          "victory",
          "victory",
          "defeat",
          "victory",
          "defeat",
          "victory",
          "defeat",
          "victory",
          "defeat",
          "defeat",
          "victory",
          "victory",
          "defeat",
          "victory",
          "defeat",
          "defeat",
          "victory",
          "victory",
          "victory",
          "defeat",
          "defeat",
          "victory",
          "victory",
          "victory",
          "defeat",
          "victory",
          "victory",
          "victory",
          "victory",
          "victory",
          "victory",
          "victory",
          "victory",
          "victory",
          "victory",
          "victory",
          "victory",
          "victory",
          "defeat",
          "defeat",
          "defeat",
          "victory",
          "victory",
          "victory",
          "victory",
          "defeat",
          "victory",
          "defeat",
          "victory",
          "victory",
          "defeat",
          "victory",
          "victory",
          "victory",
          "victory",
          "victory",
          "victory",
          "victory",
          "defeat",
          "victory",
          "victory",
          "defeat",
          "defeat",
          "victory",
          "victory",
          "victory",
          "defeat",
          "victory",
          "defeat",
          "victory",
          "victory",
          "defeat",
          "defeat",
          "victory",
          "defeat",
          "victory",
          "victory",
          "victory",
          "victory",
          "victory",
          "defeat",
          "defeat",
          "victory",
          "victory",
          "victory",
          "defeat",
          "victory",
          "victory",
          "victory",
          "victory",
          "victory",
          "victory",
          "victory",
          "defeat",
          "defeat",
          "defeat",
          "victory",
          "victory",
          "defeat",
          "victory",
          "defeat",
          "defeat",
          "defeat",
          "victory"
         ],
         "legendgroup": "",
         "name": "",
         "showlegend": true,
         "type": "pie",
         "values": [
          1,
          1,
          1,
          1,
          1,
          1,
          1,
          1,
          1,
          1,
          1,
          1,
          1,
          1,
          1,
          1,
          1,
          1,
          1,
          1,
          1,
          1,
          1,
          1,
          1,
          1,
          1,
          1,
          1,
          1,
          1,
          1,
          1,
          1,
          1,
          1,
          1,
          1,
          1,
          1,
          1,
          1,
          1,
          1,
          1,
          1,
          1,
          1,
          1,
          1,
          1,
          1,
          1,
          1,
          1,
          1,
          1,
          1,
          1,
          1,
          1,
          1,
          1,
          1,
          1,
          1,
          1,
          1,
          1,
          1,
          1,
          1,
          1,
          1,
          1,
          1,
          1,
          1,
          1,
          1,
          1,
          1,
          1,
          1,
          1,
          1,
          1,
          1,
          1,
          1,
          1,
          1,
          1,
          1,
          1,
          1,
          1,
          1,
          1,
          1,
          1,
          1,
          1,
          1,
          1,
          1,
          1,
          1,
          1,
          1,
          1,
          1,
          1,
          1,
          1,
          1,
          1,
          1,
          1,
          1,
          1,
          1,
          1,
          1,
          1,
          1,
          1,
          1,
          1,
          1,
          1,
          1,
          1,
          1,
          1,
          1,
          1,
          1,
          1,
          1,
          1,
          1,
          1,
          1,
          1,
          1,
          1,
          1,
          1,
          1,
          1,
          1,
          1,
          1,
          1,
          1,
          1,
          1,
          1,
          1,
          1,
          1,
          1,
          1,
          1,
          1,
          1,
          1,
          1,
          1,
          1,
          1,
          1,
          1,
          1,
          1,
          1,
          1,
          1,
          1,
          1,
          1,
          1,
          1,
          1,
          1,
          1,
          1,
          1,
          1,
          1,
          1,
          1,
          1,
          1,
          1,
          1,
          1,
          1,
          1,
          1,
          1,
          1,
          1,
          1,
          1,
          1,
          1,
          1,
          1,
          1,
          1,
          1,
          1,
          1,
          1,
          1,
          1,
          1,
          1,
          1,
          1,
          1,
          1,
          1,
          1,
          1,
          1,
          1,
          1,
          1,
          1,
          1,
          1,
          1,
          1,
          1,
          1,
          1,
          1,
          1,
          1,
          1,
          1,
          1,
          1,
          1,
          1,
          1,
          1,
          1,
          1,
          1,
          1,
          1,
          1,
          1,
          1,
          1,
          1,
          1,
          1,
          1,
          1,
          1,
          1,
          1,
          1,
          1,
          1,
          1,
          1,
          1,
          1,
          1,
          1,
          1,
          1,
          1,
          1,
          1,
          1,
          1,
          1,
          1,
          1,
          1,
          1,
          1,
          1,
          1,
          1,
          1,
          1,
          1,
          1,
          1,
          1,
          1,
          1,
          1,
          1,
          1,
          1,
          1,
          1,
          1,
          1,
          1,
          1,
          1,
          1,
          1,
          1,
          1,
          1,
          1,
          1,
          1,
          1,
          1,
          1,
          1,
          1,
          1,
          1,
          1,
          1,
          1,
          1,
          1,
          1,
          1,
          1,
          1,
          1,
          1,
          1,
          1,
          1,
          1,
          1,
          1,
          1,
          1,
          1,
          1,
          1,
          1,
          1,
          1,
          1,
          1,
          1,
          1,
          1,
          1,
          1,
          1,
          1,
          1,
          1,
          1,
          1,
          1,
          1,
          1,
          1,
          1,
          1,
          1,
          1,
          1,
          1,
          1,
          1,
          1,
          1,
          1,
          1,
          1,
          1,
          1,
          1,
          1,
          1,
          1,
          1,
          1,
          1,
          1,
          1,
          1,
          1,
          1,
          1,
          1,
          1,
          1,
          1,
          1,
          1,
          1,
          1,
          1,
          1,
          1,
          1,
          1,
          1,
          1,
          1,
          1,
          1,
          1,
          1,
          1,
          1,
          1,
          1,
          1,
          1,
          1,
          1,
          1,
          1,
          1,
          1,
          1,
          1,
          1,
          1,
          1,
          1,
          1,
          1,
          1,
          1,
          1,
          1,
          1,
          1,
          1,
          1,
          1,
          1,
          1,
          1,
          1,
          1,
          1,
          1,
          1,
          1,
          1,
          1,
          1,
          1,
          1,
          1,
          1,
          1,
          1,
          1,
          1,
          1,
          1,
          1,
          1,
          1,
          1,
          1,
          1,
          1,
          1,
          1,
          1,
          1,
          1,
          1,
          1,
          1,
          1,
          1,
          1,
          1,
          1,
          1,
          1,
          1,
          1,
          1,
          1,
          1,
          1,
          1,
          1,
          1,
          1,
          1,
          1,
          1,
          1,
          1,
          1,
          1,
          1,
          1,
          1,
          1,
          1,
          1,
          1,
          1,
          1,
          1,
          1,
          1,
          1,
          1,
          1,
          1,
          1,
          1,
          1,
          1,
          1,
          1,
          1,
          1,
          1,
          1,
          1,
          1,
          1,
          1,
          1,
          1,
          1,
          1,
          1,
          1,
          1,
          1,
          1,
          1,
          1,
          1,
          1,
          1,
          1,
          1,
          1,
          1,
          1,
          1,
          1,
          1,
          1,
          1,
          1,
          1,
          1,
          1,
          1,
          1,
          1,
          1,
          1,
          1,
          1,
          1,
          1,
          1,
          1,
          1,
          1,
          1,
          1,
          1,
          1,
          1,
          1,
          1,
          1,
          1,
          1,
          1,
          1,
          1,
          1,
          1,
          1,
          1,
          1,
          1,
          1,
          1,
          1,
          1,
          1,
          1,
          1,
          1,
          1,
          1,
          1,
          1,
          1,
          1,
          1,
          1,
          1,
          1,
          1,
          1,
          1,
          1,
          1,
          1,
          1,
          1,
          1,
          1,
          1,
          1,
          1,
          1,
          1,
          1,
          1,
          1,
          1,
          1,
          1,
          1,
          1,
          1,
          1,
          1
         ]
        }
       ],
       "layout": {
        "legend": {
         "tracegroupgap": 0
        },
        "template": {
         "data": {
          "bar": [
           {
            "error_x": {
             "color": "#2a3f5f"
            },
            "error_y": {
             "color": "#2a3f5f"
            },
            "marker": {
             "line": {
              "color": "#E5ECF6",
              "width": 0.5
             },
             "pattern": {
              "fillmode": "overlay",
              "size": 10,
              "solidity": 0.2
             }
            },
            "type": "bar"
           }
          ],
          "barpolar": [
           {
            "marker": {
             "line": {
              "color": "#E5ECF6",
              "width": 0.5
             },
             "pattern": {
              "fillmode": "overlay",
              "size": 10,
              "solidity": 0.2
             }
            },
            "type": "barpolar"
           }
          ],
          "carpet": [
           {
            "aaxis": {
             "endlinecolor": "#2a3f5f",
             "gridcolor": "white",
             "linecolor": "white",
             "minorgridcolor": "white",
             "startlinecolor": "#2a3f5f"
            },
            "baxis": {
             "endlinecolor": "#2a3f5f",
             "gridcolor": "white",
             "linecolor": "white",
             "minorgridcolor": "white",
             "startlinecolor": "#2a3f5f"
            },
            "type": "carpet"
           }
          ],
          "choropleth": [
           {
            "colorbar": {
             "outlinewidth": 0,
             "ticks": ""
            },
            "type": "choropleth"
           }
          ],
          "contour": [
           {
            "colorbar": {
             "outlinewidth": 0,
             "ticks": ""
            },
            "colorscale": [
             [
              0,
              "#0d0887"
             ],
             [
              0.1111111111111111,
              "#46039f"
             ],
             [
              0.2222222222222222,
              "#7201a8"
             ],
             [
              0.3333333333333333,
              "#9c179e"
             ],
             [
              0.4444444444444444,
              "#bd3786"
             ],
             [
              0.5555555555555556,
              "#d8576b"
             ],
             [
              0.6666666666666666,
              "#ed7953"
             ],
             [
              0.7777777777777778,
              "#fb9f3a"
             ],
             [
              0.8888888888888888,
              "#fdca26"
             ],
             [
              1,
              "#f0f921"
             ]
            ],
            "type": "contour"
           }
          ],
          "contourcarpet": [
           {
            "colorbar": {
             "outlinewidth": 0,
             "ticks": ""
            },
            "type": "contourcarpet"
           }
          ],
          "heatmap": [
           {
            "colorbar": {
             "outlinewidth": 0,
             "ticks": ""
            },
            "colorscale": [
             [
              0,
              "#0d0887"
             ],
             [
              0.1111111111111111,
              "#46039f"
             ],
             [
              0.2222222222222222,
              "#7201a8"
             ],
             [
              0.3333333333333333,
              "#9c179e"
             ],
             [
              0.4444444444444444,
              "#bd3786"
             ],
             [
              0.5555555555555556,
              "#d8576b"
             ],
             [
              0.6666666666666666,
              "#ed7953"
             ],
             [
              0.7777777777777778,
              "#fb9f3a"
             ],
             [
              0.8888888888888888,
              "#fdca26"
             ],
             [
              1,
              "#f0f921"
             ]
            ],
            "type": "heatmap"
           }
          ],
          "heatmapgl": [
           {
            "colorbar": {
             "outlinewidth": 0,
             "ticks": ""
            },
            "colorscale": [
             [
              0,
              "#0d0887"
             ],
             [
              0.1111111111111111,
              "#46039f"
             ],
             [
              0.2222222222222222,
              "#7201a8"
             ],
             [
              0.3333333333333333,
              "#9c179e"
             ],
             [
              0.4444444444444444,
              "#bd3786"
             ],
             [
              0.5555555555555556,
              "#d8576b"
             ],
             [
              0.6666666666666666,
              "#ed7953"
             ],
             [
              0.7777777777777778,
              "#fb9f3a"
             ],
             [
              0.8888888888888888,
              "#fdca26"
             ],
             [
              1,
              "#f0f921"
             ]
            ],
            "type": "heatmapgl"
           }
          ],
          "histogram": [
           {
            "marker": {
             "pattern": {
              "fillmode": "overlay",
              "size": 10,
              "solidity": 0.2
             }
            },
            "type": "histogram"
           }
          ],
          "histogram2d": [
           {
            "colorbar": {
             "outlinewidth": 0,
             "ticks": ""
            },
            "colorscale": [
             [
              0,
              "#0d0887"
             ],
             [
              0.1111111111111111,
              "#46039f"
             ],
             [
              0.2222222222222222,
              "#7201a8"
             ],
             [
              0.3333333333333333,
              "#9c179e"
             ],
             [
              0.4444444444444444,
              "#bd3786"
             ],
             [
              0.5555555555555556,
              "#d8576b"
             ],
             [
              0.6666666666666666,
              "#ed7953"
             ],
             [
              0.7777777777777778,
              "#fb9f3a"
             ],
             [
              0.8888888888888888,
              "#fdca26"
             ],
             [
              1,
              "#f0f921"
             ]
            ],
            "type": "histogram2d"
           }
          ],
          "histogram2dcontour": [
           {
            "colorbar": {
             "outlinewidth": 0,
             "ticks": ""
            },
            "colorscale": [
             [
              0,
              "#0d0887"
             ],
             [
              0.1111111111111111,
              "#46039f"
             ],
             [
              0.2222222222222222,
              "#7201a8"
             ],
             [
              0.3333333333333333,
              "#9c179e"
             ],
             [
              0.4444444444444444,
              "#bd3786"
             ],
             [
              0.5555555555555556,
              "#d8576b"
             ],
             [
              0.6666666666666666,
              "#ed7953"
             ],
             [
              0.7777777777777778,
              "#fb9f3a"
             ],
             [
              0.8888888888888888,
              "#fdca26"
             ],
             [
              1,
              "#f0f921"
             ]
            ],
            "type": "histogram2dcontour"
           }
          ],
          "mesh3d": [
           {
            "colorbar": {
             "outlinewidth": 0,
             "ticks": ""
            },
            "type": "mesh3d"
           }
          ],
          "parcoords": [
           {
            "line": {
             "colorbar": {
              "outlinewidth": 0,
              "ticks": ""
             }
            },
            "type": "parcoords"
           }
          ],
          "pie": [
           {
            "automargin": true,
            "type": "pie"
           }
          ],
          "scatter": [
           {
            "fillpattern": {
             "fillmode": "overlay",
             "size": 10,
             "solidity": 0.2
            },
            "type": "scatter"
           }
          ],
          "scatter3d": [
           {
            "line": {
             "colorbar": {
              "outlinewidth": 0,
              "ticks": ""
             }
            },
            "marker": {
             "colorbar": {
              "outlinewidth": 0,
              "ticks": ""
             }
            },
            "type": "scatter3d"
           }
          ],
          "scattercarpet": [
           {
            "marker": {
             "colorbar": {
              "outlinewidth": 0,
              "ticks": ""
             }
            },
            "type": "scattercarpet"
           }
          ],
          "scattergeo": [
           {
            "marker": {
             "colorbar": {
              "outlinewidth": 0,
              "ticks": ""
             }
            },
            "type": "scattergeo"
           }
          ],
          "scattergl": [
           {
            "marker": {
             "colorbar": {
              "outlinewidth": 0,
              "ticks": ""
             }
            },
            "type": "scattergl"
           }
          ],
          "scattermapbox": [
           {
            "marker": {
             "colorbar": {
              "outlinewidth": 0,
              "ticks": ""
             }
            },
            "type": "scattermapbox"
           }
          ],
          "scatterpolar": [
           {
            "marker": {
             "colorbar": {
              "outlinewidth": 0,
              "ticks": ""
             }
            },
            "type": "scatterpolar"
           }
          ],
          "scatterpolargl": [
           {
            "marker": {
             "colorbar": {
              "outlinewidth": 0,
              "ticks": ""
             }
            },
            "type": "scatterpolargl"
           }
          ],
          "scatterternary": [
           {
            "marker": {
             "colorbar": {
              "outlinewidth": 0,
              "ticks": ""
             }
            },
            "type": "scatterternary"
           }
          ],
          "surface": [
           {
            "colorbar": {
             "outlinewidth": 0,
             "ticks": ""
            },
            "colorscale": [
             [
              0,
              "#0d0887"
             ],
             [
              0.1111111111111111,
              "#46039f"
             ],
             [
              0.2222222222222222,
              "#7201a8"
             ],
             [
              0.3333333333333333,
              "#9c179e"
             ],
             [
              0.4444444444444444,
              "#bd3786"
             ],
             [
              0.5555555555555556,
              "#d8576b"
             ],
             [
              0.6666666666666666,
              "#ed7953"
             ],
             [
              0.7777777777777778,
              "#fb9f3a"
             ],
             [
              0.8888888888888888,
              "#fdca26"
             ],
             [
              1,
              "#f0f921"
             ]
            ],
            "type": "surface"
           }
          ],
          "table": [
           {
            "cells": {
             "fill": {
              "color": "#EBF0F8"
             },
             "line": {
              "color": "white"
             }
            },
            "header": {
             "fill": {
              "color": "#C8D4E3"
             },
             "line": {
              "color": "white"
             }
            },
            "type": "table"
           }
          ]
         },
         "layout": {
          "annotationdefaults": {
           "arrowcolor": "#2a3f5f",
           "arrowhead": 0,
           "arrowwidth": 1
          },
          "autotypenumbers": "strict",
          "coloraxis": {
           "colorbar": {
            "outlinewidth": 0,
            "ticks": ""
           }
          },
          "colorscale": {
           "diverging": [
            [
             0,
             "#8e0152"
            ],
            [
             0.1,
             "#c51b7d"
            ],
            [
             0.2,
             "#de77ae"
            ],
            [
             0.3,
             "#f1b6da"
            ],
            [
             0.4,
             "#fde0ef"
            ],
            [
             0.5,
             "#f7f7f7"
            ],
            [
             0.6,
             "#e6f5d0"
            ],
            [
             0.7,
             "#b8e186"
            ],
            [
             0.8,
             "#7fbc41"
            ],
            [
             0.9,
             "#4d9221"
            ],
            [
             1,
             "#276419"
            ]
           ],
           "sequential": [
            [
             0,
             "#0d0887"
            ],
            [
             0.1111111111111111,
             "#46039f"
            ],
            [
             0.2222222222222222,
             "#7201a8"
            ],
            [
             0.3333333333333333,
             "#9c179e"
            ],
            [
             0.4444444444444444,
             "#bd3786"
            ],
            [
             0.5555555555555556,
             "#d8576b"
            ],
            [
             0.6666666666666666,
             "#ed7953"
            ],
            [
             0.7777777777777778,
             "#fb9f3a"
            ],
            [
             0.8888888888888888,
             "#fdca26"
            ],
            [
             1,
             "#f0f921"
            ]
           ],
           "sequentialminus": [
            [
             0,
             "#0d0887"
            ],
            [
             0.1111111111111111,
             "#46039f"
            ],
            [
             0.2222222222222222,
             "#7201a8"
            ],
            [
             0.3333333333333333,
             "#9c179e"
            ],
            [
             0.4444444444444444,
             "#bd3786"
            ],
            [
             0.5555555555555556,
             "#d8576b"
            ],
            [
             0.6666666666666666,
             "#ed7953"
            ],
            [
             0.7777777777777778,
             "#fb9f3a"
            ],
            [
             0.8888888888888888,
             "#fdca26"
            ],
            [
             1,
             "#f0f921"
            ]
           ]
          },
          "colorway": [
           "#636efa",
           "#EF553B",
           "#00cc96",
           "#ab63fa",
           "#FFA15A",
           "#19d3f3",
           "#FF6692",
           "#B6E880",
           "#FF97FF",
           "#FECB52"
          ],
          "font": {
           "color": "#2a3f5f"
          },
          "geo": {
           "bgcolor": "white",
           "lakecolor": "white",
           "landcolor": "#E5ECF6",
           "showlakes": true,
           "showland": true,
           "subunitcolor": "white"
          },
          "hoverlabel": {
           "align": "left"
          },
          "hovermode": "closest",
          "mapbox": {
           "style": "light"
          },
          "paper_bgcolor": "white",
          "plot_bgcolor": "#E5ECF6",
          "polar": {
           "angularaxis": {
            "gridcolor": "white",
            "linecolor": "white",
            "ticks": ""
           },
           "bgcolor": "#E5ECF6",
           "radialaxis": {
            "gridcolor": "white",
            "linecolor": "white",
            "ticks": ""
           }
          },
          "scene": {
           "xaxis": {
            "backgroundcolor": "#E5ECF6",
            "gridcolor": "white",
            "gridwidth": 2,
            "linecolor": "white",
            "showbackground": true,
            "ticks": "",
            "zerolinecolor": "white"
           },
           "yaxis": {
            "backgroundcolor": "#E5ECF6",
            "gridcolor": "white",
            "gridwidth": 2,
            "linecolor": "white",
            "showbackground": true,
            "ticks": "",
            "zerolinecolor": "white"
           },
           "zaxis": {
            "backgroundcolor": "#E5ECF6",
            "gridcolor": "white",
            "gridwidth": 2,
            "linecolor": "white",
            "showbackground": true,
            "ticks": "",
            "zerolinecolor": "white"
           }
          },
          "shapedefaults": {
           "line": {
            "color": "#2a3f5f"
           }
          },
          "ternary": {
           "aaxis": {
            "gridcolor": "white",
            "linecolor": "white",
            "ticks": ""
           },
           "baxis": {
            "gridcolor": "white",
            "linecolor": "white",
            "ticks": ""
           },
           "bgcolor": "#E5ECF6",
           "caxis": {
            "gridcolor": "white",
            "linecolor": "white",
            "ticks": ""
           }
          },
          "title": {
           "x": 0.05
          },
          "xaxis": {
           "automargin": true,
           "gridcolor": "white",
           "linecolor": "white",
           "ticks": "",
           "title": {
            "standoff": 15
           },
           "zerolinecolor": "white",
           "zerolinewidth": 2
          },
          "yaxis": {
           "automargin": true,
           "gridcolor": "white",
           "linecolor": "white",
           "ticks": "",
           "title": {
            "standoff": 15
           },
           "zerolinecolor": "white",
           "zerolinewidth": 2
          }
         }
        },
        "title": {
         "text": "Win Rate of Jungle Getting First Blood Kill"
        }
       }
      }
     },
     "metadata": {},
     "output_type": "display_data"
    }
   ],
   "source": [
    "df_plot_1 = df.copy()\n",
    "df_plot_1['result'] = df_plot_1['result'].apply(lambda x: 'victory' if int(x) == 1 else 'defeat')\n",
    "df_plot_1['firstbloodkill'] = df_plot_1['firstbloodkill'].apply(lambda x: int(x))\n",
    "fig = px.pie(df_plot_1, values = 'firstbloodkill', names = 'result', title='Win Rate of Jungle Getting First Blood Kill')\n",
    "fig.show()\n",
    "fig.write_html('UA.html', include_plotlyjs='cdn')"
   ]
  },
  {
   "cell_type": "markdown",
   "metadata": {},
   "source": [
    "### Bivariate Analysis:\n",
    "Now let start exploring the question, \"Which jungle champion gets the first blood kill will increase team's win rate\". The first graph shows that the counts of each champion when gets the first blood kill and win the game. In this graph, the champion who gets the most win when has the first blood kill is Xin Zhao. The second graph shows that the win rate of each champion when gets the first blood. In this graph, there are some champions have the 100% win rate which means if they get the first blood in the game, they must win the game."
   ]
  },
  {
   "cell_type": "code",
   "execution_count": 189,
   "metadata": {},
   "outputs": [
    {
     "data": {
      "application/vnd.plotly.v1+json": {
       "config": {
        "plotlyServerURL": "https://plot.ly"
       },
       "data": [
        {
         "alignmentgroup": "True",
         "hovertemplate": "champion=%{x}<br>result=%{y}<extra></extra>",
         "legendgroup": "",
         "marker": {
          "color": "#636efa",
          "pattern": {
           "shape": ""
          }
         },
         "name": "",
         "offsetgroup": "",
         "orientation": "v",
         "showlegend": false,
         "textposition": "auto",
         "type": "bar",
         "x": [
          "Amumu",
          "Bel'Veth",
          "Brand",
          "Diana",
          "Fiddlesticks",
          "Gragas",
          "Graves",
          "Ivern",
          "Jarvan IV",
          "Jax",
          "Kayn",
          "Kindred",
          "Lee Sin",
          "Lillia",
          "Maokai",
          "Nidalee",
          "Nocturne",
          "Nunu & Willump",
          "Poppy",
          "Rell",
          "Rengar",
          "Sejuani",
          "Taliyah",
          "Trundle",
          "Vi",
          "Viego",
          "Volibear",
          "Wukong",
          "Xin Zhao",
          "Zac"
         ],
         "xaxis": "x",
         "y": [
          0,
          8,
          12,
          0,
          1,
          2,
          7,
          4,
          9,
          10,
          1,
          6,
          52,
          3,
          27,
          1,
          27,
          1,
          20,
          19,
          2,
          21,
          3,
          5,
          45,
          28,
          3,
          7,
          56,
          1
         ],
         "yaxis": "y"
        }
       ],
       "layout": {
        "barmode": "relative",
        "legend": {
         "tracegroupgap": 0
        },
        "template": {
         "data": {
          "bar": [
           {
            "error_x": {
             "color": "#2a3f5f"
            },
            "error_y": {
             "color": "#2a3f5f"
            },
            "marker": {
             "line": {
              "color": "#E5ECF6",
              "width": 0.5
             },
             "pattern": {
              "fillmode": "overlay",
              "size": 10,
              "solidity": 0.2
             }
            },
            "type": "bar"
           }
          ],
          "barpolar": [
           {
            "marker": {
             "line": {
              "color": "#E5ECF6",
              "width": 0.5
             },
             "pattern": {
              "fillmode": "overlay",
              "size": 10,
              "solidity": 0.2
             }
            },
            "type": "barpolar"
           }
          ],
          "carpet": [
           {
            "aaxis": {
             "endlinecolor": "#2a3f5f",
             "gridcolor": "white",
             "linecolor": "white",
             "minorgridcolor": "white",
             "startlinecolor": "#2a3f5f"
            },
            "baxis": {
             "endlinecolor": "#2a3f5f",
             "gridcolor": "white",
             "linecolor": "white",
             "minorgridcolor": "white",
             "startlinecolor": "#2a3f5f"
            },
            "type": "carpet"
           }
          ],
          "choropleth": [
           {
            "colorbar": {
             "outlinewidth": 0,
             "ticks": ""
            },
            "type": "choropleth"
           }
          ],
          "contour": [
           {
            "colorbar": {
             "outlinewidth": 0,
             "ticks": ""
            },
            "colorscale": [
             [
              0,
              "#0d0887"
             ],
             [
              0.1111111111111111,
              "#46039f"
             ],
             [
              0.2222222222222222,
              "#7201a8"
             ],
             [
              0.3333333333333333,
              "#9c179e"
             ],
             [
              0.4444444444444444,
              "#bd3786"
             ],
             [
              0.5555555555555556,
              "#d8576b"
             ],
             [
              0.6666666666666666,
              "#ed7953"
             ],
             [
              0.7777777777777778,
              "#fb9f3a"
             ],
             [
              0.8888888888888888,
              "#fdca26"
             ],
             [
              1,
              "#f0f921"
             ]
            ],
            "type": "contour"
           }
          ],
          "contourcarpet": [
           {
            "colorbar": {
             "outlinewidth": 0,
             "ticks": ""
            },
            "type": "contourcarpet"
           }
          ],
          "heatmap": [
           {
            "colorbar": {
             "outlinewidth": 0,
             "ticks": ""
            },
            "colorscale": [
             [
              0,
              "#0d0887"
             ],
             [
              0.1111111111111111,
              "#46039f"
             ],
             [
              0.2222222222222222,
              "#7201a8"
             ],
             [
              0.3333333333333333,
              "#9c179e"
             ],
             [
              0.4444444444444444,
              "#bd3786"
             ],
             [
              0.5555555555555556,
              "#d8576b"
             ],
             [
              0.6666666666666666,
              "#ed7953"
             ],
             [
              0.7777777777777778,
              "#fb9f3a"
             ],
             [
              0.8888888888888888,
              "#fdca26"
             ],
             [
              1,
              "#f0f921"
             ]
            ],
            "type": "heatmap"
           }
          ],
          "heatmapgl": [
           {
            "colorbar": {
             "outlinewidth": 0,
             "ticks": ""
            },
            "colorscale": [
             [
              0,
              "#0d0887"
             ],
             [
              0.1111111111111111,
              "#46039f"
             ],
             [
              0.2222222222222222,
              "#7201a8"
             ],
             [
              0.3333333333333333,
              "#9c179e"
             ],
             [
              0.4444444444444444,
              "#bd3786"
             ],
             [
              0.5555555555555556,
              "#d8576b"
             ],
             [
              0.6666666666666666,
              "#ed7953"
             ],
             [
              0.7777777777777778,
              "#fb9f3a"
             ],
             [
              0.8888888888888888,
              "#fdca26"
             ],
             [
              1,
              "#f0f921"
             ]
            ],
            "type": "heatmapgl"
           }
          ],
          "histogram": [
           {
            "marker": {
             "pattern": {
              "fillmode": "overlay",
              "size": 10,
              "solidity": 0.2
             }
            },
            "type": "histogram"
           }
          ],
          "histogram2d": [
           {
            "colorbar": {
             "outlinewidth": 0,
             "ticks": ""
            },
            "colorscale": [
             [
              0,
              "#0d0887"
             ],
             [
              0.1111111111111111,
              "#46039f"
             ],
             [
              0.2222222222222222,
              "#7201a8"
             ],
             [
              0.3333333333333333,
              "#9c179e"
             ],
             [
              0.4444444444444444,
              "#bd3786"
             ],
             [
              0.5555555555555556,
              "#d8576b"
             ],
             [
              0.6666666666666666,
              "#ed7953"
             ],
             [
              0.7777777777777778,
              "#fb9f3a"
             ],
             [
              0.8888888888888888,
              "#fdca26"
             ],
             [
              1,
              "#f0f921"
             ]
            ],
            "type": "histogram2d"
           }
          ],
          "histogram2dcontour": [
           {
            "colorbar": {
             "outlinewidth": 0,
             "ticks": ""
            },
            "colorscale": [
             [
              0,
              "#0d0887"
             ],
             [
              0.1111111111111111,
              "#46039f"
             ],
             [
              0.2222222222222222,
              "#7201a8"
             ],
             [
              0.3333333333333333,
              "#9c179e"
             ],
             [
              0.4444444444444444,
              "#bd3786"
             ],
             [
              0.5555555555555556,
              "#d8576b"
             ],
             [
              0.6666666666666666,
              "#ed7953"
             ],
             [
              0.7777777777777778,
              "#fb9f3a"
             ],
             [
              0.8888888888888888,
              "#fdca26"
             ],
             [
              1,
              "#f0f921"
             ]
            ],
            "type": "histogram2dcontour"
           }
          ],
          "mesh3d": [
           {
            "colorbar": {
             "outlinewidth": 0,
             "ticks": ""
            },
            "type": "mesh3d"
           }
          ],
          "parcoords": [
           {
            "line": {
             "colorbar": {
              "outlinewidth": 0,
              "ticks": ""
             }
            },
            "type": "parcoords"
           }
          ],
          "pie": [
           {
            "automargin": true,
            "type": "pie"
           }
          ],
          "scatter": [
           {
            "fillpattern": {
             "fillmode": "overlay",
             "size": 10,
             "solidity": 0.2
            },
            "type": "scatter"
           }
          ],
          "scatter3d": [
           {
            "line": {
             "colorbar": {
              "outlinewidth": 0,
              "ticks": ""
             }
            },
            "marker": {
             "colorbar": {
              "outlinewidth": 0,
              "ticks": ""
             }
            },
            "type": "scatter3d"
           }
          ],
          "scattercarpet": [
           {
            "marker": {
             "colorbar": {
              "outlinewidth": 0,
              "ticks": ""
             }
            },
            "type": "scattercarpet"
           }
          ],
          "scattergeo": [
           {
            "marker": {
             "colorbar": {
              "outlinewidth": 0,
              "ticks": ""
             }
            },
            "type": "scattergeo"
           }
          ],
          "scattergl": [
           {
            "marker": {
             "colorbar": {
              "outlinewidth": 0,
              "ticks": ""
             }
            },
            "type": "scattergl"
           }
          ],
          "scattermapbox": [
           {
            "marker": {
             "colorbar": {
              "outlinewidth": 0,
              "ticks": ""
             }
            },
            "type": "scattermapbox"
           }
          ],
          "scatterpolar": [
           {
            "marker": {
             "colorbar": {
              "outlinewidth": 0,
              "ticks": ""
             }
            },
            "type": "scatterpolar"
           }
          ],
          "scatterpolargl": [
           {
            "marker": {
             "colorbar": {
              "outlinewidth": 0,
              "ticks": ""
             }
            },
            "type": "scatterpolargl"
           }
          ],
          "scatterternary": [
           {
            "marker": {
             "colorbar": {
              "outlinewidth": 0,
              "ticks": ""
             }
            },
            "type": "scatterternary"
           }
          ],
          "surface": [
           {
            "colorbar": {
             "outlinewidth": 0,
             "ticks": ""
            },
            "colorscale": [
             [
              0,
              "#0d0887"
             ],
             [
              0.1111111111111111,
              "#46039f"
             ],
             [
              0.2222222222222222,
              "#7201a8"
             ],
             [
              0.3333333333333333,
              "#9c179e"
             ],
             [
              0.4444444444444444,
              "#bd3786"
             ],
             [
              0.5555555555555556,
              "#d8576b"
             ],
             [
              0.6666666666666666,
              "#ed7953"
             ],
             [
              0.7777777777777778,
              "#fb9f3a"
             ],
             [
              0.8888888888888888,
              "#fdca26"
             ],
             [
              1,
              "#f0f921"
             ]
            ],
            "type": "surface"
           }
          ],
          "table": [
           {
            "cells": {
             "fill": {
              "color": "#EBF0F8"
             },
             "line": {
              "color": "white"
             }
            },
            "header": {
             "fill": {
              "color": "#C8D4E3"
             },
             "line": {
              "color": "white"
             }
            },
            "type": "table"
           }
          ]
         },
         "layout": {
          "annotationdefaults": {
           "arrowcolor": "#2a3f5f",
           "arrowhead": 0,
           "arrowwidth": 1
          },
          "autotypenumbers": "strict",
          "coloraxis": {
           "colorbar": {
            "outlinewidth": 0,
            "ticks": ""
           }
          },
          "colorscale": {
           "diverging": [
            [
             0,
             "#8e0152"
            ],
            [
             0.1,
             "#c51b7d"
            ],
            [
             0.2,
             "#de77ae"
            ],
            [
             0.3,
             "#f1b6da"
            ],
            [
             0.4,
             "#fde0ef"
            ],
            [
             0.5,
             "#f7f7f7"
            ],
            [
             0.6,
             "#e6f5d0"
            ],
            [
             0.7,
             "#b8e186"
            ],
            [
             0.8,
             "#7fbc41"
            ],
            [
             0.9,
             "#4d9221"
            ],
            [
             1,
             "#276419"
            ]
           ],
           "sequential": [
            [
             0,
             "#0d0887"
            ],
            [
             0.1111111111111111,
             "#46039f"
            ],
            [
             0.2222222222222222,
             "#7201a8"
            ],
            [
             0.3333333333333333,
             "#9c179e"
            ],
            [
             0.4444444444444444,
             "#bd3786"
            ],
            [
             0.5555555555555556,
             "#d8576b"
            ],
            [
             0.6666666666666666,
             "#ed7953"
            ],
            [
             0.7777777777777778,
             "#fb9f3a"
            ],
            [
             0.8888888888888888,
             "#fdca26"
            ],
            [
             1,
             "#f0f921"
            ]
           ],
           "sequentialminus": [
            [
             0,
             "#0d0887"
            ],
            [
             0.1111111111111111,
             "#46039f"
            ],
            [
             0.2222222222222222,
             "#7201a8"
            ],
            [
             0.3333333333333333,
             "#9c179e"
            ],
            [
             0.4444444444444444,
             "#bd3786"
            ],
            [
             0.5555555555555556,
             "#d8576b"
            ],
            [
             0.6666666666666666,
             "#ed7953"
            ],
            [
             0.7777777777777778,
             "#fb9f3a"
            ],
            [
             0.8888888888888888,
             "#fdca26"
            ],
            [
             1,
             "#f0f921"
            ]
           ]
          },
          "colorway": [
           "#636efa",
           "#EF553B",
           "#00cc96",
           "#ab63fa",
           "#FFA15A",
           "#19d3f3",
           "#FF6692",
           "#B6E880",
           "#FF97FF",
           "#FECB52"
          ],
          "font": {
           "color": "#2a3f5f"
          },
          "geo": {
           "bgcolor": "white",
           "lakecolor": "white",
           "landcolor": "#E5ECF6",
           "showlakes": true,
           "showland": true,
           "subunitcolor": "white"
          },
          "hoverlabel": {
           "align": "left"
          },
          "hovermode": "closest",
          "mapbox": {
           "style": "light"
          },
          "paper_bgcolor": "white",
          "plot_bgcolor": "#E5ECF6",
          "polar": {
           "angularaxis": {
            "gridcolor": "white",
            "linecolor": "white",
            "ticks": ""
           },
           "bgcolor": "#E5ECF6",
           "radialaxis": {
            "gridcolor": "white",
            "linecolor": "white",
            "ticks": ""
           }
          },
          "scene": {
           "xaxis": {
            "backgroundcolor": "#E5ECF6",
            "gridcolor": "white",
            "gridwidth": 2,
            "linecolor": "white",
            "showbackground": true,
            "ticks": "",
            "zerolinecolor": "white"
           },
           "yaxis": {
            "backgroundcolor": "#E5ECF6",
            "gridcolor": "white",
            "gridwidth": 2,
            "linecolor": "white",
            "showbackground": true,
            "ticks": "",
            "zerolinecolor": "white"
           },
           "zaxis": {
            "backgroundcolor": "#E5ECF6",
            "gridcolor": "white",
            "gridwidth": 2,
            "linecolor": "white",
            "showbackground": true,
            "ticks": "",
            "zerolinecolor": "white"
           }
          },
          "shapedefaults": {
           "line": {
            "color": "#2a3f5f"
           }
          },
          "ternary": {
           "aaxis": {
            "gridcolor": "white",
            "linecolor": "white",
            "ticks": ""
           },
           "baxis": {
            "gridcolor": "white",
            "linecolor": "white",
            "ticks": ""
           },
           "bgcolor": "#E5ECF6",
           "caxis": {
            "gridcolor": "white",
            "linecolor": "white",
            "ticks": ""
           }
          },
          "title": {
           "x": 0.05
          },
          "xaxis": {
           "automargin": true,
           "gridcolor": "white",
           "linecolor": "white",
           "ticks": "",
           "title": {
            "standoff": 15
           },
           "zerolinecolor": "white",
           "zerolinewidth": 2
          },
          "yaxis": {
           "automargin": true,
           "gridcolor": "white",
           "linecolor": "white",
           "ticks": "",
           "title": {
            "standoff": 15
           },
           "zerolinecolor": "white",
           "zerolinewidth": 2
          }
         }
        },
        "title": {
         "text": "Number of Times of Each Jungle Champion When Gets the First Blood and Win The Game"
        },
        "xaxis": {
         "anchor": "y",
         "domain": [
          0,
          1
         ],
         "title": {
          "text": "champion"
         }
        },
        "yaxis": {
         "anchor": "x",
         "domain": [
          0,
          1
         ],
         "title": {
          "text": "result"
         }
        }
       }
      }
     },
     "metadata": {},
     "output_type": "display_data"
    }
   ],
   "source": [
    "df_plot_2 = df.copy()\n",
    "df_plot_2 = df_plot_2.groupby('champion').sum() \n",
    "fig = px.bar(df_plot_2, y = 'result', title='Number of Times of Each Jungle Champion When Gets the First Blood and Win The Game')\n",
    "fig.show()\n",
    "fig.write_html('BA1.html', include_plotlyjs='cdn')"
   ]
  },
  {
   "cell_type": "code",
   "execution_count": 190,
   "metadata": {},
   "outputs": [
    {
     "data": {
      "application/vnd.plotly.v1+json": {
       "config": {
        "plotlyServerURL": "https://plot.ly"
       },
       "data": [
        {
         "alignmentgroup": "True",
         "hovertemplate": "champion=%{x}<br>win rate=%{y}<extra></extra>",
         "legendgroup": "",
         "marker": {
          "color": "#636efa",
          "pattern": {
           "shape": ""
          }
         },
         "name": "",
         "offsetgroup": "",
         "orientation": "v",
         "showlegend": false,
         "textposition": "auto",
         "type": "bar",
         "x": [
          "Amumu",
          "Bel'Veth",
          "Brand",
          "Diana",
          "Fiddlesticks",
          "Gragas",
          "Graves",
          "Ivern",
          "Jarvan IV",
          "Jax",
          "Kayn",
          "Kindred",
          "Lee Sin",
          "Lillia",
          "Maokai",
          "Nidalee",
          "Nocturne",
          "Nunu & Willump",
          "Poppy",
          "Rell",
          "Rengar",
          "Sejuani",
          "Taliyah",
          "Trundle",
          "Vi",
          "Viego",
          "Volibear",
          "Wukong",
          "Xin Zhao",
          "Zac"
         ],
         "xaxis": "x",
         "y": [
          0,
          0.6666666666666666,
          0.6666666666666666,
          0,
          1,
          0.5,
          0.6363636363636364,
          0.5714285714285714,
          0.5625,
          0.5555555555555556,
          1,
          0.6666666666666666,
          0.7222222222222222,
          0.75,
          0.75,
          0.3333333333333333,
          0.627906976744186,
          1,
          0.6060606060606061,
          0.5588235294117647,
          1,
          0.525,
          0.42857142857142855,
          0.5,
          0.5625,
          0.509090909090909,
          0.42857142857142855,
          0.5833333333333334,
          0.56,
          1
         ],
         "yaxis": "y"
        }
       ],
       "layout": {
        "barmode": "relative",
        "legend": {
         "tracegroupgap": 0
        },
        "template": {
         "data": {
          "bar": [
           {
            "error_x": {
             "color": "#2a3f5f"
            },
            "error_y": {
             "color": "#2a3f5f"
            },
            "marker": {
             "line": {
              "color": "#E5ECF6",
              "width": 0.5
             },
             "pattern": {
              "fillmode": "overlay",
              "size": 10,
              "solidity": 0.2
             }
            },
            "type": "bar"
           }
          ],
          "barpolar": [
           {
            "marker": {
             "line": {
              "color": "#E5ECF6",
              "width": 0.5
             },
             "pattern": {
              "fillmode": "overlay",
              "size": 10,
              "solidity": 0.2
             }
            },
            "type": "barpolar"
           }
          ],
          "carpet": [
           {
            "aaxis": {
             "endlinecolor": "#2a3f5f",
             "gridcolor": "white",
             "linecolor": "white",
             "minorgridcolor": "white",
             "startlinecolor": "#2a3f5f"
            },
            "baxis": {
             "endlinecolor": "#2a3f5f",
             "gridcolor": "white",
             "linecolor": "white",
             "minorgridcolor": "white",
             "startlinecolor": "#2a3f5f"
            },
            "type": "carpet"
           }
          ],
          "choropleth": [
           {
            "colorbar": {
             "outlinewidth": 0,
             "ticks": ""
            },
            "type": "choropleth"
           }
          ],
          "contour": [
           {
            "colorbar": {
             "outlinewidth": 0,
             "ticks": ""
            },
            "colorscale": [
             [
              0,
              "#0d0887"
             ],
             [
              0.1111111111111111,
              "#46039f"
             ],
             [
              0.2222222222222222,
              "#7201a8"
             ],
             [
              0.3333333333333333,
              "#9c179e"
             ],
             [
              0.4444444444444444,
              "#bd3786"
             ],
             [
              0.5555555555555556,
              "#d8576b"
             ],
             [
              0.6666666666666666,
              "#ed7953"
             ],
             [
              0.7777777777777778,
              "#fb9f3a"
             ],
             [
              0.8888888888888888,
              "#fdca26"
             ],
             [
              1,
              "#f0f921"
             ]
            ],
            "type": "contour"
           }
          ],
          "contourcarpet": [
           {
            "colorbar": {
             "outlinewidth": 0,
             "ticks": ""
            },
            "type": "contourcarpet"
           }
          ],
          "heatmap": [
           {
            "colorbar": {
             "outlinewidth": 0,
             "ticks": ""
            },
            "colorscale": [
             [
              0,
              "#0d0887"
             ],
             [
              0.1111111111111111,
              "#46039f"
             ],
             [
              0.2222222222222222,
              "#7201a8"
             ],
             [
              0.3333333333333333,
              "#9c179e"
             ],
             [
              0.4444444444444444,
              "#bd3786"
             ],
             [
              0.5555555555555556,
              "#d8576b"
             ],
             [
              0.6666666666666666,
              "#ed7953"
             ],
             [
              0.7777777777777778,
              "#fb9f3a"
             ],
             [
              0.8888888888888888,
              "#fdca26"
             ],
             [
              1,
              "#f0f921"
             ]
            ],
            "type": "heatmap"
           }
          ],
          "heatmapgl": [
           {
            "colorbar": {
             "outlinewidth": 0,
             "ticks": ""
            },
            "colorscale": [
             [
              0,
              "#0d0887"
             ],
             [
              0.1111111111111111,
              "#46039f"
             ],
             [
              0.2222222222222222,
              "#7201a8"
             ],
             [
              0.3333333333333333,
              "#9c179e"
             ],
             [
              0.4444444444444444,
              "#bd3786"
             ],
             [
              0.5555555555555556,
              "#d8576b"
             ],
             [
              0.6666666666666666,
              "#ed7953"
             ],
             [
              0.7777777777777778,
              "#fb9f3a"
             ],
             [
              0.8888888888888888,
              "#fdca26"
             ],
             [
              1,
              "#f0f921"
             ]
            ],
            "type": "heatmapgl"
           }
          ],
          "histogram": [
           {
            "marker": {
             "pattern": {
              "fillmode": "overlay",
              "size": 10,
              "solidity": 0.2
             }
            },
            "type": "histogram"
           }
          ],
          "histogram2d": [
           {
            "colorbar": {
             "outlinewidth": 0,
             "ticks": ""
            },
            "colorscale": [
             [
              0,
              "#0d0887"
             ],
             [
              0.1111111111111111,
              "#46039f"
             ],
             [
              0.2222222222222222,
              "#7201a8"
             ],
             [
              0.3333333333333333,
              "#9c179e"
             ],
             [
              0.4444444444444444,
              "#bd3786"
             ],
             [
              0.5555555555555556,
              "#d8576b"
             ],
             [
              0.6666666666666666,
              "#ed7953"
             ],
             [
              0.7777777777777778,
              "#fb9f3a"
             ],
             [
              0.8888888888888888,
              "#fdca26"
             ],
             [
              1,
              "#f0f921"
             ]
            ],
            "type": "histogram2d"
           }
          ],
          "histogram2dcontour": [
           {
            "colorbar": {
             "outlinewidth": 0,
             "ticks": ""
            },
            "colorscale": [
             [
              0,
              "#0d0887"
             ],
             [
              0.1111111111111111,
              "#46039f"
             ],
             [
              0.2222222222222222,
              "#7201a8"
             ],
             [
              0.3333333333333333,
              "#9c179e"
             ],
             [
              0.4444444444444444,
              "#bd3786"
             ],
             [
              0.5555555555555556,
              "#d8576b"
             ],
             [
              0.6666666666666666,
              "#ed7953"
             ],
             [
              0.7777777777777778,
              "#fb9f3a"
             ],
             [
              0.8888888888888888,
              "#fdca26"
             ],
             [
              1,
              "#f0f921"
             ]
            ],
            "type": "histogram2dcontour"
           }
          ],
          "mesh3d": [
           {
            "colorbar": {
             "outlinewidth": 0,
             "ticks": ""
            },
            "type": "mesh3d"
           }
          ],
          "parcoords": [
           {
            "line": {
             "colorbar": {
              "outlinewidth": 0,
              "ticks": ""
             }
            },
            "type": "parcoords"
           }
          ],
          "pie": [
           {
            "automargin": true,
            "type": "pie"
           }
          ],
          "scatter": [
           {
            "fillpattern": {
             "fillmode": "overlay",
             "size": 10,
             "solidity": 0.2
            },
            "type": "scatter"
           }
          ],
          "scatter3d": [
           {
            "line": {
             "colorbar": {
              "outlinewidth": 0,
              "ticks": ""
             }
            },
            "marker": {
             "colorbar": {
              "outlinewidth": 0,
              "ticks": ""
             }
            },
            "type": "scatter3d"
           }
          ],
          "scattercarpet": [
           {
            "marker": {
             "colorbar": {
              "outlinewidth": 0,
              "ticks": ""
             }
            },
            "type": "scattercarpet"
           }
          ],
          "scattergeo": [
           {
            "marker": {
             "colorbar": {
              "outlinewidth": 0,
              "ticks": ""
             }
            },
            "type": "scattergeo"
           }
          ],
          "scattergl": [
           {
            "marker": {
             "colorbar": {
              "outlinewidth": 0,
              "ticks": ""
             }
            },
            "type": "scattergl"
           }
          ],
          "scattermapbox": [
           {
            "marker": {
             "colorbar": {
              "outlinewidth": 0,
              "ticks": ""
             }
            },
            "type": "scattermapbox"
           }
          ],
          "scatterpolar": [
           {
            "marker": {
             "colorbar": {
              "outlinewidth": 0,
              "ticks": ""
             }
            },
            "type": "scatterpolar"
           }
          ],
          "scatterpolargl": [
           {
            "marker": {
             "colorbar": {
              "outlinewidth": 0,
              "ticks": ""
             }
            },
            "type": "scatterpolargl"
           }
          ],
          "scatterternary": [
           {
            "marker": {
             "colorbar": {
              "outlinewidth": 0,
              "ticks": ""
             }
            },
            "type": "scatterternary"
           }
          ],
          "surface": [
           {
            "colorbar": {
             "outlinewidth": 0,
             "ticks": ""
            },
            "colorscale": [
             [
              0,
              "#0d0887"
             ],
             [
              0.1111111111111111,
              "#46039f"
             ],
             [
              0.2222222222222222,
              "#7201a8"
             ],
             [
              0.3333333333333333,
              "#9c179e"
             ],
             [
              0.4444444444444444,
              "#bd3786"
             ],
             [
              0.5555555555555556,
              "#d8576b"
             ],
             [
              0.6666666666666666,
              "#ed7953"
             ],
             [
              0.7777777777777778,
              "#fb9f3a"
             ],
             [
              0.8888888888888888,
              "#fdca26"
             ],
             [
              1,
              "#f0f921"
             ]
            ],
            "type": "surface"
           }
          ],
          "table": [
           {
            "cells": {
             "fill": {
              "color": "#EBF0F8"
             },
             "line": {
              "color": "white"
             }
            },
            "header": {
             "fill": {
              "color": "#C8D4E3"
             },
             "line": {
              "color": "white"
             }
            },
            "type": "table"
           }
          ]
         },
         "layout": {
          "annotationdefaults": {
           "arrowcolor": "#2a3f5f",
           "arrowhead": 0,
           "arrowwidth": 1
          },
          "autotypenumbers": "strict",
          "coloraxis": {
           "colorbar": {
            "outlinewidth": 0,
            "ticks": ""
           }
          },
          "colorscale": {
           "diverging": [
            [
             0,
             "#8e0152"
            ],
            [
             0.1,
             "#c51b7d"
            ],
            [
             0.2,
             "#de77ae"
            ],
            [
             0.3,
             "#f1b6da"
            ],
            [
             0.4,
             "#fde0ef"
            ],
            [
             0.5,
             "#f7f7f7"
            ],
            [
             0.6,
             "#e6f5d0"
            ],
            [
             0.7,
             "#b8e186"
            ],
            [
             0.8,
             "#7fbc41"
            ],
            [
             0.9,
             "#4d9221"
            ],
            [
             1,
             "#276419"
            ]
           ],
           "sequential": [
            [
             0,
             "#0d0887"
            ],
            [
             0.1111111111111111,
             "#46039f"
            ],
            [
             0.2222222222222222,
             "#7201a8"
            ],
            [
             0.3333333333333333,
             "#9c179e"
            ],
            [
             0.4444444444444444,
             "#bd3786"
            ],
            [
             0.5555555555555556,
             "#d8576b"
            ],
            [
             0.6666666666666666,
             "#ed7953"
            ],
            [
             0.7777777777777778,
             "#fb9f3a"
            ],
            [
             0.8888888888888888,
             "#fdca26"
            ],
            [
             1,
             "#f0f921"
            ]
           ],
           "sequentialminus": [
            [
             0,
             "#0d0887"
            ],
            [
             0.1111111111111111,
             "#46039f"
            ],
            [
             0.2222222222222222,
             "#7201a8"
            ],
            [
             0.3333333333333333,
             "#9c179e"
            ],
            [
             0.4444444444444444,
             "#bd3786"
            ],
            [
             0.5555555555555556,
             "#d8576b"
            ],
            [
             0.6666666666666666,
             "#ed7953"
            ],
            [
             0.7777777777777778,
             "#fb9f3a"
            ],
            [
             0.8888888888888888,
             "#fdca26"
            ],
            [
             1,
             "#f0f921"
            ]
           ]
          },
          "colorway": [
           "#636efa",
           "#EF553B",
           "#00cc96",
           "#ab63fa",
           "#FFA15A",
           "#19d3f3",
           "#FF6692",
           "#B6E880",
           "#FF97FF",
           "#FECB52"
          ],
          "font": {
           "color": "#2a3f5f"
          },
          "geo": {
           "bgcolor": "white",
           "lakecolor": "white",
           "landcolor": "#E5ECF6",
           "showlakes": true,
           "showland": true,
           "subunitcolor": "white"
          },
          "hoverlabel": {
           "align": "left"
          },
          "hovermode": "closest",
          "mapbox": {
           "style": "light"
          },
          "paper_bgcolor": "white",
          "plot_bgcolor": "#E5ECF6",
          "polar": {
           "angularaxis": {
            "gridcolor": "white",
            "linecolor": "white",
            "ticks": ""
           },
           "bgcolor": "#E5ECF6",
           "radialaxis": {
            "gridcolor": "white",
            "linecolor": "white",
            "ticks": ""
           }
          },
          "scene": {
           "xaxis": {
            "backgroundcolor": "#E5ECF6",
            "gridcolor": "white",
            "gridwidth": 2,
            "linecolor": "white",
            "showbackground": true,
            "ticks": "",
            "zerolinecolor": "white"
           },
           "yaxis": {
            "backgroundcolor": "#E5ECF6",
            "gridcolor": "white",
            "gridwidth": 2,
            "linecolor": "white",
            "showbackground": true,
            "ticks": "",
            "zerolinecolor": "white"
           },
           "zaxis": {
            "backgroundcolor": "#E5ECF6",
            "gridcolor": "white",
            "gridwidth": 2,
            "linecolor": "white",
            "showbackground": true,
            "ticks": "",
            "zerolinecolor": "white"
           }
          },
          "shapedefaults": {
           "line": {
            "color": "#2a3f5f"
           }
          },
          "ternary": {
           "aaxis": {
            "gridcolor": "white",
            "linecolor": "white",
            "ticks": ""
           },
           "baxis": {
            "gridcolor": "white",
            "linecolor": "white",
            "ticks": ""
           },
           "bgcolor": "#E5ECF6",
           "caxis": {
            "gridcolor": "white",
            "linecolor": "white",
            "ticks": ""
           }
          },
          "title": {
           "x": 0.05
          },
          "xaxis": {
           "automargin": true,
           "gridcolor": "white",
           "linecolor": "white",
           "ticks": "",
           "title": {
            "standoff": 15
           },
           "zerolinecolor": "white",
           "zerolinewidth": 2
          },
          "yaxis": {
           "automargin": true,
           "gridcolor": "white",
           "linecolor": "white",
           "ticks": "",
           "title": {
            "standoff": 15
           },
           "zerolinecolor": "white",
           "zerolinewidth": 2
          }
         }
        },
        "title": {
         "text": "Win Rate of Each Jungle Champion When Gets the First Blood"
        },
        "xaxis": {
         "anchor": "y",
         "domain": [
          0,
          1
         ],
         "title": {
          "text": "champion"
         }
        },
        "yaxis": {
         "anchor": "x",
         "domain": [
          0,
          1
         ],
         "title": {
          "text": "win rate"
         }
        }
       }
      }
     },
     "metadata": {},
     "output_type": "display_data"
    }
   ],
   "source": [
    "df_plot_3 = df_plot_2.copy()\n",
    "df_plot_3['win rate'] = df_plot_3['result'] / df_plot_3['firstbloodkill']\n",
    "fig = px.bar(df_plot_3, y = 'win rate', title='Win Rate of Each Jungle Champion When Gets the First Blood')\n",
    "fig.show()\n",
    "fig.write_html('BA2.html', include_plotlyjs='cdn')"
   ]
  },
  {
   "cell_type": "markdown",
   "metadata": {},
   "source": [
    "### Interesting Aggregates:\n",
    "This groupby() shows 3 important values. The sum column describes the counts of getting the first blood and win the game for each champion. The count column describes the counts of getting the first blood in total for each champion. The mean column describes the win rate of each champion of getting the first blood and win the game. Now you might find out that the champion with the highest win rate such as 1 has low counts for getting the first blood. In addition, the champion with the lowest win rate such as 0 also has low counts for getting the first blood. "
   ]
  },
  {
   "cell_type": "code",
   "execution_count": 191,
   "metadata": {},
   "outputs": [
    {
     "data": {
      "text/html": [
       "<div>\n",
       "<style scoped>\n",
       "    .dataframe tbody tr th:only-of-type {\n",
       "        vertical-align: middle;\n",
       "    }\n",
       "\n",
       "    .dataframe tbody tr th {\n",
       "        vertical-align: top;\n",
       "    }\n",
       "\n",
       "    .dataframe thead th {\n",
       "        text-align: right;\n",
       "    }\n",
       "</style>\n",
       "<table border=\"1\" class=\"dataframe\">\n",
       "  <thead>\n",
       "    <tr style=\"text-align: right;\">\n",
       "      <th></th>\n",
       "      <th>sum</th>\n",
       "      <th>count</th>\n",
       "      <th>mean</th>\n",
       "    </tr>\n",
       "    <tr>\n",
       "      <th>champion</th>\n",
       "      <th></th>\n",
       "      <th></th>\n",
       "      <th></th>\n",
       "    </tr>\n",
       "  </thead>\n",
       "  <tbody>\n",
       "    <tr>\n",
       "      <th>Amumu</th>\n",
       "      <td>0</td>\n",
       "      <td>1</td>\n",
       "      <td>0.000000</td>\n",
       "    </tr>\n",
       "    <tr>\n",
       "      <th>Bel'Veth</th>\n",
       "      <td>8</td>\n",
       "      <td>12</td>\n",
       "      <td>0.666667</td>\n",
       "    </tr>\n",
       "    <tr>\n",
       "      <th>Brand</th>\n",
       "      <td>12</td>\n",
       "      <td>18</td>\n",
       "      <td>0.666667</td>\n",
       "    </tr>\n",
       "    <tr>\n",
       "      <th>Diana</th>\n",
       "      <td>0</td>\n",
       "      <td>2</td>\n",
       "      <td>0.000000</td>\n",
       "    </tr>\n",
       "    <tr>\n",
       "      <th>Fiddlesticks</th>\n",
       "      <td>1</td>\n",
       "      <td>1</td>\n",
       "      <td>1.000000</td>\n",
       "    </tr>\n",
       "    <tr>\n",
       "      <th>Gragas</th>\n",
       "      <td>2</td>\n",
       "      <td>4</td>\n",
       "      <td>0.500000</td>\n",
       "    </tr>\n",
       "    <tr>\n",
       "      <th>Graves</th>\n",
       "      <td>7</td>\n",
       "      <td>11</td>\n",
       "      <td>0.636364</td>\n",
       "    </tr>\n",
       "    <tr>\n",
       "      <th>Ivern</th>\n",
       "      <td>4</td>\n",
       "      <td>7</td>\n",
       "      <td>0.571429</td>\n",
       "    </tr>\n",
       "    <tr>\n",
       "      <th>Jarvan IV</th>\n",
       "      <td>9</td>\n",
       "      <td>16</td>\n",
       "      <td>0.562500</td>\n",
       "    </tr>\n",
       "    <tr>\n",
       "      <th>Jax</th>\n",
       "      <td>10</td>\n",
       "      <td>18</td>\n",
       "      <td>0.555556</td>\n",
       "    </tr>\n",
       "    <tr>\n",
       "      <th>Kayn</th>\n",
       "      <td>1</td>\n",
       "      <td>1</td>\n",
       "      <td>1.000000</td>\n",
       "    </tr>\n",
       "    <tr>\n",
       "      <th>Kindred</th>\n",
       "      <td>6</td>\n",
       "      <td>9</td>\n",
       "      <td>0.666667</td>\n",
       "    </tr>\n",
       "    <tr>\n",
       "      <th>Lee Sin</th>\n",
       "      <td>52</td>\n",
       "      <td>72</td>\n",
       "      <td>0.722222</td>\n",
       "    </tr>\n",
       "    <tr>\n",
       "      <th>Lillia</th>\n",
       "      <td>3</td>\n",
       "      <td>4</td>\n",
       "      <td>0.750000</td>\n",
       "    </tr>\n",
       "    <tr>\n",
       "      <th>Maokai</th>\n",
       "      <td>27</td>\n",
       "      <td>36</td>\n",
       "      <td>0.750000</td>\n",
       "    </tr>\n",
       "    <tr>\n",
       "      <th>Nidalee</th>\n",
       "      <td>1</td>\n",
       "      <td>3</td>\n",
       "      <td>0.333333</td>\n",
       "    </tr>\n",
       "    <tr>\n",
       "      <th>Nocturne</th>\n",
       "      <td>27</td>\n",
       "      <td>43</td>\n",
       "      <td>0.627907</td>\n",
       "    </tr>\n",
       "    <tr>\n",
       "      <th>Nunu &amp; Willump</th>\n",
       "      <td>1</td>\n",
       "      <td>1</td>\n",
       "      <td>1.000000</td>\n",
       "    </tr>\n",
       "    <tr>\n",
       "      <th>Poppy</th>\n",
       "      <td>20</td>\n",
       "      <td>33</td>\n",
       "      <td>0.606061</td>\n",
       "    </tr>\n",
       "    <tr>\n",
       "      <th>Rell</th>\n",
       "      <td>19</td>\n",
       "      <td>34</td>\n",
       "      <td>0.558824</td>\n",
       "    </tr>\n",
       "    <tr>\n",
       "      <th>Rengar</th>\n",
       "      <td>2</td>\n",
       "      <td>2</td>\n",
       "      <td>1.000000</td>\n",
       "    </tr>\n",
       "    <tr>\n",
       "      <th>Sejuani</th>\n",
       "      <td>21</td>\n",
       "      <td>40</td>\n",
       "      <td>0.525000</td>\n",
       "    </tr>\n",
       "    <tr>\n",
       "      <th>Taliyah</th>\n",
       "      <td>3</td>\n",
       "      <td>7</td>\n",
       "      <td>0.428571</td>\n",
       "    </tr>\n",
       "    <tr>\n",
       "      <th>Trundle</th>\n",
       "      <td>5</td>\n",
       "      <td>10</td>\n",
       "      <td>0.500000</td>\n",
       "    </tr>\n",
       "    <tr>\n",
       "      <th>Vi</th>\n",
       "      <td>45</td>\n",
       "      <td>80</td>\n",
       "      <td>0.562500</td>\n",
       "    </tr>\n",
       "    <tr>\n",
       "      <th>Viego</th>\n",
       "      <td>28</td>\n",
       "      <td>55</td>\n",
       "      <td>0.509091</td>\n",
       "    </tr>\n",
       "    <tr>\n",
       "      <th>Volibear</th>\n",
       "      <td>3</td>\n",
       "      <td>7</td>\n",
       "      <td>0.428571</td>\n",
       "    </tr>\n",
       "    <tr>\n",
       "      <th>Wukong</th>\n",
       "      <td>7</td>\n",
       "      <td>12</td>\n",
       "      <td>0.583333</td>\n",
       "    </tr>\n",
       "    <tr>\n",
       "      <th>Xin Zhao</th>\n",
       "      <td>56</td>\n",
       "      <td>100</td>\n",
       "      <td>0.560000</td>\n",
       "    </tr>\n",
       "    <tr>\n",
       "      <th>Zac</th>\n",
       "      <td>1</td>\n",
       "      <td>1</td>\n",
       "      <td>1.000000</td>\n",
       "    </tr>\n",
       "  </tbody>\n",
       "</table>\n",
       "</div>"
      ],
      "text/plain": [
       "                sum  count      mean\n",
       "champion                            \n",
       "Amumu             0      1  0.000000\n",
       "Bel'Veth          8     12  0.666667\n",
       "Brand            12     18  0.666667\n",
       "Diana             0      2  0.000000\n",
       "Fiddlesticks      1      1  1.000000\n",
       "Gragas            2      4  0.500000\n",
       "Graves            7     11  0.636364\n",
       "Ivern             4      7  0.571429\n",
       "Jarvan IV         9     16  0.562500\n",
       "Jax              10     18  0.555556\n",
       "Kayn              1      1  1.000000\n",
       "Kindred           6      9  0.666667\n",
       "Lee Sin          52     72  0.722222\n",
       "Lillia            3      4  0.750000\n",
       "Maokai           27     36  0.750000\n",
       "Nidalee           1      3  0.333333\n",
       "Nocturne         27     43  0.627907\n",
       "Nunu & Willump    1      1  1.000000\n",
       "Poppy            20     33  0.606061\n",
       "Rell             19     34  0.558824\n",
       "Rengar            2      2  1.000000\n",
       "Sejuani          21     40  0.525000\n",
       "Taliyah           3      7  0.428571\n",
       "Trundle           5     10  0.500000\n",
       "Vi               45     80  0.562500\n",
       "Viego            28     55  0.509091\n",
       "Volibear          3      7  0.428571\n",
       "Wukong            7     12  0.583333\n",
       "Xin Zhao         56    100  0.560000\n",
       "Zac               1      1  1.000000"
      ]
     },
     "execution_count": 191,
     "metadata": {},
     "output_type": "execute_result"
    }
   ],
   "source": [
    "df.groupby('champion')['result'].agg(['sum','count', 'mean'])"
   ]
  },
  {
   "cell_type": "markdown",
   "metadata": {},
   "source": [
    "## Step 3: Assessment of Missingness"
   ]
  },
  {
   "cell_type": "markdown",
   "metadata": {},
   "source": [
    "### NMAR Analysis:\n",
    "I do believe that there are many columns in my data are Not Missing At Random (NMAR). In my data, since there are 10 players in each game, after every other 10 rows, there always are 2 rows which records the each team's data instead of indivdual player's data. Beacuse of this recording format, many columns have missing values in the rows of team. \n",
    "\n",
    "In my case, the data of 'firstbloodkill' is missing under rows which recrod team data, I think this is NMAR because the 'firstbloodkill' refers which champion and position gets the kill instead of the whole team, and there is another column that records which team gets the first blood. However, I realize there is a column called 'firstbloodassist' which records which champion and position is involved in the first blood but not taking the kill. This columns is missing also under team rows, but there are some missingness under player rows as well. It is not MD again because it cannot infer this column’s missingness exactly from anothers such as 'firstbloodkill' column. \n",
    "\n"
   ]
  },
  {
   "cell_type": "markdown",
   "metadata": {},
   "source": [
    "### Missingness Dependency:\n",
    "I observed that some of the games do not record the information of 'firstbloodassist', and based on this fact, I think the missingness of 'firstbloodassist' is dependent on the 'league' column. Therefore, I will use the total variation distance to determine whether it is Missing at Random (MAR) or Missing Complete at Random (MCAR). "
   ]
  },
  {
   "cell_type": "code",
   "execution_count": 192,
   "metadata": {
    "ExecuteTime": {
     "end_time": "2019-10-31T23:36:28.662099Z",
     "start_time": "2019-10-31T23:36:28.660016Z"
    }
   },
   "outputs": [
    {
     "data": {
      "text/html": [
       "<div>\n",
       "<style scoped>\n",
       "    .dataframe tbody tr th:only-of-type {\n",
       "        vertical-align: middle;\n",
       "    }\n",
       "\n",
       "    .dataframe tbody tr th {\n",
       "        vertical-align: top;\n",
       "    }\n",
       "\n",
       "    .dataframe thead th {\n",
       "        text-align: right;\n",
       "    }\n",
       "</style>\n",
       "<table border=\"1\" class=\"dataframe\">\n",
       "  <thead>\n",
       "    <tr style=\"text-align: right;\">\n",
       "      <th></th>\n",
       "      <th>league</th>\n",
       "      <th>position</th>\n",
       "      <th>firstbloodassist</th>\n",
       "      <th>assist_missing</th>\n",
       "    </tr>\n",
       "  </thead>\n",
       "  <tbody>\n",
       "    <tr>\n",
       "      <th>0</th>\n",
       "      <td>DCup</td>\n",
       "      <td>top</td>\n",
       "      <td>NaN</td>\n",
       "      <td>True</td>\n",
       "    </tr>\n",
       "    <tr>\n",
       "      <th>1</th>\n",
       "      <td>DCup</td>\n",
       "      <td>jng</td>\n",
       "      <td>NaN</td>\n",
       "      <td>True</td>\n",
       "    </tr>\n",
       "    <tr>\n",
       "      <th>2</th>\n",
       "      <td>DCup</td>\n",
       "      <td>mid</td>\n",
       "      <td>NaN</td>\n",
       "      <td>True</td>\n",
       "    </tr>\n",
       "    <tr>\n",
       "      <th>3</th>\n",
       "      <td>DCup</td>\n",
       "      <td>bot</td>\n",
       "      <td>NaN</td>\n",
       "      <td>True</td>\n",
       "    </tr>\n",
       "    <tr>\n",
       "      <th>4</th>\n",
       "      <td>DCup</td>\n",
       "      <td>sup</td>\n",
       "      <td>NaN</td>\n",
       "      <td>True</td>\n",
       "    </tr>\n",
       "    <tr>\n",
       "      <th>...</th>\n",
       "      <td>...</td>\n",
       "      <td>...</td>\n",
       "      <td>...</td>\n",
       "      <td>...</td>\n",
       "    </tr>\n",
       "    <tr>\n",
       "      <th>27293</th>\n",
       "      <td>LPLOL</td>\n",
       "      <td>top</td>\n",
       "      <td>0.0</td>\n",
       "      <td>False</td>\n",
       "    </tr>\n",
       "    <tr>\n",
       "      <th>27294</th>\n",
       "      <td>LPLOL</td>\n",
       "      <td>jng</td>\n",
       "      <td>0.0</td>\n",
       "      <td>False</td>\n",
       "    </tr>\n",
       "    <tr>\n",
       "      <th>27295</th>\n",
       "      <td>LPLOL</td>\n",
       "      <td>mid</td>\n",
       "      <td>0.0</td>\n",
       "      <td>False</td>\n",
       "    </tr>\n",
       "    <tr>\n",
       "      <th>27296</th>\n",
       "      <td>LPLOL</td>\n",
       "      <td>bot</td>\n",
       "      <td>0.0</td>\n",
       "      <td>False</td>\n",
       "    </tr>\n",
       "    <tr>\n",
       "      <th>27297</th>\n",
       "      <td>LPLOL</td>\n",
       "      <td>sup</td>\n",
       "      <td>0.0</td>\n",
       "      <td>False</td>\n",
       "    </tr>\n",
       "  </tbody>\n",
       "</table>\n",
       "<p>22750 rows × 4 columns</p>\n",
       "</div>"
      ],
      "text/plain": [
       "      league position  firstbloodassist  assist_missing\n",
       "0       DCup      top               NaN            True\n",
       "1       DCup      jng               NaN            True\n",
       "2       DCup      mid               NaN            True\n",
       "3       DCup      bot               NaN            True\n",
       "4       DCup      sup               NaN            True\n",
       "...      ...      ...               ...             ...\n",
       "27293  LPLOL      top               0.0           False\n",
       "27294  LPLOL      jng               0.0           False\n",
       "27295  LPLOL      mid               0.0           False\n",
       "27296  LPLOL      bot               0.0           False\n",
       "27297  LPLOL      sup               0.0           False\n",
       "\n",
       "[22750 rows x 4 columns]"
      ]
     },
     "execution_count": 192,
     "metadata": {},
     "output_type": "execute_result"
    }
   ],
   "source": [
    "df2 = pd.read_csv('2024_LoL_esports_match_data_from_OraclesElixir.csv')\n",
    "df2 = df2[['league', 'position','firstbloodassist']]\n",
    "df2 = df2[df2['position'] != 'team']\n",
    "df2['assist_missing'] = df2['firstbloodassist'].isna()\n",
    "df2"
   ]
  },
  {
   "cell_type": "code",
   "execution_count": 193,
   "metadata": {},
   "outputs": [
    {
     "data": {
      "text/html": [
       "<div>\n",
       "<style scoped>\n",
       "    .dataframe tbody tr th:only-of-type {\n",
       "        vertical-align: middle;\n",
       "    }\n",
       "\n",
       "    .dataframe tbody tr th {\n",
       "        vertical-align: top;\n",
       "    }\n",
       "\n",
       "    .dataframe thead th {\n",
       "        text-align: right;\n",
       "    }\n",
       "</style>\n",
       "<table border=\"1\" class=\"dataframe\">\n",
       "  <thead>\n",
       "    <tr style=\"text-align: right;\">\n",
       "      <th></th>\n",
       "      <th>assist_missing = False</th>\n",
       "      <th>assist_missing = True</th>\n",
       "    </tr>\n",
       "    <tr>\n",
       "      <th>league</th>\n",
       "      <th></th>\n",
       "      <th></th>\n",
       "    </tr>\n",
       "  </thead>\n",
       "  <tbody>\n",
       "    <tr>\n",
       "      <th>AL</th>\n",
       "      <td>0.019282</td>\n",
       "      <td>0.000000</td>\n",
       "    </tr>\n",
       "    <tr>\n",
       "      <th>CBLOL</th>\n",
       "      <td>0.037493</td>\n",
       "      <td>0.000000</td>\n",
       "    </tr>\n",
       "    <tr>\n",
       "      <th>CBLOLA</th>\n",
       "      <td>0.032137</td>\n",
       "      <td>0.000000</td>\n",
       "    </tr>\n",
       "    <tr>\n",
       "      <th>DCup</th>\n",
       "      <td>0.000000</td>\n",
       "      <td>0.044118</td>\n",
       "    </tr>\n",
       "    <tr>\n",
       "      <th>EBL</th>\n",
       "      <td>0.027317</td>\n",
       "      <td>0.000000</td>\n",
       "    </tr>\n",
       "    <tr>\n",
       "      <th>ESLOL</th>\n",
       "      <td>0.028923</td>\n",
       "      <td>0.000000</td>\n",
       "    </tr>\n",
       "    <tr>\n",
       "      <th>GLL</th>\n",
       "      <td>0.025174</td>\n",
       "      <td>0.000000</td>\n",
       "    </tr>\n",
       "    <tr>\n",
       "      <th>HC</th>\n",
       "      <td>0.008570</td>\n",
       "      <td>0.000000</td>\n",
       "    </tr>\n",
       "    <tr>\n",
       "      <th>HM</th>\n",
       "      <td>0.026245</td>\n",
       "      <td>0.000000</td>\n",
       "    </tr>\n",
       "    <tr>\n",
       "      <th>LCK</th>\n",
       "      <td>0.077665</td>\n",
       "      <td>0.000000</td>\n",
       "    </tr>\n",
       "    <tr>\n",
       "      <th>LCKC</th>\n",
       "      <td>0.091055</td>\n",
       "      <td>0.000000</td>\n",
       "    </tr>\n",
       "    <tr>\n",
       "      <th>LCO</th>\n",
       "      <td>0.038029</td>\n",
       "      <td>0.000000</td>\n",
       "    </tr>\n",
       "    <tr>\n",
       "      <th>LCS</th>\n",
       "      <td>0.023567</td>\n",
       "      <td>0.000000</td>\n",
       "    </tr>\n",
       "    <tr>\n",
       "      <th>LDL</th>\n",
       "      <td>0.000000</td>\n",
       "      <td>0.455882</td>\n",
       "    </tr>\n",
       "    <tr>\n",
       "      <th>LEC</th>\n",
       "      <td>0.045528</td>\n",
       "      <td>0.000000</td>\n",
       "    </tr>\n",
       "    <tr>\n",
       "      <th>LFL</th>\n",
       "      <td>0.042849</td>\n",
       "      <td>0.000000</td>\n",
       "    </tr>\n",
       "    <tr>\n",
       "      <th>LFL2</th>\n",
       "      <td>0.008034</td>\n",
       "      <td>0.000000</td>\n",
       "    </tr>\n",
       "    <tr>\n",
       "      <th>LIT</th>\n",
       "      <td>0.027317</td>\n",
       "      <td>0.000000</td>\n",
       "    </tr>\n",
       "    <tr>\n",
       "      <th>LJL</th>\n",
       "      <td>0.039100</td>\n",
       "      <td>0.000000</td>\n",
       "    </tr>\n",
       "    <tr>\n",
       "      <th>LLA</th>\n",
       "      <td>0.050884</td>\n",
       "      <td>0.000000</td>\n",
       "    </tr>\n",
       "    <tr>\n",
       "      <th>LPL</th>\n",
       "      <td>0.000000</td>\n",
       "      <td>0.500000</td>\n",
       "    </tr>\n",
       "    <tr>\n",
       "      <th>LPLOL</th>\n",
       "      <td>0.027317</td>\n",
       "      <td>0.000000</td>\n",
       "    </tr>\n",
       "    <tr>\n",
       "      <th>LVP SL</th>\n",
       "      <td>0.042314</td>\n",
       "      <td>0.000000</td>\n",
       "    </tr>\n",
       "    <tr>\n",
       "      <th>NACL</th>\n",
       "      <td>0.049813</td>\n",
       "      <td>0.000000</td>\n",
       "    </tr>\n",
       "    <tr>\n",
       "      <th>NEXO</th>\n",
       "      <td>0.004285</td>\n",
       "      <td>0.000000</td>\n",
       "    </tr>\n",
       "    <tr>\n",
       "      <th>NLC</th>\n",
       "      <td>0.029459</td>\n",
       "      <td>0.000000</td>\n",
       "    </tr>\n",
       "    <tr>\n",
       "      <th>PCS</th>\n",
       "      <td>0.048741</td>\n",
       "      <td>0.000000</td>\n",
       "    </tr>\n",
       "    <tr>\n",
       "      <th>PRM</th>\n",
       "      <td>0.045528</td>\n",
       "      <td>0.000000</td>\n",
       "    </tr>\n",
       "    <tr>\n",
       "      <th>TCL</th>\n",
       "      <td>0.027852</td>\n",
       "      <td>0.000000</td>\n",
       "    </tr>\n",
       "    <tr>\n",
       "      <th>UL</th>\n",
       "      <td>0.029459</td>\n",
       "      <td>0.000000</td>\n",
       "    </tr>\n",
       "    <tr>\n",
       "      <th>VCS</th>\n",
       "      <td>0.046063</td>\n",
       "      <td>0.000000</td>\n",
       "    </tr>\n",
       "  </tbody>\n",
       "</table>\n",
       "</div>"
      ],
      "text/plain": [
       "        assist_missing = False  assist_missing = True\n",
       "league                                               \n",
       "AL                    0.019282               0.000000\n",
       "CBLOL                 0.037493               0.000000\n",
       "CBLOLA                0.032137               0.000000\n",
       "DCup                  0.000000               0.044118\n",
       "EBL                   0.027317               0.000000\n",
       "ESLOL                 0.028923               0.000000\n",
       "GLL                   0.025174               0.000000\n",
       "HC                    0.008570               0.000000\n",
       "HM                    0.026245               0.000000\n",
       "LCK                   0.077665               0.000000\n",
       "LCKC                  0.091055               0.000000\n",
       "LCO                   0.038029               0.000000\n",
       "LCS                   0.023567               0.000000\n",
       "LDL                   0.000000               0.455882\n",
       "LEC                   0.045528               0.000000\n",
       "LFL                   0.042849               0.000000\n",
       "LFL2                  0.008034               0.000000\n",
       "LIT                   0.027317               0.000000\n",
       "LJL                   0.039100               0.000000\n",
       "LLA                   0.050884               0.000000\n",
       "LPL                   0.000000               0.500000\n",
       "LPLOL                 0.027317               0.000000\n",
       "LVP SL                0.042314               0.000000\n",
       "NACL                  0.049813               0.000000\n",
       "NEXO                  0.004285               0.000000\n",
       "NLC                   0.029459               0.000000\n",
       "PCS                   0.048741               0.000000\n",
       "PRM                   0.045528               0.000000\n",
       "TCL                   0.027852               0.000000\n",
       "UL                    0.029459               0.000000\n",
       "VCS                   0.046063               0.000000"
      ]
     },
     "execution_count": 193,
     "metadata": {},
     "output_type": "execute_result"
    }
   ],
   "source": [
    "league_dist = (\n",
    "    df2\n",
    "    .assign(assist_missing=df2['firstbloodassist'].isna())\n",
    "    .pivot_table(index='league', columns='assist_missing', aggfunc='size')\n",
    ")\n",
    "league_dist.columns = ['assist_missing = False', 'assist_missing = True']\n",
    "league_dist = (league_dist / league_dist.sum()).fillna(0)\n",
    "league_dist"
   ]
  },
  {
   "cell_type": "code",
   "execution_count": 194,
   "metadata": {},
   "outputs": [],
   "source": [
    "#Simulation\n",
    "n_repetitions = 1000\n",
    "shuffled = df2.copy()\n",
    "tvds = []\n",
    "for _ in range(n_repetitions):\n",
    "    shuffled['league'] = np.random.permutation(shuffled['league'])\n",
    "    # Computing and storing the TVD.\n",
    "    pivoted = (\n",
    "        shuffled\n",
    "        .pivot_table(index='league', columns='assist_missing', aggfunc='size')\n",
    "    )\n",
    "    pivoted = pivoted / pivoted.sum()\n",
    "    tvd = pivoted.diff(axis=1).iloc[:, -1].abs().sum() / 2\n",
    "    tvds.append(tvd)\n",
    "#Observed_tvd\n",
    "observed_tvd = league_dist.diff(axis=1).iloc[:, -1].abs().sum() / 2\n",
    "#Graph\n",
    "fig = px.histogram(pd.DataFrame(tvds), x=0, nbins=50, histnorm='probability', \n",
    "                   title='Empirical Distribution of the TVD')\n",
    "fig.add_vline(x=observed_tvd, line_color='red')\n",
    "fig.add_annotation(text=f'<span style=\"color:red\">Observed TVD = {round(observed_tvd, 2)}</span>',\n",
    "                   x= -0.1 + observed_tvd, showarrow=False, y=0.08)\n",
    "fig.update_layout(yaxis_range=[0, 0.1])\n",
    "fig.write_html('MD1.html', include_plotlyjs='cdn')"
   ]
  },
  {
   "cell_type": "code",
   "execution_count": 195,
   "metadata": {},
   "outputs": [
    {
     "data": {
      "text/plain": [
       "0.0"
      ]
     },
     "execution_count": 195,
     "metadata": {},
     "output_type": "execute_result"
    }
   ],
   "source": [
    "(np.array(tvds) >= observed_tvd).mean()"
   ]
  },
  {
   "cell_type": "markdown",
   "metadata": {},
   "source": [
    "The observed statistic was: 1\n",
    "\n",
    "The p-value was:0.0\n",
    "\n",
    "The empirical distribution of the test statistic is the graph showed above.\n",
    "\n",
    "Since the p-value was close to 0, the missingness of 'firstkillassist' depends on 'league' which is MAR."
   ]
  },
  {
   "cell_type": "markdown",
   "metadata": {},
   "source": [
    "Now let's check if there is any missing relationshiip between the 'side' which is the game side (red or blue) of the game that the team picks and 'firstbloodassist'. "
   ]
  },
  {
   "cell_type": "code",
   "execution_count": 196,
   "metadata": {},
   "outputs": [
    {
     "data": {
      "text/html": [
       "<div>\n",
       "<style scoped>\n",
       "    .dataframe tbody tr th:only-of-type {\n",
       "        vertical-align: middle;\n",
       "    }\n",
       "\n",
       "    .dataframe tbody tr th {\n",
       "        vertical-align: top;\n",
       "    }\n",
       "\n",
       "    .dataframe thead th {\n",
       "        text-align: right;\n",
       "    }\n",
       "</style>\n",
       "<table border=\"1\" class=\"dataframe\">\n",
       "  <thead>\n",
       "    <tr style=\"text-align: right;\">\n",
       "      <th></th>\n",
       "      <th>side</th>\n",
       "      <th>position</th>\n",
       "      <th>firstbloodassist</th>\n",
       "      <th>assist_missing</th>\n",
       "    </tr>\n",
       "  </thead>\n",
       "  <tbody>\n",
       "    <tr>\n",
       "      <th>0</th>\n",
       "      <td>Blue</td>\n",
       "      <td>top</td>\n",
       "      <td>NaN</td>\n",
       "      <td>True</td>\n",
       "    </tr>\n",
       "    <tr>\n",
       "      <th>1</th>\n",
       "      <td>Blue</td>\n",
       "      <td>jng</td>\n",
       "      <td>NaN</td>\n",
       "      <td>True</td>\n",
       "    </tr>\n",
       "    <tr>\n",
       "      <th>2</th>\n",
       "      <td>Blue</td>\n",
       "      <td>mid</td>\n",
       "      <td>NaN</td>\n",
       "      <td>True</td>\n",
       "    </tr>\n",
       "    <tr>\n",
       "      <th>3</th>\n",
       "      <td>Blue</td>\n",
       "      <td>bot</td>\n",
       "      <td>NaN</td>\n",
       "      <td>True</td>\n",
       "    </tr>\n",
       "    <tr>\n",
       "      <th>4</th>\n",
       "      <td>Blue</td>\n",
       "      <td>sup</td>\n",
       "      <td>NaN</td>\n",
       "      <td>True</td>\n",
       "    </tr>\n",
       "    <tr>\n",
       "      <th>...</th>\n",
       "      <td>...</td>\n",
       "      <td>...</td>\n",
       "      <td>...</td>\n",
       "      <td>...</td>\n",
       "    </tr>\n",
       "    <tr>\n",
       "      <th>27293</th>\n",
       "      <td>Red</td>\n",
       "      <td>top</td>\n",
       "      <td>0.0</td>\n",
       "      <td>False</td>\n",
       "    </tr>\n",
       "    <tr>\n",
       "      <th>27294</th>\n",
       "      <td>Red</td>\n",
       "      <td>jng</td>\n",
       "      <td>0.0</td>\n",
       "      <td>False</td>\n",
       "    </tr>\n",
       "    <tr>\n",
       "      <th>27295</th>\n",
       "      <td>Red</td>\n",
       "      <td>mid</td>\n",
       "      <td>0.0</td>\n",
       "      <td>False</td>\n",
       "    </tr>\n",
       "    <tr>\n",
       "      <th>27296</th>\n",
       "      <td>Red</td>\n",
       "      <td>bot</td>\n",
       "      <td>0.0</td>\n",
       "      <td>False</td>\n",
       "    </tr>\n",
       "    <tr>\n",
       "      <th>27297</th>\n",
       "      <td>Red</td>\n",
       "      <td>sup</td>\n",
       "      <td>0.0</td>\n",
       "      <td>False</td>\n",
       "    </tr>\n",
       "  </tbody>\n",
       "</table>\n",
       "<p>22750 rows × 4 columns</p>\n",
       "</div>"
      ],
      "text/plain": [
       "       side position  firstbloodassist  assist_missing\n",
       "0      Blue      top               NaN            True\n",
       "1      Blue      jng               NaN            True\n",
       "2      Blue      mid               NaN            True\n",
       "3      Blue      bot               NaN            True\n",
       "4      Blue      sup               NaN            True\n",
       "...     ...      ...               ...             ...\n",
       "27293   Red      top               0.0           False\n",
       "27294   Red      jng               0.0           False\n",
       "27295   Red      mid               0.0           False\n",
       "27296   Red      bot               0.0           False\n",
       "27297   Red      sup               0.0           False\n",
       "\n",
       "[22750 rows x 4 columns]"
      ]
     },
     "execution_count": 196,
     "metadata": {},
     "output_type": "execute_result"
    }
   ],
   "source": [
    "df3 = pd.read_csv('2024_LoL_esports_match_data_from_OraclesElixir.csv')\n",
    "df3 = df3[['side', 'position','firstbloodassist']]\n",
    "df3 = df3[df3['position'] != 'team']\n",
    "df3['assist_missing'] = df2['firstbloodassist'].isna()\n",
    "df3"
   ]
  },
  {
   "cell_type": "code",
   "execution_count": 197,
   "metadata": {},
   "outputs": [
    {
     "data": {
      "text/html": [
       "<div>\n",
       "<style scoped>\n",
       "    .dataframe tbody tr th:only-of-type {\n",
       "        vertical-align: middle;\n",
       "    }\n",
       "\n",
       "    .dataframe tbody tr th {\n",
       "        vertical-align: top;\n",
       "    }\n",
       "\n",
       "    .dataframe thead th {\n",
       "        text-align: right;\n",
       "    }\n",
       "</style>\n",
       "<table border=\"1\" class=\"dataframe\">\n",
       "  <thead>\n",
       "    <tr style=\"text-align: right;\">\n",
       "      <th></th>\n",
       "      <th>assist_missing = False</th>\n",
       "      <th>assist_missing = True</th>\n",
       "    </tr>\n",
       "    <tr>\n",
       "      <th>side</th>\n",
       "      <th></th>\n",
       "      <th></th>\n",
       "    </tr>\n",
       "  </thead>\n",
       "  <tbody>\n",
       "    <tr>\n",
       "      <th>Blue</th>\n",
       "      <td>0.5</td>\n",
       "      <td>0.5</td>\n",
       "    </tr>\n",
       "    <tr>\n",
       "      <th>Red</th>\n",
       "      <td>0.5</td>\n",
       "      <td>0.5</td>\n",
       "    </tr>\n",
       "  </tbody>\n",
       "</table>\n",
       "</div>"
      ],
      "text/plain": [
       "      assist_missing = False  assist_missing = True\n",
       "side                                               \n",
       "Blue                     0.5                    0.5\n",
       "Red                      0.5                    0.5"
      ]
     },
     "execution_count": 197,
     "metadata": {},
     "output_type": "execute_result"
    }
   ],
   "source": [
    "patch_dist = (\n",
    "    df3\n",
    "    .assign(assist_missing=df2['firstbloodassist'].isna())\n",
    "    .pivot_table(index='side', columns='assist_missing', aggfunc='size')\n",
    ")\n",
    "patch_dist.columns = ['assist_missing = False', 'assist_missing = True']\n",
    "patch_dist = (patch_dist / patch_dist.sum()).fillna(0)\n",
    "patch_dist"
   ]
  },
  {
   "cell_type": "code",
   "execution_count": 198,
   "metadata": {},
   "outputs": [],
   "source": [
    "#Simulation\n",
    "n_repetitions = 1000\n",
    "shuffled = df3.copy()\n",
    "tvds = []\n",
    "for _ in range(n_repetitions):\n",
    "    shuffled['side'] = np.random.permutation(shuffled['side'])\n",
    "    # Computing and storing the TVD.\n",
    "    pivoted = (\n",
    "        shuffled\n",
    "        .pivot_table(index='side', columns='assist_missing', aggfunc='size')\n",
    "    )\n",
    "    pivoted = pivoted / pivoted.sum()\n",
    "    tvd = pivoted.diff(axis=1).iloc[:, -1].abs().sum() / 2\n",
    "    tvds.append(tvd)\n",
    "#Observed_tvd\n",
    "observed_tvd = patch_dist.diff(axis=1).iloc[:, -1].abs().sum() / 2\n",
    "#Graph\n",
    "fig = px.histogram(pd.DataFrame(tvds), x=0, nbins=50, histnorm='probability', \n",
    "                   title='Empirical Distribution of the TVD')\n",
    "fig.add_vline(x=observed_tvd, line_color='red')\n",
    "fig.add_annotation(text=f'<span style=\"color:red\">Observed TVD = {round(observed_tvd, 2)}</span>',\n",
    "                   x=0.003 + observed_tvd, showarrow=False, y=0.14)\n",
    "fig.update_layout(yaxis_range=[0, 0.15])\n",
    "fig.write_html('MD2.html', include_plotlyjs='cdn')"
   ]
  },
  {
   "cell_type": "code",
   "execution_count": 199,
   "metadata": {},
   "outputs": [
    {
     "data": {
      "text/plain": [
       "1.0"
      ]
     },
     "execution_count": 199,
     "metadata": {},
     "output_type": "execute_result"
    }
   ],
   "source": [
    "(np.array(tvds) >= observed_tvd).mean()"
   ]
  },
  {
   "cell_type": "markdown",
   "metadata": {},
   "source": [
    "The observed statistic was: 0\n",
    "\n",
    "The p-value was: 1.0\n",
    "\n",
    "The empirical distribution of the test statistic is the graph showed above.\n",
    "\n",
    "Since the p-value was close to 1, the missingness of 'firstkillassist' not depends on 'league' which is MCAR."
   ]
  },
  {
   "cell_type": "markdown",
   "metadata": {},
   "source": [
    "## Step 4: Hypothesis Testing"
   ]
  },
  {
   "cell_type": "markdown",
   "metadata": {},
   "source": [
    "In this part, I will use the columns 'position', 'result', and 'firstbloodkill' from the dataset.\n",
    "\n",
    "Null Hypothesis: The win rate of the jungle position gets the firstbloodkill is the same as the win rate of the jungle position not gets the firstbloodkill.\n",
    "\n",
    "Alternate Hypothesis: The win rate of the jungle position gets the firstbloodkill is different to the win rate of the jungle position not gets the firstbloodkill.\n",
    "\n",
    "Test Statistic: I choose the difference between the jungle position gets the firstbloodkill and won and the jungle position not gets the firstbloodkill and won which is Total Variation Distance (TVD).\n",
    "\n",
    "Significance Level: I choose 5% which is the most common significance level.\n"
   ]
  },
  {
   "cell_type": "code",
   "execution_count": 200,
   "metadata": {
    "ExecuteTime": {
     "end_time": "2019-10-31T23:36:28.666489Z",
     "start_time": "2019-10-31T23:36:28.664381Z"
    }
   },
   "outputs": [
    {
     "data": {
      "text/html": [
       "<div>\n",
       "<style scoped>\n",
       "    .dataframe tbody tr th:only-of-type {\n",
       "        vertical-align: middle;\n",
       "    }\n",
       "\n",
       "    .dataframe tbody tr th {\n",
       "        vertical-align: top;\n",
       "    }\n",
       "\n",
       "    .dataframe thead th {\n",
       "        text-align: right;\n",
       "    }\n",
       "</style>\n",
       "<table border=\"1\" class=\"dataframe\">\n",
       "  <thead>\n",
       "    <tr style=\"text-align: right;\">\n",
       "      <th></th>\n",
       "      <th>position</th>\n",
       "      <th>result</th>\n",
       "      <th>firstbloodkill</th>\n",
       "    </tr>\n",
       "  </thead>\n",
       "  <tbody>\n",
       "    <tr>\n",
       "      <th>1</th>\n",
       "      <td>jng</td>\n",
       "      <td>0</td>\n",
       "      <td>False</td>\n",
       "    </tr>\n",
       "    <tr>\n",
       "      <th>6</th>\n",
       "      <td>jng</td>\n",
       "      <td>1</td>\n",
       "      <td>False</td>\n",
       "    </tr>\n",
       "    <tr>\n",
       "      <th>13</th>\n",
       "      <td>jng</td>\n",
       "      <td>0</td>\n",
       "      <td>False</td>\n",
       "    </tr>\n",
       "    <tr>\n",
       "      <th>18</th>\n",
       "      <td>jng</td>\n",
       "      <td>1</td>\n",
       "      <td>False</td>\n",
       "    </tr>\n",
       "    <tr>\n",
       "      <th>25</th>\n",
       "      <td>jng</td>\n",
       "      <td>1</td>\n",
       "      <td>True</td>\n",
       "    </tr>\n",
       "    <tr>\n",
       "      <th>...</th>\n",
       "      <td>...</td>\n",
       "      <td>...</td>\n",
       "      <td>...</td>\n",
       "    </tr>\n",
       "    <tr>\n",
       "      <th>27270</th>\n",
       "      <td>jng</td>\n",
       "      <td>1</td>\n",
       "      <td>False</td>\n",
       "    </tr>\n",
       "    <tr>\n",
       "      <th>27277</th>\n",
       "      <td>jng</td>\n",
       "      <td>0</td>\n",
       "      <td>False</td>\n",
       "    </tr>\n",
       "    <tr>\n",
       "      <th>27282</th>\n",
       "      <td>jng</td>\n",
       "      <td>1</td>\n",
       "      <td>True</td>\n",
       "    </tr>\n",
       "    <tr>\n",
       "      <th>27289</th>\n",
       "      <td>jng</td>\n",
       "      <td>1</td>\n",
       "      <td>False</td>\n",
       "    </tr>\n",
       "    <tr>\n",
       "      <th>27294</th>\n",
       "      <td>jng</td>\n",
       "      <td>0</td>\n",
       "      <td>False</td>\n",
       "    </tr>\n",
       "  </tbody>\n",
       "</table>\n",
       "<p>4550 rows × 3 columns</p>\n",
       "</div>"
      ],
      "text/plain": [
       "      position  result  firstbloodkill\n",
       "1          jng       0           False\n",
       "6          jng       1           False\n",
       "13         jng       0           False\n",
       "18         jng       1           False\n",
       "25         jng       1            True\n",
       "...        ...     ...             ...\n",
       "27270      jng       1           False\n",
       "27277      jng       0           False\n",
       "27282      jng       1            True\n",
       "27289      jng       1           False\n",
       "27294      jng       0           False\n",
       "\n",
       "[4550 rows x 3 columns]"
      ]
     },
     "execution_count": 200,
     "metadata": {},
     "output_type": "execute_result"
    }
   ],
   "source": [
    "df4 = pd.read_csv('2024_LoL_esports_match_data_from_OraclesElixir.csv')\n",
    "df4 = df4[['position', 'result', 'firstbloodkill']]\n",
    "df4 = df4[(df4['position'] == 'jng')]\n",
    "df4['firstbloodkill'] = df4['firstbloodkill'].apply(lambda x : bool(x))\n",
    "df4"
   ]
  },
  {
   "cell_type": "code",
   "execution_count": 201,
   "metadata": {},
   "outputs": [
    {
     "data": {
      "text/plain": [
       "0.3324538258575198"
      ]
     },
     "execution_count": 201,
     "metadata": {},
     "output_type": "execute_result"
    }
   ],
   "source": [
    "win_dist = df4.copy()\n",
    "win_dist = win_dist.groupby('firstbloodkill').sum()['result']\n",
    "win_dist = win_dist / win_dist.sum()\n",
    "observed = win_dist.diff().abs().sum() / 2\n",
    "observed"
   ]
  },
  {
   "cell_type": "code",
   "execution_count": 202,
   "metadata": {},
   "outputs": [],
   "source": [
    "n_repetitions = 1000\n",
    "differences = []\n",
    "for _ in range(n_repetitions):\n",
    "    # Step 1: Shuffle the weights and store them in a DataFrame.\n",
    "    with_shuffled = df4.assign(Shuffled_result=np.random.permutation(df4['result']))\n",
    "    # Step 2: Compute the test statistic.\n",
    "    # Remember, False (0) comes before True (1),\n",
    "    # so this computes True - False.\n",
    "    dif = with_shuffled.groupby('firstbloodkill').sum()['Shuffled_result']\n",
    "    dif = dif / dif.sum()\n",
    "    difference = dif.diff().abs().sum() / 2\n",
    "    # Step 4: Store the result\n",
    "    differences.append(difference)\n",
    "\n",
    "fig = px.histogram(pd.DataFrame(differences), x=0, nbins=50, histnorm='probability', \n",
    "                   title='Empirical Distribution of the Observed Statistic')\n",
    "fig.add_vline(x=observed, line_color='red')\n",
    "fig.add_annotation(text=f'<span style=\"color:red\">Observed TVD = {round(observed, 2)}</span>',\n",
    "                   x= 0.005 + observed, showarrow=False, y=0.1)\n",
    "fig.update_layout(yaxis_range=[0, 0.12])\n",
    "fig.write_html('HT.html', include_plotlyjs='cdn')"
   ]
  },
  {
   "cell_type": "code",
   "execution_count": 203,
   "metadata": {},
   "outputs": [
    {
     "data": {
      "text/plain": [
       "1.0"
      ]
     },
     "execution_count": 203,
     "metadata": {},
     "output_type": "execute_result"
    }
   ],
   "source": [
    "(np.array(differences) >= observed).mean()"
   ]
  },
  {
   "cell_type": "markdown",
   "metadata": {},
   "source": [
    "Because the p-value is 1, I fail to reject the null hypothesis that the win rate of the jungle position gets the firstbloodkill is the same as the win rate of the jungle position not gets the firstbloodkill. This answers my questiion because it shows that the relationship between jungle gets the first blood kill and the result of team wnning is not very clear. The jungle gets the first blood might not impact the game result at all. \n"
   ]
  },
  {
   "cell_type": "markdown",
   "metadata": {},
   "source": [
    "## Step 5: Framing a Prediction Problem"
   ]
  },
  {
   "cell_type": "markdown",
   "metadata": {},
   "source": [
    "Based on the Hypothesis test, we might conclude that the benefits for jungle taking the first blood kill will not increase the team win rate by a lot. Then it leads to another interesting question. If jungle will not increase the team win rate by taking first blood kill, is there such a position increase the team win rate by taking the first blood? In other words, which position gets the first blood kill, the team is most likely to win the game. \n",
    "\n",
    "Therefore, now let's try predict if a team will win or lose a game when different position gets the first blood kill. I will do a multiclass classification since there are 5 different types of position. I will choose predict output of 'result' which indicates the result of the game because most people care about winning while they are playing. I will use accuracy to evaluate my model because the idea of this model is to tell people when a type of position gets the first blood, their team are likely to win or not. If the accuracy is the least thing that I care about, it will be no difference of guessing the result than predicting the result by running the model. I use regession model first. "
   ]
  },
  {
   "cell_type": "code",
   "execution_count": 204,
   "metadata": {},
   "outputs": [],
   "source": [
    "from sklearn.linear_model import LinearRegression\n",
    "from sklearn.pipeline import Pipeline\n",
    "from sklearn.preprocessing import OneHotEncoder\n",
    "from sklearn.compose import ColumnTransformer\n",
    "from sklearn.preprocessing import StandardScaler\n",
    "from sklearn.model_selection import train_test_split\n",
    "from sklearn.preprocessing import PolynomialFeatures\n",
    "from sklearn.metrics import mean_squared_error\n",
    "from sklearn.tree import DecisionTreeClassifier\n",
    "from sklearn.tree import plot_tree"
   ]
  },
  {
   "cell_type": "code",
   "execution_count": 205,
   "metadata": {},
   "outputs": [],
   "source": [
    "df5 = pd.read_csv('2024_LoL_esports_match_data_from_OraclesElixir.csv')\n",
    "df5 = df5[['side', 'position', 'kills', 'firstbloodkill', 'result']]\n",
    "df5 = df5[df5['position'] != 'team']\n",
    "df5_X = df5[['side', 'position', 'kills', 'firstbloodkill']]\n",
    "X_train, X_test, y_train, y_test = train_test_split(df5_X, df5['result'], test_size=0.25, random_state=13)"
   ]
  },
  {
   "cell_type": "markdown",
   "metadata": {},
   "source": [
    "## Step 6: Baseline Model"
   ]
  },
  {
   "cell_type": "markdown",
   "metadata": {},
   "source": [
    "My base model has two predictors which are 'position' and 'firstbloodkill' columns. The 'position' is nominal since there are 5 positions and connot be compared. The 'firstbloodkill' is quantitative which indicates whether this position gets the first blood kill in the game. The output for my model is 'result' which is quantitative indicates the result of the game. \n",
    "\n",
    "In the beginning, I get the needed data from dataset, and then use train test split to get my train set and test set with which the test size is 25%. Because the 'position' is nonminal, I apply the ColumnTransformer to transform 'position' by using OneHotEncoder, and 'firstbloodkill' by using StandardScaler. Next, I just called a LinearRegression and fits the train set into my model. After fitting, I use score method to check the accuracy of my train and test set. This method calculate the value of R^2 of the model. I found out this model is not doing good because the R^2 is 0.0037852165311508257 for trian set, and 0.004114362110160696 for test set which is far from 1 which means the linear does not fit well. "
   ]
  },
  {
   "cell_type": "code",
   "execution_count": 206,
   "metadata": {
    "ExecuteTime": {
     "end_time": "2019-10-31T23:36:28.662099Z",
     "start_time": "2019-10-31T23:36:28.660016Z"
    }
   },
   "outputs": [
    {
     "data": {
      "text/plain": [
       "(0.003785512662262125, 0.004105817212896934)"
      ]
     },
     "execution_count": 206,
     "metadata": {},
     "output_type": "execute_result"
    }
   ],
   "source": [
    "preproc = ColumnTransformer(\n",
    "    transformers=[\n",
    "        ('categorical_cols', OneHotEncoder(), ['position']),\n",
    "        ('StandardScaler', StandardScaler(), ['firstbloodkill'])\n",
    "    ],\n",
    "    remainder='drop' # Specify what to do with all other columns ('total_bill' here) – drop or passthrough.\n",
    ")\n",
    "base_model = Pipeline([\n",
    "    ('preproc', preproc),\n",
    "    ('lin_reg', LinearRegression()),\n",
    "    ])\n",
    "base_model.fit(X_train, y_train)\n",
    "base_model.score(X_train, y_train), base_model.score(X_test, y_test)"
   ]
  },
  {
   "cell_type": "markdown",
   "metadata": {},
   "source": [
    "## Step 7: Final Model"
   ]
  },
  {
   "cell_type": "markdown",
   "metadata": {},
   "source": [
    "In order to improve my model. I start by adding more features. I add 'side' and 'kills' columns. The 'side' is nominal which indicates the game side of position which is either red or blue. I think this factor will help my model because the game map in League of Legends is not symmetry. The side red starts at top right, but the side blue starts at bottom left. Therefore, there are some place can be reached easily by one side than another which makes the benefit side more likely to get a kill. The 'kills' is quantitative which indicates the the total kills of that position got in the game. I think this factor matters because after a position gets the first blood, it will have more power which makes them most likely to get the kills again. In the game, more kills means more money means more items means more damage means more likely to win. \n",
    "\n",
    "Similiar to my base model, I do the same for 'position' and 'firstbloodkill', but I also OneHotEncoder 'side', and also StanardScaler 'kills'. After all ColumnTransforms, I fits a linear reggression into my data, and then check the accuracy. This time, the R^2 is 0.15981344297856914 for the train set, and 0.15531338549828344 for the test set. The accuracy is much better than my base model which increse about 15.5%. However, in general, the model is still not doing well. \n"
   ]
  },
  {
   "cell_type": "code",
   "execution_count": 207,
   "metadata": {
    "ExecuteTime": {
     "end_time": "2019-10-31T23:36:28.662099Z",
     "start_time": "2019-10-31T23:36:28.660016Z"
    }
   },
   "outputs": [
    {
     "data": {
      "text/plain": [
       "(0.15981344297856914, 0.15531338549828344)"
      ]
     },
     "execution_count": 207,
     "metadata": {},
     "output_type": "execute_result"
    }
   ],
   "source": [
    "preproc = ColumnTransformer(\n",
    "    transformers=[\n",
    "        ('categorical_cols', OneHotEncoder(), ['side', 'position']),\n",
    "        ('StandardScaler', StandardScaler(), ['kills', 'firstbloodkill'])\n",
    "    ],\n",
    "    remainder='passthrough' # Specify what to do with all other columns ('total_bill' here) – drop or passthrough.\n",
    ")\n",
    "improved_model = Pipeline([\n",
    "    ('preproc', preproc),\n",
    "    ('lin_reg', LinearRegression()),\n",
    "    ])\n",
    "improved_model.fit(X_train, y_train)\n",
    "improved_model.score(X_train, y_train), improved_model.score(X_test, y_test)"
   ]
  },
  {
   "cell_type": "markdown",
   "metadata": {},
   "source": [
    "Therefore, I start using hyperparameters to determine if it will improve my model. I create 2 empty list which are going to help me to find the hyperparameter that leads to the best test set performance. I run a for loop which range from 1 to 6 as my polynomial degree. \n",
    "\n",
    "After the for loop, I find out that when the degree is 2 the test error is the lowest, so I choose degree of 2 and use it to fit my train set again. This time, I get R^2 of 0.17695699054777625 for the train set, and 0.15531338549828344 for the test set. This model only improve the train set by about 2% and not improve test set at all. "
   ]
  },
  {
   "cell_type": "code",
   "execution_count": 208,
   "metadata": {},
   "outputs": [
    {
     "data": {
      "text/html": [
       "<div>\n",
       "<style scoped>\n",
       "    .dataframe tbody tr th:only-of-type {\n",
       "        vertical-align: middle;\n",
       "    }\n",
       "\n",
       "    .dataframe tbody tr th {\n",
       "        vertical-align: top;\n",
       "    }\n",
       "\n",
       "    .dataframe thead th {\n",
       "        text-align: right;\n",
       "    }\n",
       "</style>\n",
       "<table border=\"1\" class=\"dataframe\">\n",
       "  <thead>\n",
       "    <tr style=\"text-align: right;\">\n",
       "      <th></th>\n",
       "      <th>Train Error</th>\n",
       "      <th>Test Error</th>\n",
       "    </tr>\n",
       "  </thead>\n",
       "  <tbody>\n",
       "    <tr>\n",
       "      <th>0</th>\n",
       "      <td>0.458283</td>\n",
       "      <td>0.459618</td>\n",
       "    </tr>\n",
       "    <tr>\n",
       "      <th>1</th>\n",
       "      <td>0.453608</td>\n",
       "      <td>0.455157</td>\n",
       "    </tr>\n",
       "    <tr>\n",
       "      <th>2</th>\n",
       "      <td>0.453243</td>\n",
       "      <td>0.455047</td>\n",
       "    </tr>\n",
       "    <tr>\n",
       "      <th>3</th>\n",
       "      <td>0.453103</td>\n",
       "      <td>0.455270</td>\n",
       "    </tr>\n",
       "    <tr>\n",
       "      <th>4</th>\n",
       "      <td>0.453344</td>\n",
       "      <td>0.458724</td>\n",
       "    </tr>\n",
       "    <tr>\n",
       "      <th>5</th>\n",
       "      <td>0.452370</td>\n",
       "      <td>0.465876</td>\n",
       "    </tr>\n",
       "  </tbody>\n",
       "</table>\n",
       "</div>"
      ],
      "text/plain": [
       "   Train Error  Test Error\n",
       "0     0.458283    0.459618\n",
       "1     0.453608    0.455157\n",
       "2     0.453243    0.455047\n",
       "3     0.453103    0.455270\n",
       "4     0.453344    0.458724\n",
       "5     0.452370    0.465876"
      ]
     },
     "execution_count": 208,
     "metadata": {},
     "output_type": "execute_result"
    }
   ],
   "source": [
    "train_errs = []\n",
    "test_errs = []\n",
    "for d in range(1, 7):\n",
    "    pl = Pipeline([\n",
    "    ('preproc', preproc),\n",
    "    ('poly', PolynomialFeatures(d)),\n",
    "    ('lin_reg', LinearRegression()),\n",
    "    ])\n",
    "    pl.fit(X_train, y_train)\n",
    "    train_errs.append(mean_squared_error(y_train, pl.predict(X_train), squared=False))\n",
    "    test_errs.append(mean_squared_error(y_test, pl.predict(X_test), squared=False))\n",
    "errs = pd.DataFrame({'Train Error': train_errs, 'Test Error': test_errs})\n",
    "errs\n"
   ]
  },
  {
   "cell_type": "code",
   "execution_count": 209,
   "metadata": {},
   "outputs": [],
   "source": [
    "fig = px.line(errs)\n",
    "fig.update_layout(showlegend=True, xaxis_title='Polynomial Degree', yaxis_title='RMSE')\n",
    "fig.write_html('FM.html', include_plotlyjs='cdn')"
   ]
  },
  {
   "cell_type": "code",
   "execution_count": 210,
   "metadata": {},
   "outputs": [
    {
     "data": {
      "text/plain": [
       "(0.17695699054777625, 0.15531338549828344)"
      ]
     },
     "execution_count": 210,
     "metadata": {},
     "output_type": "execute_result"
    }
   ],
   "source": [
    "pl = Pipeline([\n",
    "    ('preproc', preproc),\n",
    "    ('poly', PolynomialFeatures(errs['Test Error'].idxmin())),\n",
    "    ('lin_reg', LinearRegression()),\n",
    "    ])\n",
    "pl.fit(X_train, y_train)\n",
    "pl.score(X_train, y_train), improved_model.score(X_test, y_test)"
   ]
  },
  {
   "cell_type": "markdown",
   "metadata": {},
   "source": [
    "The model is still not doing well, so I decide to get DecisionTreeClassifier a try. Because DecisionTreeClassifier cannot handle any nominal and ordinal values, I transform my X trian and test by using the ColumnTransformer which I mentioned before. Then, I create a DecisionTreeClassifier, and run a for loop in range 1 to 20 for tree depth to determine which tree depth is best fit. \n",
    "\n",
    "After the loop, the value of accuracy stops changing after tree's depth is 14, so I make my DecisionTreeClassifier has the max depth of 14. This time, the R^2 is 0.6782909389286133 for train set, and 0.6729957805907173 for test set. It is a huge improvment model which increase the accuracy for about 50%. Although the accuracy still not reach above 80%, I still thing this is a good model since it improved a lot. Finally, I find a model that can be used. "
   ]
  },
  {
   "cell_type": "code",
   "execution_count": 211,
   "metadata": {},
   "outputs": [],
   "source": [
    "X1 = pl.named_steps['preproc'].transform(X_train)\n",
    "X2 = pl.named_steps['preproc'].transform(X_test)"
   ]
  },
  {
   "cell_type": "code",
   "execution_count": 212,
   "metadata": {},
   "outputs": [
    {
     "data": {
      "text/plain": [
       "[[1, 0.6518579299027077, 0.6520745428973277],\n",
       " [2, 0.6518579299027077, 0.6520745428973277],\n",
       " [3, 0.6622904700504044, 0.6633263009845288],\n",
       " [4, 0.6654553979603798, 0.6691279887482419],\n",
       " [5, 0.6724885710936584, 0.6747538677918424],\n",
       " [6, 0.6738365959442035, 0.6728199718706048],\n",
       " [7, 0.6763568163169617, 0.6744022503516175],\n",
       " [8, 0.6777634509436173, 0.6766877637130801],\n",
       " [9, 0.6781151096002813, 0.6731715893108298],\n",
       " [10, 0.6781151096002813, 0.6731715893108298],\n",
       " [11, 0.6781151096002813, 0.6729957805907173],\n",
       " [12, 0.6781151096002813, 0.6731715893108298],\n",
       " [13, 0.6782323291525026, 0.6729957805907173],\n",
       " [14, 0.6782909389286133, 0.6729957805907173],\n",
       " [15, 0.6782909389286133, 0.6729957805907173],\n",
       " [16, 0.6782909389286133, 0.6729957805907173],\n",
       " [17, 0.6782909389286133, 0.6729957805907173],\n",
       " [18, 0.6782909389286133, 0.6729957805907173],\n",
       " [19, 0.6782909389286133, 0.6729957805907173],\n",
       " [20, 0.6782909389286133, 0.6729957805907173]]"
      ]
     },
     "execution_count": 212,
     "metadata": {},
     "output_type": "execute_result"
    }
   ],
   "source": [
    "acc = []\n",
    "for d in range(1,21):\n",
    "    dt = DecisionTreeClassifier(max_depth=d, criterion='entropy')\n",
    "    dt.fit(X1, y_train)\n",
    "    acc.append([d, dt.score(X1, y_train), dt.score(X2, y_test)])\n",
    "acc"
   ]
  },
  {
   "cell_type": "code",
   "execution_count": 213,
   "metadata": {},
   "outputs": [
    {
     "data": {
      "text/plain": [
       "(0.6782909389286133, 0.6729957805907173)"
      ]
     },
     "execution_count": 213,
     "metadata": {},
     "output_type": "execute_result"
    }
   ],
   "source": [
    "dt = DecisionTreeClassifier(max_depth=14, criterion='entropy')\n",
    "dt.fit(X1, y_train)\n",
    "dt.score(X1, y_train), dt.score(X2, y_test)"
   ]
  },
  {
   "cell_type": "markdown",
   "metadata": {},
   "source": [
    "## Step 8: Fairness Analysis"
   ]
  },
  {
   "cell_type": "markdown",
   "metadata": {},
   "source": [
    "In League of Legends, if you get the eighth kill and after every kill that you get, the system will display that you are legendary to other players instead of just saying you killed a enemy champion. In order to perform a fairness analysis and this game setting, I make 2 group, the first group is a position gets at least 8 kills in the game, and another group will be the rest. \n",
    "\n",
    "C: Our desicion tree classifier (1 if win the game, 0 if lose the game)\n",
    "\n",
    "A: Whether or not it was legendary (has at least 8 kills) (1 if true, 0 if false).\n",
    "\n",
    "From the observed stats, the winning rate of a position is legendary is 0.997268, and the winning rate of a position is not legendary is 0.421270. Now, let's compute the accuracy of C in each group. If these two numbers are the same, C achieves accuracy parity. However, it has False for 0.660090, and True for 0.860656.\n"
   ]
  },
  {
   "cell_type": "code",
   "execution_count": 214,
   "metadata": {
    "ExecuteTime": {
     "end_time": "2019-10-31T23:36:28.666489Z",
     "start_time": "2019-10-31T23:36:28.664381Z"
    }
   },
   "outputs": [
    {
     "data": {
      "text/plain": [
       "(0.6843114691215957, 0.6323998582063098)"
      ]
     },
     "execution_count": 214,
     "metadata": {},
     "output_type": "execute_result"
    },
    {
     "data": {
      "image/png": "[encoded data removed]",
      "text/plain": [
       "<Figure size 640x480 with 2 Axes>"
      ]
     },
     "metadata": {},
     "output_type": "display_data"
    }
   ],
   "source": [
    "from sklearn import metrics\n",
    "from sklearn.metrics import ConfusionMatrixDisplay\n",
    "ConfusionMatrixDisplay.from_estimator(dt, X2, y_test)\n",
    "y_pred = dt.predict(X2)\n",
    "precision = metrics.precision_score(y_test, y_pred)\n",
    "recall = metrics.recall_score(y_test, y_pred)\n",
    "precision, recall"
   ]
  },
  {
   "cell_type": "code",
   "execution_count": 215,
   "metadata": {},
   "outputs": [
    {
     "data": {
      "text/plain": [
       "Legendary\n",
       "False    0.421270\n",
       "True     0.997268\n",
       "Name: pred_result, dtype: float64"
      ]
     },
     "execution_count": 215,
     "metadata": {},
     "output_type": "execute_result"
    }
   ],
   "source": [
    "results = X_test\n",
    "results['true_result'] = y_test\n",
    "results['pred_result'] = y_pred\n",
    "results['Legendary'] = (results['kills'] >= 8)\n",
    "results.groupby('Legendary')['pred_result'].mean()"
   ]
  },
  {
   "cell_type": "code",
   "execution_count": 216,
   "metadata": {},
   "outputs": [
    {
     "data": {
      "text/plain": [
       "Legendary\n",
       "False    0.660090\n",
       "True     0.860656\n",
       "Name: accuracy, dtype: float64"
      ]
     },
     "execution_count": 216,
     "metadata": {},
     "output_type": "execute_result"
    }
   ],
   "source": [
    "compute_accuracy = lambda x: metrics.accuracy_score(x['true_result'], x['pred_result'])\n",
    "(\n",
    "    results\n",
    "    .groupby('Legendary')\n",
    "    .apply(compute_accuracy)\n",
    "    .rename('accuracy')\n",
    ")"
   ]
  },
  {
   "cell_type": "markdown",
   "metadata": {},
   "source": [
    "Let's run a permutation test to see if the difference in accuracy is significant.\n",
    "\n",
    "Null Hypothesis: The classifier's accuracy is the same for both who is legendary and who is not legendary, and any differences are due to chance.\n",
    "\n",
    "Alternative Hypothesis: The classifier's accuracy is higher for who is not legendary.\n",
    "\n",
    "Test statistic: Difference in accuracy (True minus False).\n",
    "\n",
    "Significance level: 0.05\n",
    "\n",
    "Since the p-value is less than my significance level, I reject the null hypothesis."
   ]
  },
  {
   "cell_type": "code",
   "execution_count": 217,
   "metadata": {},
   "outputs": [],
   "source": [
    "obs = results.groupby('Legendary').apply(compute_accuracy).diff().iloc[-1]\n",
    "diff_in_acc = []\n",
    "for _ in range(1000):\n",
    "    s = (\n",
    "        results[['Legendary', 'pred_result', 'true_result']]\n",
    "        .assign(Legendary=np.random.permutation(results['Legendary']))\n",
    "        .groupby('Legendary')\n",
    "        .apply(compute_accuracy)\n",
    "        .diff()\n",
    "        .iloc[-1]\n",
    "    )\n",
    "    \n",
    "    diff_in_acc.append(s)\n",
    "fig = pd.Series(diff_in_acc).plot(kind='hist', histnorm='probability', nbins=20,\n",
    "                            title='Difference in Accuracy (Legendary -  not Legendary)')\n",
    "fig.add_vline(x=obs, line_color='red')\n",
    "fig.add_annotation(text=f'<span style=\"color:red\">Observed = {round(obs, 2)}</span>',\n",
    "                   x= -0.02 + obs, showarrow=False, y=0.15)\n",
    "fig.write_html('FA.html', include_plotlyjs='cdn')"
   ]
  },
  {
   "cell_type": "code",
   "execution_count": 218,
   "metadata": {},
   "outputs": [
    {
     "data": {
      "text/plain": [
       "0.0"
      ]
     },
     "execution_count": 218,
     "metadata": {},
     "output_type": "execute_result"
    }
   ],
   "source": [
    "(diff_in_acc >= obs).mean()"
   ]
  },
  {
   "cell_type": "code",
   "execution_count": null,
   "metadata": {},
   "outputs": [],
   "source": []
  }
 ],
 "metadata": {
  "kernelspec": {
   "display_name": "Python 3 (ipykernel)",
   "language": "python",
   "name": "python3"
  },
  "language_info": {
   "codemirror_mode": {
    "name": "ipython",
    "version": 3
   },
   "file_extension": ".py",
   "mimetype": "text/x-python",
   "name": "python",
   "nbconvert_exporter": "python",
   "pygments_lexer": "ipython3",
   "version": "3.8.18"
  }
 },
 "nbformat": 4,
 "nbformat_minor": 2
}
