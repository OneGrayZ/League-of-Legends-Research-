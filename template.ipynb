{
 "cells": [
  {
   "cell_type": "markdown",
   "metadata": {},
   "source": [
    "# Digging into League of Legends\n",
    "\n",
    "**Name**: Yihui Zhang\n",
    "\n",
    "**Website Link**: https://onegrayz.github.io/League-of-Legends-Research-/"
   ]
  },
  {
   "cell_type": "code",
   "execution_count": 1,
   "metadata": {
    "ExecuteTime": {
     "end_time": "2019-10-31T23:36:28.652554Z",
     "start_time": "2019-10-31T23:36:27.180520Z"
    }
   },
   "outputs": [],
   "source": [
    "import pandas as pd\n",
    "import numpy as np\n",
    "from pathlib import Path\n",
    "\n",
    "import plotly.express as px\n",
    "pd.options.plotting.backend = 'plotly'\n",
    "\n",
    "# from dsc80_utils import * # Feel free to uncomment and use this."
   ]
  },
  {
   "cell_type": "markdown",
   "metadata": {},
   "source": [
    "## Step 1: Introduction"
   ]
  },
  {
   "cell_type": "markdown",
   "metadata": {},
   "source": [
    "League of Legends is a multiplayer online battle arena video game developed and published by Riot Games in 2009. This game is very popular worldwide. The format of the game is simply two teams play against each other which each team has 5 players. There are 5 roles for each team which are top line, jungle, mid line, bot line, and support. \n",
    "\n",
    "I played League of Legends for years, the first blood kill is a big thing for the game because it will give player advatanges in the game. If the player knows how to use his advatanges from the first blood, it will help the team to win much easier. My favorite position is jungle, so I am very curious in which jungle champion gets the first blood will increase team's win rate in the all professional league games. Some coaches or players either play in the professional league or play in daily rank will like to know that so they can have a better understanding of what condition they are in when the first blood kill happens.\n",
    "\n",
    "My dataset is on all of the professional League of Legends games that have taken place in 2024. The dataset contains 12 rows per game, one row per player and 2 rows of summary statistics (one for each team). \n",
    "\n",
    "The columns I am interested in to answer, “Which jungle champion gets the first blood kill will increase team's win rate” are: \"result\", \"position\", \"champion\", \"firstbloodkill\". I chose these columns because they showed me the result of the match, and which champion gets the first blood kill, which position gets the first blood kill. When I cleaned our data to isolate the games where position jungle appeared, I had 640 rows, and 4 columns.\n"
   ]
  },
  {
   "cell_type": "markdown",
   "metadata": {},
   "source": [
    "#### Descriptions of Columns\n",
    "- position: the position of game, top means top line, jng means jungle, mid means mid line, bot means bot line, and sup means support\n",
    "- champion: the champion that the player picked \n",
    "- result: 0 means defeat, 1 means victory\n",
    "- firstbooldkill: 0 means not got first blood kill, 1 means got first blood kill"
   ]
  },
  {
   "cell_type": "markdown",
   "metadata": {},
   "source": [
    "## Step 2: Data Cleaning and Exploratory Data Analysis"
   ]
  },
  {
   "cell_type": "markdown",
   "metadata": {},
   "source": [
    "### Raw Dataset"
   ]
  },
  {
   "cell_type": "code",
   "execution_count": 2,
   "metadata": {
    "ExecuteTime": {
     "end_time": "2019-10-31T23:36:28.657068Z",
     "start_time": "2019-10-31T23:36:28.654650Z"
    }
   },
   "outputs": [
    {
     "data": {
      "text/html": [
       "<div>\n",
       "<style scoped>\n",
       "    .dataframe tbody tr th:only-of-type {\n",
       "        vertical-align: middle;\n",
       "    }\n",
       "\n",
       "    .dataframe tbody tr th {\n",
       "        vertical-align: top;\n",
       "    }\n",
       "\n",
       "    .dataframe thead th {\n",
       "        text-align: right;\n",
       "    }\n",
       "</style>\n",
       "<table border=\"1\" class=\"dataframe\">\n",
       "  <thead>\n",
       "    <tr style=\"text-align: right;\">\n",
       "      <th></th>\n",
       "      <th>gameid</th>\n",
       "      <th>datacompleteness</th>\n",
       "      <th>url</th>\n",
       "      <th>league</th>\n",
       "      <th>year</th>\n",
       "      <th>split</th>\n",
       "      <th>playoffs</th>\n",
       "      <th>date</th>\n",
       "      <th>game</th>\n",
       "      <th>patch</th>\n",
       "      <th>...</th>\n",
       "      <th>opp_csat15</th>\n",
       "      <th>golddiffat15</th>\n",
       "      <th>xpdiffat15</th>\n",
       "      <th>csdiffat15</th>\n",
       "      <th>killsat15</th>\n",
       "      <th>assistsat15</th>\n",
       "      <th>deathsat15</th>\n",
       "      <th>opp_killsat15</th>\n",
       "      <th>opp_assistsat15</th>\n",
       "      <th>opp_deathsat15</th>\n",
       "    </tr>\n",
       "  </thead>\n",
       "  <tbody>\n",
       "    <tr>\n",
       "      <th>0</th>\n",
       "      <td>10660-10660_game_1</td>\n",
       "      <td>partial</td>\n",
       "      <td>https://lpl.qq.com/es/stats.shtml?bmid=10660</td>\n",
       "      <td>DCup</td>\n",
       "      <td>2023</td>\n",
       "      <td>NaN</td>\n",
       "      <td>0</td>\n",
       "      <td>2024-01-01 05:13:15</td>\n",
       "      <td>1</td>\n",
       "      <td>13.24</td>\n",
       "      <td>...</td>\n",
       "      <td>NaN</td>\n",
       "      <td>NaN</td>\n",
       "      <td>NaN</td>\n",
       "      <td>NaN</td>\n",
       "      <td>NaN</td>\n",
       "      <td>NaN</td>\n",
       "      <td>NaN</td>\n",
       "      <td>NaN</td>\n",
       "      <td>NaN</td>\n",
       "      <td>NaN</td>\n",
       "    </tr>\n",
       "    <tr>\n",
       "      <th>1</th>\n",
       "      <td>10660-10660_game_1</td>\n",
       "      <td>partial</td>\n",
       "      <td>https://lpl.qq.com/es/stats.shtml?bmid=10660</td>\n",
       "      <td>DCup</td>\n",
       "      <td>2023</td>\n",
       "      <td>NaN</td>\n",
       "      <td>0</td>\n",
       "      <td>2024-01-01 05:13:15</td>\n",
       "      <td>1</td>\n",
       "      <td>13.24</td>\n",
       "      <td>...</td>\n",
       "      <td>NaN</td>\n",
       "      <td>NaN</td>\n",
       "      <td>NaN</td>\n",
       "      <td>NaN</td>\n",
       "      <td>NaN</td>\n",
       "      <td>NaN</td>\n",
       "      <td>NaN</td>\n",
       "      <td>NaN</td>\n",
       "      <td>NaN</td>\n",
       "      <td>NaN</td>\n",
       "    </tr>\n",
       "    <tr>\n",
       "      <th>2</th>\n",
       "      <td>10660-10660_game_1</td>\n",
       "      <td>partial</td>\n",
       "      <td>https://lpl.qq.com/es/stats.shtml?bmid=10660</td>\n",
       "      <td>DCup</td>\n",
       "      <td>2023</td>\n",
       "      <td>NaN</td>\n",
       "      <td>0</td>\n",
       "      <td>2024-01-01 05:13:15</td>\n",
       "      <td>1</td>\n",
       "      <td>13.24</td>\n",
       "      <td>...</td>\n",
       "      <td>NaN</td>\n",
       "      <td>NaN</td>\n",
       "      <td>NaN</td>\n",
       "      <td>NaN</td>\n",
       "      <td>NaN</td>\n",
       "      <td>NaN</td>\n",
       "      <td>NaN</td>\n",
       "      <td>NaN</td>\n",
       "      <td>NaN</td>\n",
       "      <td>NaN</td>\n",
       "    </tr>\n",
       "    <tr>\n",
       "      <th>3</th>\n",
       "      <td>10660-10660_game_1</td>\n",
       "      <td>partial</td>\n",
       "      <td>https://lpl.qq.com/es/stats.shtml?bmid=10660</td>\n",
       "      <td>DCup</td>\n",
       "      <td>2023</td>\n",
       "      <td>NaN</td>\n",
       "      <td>0</td>\n",
       "      <td>2024-01-01 05:13:15</td>\n",
       "      <td>1</td>\n",
       "      <td>13.24</td>\n",
       "      <td>...</td>\n",
       "      <td>NaN</td>\n",
       "      <td>NaN</td>\n",
       "      <td>NaN</td>\n",
       "      <td>NaN</td>\n",
       "      <td>NaN</td>\n",
       "      <td>NaN</td>\n",
       "      <td>NaN</td>\n",
       "      <td>NaN</td>\n",
       "      <td>NaN</td>\n",
       "      <td>NaN</td>\n",
       "    </tr>\n",
       "    <tr>\n",
       "      <th>4</th>\n",
       "      <td>10660-10660_game_1</td>\n",
       "      <td>partial</td>\n",
       "      <td>https://lpl.qq.com/es/stats.shtml?bmid=10660</td>\n",
       "      <td>DCup</td>\n",
       "      <td>2023</td>\n",
       "      <td>NaN</td>\n",
       "      <td>0</td>\n",
       "      <td>2024-01-01 05:13:15</td>\n",
       "      <td>1</td>\n",
       "      <td>13.24</td>\n",
       "      <td>...</td>\n",
       "      <td>NaN</td>\n",
       "      <td>NaN</td>\n",
       "      <td>NaN</td>\n",
       "      <td>NaN</td>\n",
       "      <td>NaN</td>\n",
       "      <td>NaN</td>\n",
       "      <td>NaN</td>\n",
       "      <td>NaN</td>\n",
       "      <td>NaN</td>\n",
       "      <td>NaN</td>\n",
       "    </tr>\n",
       "  </tbody>\n",
       "</table>\n",
       "<p>5 rows × 131 columns</p>\n",
       "</div>"
      ],
      "text/plain": [
       "               gameid datacompleteness  \\\n",
       "0  10660-10660_game_1          partial   \n",
       "1  10660-10660_game_1          partial   \n",
       "2  10660-10660_game_1          partial   \n",
       "3  10660-10660_game_1          partial   \n",
       "4  10660-10660_game_1          partial   \n",
       "\n",
       "                                            url league  year split  playoffs  \\\n",
       "0  https://lpl.qq.com/es/stats.shtml?bmid=10660   DCup  2023   NaN         0   \n",
       "1  https://lpl.qq.com/es/stats.shtml?bmid=10660   DCup  2023   NaN         0   \n",
       "2  https://lpl.qq.com/es/stats.shtml?bmid=10660   DCup  2023   NaN         0   \n",
       "3  https://lpl.qq.com/es/stats.shtml?bmid=10660   DCup  2023   NaN         0   \n",
       "4  https://lpl.qq.com/es/stats.shtml?bmid=10660   DCup  2023   NaN         0   \n",
       "\n",
       "                  date  game  patch  ...  opp_csat15 golddiffat15 xpdiffat15  \\\n",
       "0  2024-01-01 05:13:15     1  13.24  ...         NaN          NaN        NaN   \n",
       "1  2024-01-01 05:13:15     1  13.24  ...         NaN          NaN        NaN   \n",
       "2  2024-01-01 05:13:15     1  13.24  ...         NaN          NaN        NaN   \n",
       "3  2024-01-01 05:13:15     1  13.24  ...         NaN          NaN        NaN   \n",
       "4  2024-01-01 05:13:15     1  13.24  ...         NaN          NaN        NaN   \n",
       "\n",
       "  csdiffat15 killsat15 assistsat15 deathsat15 opp_killsat15 opp_assistsat15  \\\n",
       "0        NaN       NaN         NaN        NaN           NaN             NaN   \n",
       "1        NaN       NaN         NaN        NaN           NaN             NaN   \n",
       "2        NaN       NaN         NaN        NaN           NaN             NaN   \n",
       "3        NaN       NaN         NaN        NaN           NaN             NaN   \n",
       "4        NaN       NaN         NaN        NaN           NaN             NaN   \n",
       "\n",
       "  opp_deathsat15  \n",
       "0            NaN  \n",
       "1            NaN  \n",
       "2            NaN  \n",
       "3            NaN  \n",
       "4            NaN  \n",
       "\n",
       "[5 rows x 131 columns]"
      ]
     },
     "execution_count": 2,
     "metadata": {},
     "output_type": "execute_result"
    }
   ],
   "source": [
    "df = pd.read_csv('2024_LoL_esports_match_data_from_OraclesElixir.csv')\n",
    "df.head()"
   ]
  },
  {
   "cell_type": "markdown",
   "metadata": {},
   "source": [
    "### Data cleaning:\n",
    "First of all, I only gets the columns that help to answer my question from the dataset which are 'position', 'champion', 'result', and 'firstbloodkill'. In the position columns, other than the 5 roles of the game which are top, jng, mid, bot, sup, there is another value called 'team' which I do not want. In addition, because I only care about the position, so I only have 'jng' in my position column. I also need to filter out the firstbloodkill column because I only care about the win rate when the champion got the first blood kill. I also realize that the 'result' and 'firstbloodkill' columns should be boolean values instead of integers, so I convert them to the right type. Then I check if there are any missing values now in each columns, and the output shows there is not empty cells in my dataset."
   ]
  },
  {
   "cell_type": "code",
   "execution_count": 3,
   "metadata": {},
   "outputs": [
    {
     "data": {
      "text/html": [
       "<div>\n",
       "<style scoped>\n",
       "    .dataframe tbody tr th:only-of-type {\n",
       "        vertical-align: middle;\n",
       "    }\n",
       "\n",
       "    .dataframe tbody tr th {\n",
       "        vertical-align: top;\n",
       "    }\n",
       "\n",
       "    .dataframe thead th {\n",
       "        text-align: right;\n",
       "    }\n",
       "</style>\n",
       "<table border=\"1\" class=\"dataframe\">\n",
       "  <thead>\n",
       "    <tr style=\"text-align: right;\">\n",
       "      <th></th>\n",
       "      <th>position</th>\n",
       "      <th>champion</th>\n",
       "      <th>result</th>\n",
       "      <th>firstbloodkill</th>\n",
       "    </tr>\n",
       "  </thead>\n",
       "  <tbody>\n",
       "    <tr>\n",
       "      <th>0</th>\n",
       "      <td>top</td>\n",
       "      <td>Aatrox</td>\n",
       "      <td>0</td>\n",
       "      <td>0.0</td>\n",
       "    </tr>\n",
       "    <tr>\n",
       "      <th>1</th>\n",
       "      <td>jng</td>\n",
       "      <td>Maokai</td>\n",
       "      <td>0</td>\n",
       "      <td>0.0</td>\n",
       "    </tr>\n",
       "    <tr>\n",
       "      <th>2</th>\n",
       "      <td>mid</td>\n",
       "      <td>Orianna</td>\n",
       "      <td>0</td>\n",
       "      <td>0.0</td>\n",
       "    </tr>\n",
       "    <tr>\n",
       "      <th>3</th>\n",
       "      <td>bot</td>\n",
       "      <td>Kalista</td>\n",
       "      <td>0</td>\n",
       "      <td>0.0</td>\n",
       "    </tr>\n",
       "    <tr>\n",
       "      <th>4</th>\n",
       "      <td>sup</td>\n",
       "      <td>Senna</td>\n",
       "      <td>0</td>\n",
       "      <td>0.0</td>\n",
       "    </tr>\n",
       "  </tbody>\n",
       "</table>\n",
       "</div>"
      ],
      "text/plain": [
       "  position champion  result  firstbloodkill\n",
       "0      top   Aatrox       0             0.0\n",
       "1      jng   Maokai       0             0.0\n",
       "2      mid  Orianna       0             0.0\n",
       "3      bot  Kalista       0             0.0\n",
       "4      sup    Senna       0             0.0"
      ]
     },
     "execution_count": 3,
     "metadata": {},
     "output_type": "execute_result"
    }
   ],
   "source": [
    "df = df[['position', 'champion', 'result', 'firstbloodkill']]\n",
    "df.head()\n"
   ]
  },
  {
   "cell_type": "code",
   "execution_count": 4,
   "metadata": {},
   "outputs": [
    {
     "data": {
      "text/html": [
       "<div>\n",
       "<style scoped>\n",
       "    .dataframe tbody tr th:only-of-type {\n",
       "        vertical-align: middle;\n",
       "    }\n",
       "\n",
       "    .dataframe tbody tr th {\n",
       "        vertical-align: top;\n",
       "    }\n",
       "\n",
       "    .dataframe thead th {\n",
       "        text-align: right;\n",
       "    }\n",
       "</style>\n",
       "<table border=\"1\" class=\"dataframe\">\n",
       "  <thead>\n",
       "    <tr style=\"text-align: right;\">\n",
       "      <th></th>\n",
       "      <th>position</th>\n",
       "      <th>champion</th>\n",
       "      <th>result</th>\n",
       "      <th>firstbloodkill</th>\n",
       "    </tr>\n",
       "  </thead>\n",
       "  <tbody>\n",
       "    <tr>\n",
       "      <th>25</th>\n",
       "      <td>jng</td>\n",
       "      <td>Bel'Veth</td>\n",
       "      <td>True</td>\n",
       "      <td>True</td>\n",
       "    </tr>\n",
       "    <tr>\n",
       "      <th>37</th>\n",
       "      <td>jng</td>\n",
       "      <td>Jarvan IV</td>\n",
       "      <td>True</td>\n",
       "      <td>True</td>\n",
       "    </tr>\n",
       "    <tr>\n",
       "      <th>73</th>\n",
       "      <td>jng</td>\n",
       "      <td>Nocturne</td>\n",
       "      <td>True</td>\n",
       "      <td>True</td>\n",
       "    </tr>\n",
       "    <tr>\n",
       "      <th>85</th>\n",
       "      <td>jng</td>\n",
       "      <td>Jarvan IV</td>\n",
       "      <td>True</td>\n",
       "      <td>True</td>\n",
       "    </tr>\n",
       "    <tr>\n",
       "      <th>126</th>\n",
       "      <td>jng</td>\n",
       "      <td>Lee Sin</td>\n",
       "      <td>True</td>\n",
       "      <td>True</td>\n",
       "    </tr>\n",
       "  </tbody>\n",
       "</table>\n",
       "</div>"
      ],
      "text/plain": [
       "    position   champion  result  firstbloodkill\n",
       "25       jng   Bel'Veth    True            True\n",
       "37       jng  Jarvan IV    True            True\n",
       "73       jng   Nocturne    True            True\n",
       "85       jng  Jarvan IV    True            True\n",
       "126      jng    Lee Sin    True            True"
      ]
     },
     "execution_count": 4,
     "metadata": {},
     "output_type": "execute_result"
    }
   ],
   "source": [
    "df = df[df['position'] == 'jng']\n",
    "df = df[df['firstbloodkill'] == 1]\n",
    "df['result'] = df['result'].apply(lambda x : bool(x))\n",
    "df['firstbloodkill'] = df['firstbloodkill'].apply(lambda x : bool(x))\n",
    "df.head()"
   ]
  },
  {
   "cell_type": "code",
   "execution_count": 5,
   "metadata": {},
   "outputs": [
    {
     "data": {
      "text/plain": [
       "position          0\n",
       "champion          0\n",
       "result            0\n",
       "firstbloodkill    0\n",
       "dtype: int64"
      ]
     },
     "execution_count": 5,
     "metadata": {},
     "output_type": "execute_result"
    }
   ],
   "source": [
    "df.isna().sum()"
   ]
  },
  {
   "cell_type": "markdown",
   "metadata": {},
   "source": [
    "### Univariate Analysis:\n",
    "First, let's look at all jungle champions' win rate when by drawing graph. This pie graph shows that the win rate of all jungle champions when they get the firstblood. Based on this graph, when a jungle champion gets the first blood kill, the team will have almost 60% to win. "
   ]
  },
  {
   "cell_type": "code",
   "execution_count": 6,
   "metadata": {},
   "outputs": [
    {
     "data": {
      "application/vnd.plotly.v1+json": {
       "config": {
        "plotlyServerURL": "https://plot.ly"
       },
       "data": [
        {
         "domain": {
          "x": [
           0,
           1
          ],
          "y": [
           0,
           1
          ]
         },
         "hovertemplate": "result=%{label}<br>firstbloodkill=%{value}<extra></extra>",
         "labels": [
          "victory",
          "victory",
          "victory",
          "victory",
          "victory",
          "defeat",
          "defeat",
          "victory",
          "victory",
          "victory",
          "victory",
          "victory",
          "victory",
          "defeat",
          "defeat",
          "victory",
          "defeat",
          "victory",
          "victory",
          "victory",
          "defeat",
          "victory",
          "defeat",
          "defeat",
          "defeat",
          "victory",
          "defeat",
          "victory",
          "victory",
          "defeat",
          "victory",
          "victory",
          "victory",
          "victory",
          "victory",
          "defeat",
          "victory",
          "defeat",
          "victory",
          "victory",
          "victory",
          "victory",
          "defeat",
          "defeat",
          "victory",
          "victory",
          "victory",
          "defeat",
          "defeat",
          "defeat",
          "defeat",
          "victory",
          "defeat",
          "victory",
          "defeat",
          "victory",
          "victory",
          "defeat",
          "victory",
          "victory",
          "defeat",
          "defeat",
          "victory",
          "defeat",
          "victory",
          "victory",
          "defeat",
          "victory",
          "victory",
          "defeat",
          "victory",
          "victory",
          "victory",
          "victory",
          "victory",
          "victory",
          "defeat",
          "victory",
          "defeat",
          "victory",
          "victory",
          "defeat",
          "victory",
          "victory",
          "victory",
          "victory",
          "victory",
          "victory",
          "defeat",
          "victory",
          "defeat",
          "defeat",
          "defeat",
          "victory",
          "victory",
          "victory",
          "victory",
          "victory",
          "victory",
          "victory",
          "defeat",
          "victory",
          "defeat",
          "defeat",
          "defeat",
          "victory",
          "defeat",
          "victory",
          "victory",
          "defeat",
          "victory",
          "victory",
          "victory",
          "victory",
          "victory",
          "defeat",
          "victory",
          "defeat",
          "victory",
          "victory",
          "victory",
          "victory",
          "defeat",
          "victory",
          "victory",
          "defeat",
          "defeat",
          "victory",
          "victory",
          "victory",
          "defeat",
          "defeat",
          "victory",
          "victory",
          "defeat",
          "defeat",
          "victory",
          "victory",
          "victory",
          "victory",
          "victory",
          "victory",
          "victory",
          "victory",
          "victory",
          "victory",
          "defeat",
          "victory",
          "defeat",
          "victory",
          "victory",
          "defeat",
          "victory",
          "defeat",
          "victory",
          "defeat",
          "victory",
          "victory",
          "defeat",
          "victory",
          "victory",
          "victory",
          "victory",
          "defeat",
          "victory",
          "defeat",
          "victory",
          "victory",
          "victory",
          "victory",
          "victory",
          "victory",
          "victory",
          "defeat",
          "defeat",
          "victory",
          "victory",
          "defeat",
          "victory",
          "defeat",
          "victory",
          "defeat",
          "victory",
          "victory",
          "victory",
          "defeat",
          "defeat",
          "defeat",
          "defeat",
          "victory",
          "defeat",
          "defeat",
          "defeat",
          "defeat",
          "victory",
          "victory",
          "victory",
          "defeat",
          "victory",
          "victory",
          "victory",
          "defeat",
          "defeat",
          "victory",
          "defeat",
          "victory",
          "defeat",
          "victory",
          "defeat",
          "defeat",
          "victory",
          "victory",
          "victory",
          "victory",
          "defeat",
          "defeat",
          "victory",
          "victory",
          "defeat",
          "victory",
          "victory",
          "defeat",
          "victory",
          "victory",
          "victory",
          "defeat",
          "victory",
          "victory",
          "victory",
          "victory",
          "victory",
          "defeat",
          "victory",
          "victory",
          "victory",
          "defeat",
          "victory",
          "victory",
          "victory",
          "victory",
          "defeat",
          "victory",
          "defeat",
          "defeat",
          "victory",
          "defeat",
          "victory",
          "victory",
          "victory",
          "defeat",
          "victory",
          "victory",
          "defeat",
          "victory",
          "victory",
          "defeat",
          "victory",
          "victory",
          "victory",
          "victory",
          "victory",
          "defeat",
          "defeat",
          "defeat",
          "defeat",
          "defeat",
          "victory",
          "victory",
          "defeat",
          "victory",
          "defeat",
          "victory",
          "victory",
          "defeat",
          "defeat",
          "victory",
          "victory",
          "defeat",
          "victory",
          "victory",
          "defeat",
          "victory",
          "defeat",
          "victory",
          "victory",
          "defeat",
          "defeat",
          "victory",
          "defeat",
          "victory",
          "defeat",
          "defeat",
          "defeat",
          "victory",
          "defeat",
          "defeat",
          "victory",
          "defeat",
          "defeat",
          "victory",
          "victory",
          "defeat",
          "victory",
          "defeat",
          "victory",
          "defeat",
          "victory",
          "defeat",
          "victory",
          "victory",
          "victory",
          "victory",
          "victory",
          "victory",
          "victory",
          "defeat",
          "victory",
          "defeat",
          "victory",
          "victory",
          "defeat",
          "victory",
          "defeat",
          "victory",
          "victory",
          "defeat",
          "defeat",
          "defeat",
          "victory",
          "defeat",
          "victory",
          "victory",
          "victory",
          "victory",
          "defeat",
          "victory",
          "victory",
          "victory",
          "victory",
          "defeat",
          "victory",
          "victory",
          "defeat",
          "defeat",
          "victory",
          "defeat",
          "defeat",
          "victory",
          "victory",
          "victory",
          "defeat",
          "defeat",
          "defeat",
          "defeat",
          "victory",
          "defeat",
          "defeat",
          "defeat",
          "victory",
          "defeat",
          "victory",
          "defeat",
          "victory",
          "victory",
          "victory",
          "defeat",
          "victory",
          "victory",
          "victory",
          "victory",
          "victory",
          "victory",
          "defeat",
          "defeat",
          "defeat",
          "defeat",
          "victory",
          "victory",
          "victory",
          "defeat",
          "victory",
          "victory",
          "victory",
          "victory",
          "defeat",
          "defeat",
          "defeat",
          "defeat",
          "victory",
          "victory",
          "victory",
          "defeat",
          "defeat",
          "defeat",
          "victory",
          "victory",
          "defeat",
          "victory",
          "defeat",
          "victory",
          "defeat",
          "defeat",
          "defeat",
          "defeat",
          "defeat",
          "defeat",
          "defeat",
          "victory",
          "defeat",
          "victory",
          "defeat",
          "victory",
          "defeat",
          "defeat",
          "victory",
          "defeat",
          "defeat",
          "defeat",
          "defeat",
          "defeat",
          "defeat",
          "victory",
          "defeat",
          "victory",
          "victory",
          "defeat",
          "defeat",
          "victory",
          "victory",
          "victory",
          "defeat",
          "defeat",
          "victory",
          "victory",
          "defeat",
          "defeat",
          "victory",
          "defeat",
          "victory",
          "victory",
          "defeat",
          "defeat",
          "defeat",
          "victory",
          "victory",
          "defeat",
          "defeat",
          "defeat",
          "defeat",
          "victory",
          "victory",
          "victory",
          "victory",
          "victory",
          "victory",
          "defeat",
          "victory",
          "victory",
          "victory",
          "victory",
          "victory",
          "victory",
          "victory",
          "defeat",
          "victory",
          "victory",
          "victory",
          "defeat",
          "victory",
          "victory",
          "defeat",
          "defeat",
          "defeat",
          "victory",
          "defeat",
          "defeat",
          "defeat",
          "victory",
          "victory",
          "victory",
          "defeat",
          "victory",
          "defeat",
          "defeat",
          "victory",
          "victory",
          "defeat",
          "defeat",
          "defeat",
          "victory",
          "victory",
          "defeat",
          "victory",
          "defeat",
          "defeat",
          "defeat",
          "defeat",
          "victory",
          "victory",
          "victory",
          "victory",
          "victory",
          "victory",
          "victory",
          "victory",
          "victory",
          "defeat",
          "defeat",
          "victory",
          "defeat",
          "victory",
          "defeat",
          "defeat",
          "victory",
          "victory",
          "defeat",
          "defeat",
          "defeat",
          "defeat",
          "defeat",
          "defeat",
          "defeat",
          "victory",
          "victory",
          "victory",
          "defeat",
          "victory",
          "victory",
          "victory",
          "defeat",
          "defeat",
          "victory",
          "defeat",
          "victory",
          "victory",
          "defeat",
          "victory",
          "victory",
          "defeat",
          "victory",
          "defeat",
          "victory",
          "defeat",
          "victory",
          "defeat",
          "defeat",
          "victory",
          "victory",
          "defeat",
          "victory",
          "defeat",
          "defeat",
          "victory",
          "victory",
          "victory",
          "defeat",
          "defeat",
          "victory",
          "victory",
          "victory",
          "defeat",
          "victory",
          "victory",
          "victory",
          "victory",
          "victory",
          "victory",
          "victory",
          "victory",
          "victory",
          "victory",
          "victory",
          "victory",
          "victory",
          "defeat",
          "defeat",
          "defeat",
          "victory",
          "victory",
          "victory",
          "victory",
          "defeat",
          "victory",
          "defeat",
          "victory",
          "victory",
          "defeat",
          "victory",
          "victory",
          "victory",
          "victory",
          "victory",
          "victory",
          "victory",
          "defeat",
          "victory",
          "victory",
          "defeat",
          "defeat",
          "victory",
          "victory",
          "victory",
          "defeat",
          "victory",
          "defeat",
          "victory",
          "victory",
          "defeat",
          "defeat",
          "victory",
          "defeat",
          "victory",
          "victory",
          "victory",
          "victory",
          "victory",
          "defeat",
          "defeat",
          "victory",
          "victory",
          "victory",
          "defeat",
          "victory",
          "victory",
          "victory",
          "victory",
          "victory",
          "victory",
          "victory",
          "defeat",
          "defeat",
          "defeat",
          "victory",
          "victory",
          "defeat",
          "victory",
          "defeat",
          "defeat",
          "defeat",
          "victory"
         ],
         "legendgroup": "",
         "name": "",
         "showlegend": true,
         "type": "pie",
         "values": [
          1,
          1,
          1,
          1,
          1,
          1,
          1,
          1,
          1,
          1,
          1,
          1,
          1,
          1,
          1,
          1,
          1,
          1,
          1,
          1,
          1,
          1,
          1,
          1,
          1,
          1,
          1,
          1,
          1,
          1,
          1,
          1,
          1,
          1,
          1,
          1,
          1,
          1,
          1,
          1,
          1,
          1,
          1,
          1,
          1,
          1,
          1,
          1,
          1,
          1,
          1,
          1,
          1,
          1,
          1,
          1,
          1,
          1,
          1,
          1,
          1,
          1,
          1,
          1,
          1,
          1,
          1,
          1,
          1,
          1,
          1,
          1,
          1,
          1,
          1,
          1,
          1,
          1,
          1,
          1,
          1,
          1,
          1,
          1,
          1,
          1,
          1,
          1,
          1,
          1,
          1,
          1,
          1,
          1,
          1,
          1,
          1,
          1,
          1,
          1,
          1,
          1,
          1,
          1,
          1,
          1,
          1,
          1,
          1,
          1,
          1,
          1,
          1,
          1,
          1,
          1,
          1,
          1,
          1,
          1,
          1,
          1,
          1,
          1,
          1,
          1,
          1,
          1,
          1,
          1,
          1,
          1,
          1,
          1,
          1,
          1,
          1,
          1,
          1,
          1,
          1,
          1,
          1,
          1,
          1,
          1,
          1,
          1,
          1,
          1,
          1,
          1,
          1,
          1,
          1,
          1,
          1,
          1,
          1,
          1,
          1,
          1,
          1,
          1,
          1,
          1,
          1,
          1,
          1,
          1,
          1,
          1,
          1,
          1,
          1,
          1,
          1,
          1,
          1,
          1,
          1,
          1,
          1,
          1,
          1,
          1,
          1,
          1,
          1,
          1,
          1,
          1,
          1,
          1,
          1,
          1,
          1,
          1,
          1,
          1,
          1,
          1,
          1,
          1,
          1,
          1,
          1,
          1,
          1,
          1,
          1,
          1,
          1,
          1,
          1,
          1,
          1,
          1,
          1,
          1,
          1,
          1,
          1,
          1,
          1,
          1,
          1,
          1,
          1,
          1,
          1,
          1,
          1,
          1,
          1,
          1,
          1,
          1,
          1,
          1,
          1,
          1,
          1,
          1,
          1,
          1,
          1,
          1,
          1,
          1,
          1,
          1,
          1,
          1,
          1,
          1,
          1,
          1,
          1,
          1,
          1,
          1,
          1,
          1,
          1,
          1,
          1,
          1,
          1,
          1,
          1,
          1,
          1,
          1,
          1,
          1,
          1,
          1,
          1,
          1,
          1,
          1,
          1,
          1,
          1,
          1,
          1,
          1,
          1,
          1,
          1,
          1,
          1,
          1,
          1,
          1,
          1,
          1,
          1,
          1,
          1,
          1,
          1,
          1,
          1,
          1,
          1,
          1,
          1,
          1,
          1,
          1,
          1,
          1,
          1,
          1,
          1,
          1,
          1,
          1,
          1,
          1,
          1,
          1,
          1,
          1,
          1,
          1,
          1,
          1,
          1,
          1,
          1,
          1,
          1,
          1,
          1,
          1,
          1,
          1,
          1,
          1,
          1,
          1,
          1,
          1,
          1,
          1,
          1,
          1,
          1,
          1,
          1,
          1,
          1,
          1,
          1,
          1,
          1,
          1,
          1,
          1,
          1,
          1,
          1,
          1,
          1,
          1,
          1,
          1,
          1,
          1,
          1,
          1,
          1,
          1,
          1,
          1,
          1,
          1,
          1,
          1,
          1,
          1,
          1,
          1,
          1,
          1,
          1,
          1,
          1,
          1,
          1,
          1,
          1,
          1,
          1,
          1,
          1,
          1,
          1,
          1,
          1,
          1,
          1,
          1,
          1,
          1,
          1,
          1,
          1,
          1,
          1,
          1,
          1,
          1,
          1,
          1,
          1,
          1,
          1,
          1,
          1,
          1,
          1,
          1,
          1,
          1,
          1,
          1,
          1,
          1,
          1,
          1,
          1,
          1,
          1,
          1,
          1,
          1,
          1,
          1,
          1,
          1,
          1,
          1,
          1,
          1,
          1,
          1,
          1,
          1,
          1,
          1,
          1,
          1,
          1,
          1,
          1,
          1,
          1,
          1,
          1,
          1,
          1,
          1,
          1,
          1,
          1,
          1,
          1,
          1,
          1,
          1,
          1,
          1,
          1,
          1,
          1,
          1,
          1,
          1,
          1,
          1,
          1,
          1,
          1,
          1,
          1,
          1,
          1,
          1,
          1,
          1,
          1,
          1,
          1,
          1,
          1,
          1,
          1,
          1,
          1,
          1,
          1,
          1,
          1,
          1,
          1,
          1,
          1,
          1,
          1,
          1,
          1,
          1,
          1,
          1,
          1,
          1,
          1,
          1,
          1,
          1,
          1,
          1,
          1,
          1,
          1,
          1,
          1,
          1,
          1,
          1,
          1,
          1,
          1,
          1,
          1,
          1,
          1,
          1,
          1,
          1,
          1,
          1,
          1,
          1,
          1,
          1,
          1,
          1,
          1,
          1,
          1,
          1,
          1,
          1,
          1,
          1,
          1,
          1,
          1,
          1,
          1,
          1,
          1,
          1,
          1,
          1,
          1,
          1,
          1,
          1,
          1,
          1,
          1,
          1,
          1,
          1,
          1,
          1,
          1,
          1,
          1,
          1,
          1,
          1,
          1,
          1,
          1,
          1,
          1,
          1,
          1,
          1,
          1,
          1,
          1,
          1,
          1,
          1,
          1,
          1,
          1,
          1,
          1,
          1,
          1,
          1,
          1,
          1,
          1,
          1,
          1,
          1,
          1,
          1,
          1,
          1,
          1,
          1,
          1,
          1,
          1,
          1,
          1,
          1,
          1,
          1,
          1,
          1,
          1,
          1,
          1,
          1,
          1,
          1,
          1,
          1
         ]
        }
       ],
       "layout": {
        "legend": {
         "tracegroupgap": 0
        },
        "template": {
         "data": {
          "bar": [
           {
            "error_x": {
             "color": "#2a3f5f"
            },
            "error_y": {
             "color": "#2a3f5f"
            },
            "marker": {
             "line": {
              "color": "#E5ECF6",
              "width": 0.5
             },
             "pattern": {
              "fillmode": "overlay",
              "size": 10,
              "solidity": 0.2
             }
            },
            "type": "bar"
           }
          ],
          "barpolar": [
           {
            "marker": {
             "line": {
              "color": "#E5ECF6",
              "width": 0.5
             },
             "pattern": {
              "fillmode": "overlay",
              "size": 10,
              "solidity": 0.2
             }
            },
            "type": "barpolar"
           }
          ],
          "carpet": [
           {
            "aaxis": {
             "endlinecolor": "#2a3f5f",
             "gridcolor": "white",
             "linecolor": "white",
             "minorgridcolor": "white",
             "startlinecolor": "#2a3f5f"
            },
            "baxis": {
             "endlinecolor": "#2a3f5f",
             "gridcolor": "white",
             "linecolor": "white",
             "minorgridcolor": "white",
             "startlinecolor": "#2a3f5f"
            },
            "type": "carpet"
           }
          ],
          "choropleth": [
           {
            "colorbar": {
             "outlinewidth": 0,
             "ticks": ""
            },
            "type": "choropleth"
           }
          ],
          "contour": [
           {
            "colorbar": {
             "outlinewidth": 0,
             "ticks": ""
            },
            "colorscale": [
             [
              0,
              "#0d0887"
             ],
             [
              0.1111111111111111,
              "#46039f"
             ],
             [
              0.2222222222222222,
              "#7201a8"
             ],
             [
              0.3333333333333333,
              "#9c179e"
             ],
             [
              0.4444444444444444,
              "#bd3786"
             ],
             [
              0.5555555555555556,
              "#d8576b"
             ],
             [
              0.6666666666666666,
              "#ed7953"
             ],
             [
              0.7777777777777778,
              "#fb9f3a"
             ],
             [
              0.8888888888888888,
              "#fdca26"
             ],
             [
              1,
              "#f0f921"
             ]
            ],
            "type": "contour"
           }
          ],
          "contourcarpet": [
           {
            "colorbar": {
             "outlinewidth": 0,
             "ticks": ""
            },
            "type": "contourcarpet"
           }
          ],
          "heatmap": [
           {
            "colorbar": {
             "outlinewidth": 0,
             "ticks": ""
            },
            "colorscale": [
             [
              0,
              "#0d0887"
             ],
             [
              0.1111111111111111,
              "#46039f"
             ],
             [
              0.2222222222222222,
              "#7201a8"
             ],
             [
              0.3333333333333333,
              "#9c179e"
             ],
             [
              0.4444444444444444,
              "#bd3786"
             ],
             [
              0.5555555555555556,
              "#d8576b"
             ],
             [
              0.6666666666666666,
              "#ed7953"
             ],
             [
              0.7777777777777778,
              "#fb9f3a"
             ],
             [
              0.8888888888888888,
              "#fdca26"
             ],
             [
              1,
              "#f0f921"
             ]
            ],
            "type": "heatmap"
           }
          ],
          "heatmapgl": [
           {
            "colorbar": {
             "outlinewidth": 0,
             "ticks": ""
            },
            "colorscale": [
             [
              0,
              "#0d0887"
             ],
             [
              0.1111111111111111,
              "#46039f"
             ],
             [
              0.2222222222222222,
              "#7201a8"
             ],
             [
              0.3333333333333333,
              "#9c179e"
             ],
             [
              0.4444444444444444,
              "#bd3786"
             ],
             [
              0.5555555555555556,
              "#d8576b"
             ],
             [
              0.6666666666666666,
              "#ed7953"
             ],
             [
              0.7777777777777778,
              "#fb9f3a"
             ],
             [
              0.8888888888888888,
              "#fdca26"
             ],
             [
              1,
              "#f0f921"
             ]
            ],
            "type": "heatmapgl"
           }
          ],
          "histogram": [
           {
            "marker": {
             "pattern": {
              "fillmode": "overlay",
              "size": 10,
              "solidity": 0.2
             }
            },
            "type": "histogram"
           }
          ],
          "histogram2d": [
           {
            "colorbar": {
             "outlinewidth": 0,
             "ticks": ""
            },
            "colorscale": [
             [
              0,
              "#0d0887"
             ],
             [
              0.1111111111111111,
              "#46039f"
             ],
             [
              0.2222222222222222,
              "#7201a8"
             ],
             [
              0.3333333333333333,
              "#9c179e"
             ],
             [
              0.4444444444444444,
              "#bd3786"
             ],
             [
              0.5555555555555556,
              "#d8576b"
             ],
             [
              0.6666666666666666,
              "#ed7953"
             ],
             [
              0.7777777777777778,
              "#fb9f3a"
             ],
             [
              0.8888888888888888,
              "#fdca26"
             ],
             [
              1,
              "#f0f921"
             ]
            ],
            "type": "histogram2d"
           }
          ],
          "histogram2dcontour": [
           {
            "colorbar": {
             "outlinewidth": 0,
             "ticks": ""
            },
            "colorscale": [
             [
              0,
              "#0d0887"
             ],
             [
              0.1111111111111111,
              "#46039f"
             ],
             [
              0.2222222222222222,
              "#7201a8"
             ],
             [
              0.3333333333333333,
              "#9c179e"
             ],
             [
              0.4444444444444444,
              "#bd3786"
             ],
             [
              0.5555555555555556,
              "#d8576b"
             ],
             [
              0.6666666666666666,
              "#ed7953"
             ],
             [
              0.7777777777777778,
              "#fb9f3a"
             ],
             [
              0.8888888888888888,
              "#fdca26"
             ],
             [
              1,
              "#f0f921"
             ]
            ],
            "type": "histogram2dcontour"
           }
          ],
          "mesh3d": [
           {
            "colorbar": {
             "outlinewidth": 0,
             "ticks": ""
            },
            "type": "mesh3d"
           }
          ],
          "parcoords": [
           {
            "line": {
             "colorbar": {
              "outlinewidth": 0,
              "ticks": ""
             }
            },
            "type": "parcoords"
           }
          ],
          "pie": [
           {
            "automargin": true,
            "type": "pie"
           }
          ],
          "scatter": [
           {
            "fillpattern": {
             "fillmode": "overlay",
             "size": 10,
             "solidity": 0.2
            },
            "type": "scatter"
           }
          ],
          "scatter3d": [
           {
            "line": {
             "colorbar": {
              "outlinewidth": 0,
              "ticks": ""
             }
            },
            "marker": {
             "colorbar": {
              "outlinewidth": 0,
              "ticks": ""
             }
            },
            "type": "scatter3d"
           }
          ],
          "scattercarpet": [
           {
            "marker": {
             "colorbar": {
              "outlinewidth": 0,
              "ticks": ""
             }
            },
            "type": "scattercarpet"
           }
          ],
          "scattergeo": [
           {
            "marker": {
             "colorbar": {
              "outlinewidth": 0,
              "ticks": ""
             }
            },
            "type": "scattergeo"
           }
          ],
          "scattergl": [
           {
            "marker": {
             "colorbar": {
              "outlinewidth": 0,
              "ticks": ""
             }
            },
            "type": "scattergl"
           }
          ],
          "scattermapbox": [
           {
            "marker": {
             "colorbar": {
              "outlinewidth": 0,
              "ticks": ""
             }
            },
            "type": "scattermapbox"
           }
          ],
          "scatterpolar": [
           {
            "marker": {
             "colorbar": {
              "outlinewidth": 0,
              "ticks": ""
             }
            },
            "type": "scatterpolar"
           }
          ],
          "scatterpolargl": [
           {
            "marker": {
             "colorbar": {
              "outlinewidth": 0,
              "ticks": ""
             }
            },
            "type": "scatterpolargl"
           }
          ],
          "scatterternary": [
           {
            "marker": {
             "colorbar": {
              "outlinewidth": 0,
              "ticks": ""
             }
            },
            "type": "scatterternary"
           }
          ],
          "surface": [
           {
            "colorbar": {
             "outlinewidth": 0,
             "ticks": ""
            },
            "colorscale": [
             [
              0,
              "#0d0887"
             ],
             [
              0.1111111111111111,
              "#46039f"
             ],
             [
              0.2222222222222222,
              "#7201a8"
             ],
             [
              0.3333333333333333,
              "#9c179e"
             ],
             [
              0.4444444444444444,
              "#bd3786"
             ],
             [
              0.5555555555555556,
              "#d8576b"
             ],
             [
              0.6666666666666666,
              "#ed7953"
             ],
             [
              0.7777777777777778,
              "#fb9f3a"
             ],
             [
              0.8888888888888888,
              "#fdca26"
             ],
             [
              1,
              "#f0f921"
             ]
            ],
            "type": "surface"
           }
          ],
          "table": [
           {
            "cells": {
             "fill": {
              "color": "#EBF0F8"
             },
             "line": {
              "color": "white"
             }
            },
            "header": {
             "fill": {
              "color": "#C8D4E3"
             },
             "line": {
              "color": "white"
             }
            },
            "type": "table"
           }
          ]
         },
         "layout": {
          "annotationdefaults": {
           "arrowcolor": "#2a3f5f",
           "arrowhead": 0,
           "arrowwidth": 1
          },
          "autotypenumbers": "strict",
          "coloraxis": {
           "colorbar": {
            "outlinewidth": 0,
            "ticks": ""
           }
          },
          "colorscale": {
           "diverging": [
            [
             0,
             "#8e0152"
            ],
            [
             0.1,
             "#c51b7d"
            ],
            [
             0.2,
             "#de77ae"
            ],
            [
             0.3,
             "#f1b6da"
            ],
            [
             0.4,
             "#fde0ef"
            ],
            [
             0.5,
             "#f7f7f7"
            ],
            [
             0.6,
             "#e6f5d0"
            ],
            [
             0.7,
             "#b8e186"
            ],
            [
             0.8,
             "#7fbc41"
            ],
            [
             0.9,
             "#4d9221"
            ],
            [
             1,
             "#276419"
            ]
           ],
           "sequential": [
            [
             0,
             "#0d0887"
            ],
            [
             0.1111111111111111,
             "#46039f"
            ],
            [
             0.2222222222222222,
             "#7201a8"
            ],
            [
             0.3333333333333333,
             "#9c179e"
            ],
            [
             0.4444444444444444,
             "#bd3786"
            ],
            [
             0.5555555555555556,
             "#d8576b"
            ],
            [
             0.6666666666666666,
             "#ed7953"
            ],
            [
             0.7777777777777778,
             "#fb9f3a"
            ],
            [
             0.8888888888888888,
             "#fdca26"
            ],
            [
             1,
             "#f0f921"
            ]
           ],
           "sequentialminus": [
            [
             0,
             "#0d0887"
            ],
            [
             0.1111111111111111,
             "#46039f"
            ],
            [
             0.2222222222222222,
             "#7201a8"
            ],
            [
             0.3333333333333333,
             "#9c179e"
            ],
            [
             0.4444444444444444,
             "#bd3786"
            ],
            [
             0.5555555555555556,
             "#d8576b"
            ],
            [
             0.6666666666666666,
             "#ed7953"
            ],
            [
             0.7777777777777778,
             "#fb9f3a"
            ],
            [
             0.8888888888888888,
             "#fdca26"
            ],
            [
             1,
             "#f0f921"
            ]
           ]
          },
          "colorway": [
           "#636efa",
           "#EF553B",
           "#00cc96",
           "#ab63fa",
           "#FFA15A",
           "#19d3f3",
           "#FF6692",
           "#B6E880",
           "#FF97FF",
           "#FECB52"
          ],
          "font": {
           "color": "#2a3f5f"
          },
          "geo": {
           "bgcolor": "white",
           "lakecolor": "white",
           "landcolor": "#E5ECF6",
           "showlakes": true,
           "showland": true,
           "subunitcolor": "white"
          },
          "hoverlabel": {
           "align": "left"
          },
          "hovermode": "closest",
          "mapbox": {
           "style": "light"
          },
          "paper_bgcolor": "white",
          "plot_bgcolor": "#E5ECF6",
          "polar": {
           "angularaxis": {
            "gridcolor": "white",
            "linecolor": "white",
            "ticks": ""
           },
           "bgcolor": "#E5ECF6",
           "radialaxis": {
            "gridcolor": "white",
            "linecolor": "white",
            "ticks": ""
           }
          },
          "scene": {
           "xaxis": {
            "backgroundcolor": "#E5ECF6",
            "gridcolor": "white",
            "gridwidth": 2,
            "linecolor": "white",
            "showbackground": true,
            "ticks": "",
            "zerolinecolor": "white"
           },
           "yaxis": {
            "backgroundcolor": "#E5ECF6",
            "gridcolor": "white",
            "gridwidth": 2,
            "linecolor": "white",
            "showbackground": true,
            "ticks": "",
            "zerolinecolor": "white"
           },
           "zaxis": {
            "backgroundcolor": "#E5ECF6",
            "gridcolor": "white",
            "gridwidth": 2,
            "linecolor": "white",
            "showbackground": true,
            "ticks": "",
            "zerolinecolor": "white"
           }
          },
          "shapedefaults": {
           "line": {
            "color": "#2a3f5f"
           }
          },
          "ternary": {
           "aaxis": {
            "gridcolor": "white",
            "linecolor": "white",
            "ticks": ""
           },
           "baxis": {
            "gridcolor": "white",
            "linecolor": "white",
            "ticks": ""
           },
           "bgcolor": "#E5ECF6",
           "caxis": {
            "gridcolor": "white",
            "linecolor": "white",
            "ticks": ""
           }
          },
          "title": {
           "x": 0.05
          },
          "xaxis": {
           "automargin": true,
           "gridcolor": "white",
           "linecolor": "white",
           "ticks": "",
           "title": {
            "standoff": 15
           },
           "zerolinecolor": "white",
           "zerolinewidth": 2
          },
          "yaxis": {
           "automargin": true,
           "gridcolor": "white",
           "linecolor": "white",
           "ticks": "",
           "title": {
            "standoff": 15
           },
           "zerolinecolor": "white",
           "zerolinewidth": 2
          }
         }
        },
        "title": {
         "text": "Win Rate of Jungle Getting First Blood Kill"
        }
       }
      }
     },
     "metadata": {},
     "output_type": "display_data"
    }
   ],
   "source": [
    "df_plot_1 = df.copy()\n",
    "df_plot_1['result'] = df_plot_1['result'].apply(lambda x: 'victory' if int(x) == 1 else 'defeat')\n",
    "df_plot_1['firstbloodkill'] = df_plot_1['firstbloodkill'].apply(lambda x: int(x))\n",
    "fig = px.pie(df_plot_1, values = 'firstbloodkill', names = 'result', title='Win Rate of Jungle Getting First Blood Kill')\n",
    "fig.show()\n",
    "fig.write_html('UA.html', include_plotlyjs='cdn')"
   ]
  },
  {
   "cell_type": "markdown",
   "metadata": {},
   "source": [
    "### Bivariate Analysis:\n",
    "Now let start exploring the question, \"Which jungle champion gets the first blood kill will increase team's win rate\". The first graph shows that the counts of each champion when gets the first blood kill and win the game. In this graph, the champion who gets the most win when has the first blood kill is Xin Zhao. The second graph shows that the win rate of each champion when gets the first blood. In this graph, there are some champions have the 100% win rate which means if they get the first blood in the game, they must win the game."
   ]
  },
  {
   "cell_type": "code",
   "execution_count": 7,
   "metadata": {},
   "outputs": [
    {
     "data": {
      "application/vnd.plotly.v1+json": {
       "config": {
        "plotlyServerURL": "https://plot.ly"
       },
       "data": [
        {
         "alignmentgroup": "True",
         "hovertemplate": "champion=%{x}<br>result=%{y}<extra></extra>",
         "legendgroup": "",
         "marker": {
          "color": "#636efa",
          "pattern": {
           "shape": ""
          }
         },
         "name": "",
         "offsetgroup": "",
         "orientation": "v",
         "showlegend": false,
         "textposition": "auto",
         "type": "bar",
         "x": [
          "Amumu",
          "Bel'Veth",
          "Brand",
          "Diana",
          "Fiddlesticks",
          "Gragas",
          "Graves",
          "Ivern",
          "Jarvan IV",
          "Jax",
          "Kayn",
          "Kindred",
          "Lee Sin",
          "Lillia",
          "Maokai",
          "Nidalee",
          "Nocturne",
          "Nunu & Willump",
          "Poppy",
          "Rell",
          "Rengar",
          "Sejuani",
          "Taliyah",
          "Trundle",
          "Vi",
          "Viego",
          "Volibear",
          "Wukong",
          "Xin Zhao",
          "Zac"
         ],
         "xaxis": "x",
         "y": [
          0,
          8,
          12,
          0,
          1,
          2,
          7,
          4,
          9,
          10,
          1,
          6,
          52,
          3,
          27,
          1,
          27,
          1,
          20,
          19,
          2,
          21,
          3,
          5,
          45,
          28,
          3,
          7,
          56,
          1
         ],
         "yaxis": "y"
        }
       ],
       "layout": {
        "barmode": "relative",
        "legend": {
         "tracegroupgap": 0
        },
        "template": {
         "data": {
          "bar": [
           {
            "error_x": {
             "color": "#2a3f5f"
            },
            "error_y": {
             "color": "#2a3f5f"
            },
            "marker": {
             "line": {
              "color": "#E5ECF6",
              "width": 0.5
             },
             "pattern": {
              "fillmode": "overlay",
              "size": 10,
              "solidity": 0.2
             }
            },
            "type": "bar"
           }
          ],
          "barpolar": [
           {
            "marker": {
             "line": {
              "color": "#E5ECF6",
              "width": 0.5
             },
             "pattern": {
              "fillmode": "overlay",
              "size": 10,
              "solidity": 0.2
             }
            },
            "type": "barpolar"
           }
          ],
          "carpet": [
           {
            "aaxis": {
             "endlinecolor": "#2a3f5f",
             "gridcolor": "white",
             "linecolor": "white",
             "minorgridcolor": "white",
             "startlinecolor": "#2a3f5f"
            },
            "baxis": {
             "endlinecolor": "#2a3f5f",
             "gridcolor": "white",
             "linecolor": "white",
             "minorgridcolor": "white",
             "startlinecolor": "#2a3f5f"
            },
            "type": "carpet"
           }
          ],
          "choropleth": [
           {
            "colorbar": {
             "outlinewidth": 0,
             "ticks": ""
            },
            "type": "choropleth"
           }
          ],
          "contour": [
           {
            "colorbar": {
             "outlinewidth": 0,
             "ticks": ""
            },
            "colorscale": [
             [
              0,
              "#0d0887"
             ],
             [
              0.1111111111111111,
              "#46039f"
             ],
             [
              0.2222222222222222,
              "#7201a8"
             ],
             [
              0.3333333333333333,
              "#9c179e"
             ],
             [
              0.4444444444444444,
              "#bd3786"
             ],
             [
              0.5555555555555556,
              "#d8576b"
             ],
             [
              0.6666666666666666,
              "#ed7953"
             ],
             [
              0.7777777777777778,
              "#fb9f3a"
             ],
             [
              0.8888888888888888,
              "#fdca26"
             ],
             [
              1,
              "#f0f921"
             ]
            ],
            "type": "contour"
           }
          ],
          "contourcarpet": [
           {
            "colorbar": {
             "outlinewidth": 0,
             "ticks": ""
            },
            "type": "contourcarpet"
           }
          ],
          "heatmap": [
           {
            "colorbar": {
             "outlinewidth": 0,
             "ticks": ""
            },
            "colorscale": [
             [
              0,
              "#0d0887"
             ],
             [
              0.1111111111111111,
              "#46039f"
             ],
             [
              0.2222222222222222,
              "#7201a8"
             ],
             [
              0.3333333333333333,
              "#9c179e"
             ],
             [
              0.4444444444444444,
              "#bd3786"
             ],
             [
              0.5555555555555556,
              "#d8576b"
             ],
             [
              0.6666666666666666,
              "#ed7953"
             ],
             [
              0.7777777777777778,
              "#fb9f3a"
             ],
             [
              0.8888888888888888,
              "#fdca26"
             ],
             [
              1,
              "#f0f921"
             ]
            ],
            "type": "heatmap"
           }
          ],
          "heatmapgl": [
           {
            "colorbar": {
             "outlinewidth": 0,
             "ticks": ""
            },
            "colorscale": [
             [
              0,
              "#0d0887"
             ],
             [
              0.1111111111111111,
              "#46039f"
             ],
             [
              0.2222222222222222,
              "#7201a8"
             ],
             [
              0.3333333333333333,
              "#9c179e"
             ],
             [
              0.4444444444444444,
              "#bd3786"
             ],
             [
              0.5555555555555556,
              "#d8576b"
             ],
             [
              0.6666666666666666,
              "#ed7953"
             ],
             [
              0.7777777777777778,
              "#fb9f3a"
             ],
             [
              0.8888888888888888,
              "#fdca26"
             ],
             [
              1,
              "#f0f921"
             ]
            ],
            "type": "heatmapgl"
           }
          ],
          "histogram": [
           {
            "marker": {
             "pattern": {
              "fillmode": "overlay",
              "size": 10,
              "solidity": 0.2
             }
            },
            "type": "histogram"
           }
          ],
          "histogram2d": [
           {
            "colorbar": {
             "outlinewidth": 0,
             "ticks": ""
            },
            "colorscale": [
             [
              0,
              "#0d0887"
             ],
             [
              0.1111111111111111,
              "#46039f"
             ],
             [
              0.2222222222222222,
              "#7201a8"
             ],
             [
              0.3333333333333333,
              "#9c179e"
             ],
             [
              0.4444444444444444,
              "#bd3786"
             ],
             [
              0.5555555555555556,
              "#d8576b"
             ],
             [
              0.6666666666666666,
              "#ed7953"
             ],
             [
              0.7777777777777778,
              "#fb9f3a"
             ],
             [
              0.8888888888888888,
              "#fdca26"
             ],
             [
              1,
              "#f0f921"
             ]
            ],
            "type": "histogram2d"
           }
          ],
          "histogram2dcontour": [
           {
            "colorbar": {
             "outlinewidth": 0,
             "ticks": ""
            },
            "colorscale": [
             [
              0,
              "#0d0887"
             ],
             [
              0.1111111111111111,
              "#46039f"
             ],
             [
              0.2222222222222222,
              "#7201a8"
             ],
             [
              0.3333333333333333,
              "#9c179e"
             ],
             [
              0.4444444444444444,
              "#bd3786"
             ],
             [
              0.5555555555555556,
              "#d8576b"
             ],
             [
              0.6666666666666666,
              "#ed7953"
             ],
             [
              0.7777777777777778,
              "#fb9f3a"
             ],
             [
              0.8888888888888888,
              "#fdca26"
             ],
             [
              1,
              "#f0f921"
             ]
            ],
            "type": "histogram2dcontour"
           }
          ],
          "mesh3d": [
           {
            "colorbar": {
             "outlinewidth": 0,
             "ticks": ""
            },
            "type": "mesh3d"
           }
          ],
          "parcoords": [
           {
            "line": {
             "colorbar": {
              "outlinewidth": 0,
              "ticks": ""
             }
            },
            "type": "parcoords"
           }
          ],
          "pie": [
           {
            "automargin": true,
            "type": "pie"
           }
          ],
          "scatter": [
           {
            "fillpattern": {
             "fillmode": "overlay",
             "size": 10,
             "solidity": 0.2
            },
            "type": "scatter"
           }
          ],
          "scatter3d": [
           {
            "line": {
             "colorbar": {
              "outlinewidth": 0,
              "ticks": ""
             }
            },
            "marker": {
             "colorbar": {
              "outlinewidth": 0,
              "ticks": ""
             }
            },
            "type": "scatter3d"
           }
          ],
          "scattercarpet": [
           {
            "marker": {
             "colorbar": {
              "outlinewidth": 0,
              "ticks": ""
             }
            },
            "type": "scattercarpet"
           }
          ],
          "scattergeo": [
           {
            "marker": {
             "colorbar": {
              "outlinewidth": 0,
              "ticks": ""
             }
            },
            "type": "scattergeo"
           }
          ],
          "scattergl": [
           {
            "marker": {
             "colorbar": {
              "outlinewidth": 0,
              "ticks": ""
             }
            },
            "type": "scattergl"
           }
          ],
          "scattermapbox": [
           {
            "marker": {
             "colorbar": {
              "outlinewidth": 0,
              "ticks": ""
             }
            },
            "type": "scattermapbox"
           }
          ],
          "scatterpolar": [
           {
            "marker": {
             "colorbar": {
              "outlinewidth": 0,
              "ticks": ""
             }
            },
            "type": "scatterpolar"
           }
          ],
          "scatterpolargl": [
           {
            "marker": {
             "colorbar": {
              "outlinewidth": 0,
              "ticks": ""
             }
            },
            "type": "scatterpolargl"
           }
          ],
          "scatterternary": [
           {
            "marker": {
             "colorbar": {
              "outlinewidth": 0,
              "ticks": ""
             }
            },
            "type": "scatterternary"
           }
          ],
          "surface": [
           {
            "colorbar": {
             "outlinewidth": 0,
             "ticks": ""
            },
            "colorscale": [
             [
              0,
              "#0d0887"
             ],
             [
              0.1111111111111111,
              "#46039f"
             ],
             [
              0.2222222222222222,
              "#7201a8"
             ],
             [
              0.3333333333333333,
              "#9c179e"
             ],
             [
              0.4444444444444444,
              "#bd3786"
             ],
             [
              0.5555555555555556,
              "#d8576b"
             ],
             [
              0.6666666666666666,
              "#ed7953"
             ],
             [
              0.7777777777777778,
              "#fb9f3a"
             ],
             [
              0.8888888888888888,
              "#fdca26"
             ],
             [
              1,
              "#f0f921"
             ]
            ],
            "type": "surface"
           }
          ],
          "table": [
           {
            "cells": {
             "fill": {
              "color": "#EBF0F8"
             },
             "line": {
              "color": "white"
             }
            },
            "header": {
             "fill": {
              "color": "#C8D4E3"
             },
             "line": {
              "color": "white"
             }
            },
            "type": "table"
           }
          ]
         },
         "layout": {
          "annotationdefaults": {
           "arrowcolor": "#2a3f5f",
           "arrowhead": 0,
           "arrowwidth": 1
          },
          "autotypenumbers": "strict",
          "coloraxis": {
           "colorbar": {
            "outlinewidth": 0,
            "ticks": ""
           }
          },
          "colorscale": {
           "diverging": [
            [
             0,
             "#8e0152"
            ],
            [
             0.1,
             "#c51b7d"
            ],
            [
             0.2,
             "#de77ae"
            ],
            [
             0.3,
             "#f1b6da"
            ],
            [
             0.4,
             "#fde0ef"
            ],
            [
             0.5,
             "#f7f7f7"
            ],
            [
             0.6,
             "#e6f5d0"
            ],
            [
             0.7,
             "#b8e186"
            ],
            [
             0.8,
             "#7fbc41"
            ],
            [
             0.9,
             "#4d9221"
            ],
            [
             1,
             "#276419"
            ]
           ],
           "sequential": [
            [
             0,
             "#0d0887"
            ],
            [
             0.1111111111111111,
             "#46039f"
            ],
            [
             0.2222222222222222,
             "#7201a8"
            ],
            [
             0.3333333333333333,
             "#9c179e"
            ],
            [
             0.4444444444444444,
             "#bd3786"
            ],
            [
             0.5555555555555556,
             "#d8576b"
            ],
            [
             0.6666666666666666,
             "#ed7953"
            ],
            [
             0.7777777777777778,
             "#fb9f3a"
            ],
            [
             0.8888888888888888,
             "#fdca26"
            ],
            [
             1,
             "#f0f921"
            ]
           ],
           "sequentialminus": [
            [
             0,
             "#0d0887"
            ],
            [
             0.1111111111111111,
             "#46039f"
            ],
            [
             0.2222222222222222,
             "#7201a8"
            ],
            [
             0.3333333333333333,
             "#9c179e"
            ],
            [
             0.4444444444444444,
             "#bd3786"
            ],
            [
             0.5555555555555556,
             "#d8576b"
            ],
            [
             0.6666666666666666,
             "#ed7953"
            ],
            [
             0.7777777777777778,
             "#fb9f3a"
            ],
            [
             0.8888888888888888,
             "#fdca26"
            ],
            [
             1,
             "#f0f921"
            ]
           ]
          },
          "colorway": [
           "#636efa",
           "#EF553B",
           "#00cc96",
           "#ab63fa",
           "#FFA15A",
           "#19d3f3",
           "#FF6692",
           "#B6E880",
           "#FF97FF",
           "#FECB52"
          ],
          "font": {
           "color": "#2a3f5f"
          },
          "geo": {
           "bgcolor": "white",
           "lakecolor": "white",
           "landcolor": "#E5ECF6",
           "showlakes": true,
           "showland": true,
           "subunitcolor": "white"
          },
          "hoverlabel": {
           "align": "left"
          },
          "hovermode": "closest",
          "mapbox": {
           "style": "light"
          },
          "paper_bgcolor": "white",
          "plot_bgcolor": "#E5ECF6",
          "polar": {
           "angularaxis": {
            "gridcolor": "white",
            "linecolor": "white",
            "ticks": ""
           },
           "bgcolor": "#E5ECF6",
           "radialaxis": {
            "gridcolor": "white",
            "linecolor": "white",
            "ticks": ""
           }
          },
          "scene": {
           "xaxis": {
            "backgroundcolor": "#E5ECF6",
            "gridcolor": "white",
            "gridwidth": 2,
            "linecolor": "white",
            "showbackground": true,
            "ticks": "",
            "zerolinecolor": "white"
           },
           "yaxis": {
            "backgroundcolor": "#E5ECF6",
            "gridcolor": "white",
            "gridwidth": 2,
            "linecolor": "white",
            "showbackground": true,
            "ticks": "",
            "zerolinecolor": "white"
           },
           "zaxis": {
            "backgroundcolor": "#E5ECF6",
            "gridcolor": "white",
            "gridwidth": 2,
            "linecolor": "white",
            "showbackground": true,
            "ticks": "",
            "zerolinecolor": "white"
           }
          },
          "shapedefaults": {
           "line": {
            "color": "#2a3f5f"
           }
          },
          "ternary": {
           "aaxis": {
            "gridcolor": "white",
            "linecolor": "white",
            "ticks": ""
           },
           "baxis": {
            "gridcolor": "white",
            "linecolor": "white",
            "ticks": ""
           },
           "bgcolor": "#E5ECF6",
           "caxis": {
            "gridcolor": "white",
            "linecolor": "white",
            "ticks": ""
           }
          },
          "title": {
           "x": 0.05
          },
          "xaxis": {
           "automargin": true,
           "gridcolor": "white",
           "linecolor": "white",
           "ticks": "",
           "title": {
            "standoff": 15
           },
           "zerolinecolor": "white",
           "zerolinewidth": 2
          },
          "yaxis": {
           "automargin": true,
           "gridcolor": "white",
           "linecolor": "white",
           "ticks": "",
           "title": {
            "standoff": 15
           },
           "zerolinecolor": "white",
           "zerolinewidth": 2
          }
         }
        },
        "title": {
         "text": "Number of Times of Each Jungle Champion When Gets the First Blood and Win The Game"
        },
        "xaxis": {
         "anchor": "y",
         "domain": [
          0,
          1
         ],
         "title": {
          "text": "champion"
         }
        },
        "yaxis": {
         "anchor": "x",
         "domain": [
          0,
          1
         ],
         "title": {
          "text": "result"
         }
        }
       }
      }
     },
     "metadata": {},
     "output_type": "display_data"
    }
   ],
   "source": [
    "df_plot_2 = df.copy()\n",
    "df_plot_2 = df_plot_2.groupby('champion').sum() \n",
    "fig = px.bar(df_plot_2, y = 'result', title='Number of Times of Each Jungle Champion When Gets the First Blood and Win The Game')\n",
    "fig.show()\n",
    "fig.write_html('BA1.html', include_plotlyjs='cdn')"
   ]
  },
  {
   "cell_type": "code",
   "execution_count": 8,
   "metadata": {},
   "outputs": [
    {
     "data": {
      "application/vnd.plotly.v1+json": {
       "config": {
        "plotlyServerURL": "https://plot.ly"
       },
       "data": [
        {
         "alignmentgroup": "True",
         "hovertemplate": "champion=%{x}<br>win rate=%{y}<extra></extra>",
         "legendgroup": "",
         "marker": {
          "color": "#636efa",
          "pattern": {
           "shape": ""
          }
         },
         "name": "",
         "offsetgroup": "",
         "orientation": "v",
         "showlegend": false,
         "textposition": "auto",
         "type": "bar",
         "x": [
          "Amumu",
          "Bel'Veth",
          "Brand",
          "Diana",
          "Fiddlesticks",
          "Gragas",
          "Graves",
          "Ivern",
          "Jarvan IV",
          "Jax",
          "Kayn",
          "Kindred",
          "Lee Sin",
          "Lillia",
          "Maokai",
          "Nidalee",
          "Nocturne",
          "Nunu & Willump",
          "Poppy",
          "Rell",
          "Rengar",
          "Sejuani",
          "Taliyah",
          "Trundle",
          "Vi",
          "Viego",
          "Volibear",
          "Wukong",
          "Xin Zhao",
          "Zac"
         ],
         "xaxis": "x",
         "y": [
          0,
          0.6666666666666666,
          0.6666666666666666,
          0,
          1,
          0.5,
          0.6363636363636364,
          0.5714285714285714,
          0.5625,
          0.5555555555555556,
          1,
          0.6666666666666666,
          0.7222222222222222,
          0.75,
          0.75,
          0.3333333333333333,
          0.627906976744186,
          1,
          0.6060606060606061,
          0.5588235294117647,
          1,
          0.525,
          0.42857142857142855,
          0.5,
          0.5625,
          0.509090909090909,
          0.42857142857142855,
          0.5833333333333334,
          0.56,
          1
         ],
         "yaxis": "y"
        }
       ],
       "layout": {
        "barmode": "relative",
        "legend": {
         "tracegroupgap": 0
        },
        "template": {
         "data": {
          "bar": [
           {
            "error_x": {
             "color": "#2a3f5f"
            },
            "error_y": {
             "color": "#2a3f5f"
            },
            "marker": {
             "line": {
              "color": "#E5ECF6",
              "width": 0.5
             },
             "pattern": {
              "fillmode": "overlay",
              "size": 10,
              "solidity": 0.2
             }
            },
            "type": "bar"
           }
          ],
          "barpolar": [
           {
            "marker": {
             "line": {
              "color": "#E5ECF6",
              "width": 0.5
             },
             "pattern": {
              "fillmode": "overlay",
              "size": 10,
              "solidity": 0.2
             }
            },
            "type": "barpolar"
           }
          ],
          "carpet": [
           {
            "aaxis": {
             "endlinecolor": "#2a3f5f",
             "gridcolor": "white",
             "linecolor": "white",
             "minorgridcolor": "white",
             "startlinecolor": "#2a3f5f"
            },
            "baxis": {
             "endlinecolor": "#2a3f5f",
             "gridcolor": "white",
             "linecolor": "white",
             "minorgridcolor": "white",
             "startlinecolor": "#2a3f5f"
            },
            "type": "carpet"
           }
          ],
          "choropleth": [
           {
            "colorbar": {
             "outlinewidth": 0,
             "ticks": ""
            },
            "type": "choropleth"
           }
          ],
          "contour": [
           {
            "colorbar": {
             "outlinewidth": 0,
             "ticks": ""
            },
            "colorscale": [
             [
              0,
              "#0d0887"
             ],
             [
              0.1111111111111111,
              "#46039f"
             ],
             [
              0.2222222222222222,
              "#7201a8"
             ],
             [
              0.3333333333333333,
              "#9c179e"
             ],
             [
              0.4444444444444444,
              "#bd3786"
             ],
             [
              0.5555555555555556,
              "#d8576b"
             ],
             [
              0.6666666666666666,
              "#ed7953"
             ],
             [
              0.7777777777777778,
              "#fb9f3a"
             ],
             [
              0.8888888888888888,
              "#fdca26"
             ],
             [
              1,
              "#f0f921"
             ]
            ],
            "type": "contour"
           }
          ],
          "contourcarpet": [
           {
            "colorbar": {
             "outlinewidth": 0,
             "ticks": ""
            },
            "type": "contourcarpet"
           }
          ],
          "heatmap": [
           {
            "colorbar": {
             "outlinewidth": 0,
             "ticks": ""
            },
            "colorscale": [
             [
              0,
              "#0d0887"
             ],
             [
              0.1111111111111111,
              "#46039f"
             ],
             [
              0.2222222222222222,
              "#7201a8"
             ],
             [
              0.3333333333333333,
              "#9c179e"
             ],
             [
              0.4444444444444444,
              "#bd3786"
             ],
             [
              0.5555555555555556,
              "#d8576b"
             ],
             [
              0.6666666666666666,
              "#ed7953"
             ],
             [
              0.7777777777777778,
              "#fb9f3a"
             ],
             [
              0.8888888888888888,
              "#fdca26"
             ],
             [
              1,
              "#f0f921"
             ]
            ],
            "type": "heatmap"
           }
          ],
          "heatmapgl": [
           {
            "colorbar": {
             "outlinewidth": 0,
             "ticks": ""
            },
            "colorscale": [
             [
              0,
              "#0d0887"
             ],
             [
              0.1111111111111111,
              "#46039f"
             ],
             [
              0.2222222222222222,
              "#7201a8"
             ],
             [
              0.3333333333333333,
              "#9c179e"
             ],
             [
              0.4444444444444444,
              "#bd3786"
             ],
             [
              0.5555555555555556,
              "#d8576b"
             ],
             [
              0.6666666666666666,
              "#ed7953"
             ],
             [
              0.7777777777777778,
              "#fb9f3a"
             ],
             [
              0.8888888888888888,
              "#fdca26"
             ],
             [
              1,
              "#f0f921"
             ]
            ],
            "type": "heatmapgl"
           }
          ],
          "histogram": [
           {
            "marker": {
             "pattern": {
              "fillmode": "overlay",
              "size": 10,
              "solidity": 0.2
             }
            },
            "type": "histogram"
           }
          ],
          "histogram2d": [
           {
            "colorbar": {
             "outlinewidth": 0,
             "ticks": ""
            },
            "colorscale": [
             [
              0,
              "#0d0887"
             ],
             [
              0.1111111111111111,
              "#46039f"
             ],
             [
              0.2222222222222222,
              "#7201a8"
             ],
             [
              0.3333333333333333,
              "#9c179e"
             ],
             [
              0.4444444444444444,
              "#bd3786"
             ],
             [
              0.5555555555555556,
              "#d8576b"
             ],
             [
              0.6666666666666666,
              "#ed7953"
             ],
             [
              0.7777777777777778,
              "#fb9f3a"
             ],
             [
              0.8888888888888888,
              "#fdca26"
             ],
             [
              1,
              "#f0f921"
             ]
            ],
            "type": "histogram2d"
           }
          ],
          "histogram2dcontour": [
           {
            "colorbar": {
             "outlinewidth": 0,
             "ticks": ""
            },
            "colorscale": [
             [
              0,
              "#0d0887"
             ],
             [
              0.1111111111111111,
              "#46039f"
             ],
             [
              0.2222222222222222,
              "#7201a8"
             ],
             [
              0.3333333333333333,
              "#9c179e"
             ],
             [
              0.4444444444444444,
              "#bd3786"
             ],
             [
              0.5555555555555556,
              "#d8576b"
             ],
             [
              0.6666666666666666,
              "#ed7953"
             ],
             [
              0.7777777777777778,
              "#fb9f3a"
             ],
             [
              0.8888888888888888,
              "#fdca26"
             ],
             [
              1,
              "#f0f921"
             ]
            ],
            "type": "histogram2dcontour"
           }
          ],
          "mesh3d": [
           {
            "colorbar": {
             "outlinewidth": 0,
             "ticks": ""
            },
            "type": "mesh3d"
           }
          ],
          "parcoords": [
           {
            "line": {
             "colorbar": {
              "outlinewidth": 0,
              "ticks": ""
             }
            },
            "type": "parcoords"
           }
          ],
          "pie": [
           {
            "automargin": true,
            "type": "pie"
           }
          ],
          "scatter": [
           {
            "fillpattern": {
             "fillmode": "overlay",
             "size": 10,
             "solidity": 0.2
            },
            "type": "scatter"
           }
          ],
          "scatter3d": [
           {
            "line": {
             "colorbar": {
              "outlinewidth": 0,
              "ticks": ""
             }
            },
            "marker": {
             "colorbar": {
              "outlinewidth": 0,
              "ticks": ""
             }
            },
            "type": "scatter3d"
           }
          ],
          "scattercarpet": [
           {
            "marker": {
             "colorbar": {
              "outlinewidth": 0,
              "ticks": ""
             }
            },
            "type": "scattercarpet"
           }
          ],
          "scattergeo": [
           {
            "marker": {
             "colorbar": {
              "outlinewidth": 0,
              "ticks": ""
             }
            },
            "type": "scattergeo"
           }
          ],
          "scattergl": [
           {
            "marker": {
             "colorbar": {
              "outlinewidth": 0,
              "ticks": ""
             }
            },
            "type": "scattergl"
           }
          ],
          "scattermapbox": [
           {
            "marker": {
             "colorbar": {
              "outlinewidth": 0,
              "ticks": ""
             }
            },
            "type": "scattermapbox"
           }
          ],
          "scatterpolar": [
           {
            "marker": {
             "colorbar": {
              "outlinewidth": 0,
              "ticks": ""
             }
            },
            "type": "scatterpolar"
           }
          ],
          "scatterpolargl": [
           {
            "marker": {
             "colorbar": {
              "outlinewidth": 0,
              "ticks": ""
             }
            },
            "type": "scatterpolargl"
           }
          ],
          "scatterternary": [
           {
            "marker": {
             "colorbar": {
              "outlinewidth": 0,
              "ticks": ""
             }
            },
            "type": "scatterternary"
           }
          ],
          "surface": [
           {
            "colorbar": {
             "outlinewidth": 0,
             "ticks": ""
            },
            "colorscale": [
             [
              0,
              "#0d0887"
             ],
             [
              0.1111111111111111,
              "#46039f"
             ],
             [
              0.2222222222222222,
              "#7201a8"
             ],
             [
              0.3333333333333333,
              "#9c179e"
             ],
             [
              0.4444444444444444,
              "#bd3786"
             ],
             [
              0.5555555555555556,
              "#d8576b"
             ],
             [
              0.6666666666666666,
              "#ed7953"
             ],
             [
              0.7777777777777778,
              "#fb9f3a"
             ],
             [
              0.8888888888888888,
              "#fdca26"
             ],
             [
              1,
              "#f0f921"
             ]
            ],
            "type": "surface"
           }
          ],
          "table": [
           {
            "cells": {
             "fill": {
              "color": "#EBF0F8"
             },
             "line": {
              "color": "white"
             }
            },
            "header": {
             "fill": {
              "color": "#C8D4E3"
             },
             "line": {
              "color": "white"
             }
            },
            "type": "table"
           }
          ]
         },
         "layout": {
          "annotationdefaults": {
           "arrowcolor": "#2a3f5f",
           "arrowhead": 0,
           "arrowwidth": 1
          },
          "autotypenumbers": "strict",
          "coloraxis": {
           "colorbar": {
            "outlinewidth": 0,
            "ticks": ""
           }
          },
          "colorscale": {
           "diverging": [
            [
             0,
             "#8e0152"
            ],
            [
             0.1,
             "#c51b7d"
            ],
            [
             0.2,
             "#de77ae"
            ],
            [
             0.3,
             "#f1b6da"
            ],
            [
             0.4,
             "#fde0ef"
            ],
            [
             0.5,
             "#f7f7f7"
            ],
            [
             0.6,
             "#e6f5d0"
            ],
            [
             0.7,
             "#b8e186"
            ],
            [
             0.8,
             "#7fbc41"
            ],
            [
             0.9,
             "#4d9221"
            ],
            [
             1,
             "#276419"
            ]
           ],
           "sequential": [
            [
             0,
             "#0d0887"
            ],
            [
             0.1111111111111111,
             "#46039f"
            ],
            [
             0.2222222222222222,
             "#7201a8"
            ],
            [
             0.3333333333333333,
             "#9c179e"
            ],
            [
             0.4444444444444444,
             "#bd3786"
            ],
            [
             0.5555555555555556,
             "#d8576b"
            ],
            [
             0.6666666666666666,
             "#ed7953"
            ],
            [
             0.7777777777777778,
             "#fb9f3a"
            ],
            [
             0.8888888888888888,
             "#fdca26"
            ],
            [
             1,
             "#f0f921"
            ]
           ],
           "sequentialminus": [
            [
             0,
             "#0d0887"
            ],
            [
             0.1111111111111111,
             "#46039f"
            ],
            [
             0.2222222222222222,
             "#7201a8"
            ],
            [
             0.3333333333333333,
             "#9c179e"
            ],
            [
             0.4444444444444444,
             "#bd3786"
            ],
            [
             0.5555555555555556,
             "#d8576b"
            ],
            [
             0.6666666666666666,
             "#ed7953"
            ],
            [
             0.7777777777777778,
             "#fb9f3a"
            ],
            [
             0.8888888888888888,
             "#fdca26"
            ],
            [
             1,
             "#f0f921"
            ]
           ]
          },
          "colorway": [
           "#636efa",
           "#EF553B",
           "#00cc96",
           "#ab63fa",
           "#FFA15A",
           "#19d3f3",
           "#FF6692",
           "#B6E880",
           "#FF97FF",
           "#FECB52"
          ],
          "font": {
           "color": "#2a3f5f"
          },
          "geo": {
           "bgcolor": "white",
           "lakecolor": "white",
           "landcolor": "#E5ECF6",
           "showlakes": true,
           "showland": true,
           "subunitcolor": "white"
          },
          "hoverlabel": {
           "align": "left"
          },
          "hovermode": "closest",
          "mapbox": {
           "style": "light"
          },
          "paper_bgcolor": "white",
          "plot_bgcolor": "#E5ECF6",
          "polar": {
           "angularaxis": {
            "gridcolor": "white",
            "linecolor": "white",
            "ticks": ""
           },
           "bgcolor": "#E5ECF6",
           "radialaxis": {
            "gridcolor": "white",
            "linecolor": "white",
            "ticks": ""
           }
          },
          "scene": {
           "xaxis": {
            "backgroundcolor": "#E5ECF6",
            "gridcolor": "white",
            "gridwidth": 2,
            "linecolor": "white",
            "showbackground": true,
            "ticks": "",
            "zerolinecolor": "white"
           },
           "yaxis": {
            "backgroundcolor": "#E5ECF6",
            "gridcolor": "white",
            "gridwidth": 2,
            "linecolor": "white",
            "showbackground": true,
            "ticks": "",
            "zerolinecolor": "white"
           },
           "zaxis": {
            "backgroundcolor": "#E5ECF6",
            "gridcolor": "white",
            "gridwidth": 2,
            "linecolor": "white",
            "showbackground": true,
            "ticks": "",
            "zerolinecolor": "white"
           }
          },
          "shapedefaults": {
           "line": {
            "color": "#2a3f5f"
           }
          },
          "ternary": {
           "aaxis": {
            "gridcolor": "white",
            "linecolor": "white",
            "ticks": ""
           },
           "baxis": {
            "gridcolor": "white",
            "linecolor": "white",
            "ticks": ""
           },
           "bgcolor": "#E5ECF6",
           "caxis": {
            "gridcolor": "white",
            "linecolor": "white",
            "ticks": ""
           }
          },
          "title": {
           "x": 0.05
          },
          "xaxis": {
           "automargin": true,
           "gridcolor": "white",
           "linecolor": "white",
           "ticks": "",
           "title": {
            "standoff": 15
           },
           "zerolinecolor": "white",
           "zerolinewidth": 2
          },
          "yaxis": {
           "automargin": true,
           "gridcolor": "white",
           "linecolor": "white",
           "ticks": "",
           "title": {
            "standoff": 15
           },
           "zerolinecolor": "white",
           "zerolinewidth": 2
          }
         }
        },
        "title": {
         "text": "Win Rate of Each Jungle Champion When Gets the First Blood"
        },
        "xaxis": {
         "anchor": "y",
         "domain": [
          0,
          1
         ],
         "title": {
          "text": "champion"
         }
        },
        "yaxis": {
         "anchor": "x",
         "domain": [
          0,
          1
         ],
         "title": {
          "text": "win rate"
         }
        }
       }
      }
     },
     "metadata": {},
     "output_type": "display_data"
    }
   ],
   "source": [
    "df_plot_3 = df_plot_2.copy()\n",
    "df_plot_3['win rate'] = df_plot_3['result'] / df_plot_3['firstbloodkill']\n",
    "fig = px.bar(df_plot_3, y = 'win rate', title='Win Rate of Each Jungle Champion When Gets the First Blood')\n",
    "fig.show()\n",
    "fig.write_html('BA2.html', include_plotlyjs='cdn')"
   ]
  },
  {
   "cell_type": "markdown",
   "metadata": {},
   "source": [
    "### Interesting Aggregates:\n",
    "This groupby() shows 3 important values. The 'sum' column describes the counts of getting the first blood and win the game for each champion. The 'count' column describes the counts of getting the first blood in total for each champion. The 'mean' column describes the win rate of each champion of getting the first blood and win the game. Now you might find out that the champion with the highest win rate such as 1 has low counts for getting the first blood. In addition, the champion with the lowest win rate such as 0 also has low counts for getting the first blood. "
   ]
  },
  {
   "cell_type": "code",
   "execution_count": 9,
   "metadata": {},
   "outputs": [
    {
     "data": {
      "text/html": [
       "<div>\n",
       "<style scoped>\n",
       "    .dataframe tbody tr th:only-of-type {\n",
       "        vertical-align: middle;\n",
       "    }\n",
       "\n",
       "    .dataframe tbody tr th {\n",
       "        vertical-align: top;\n",
       "    }\n",
       "\n",
       "    .dataframe thead th {\n",
       "        text-align: right;\n",
       "    }\n",
       "</style>\n",
       "<table border=\"1\" class=\"dataframe\">\n",
       "  <thead>\n",
       "    <tr style=\"text-align: right;\">\n",
       "      <th></th>\n",
       "      <th>sum</th>\n",
       "      <th>count</th>\n",
       "      <th>mean</th>\n",
       "    </tr>\n",
       "    <tr>\n",
       "      <th>champion</th>\n",
       "      <th></th>\n",
       "      <th></th>\n",
       "      <th></th>\n",
       "    </tr>\n",
       "  </thead>\n",
       "  <tbody>\n",
       "    <tr>\n",
       "      <th>Amumu</th>\n",
       "      <td>0</td>\n",
       "      <td>1</td>\n",
       "      <td>0.000000</td>\n",
       "    </tr>\n",
       "    <tr>\n",
       "      <th>Bel'Veth</th>\n",
       "      <td>8</td>\n",
       "      <td>12</td>\n",
       "      <td>0.666667</td>\n",
       "    </tr>\n",
       "    <tr>\n",
       "      <th>Brand</th>\n",
       "      <td>12</td>\n",
       "      <td>18</td>\n",
       "      <td>0.666667</td>\n",
       "    </tr>\n",
       "    <tr>\n",
       "      <th>Diana</th>\n",
       "      <td>0</td>\n",
       "      <td>2</td>\n",
       "      <td>0.000000</td>\n",
       "    </tr>\n",
       "    <tr>\n",
       "      <th>Fiddlesticks</th>\n",
       "      <td>1</td>\n",
       "      <td>1</td>\n",
       "      <td>1.000000</td>\n",
       "    </tr>\n",
       "    <tr>\n",
       "      <th>Gragas</th>\n",
       "      <td>2</td>\n",
       "      <td>4</td>\n",
       "      <td>0.500000</td>\n",
       "    </tr>\n",
       "    <tr>\n",
       "      <th>Graves</th>\n",
       "      <td>7</td>\n",
       "      <td>11</td>\n",
       "      <td>0.636364</td>\n",
       "    </tr>\n",
       "    <tr>\n",
       "      <th>Ivern</th>\n",
       "      <td>4</td>\n",
       "      <td>7</td>\n",
       "      <td>0.571429</td>\n",
       "    </tr>\n",
       "    <tr>\n",
       "      <th>Jarvan IV</th>\n",
       "      <td>9</td>\n",
       "      <td>16</td>\n",
       "      <td>0.562500</td>\n",
       "    </tr>\n",
       "    <tr>\n",
       "      <th>Jax</th>\n",
       "      <td>10</td>\n",
       "      <td>18</td>\n",
       "      <td>0.555556</td>\n",
       "    </tr>\n",
       "    <tr>\n",
       "      <th>Kayn</th>\n",
       "      <td>1</td>\n",
       "      <td>1</td>\n",
       "      <td>1.000000</td>\n",
       "    </tr>\n",
       "    <tr>\n",
       "      <th>Kindred</th>\n",
       "      <td>6</td>\n",
       "      <td>9</td>\n",
       "      <td>0.666667</td>\n",
       "    </tr>\n",
       "    <tr>\n",
       "      <th>Lee Sin</th>\n",
       "      <td>52</td>\n",
       "      <td>72</td>\n",
       "      <td>0.722222</td>\n",
       "    </tr>\n",
       "    <tr>\n",
       "      <th>Lillia</th>\n",
       "      <td>3</td>\n",
       "      <td>4</td>\n",
       "      <td>0.750000</td>\n",
       "    </tr>\n",
       "    <tr>\n",
       "      <th>Maokai</th>\n",
       "      <td>27</td>\n",
       "      <td>36</td>\n",
       "      <td>0.750000</td>\n",
       "    </tr>\n",
       "    <tr>\n",
       "      <th>Nidalee</th>\n",
       "      <td>1</td>\n",
       "      <td>3</td>\n",
       "      <td>0.333333</td>\n",
       "    </tr>\n",
       "    <tr>\n",
       "      <th>Nocturne</th>\n",
       "      <td>27</td>\n",
       "      <td>43</td>\n",
       "      <td>0.627907</td>\n",
       "    </tr>\n",
       "    <tr>\n",
       "      <th>Nunu &amp; Willump</th>\n",
       "      <td>1</td>\n",
       "      <td>1</td>\n",
       "      <td>1.000000</td>\n",
       "    </tr>\n",
       "    <tr>\n",
       "      <th>Poppy</th>\n",
       "      <td>20</td>\n",
       "      <td>33</td>\n",
       "      <td>0.606061</td>\n",
       "    </tr>\n",
       "    <tr>\n",
       "      <th>Rell</th>\n",
       "      <td>19</td>\n",
       "      <td>34</td>\n",
       "      <td>0.558824</td>\n",
       "    </tr>\n",
       "    <tr>\n",
       "      <th>Rengar</th>\n",
       "      <td>2</td>\n",
       "      <td>2</td>\n",
       "      <td>1.000000</td>\n",
       "    </tr>\n",
       "    <tr>\n",
       "      <th>Sejuani</th>\n",
       "      <td>21</td>\n",
       "      <td>40</td>\n",
       "      <td>0.525000</td>\n",
       "    </tr>\n",
       "    <tr>\n",
       "      <th>Taliyah</th>\n",
       "      <td>3</td>\n",
       "      <td>7</td>\n",
       "      <td>0.428571</td>\n",
       "    </tr>\n",
       "    <tr>\n",
       "      <th>Trundle</th>\n",
       "      <td>5</td>\n",
       "      <td>10</td>\n",
       "      <td>0.500000</td>\n",
       "    </tr>\n",
       "    <tr>\n",
       "      <th>Vi</th>\n",
       "      <td>45</td>\n",
       "      <td>80</td>\n",
       "      <td>0.562500</td>\n",
       "    </tr>\n",
       "    <tr>\n",
       "      <th>Viego</th>\n",
       "      <td>28</td>\n",
       "      <td>55</td>\n",
       "      <td>0.509091</td>\n",
       "    </tr>\n",
       "    <tr>\n",
       "      <th>Volibear</th>\n",
       "      <td>3</td>\n",
       "      <td>7</td>\n",
       "      <td>0.428571</td>\n",
       "    </tr>\n",
       "    <tr>\n",
       "      <th>Wukong</th>\n",
       "      <td>7</td>\n",
       "      <td>12</td>\n",
       "      <td>0.583333</td>\n",
       "    </tr>\n",
       "    <tr>\n",
       "      <th>Xin Zhao</th>\n",
       "      <td>56</td>\n",
       "      <td>100</td>\n",
       "      <td>0.560000</td>\n",
       "    </tr>\n",
       "    <tr>\n",
       "      <th>Zac</th>\n",
       "      <td>1</td>\n",
       "      <td>1</td>\n",
       "      <td>1.000000</td>\n",
       "    </tr>\n",
       "  </tbody>\n",
       "</table>\n",
       "</div>"
      ],
      "text/plain": [
       "                sum  count      mean\n",
       "champion                            \n",
       "Amumu             0      1  0.000000\n",
       "Bel'Veth          8     12  0.666667\n",
       "Brand            12     18  0.666667\n",
       "Diana             0      2  0.000000\n",
       "Fiddlesticks      1      1  1.000000\n",
       "Gragas            2      4  0.500000\n",
       "Graves            7     11  0.636364\n",
       "Ivern             4      7  0.571429\n",
       "Jarvan IV         9     16  0.562500\n",
       "Jax              10     18  0.555556\n",
       "Kayn              1      1  1.000000\n",
       "Kindred           6      9  0.666667\n",
       "Lee Sin          52     72  0.722222\n",
       "Lillia            3      4  0.750000\n",
       "Maokai           27     36  0.750000\n",
       "Nidalee           1      3  0.333333\n",
       "Nocturne         27     43  0.627907\n",
       "Nunu & Willump    1      1  1.000000\n",
       "Poppy            20     33  0.606061\n",
       "Rell             19     34  0.558824\n",
       "Rengar            2      2  1.000000\n",
       "Sejuani          21     40  0.525000\n",
       "Taliyah           3      7  0.428571\n",
       "Trundle           5     10  0.500000\n",
       "Vi               45     80  0.562500\n",
       "Viego            28     55  0.509091\n",
       "Volibear          3      7  0.428571\n",
       "Wukong            7     12  0.583333\n",
       "Xin Zhao         56    100  0.560000\n",
       "Zac               1      1  1.000000"
      ]
     },
     "execution_count": 9,
     "metadata": {},
     "output_type": "execute_result"
    }
   ],
   "source": [
    "df.groupby('champion')['result'].agg(['sum','count', 'mean'])"
   ]
  },
  {
   "cell_type": "markdown",
   "metadata": {},
   "source": [
    "## Step 3: Assessment of Missingness"
   ]
  },
  {
   "cell_type": "markdown",
   "metadata": {},
   "source": [
    "### NMAR Analysis:\n",
    "I do believe that there are many columns in my data are Not Missing At Random (NMAR). In my data, since there are 10 players in each game, after every other 10 rows, there always are 2 rows which record the each team's data instead of indivdual player's data. Beacuse of this recording format, many columns have missing values in the rows of team. \n",
    "\n",
    "In my case, the data of 'firstbloodkill' is missing under rows which recrod team data, I think this is NMAR because the 'firstbloodkill' refers which champion and position gets the kill instead of the whole team, and there is another column that records which team gets the first blood. However, I realize there is a column called 'firstbloodassist' which records which champion and position is involved in the first blood but not taking the kill. This columns is missing also under team rows, but there are some missingness under player rows as well. It is Missing by Design (MD) because it cannot infer this column’s missingness exactly from anothers such as 'firstbloodkill' column. \n",
    "\n"
   ]
  },
  {
   "cell_type": "markdown",
   "metadata": {},
   "source": [
    "### Missingness Dependency:\n",
    "I observed that some of the games do not record the information of 'firstbloodassist', and based on this fact, I think the missingness of 'firstbloodassist' is dependent on the 'league' column. Therefore, I will use the total variation distance to determine whether it is Missing at Random (MAR) or Missing Complete at Random (MCAR)."
   ]
  },
  {
   "cell_type": "code",
   "execution_count": 10,
   "metadata": {
    "ExecuteTime": {
     "end_time": "2019-10-31T23:36:28.662099Z",
     "start_time": "2019-10-31T23:36:28.660016Z"
    }
   },
   "outputs": [
    {
     "data": {
      "text/html": [
       "<div>\n",
       "<style scoped>\n",
       "    .dataframe tbody tr th:only-of-type {\n",
       "        vertical-align: middle;\n",
       "    }\n",
       "\n",
       "    .dataframe tbody tr th {\n",
       "        vertical-align: top;\n",
       "    }\n",
       "\n",
       "    .dataframe thead th {\n",
       "        text-align: right;\n",
       "    }\n",
       "</style>\n",
       "<table border=\"1\" class=\"dataframe\">\n",
       "  <thead>\n",
       "    <tr style=\"text-align: right;\">\n",
       "      <th></th>\n",
       "      <th>league</th>\n",
       "      <th>position</th>\n",
       "      <th>firstbloodassist</th>\n",
       "      <th>assist_missing</th>\n",
       "    </tr>\n",
       "  </thead>\n",
       "  <tbody>\n",
       "    <tr>\n",
       "      <th>0</th>\n",
       "      <td>DCup</td>\n",
       "      <td>top</td>\n",
       "      <td>NaN</td>\n",
       "      <td>True</td>\n",
       "    </tr>\n",
       "    <tr>\n",
       "      <th>1</th>\n",
       "      <td>DCup</td>\n",
       "      <td>jng</td>\n",
       "      <td>NaN</td>\n",
       "      <td>True</td>\n",
       "    </tr>\n",
       "    <tr>\n",
       "      <th>2</th>\n",
       "      <td>DCup</td>\n",
       "      <td>mid</td>\n",
       "      <td>NaN</td>\n",
       "      <td>True</td>\n",
       "    </tr>\n",
       "    <tr>\n",
       "      <th>3</th>\n",
       "      <td>DCup</td>\n",
       "      <td>bot</td>\n",
       "      <td>NaN</td>\n",
       "      <td>True</td>\n",
       "    </tr>\n",
       "    <tr>\n",
       "      <th>4</th>\n",
       "      <td>DCup</td>\n",
       "      <td>sup</td>\n",
       "      <td>NaN</td>\n",
       "      <td>True</td>\n",
       "    </tr>\n",
       "  </tbody>\n",
       "</table>\n",
       "</div>"
      ],
      "text/plain": [
       "  league position  firstbloodassist  assist_missing\n",
       "0   DCup      top               NaN            True\n",
       "1   DCup      jng               NaN            True\n",
       "2   DCup      mid               NaN            True\n",
       "3   DCup      bot               NaN            True\n",
       "4   DCup      sup               NaN            True"
      ]
     },
     "execution_count": 10,
     "metadata": {},
     "output_type": "execute_result"
    }
   ],
   "source": [
    "df2 = pd.read_csv('2024_LoL_esports_match_data_from_OraclesElixir.csv')\n",
    "df2 = df2[['league', 'position','firstbloodassist']]\n",
    "df2 = df2[df2['position'] != 'team']\n",
    "df2['assist_missing'] = df2['firstbloodassist'].isna()\n",
    "df2.head()"
   ]
  },
  {
   "cell_type": "code",
   "execution_count": 11,
   "metadata": {},
   "outputs": [
    {
     "data": {
      "text/html": [
       "<div>\n",
       "<style scoped>\n",
       "    .dataframe tbody tr th:only-of-type {\n",
       "        vertical-align: middle;\n",
       "    }\n",
       "\n",
       "    .dataframe tbody tr th {\n",
       "        vertical-align: top;\n",
       "    }\n",
       "\n",
       "    .dataframe thead th {\n",
       "        text-align: right;\n",
       "    }\n",
       "</style>\n",
       "<table border=\"1\" class=\"dataframe\">\n",
       "  <thead>\n",
       "    <tr style=\"text-align: right;\">\n",
       "      <th></th>\n",
       "      <th>assist_missing = False</th>\n",
       "      <th>assist_missing = True</th>\n",
       "    </tr>\n",
       "    <tr>\n",
       "      <th>league</th>\n",
       "      <th></th>\n",
       "      <th></th>\n",
       "    </tr>\n",
       "  </thead>\n",
       "  <tbody>\n",
       "    <tr>\n",
       "      <th>AL</th>\n",
       "      <td>0.019282</td>\n",
       "      <td>0.000000</td>\n",
       "    </tr>\n",
       "    <tr>\n",
       "      <th>CBLOL</th>\n",
       "      <td>0.037493</td>\n",
       "      <td>0.000000</td>\n",
       "    </tr>\n",
       "    <tr>\n",
       "      <th>CBLOLA</th>\n",
       "      <td>0.032137</td>\n",
       "      <td>0.000000</td>\n",
       "    </tr>\n",
       "    <tr>\n",
       "      <th>DCup</th>\n",
       "      <td>0.000000</td>\n",
       "      <td>0.044118</td>\n",
       "    </tr>\n",
       "    <tr>\n",
       "      <th>EBL</th>\n",
       "      <td>0.027317</td>\n",
       "      <td>0.000000</td>\n",
       "    </tr>\n",
       "    <tr>\n",
       "      <th>ESLOL</th>\n",
       "      <td>0.028923</td>\n",
       "      <td>0.000000</td>\n",
       "    </tr>\n",
       "    <tr>\n",
       "      <th>GLL</th>\n",
       "      <td>0.025174</td>\n",
       "      <td>0.000000</td>\n",
       "    </tr>\n",
       "    <tr>\n",
       "      <th>HC</th>\n",
       "      <td>0.008570</td>\n",
       "      <td>0.000000</td>\n",
       "    </tr>\n",
       "    <tr>\n",
       "      <th>HM</th>\n",
       "      <td>0.026245</td>\n",
       "      <td>0.000000</td>\n",
       "    </tr>\n",
       "    <tr>\n",
       "      <th>LCK</th>\n",
       "      <td>0.077665</td>\n",
       "      <td>0.000000</td>\n",
       "    </tr>\n",
       "    <tr>\n",
       "      <th>LCKC</th>\n",
       "      <td>0.091055</td>\n",
       "      <td>0.000000</td>\n",
       "    </tr>\n",
       "    <tr>\n",
       "      <th>LCO</th>\n",
       "      <td>0.038029</td>\n",
       "      <td>0.000000</td>\n",
       "    </tr>\n",
       "    <tr>\n",
       "      <th>LCS</th>\n",
       "      <td>0.023567</td>\n",
       "      <td>0.000000</td>\n",
       "    </tr>\n",
       "    <tr>\n",
       "      <th>LDL</th>\n",
       "      <td>0.000000</td>\n",
       "      <td>0.455882</td>\n",
       "    </tr>\n",
       "    <tr>\n",
       "      <th>LEC</th>\n",
       "      <td>0.045528</td>\n",
       "      <td>0.000000</td>\n",
       "    </tr>\n",
       "    <tr>\n",
       "      <th>LFL</th>\n",
       "      <td>0.042849</td>\n",
       "      <td>0.000000</td>\n",
       "    </tr>\n",
       "    <tr>\n",
       "      <th>LFL2</th>\n",
       "      <td>0.008034</td>\n",
       "      <td>0.000000</td>\n",
       "    </tr>\n",
       "    <tr>\n",
       "      <th>LIT</th>\n",
       "      <td>0.027317</td>\n",
       "      <td>0.000000</td>\n",
       "    </tr>\n",
       "    <tr>\n",
       "      <th>LJL</th>\n",
       "      <td>0.039100</td>\n",
       "      <td>0.000000</td>\n",
       "    </tr>\n",
       "    <tr>\n",
       "      <th>LLA</th>\n",
       "      <td>0.050884</td>\n",
       "      <td>0.000000</td>\n",
       "    </tr>\n",
       "    <tr>\n",
       "      <th>LPL</th>\n",
       "      <td>0.000000</td>\n",
       "      <td>0.500000</td>\n",
       "    </tr>\n",
       "    <tr>\n",
       "      <th>LPLOL</th>\n",
       "      <td>0.027317</td>\n",
       "      <td>0.000000</td>\n",
       "    </tr>\n",
       "    <tr>\n",
       "      <th>LVP SL</th>\n",
       "      <td>0.042314</td>\n",
       "      <td>0.000000</td>\n",
       "    </tr>\n",
       "    <tr>\n",
       "      <th>NACL</th>\n",
       "      <td>0.049813</td>\n",
       "      <td>0.000000</td>\n",
       "    </tr>\n",
       "    <tr>\n",
       "      <th>NEXO</th>\n",
       "      <td>0.004285</td>\n",
       "      <td>0.000000</td>\n",
       "    </tr>\n",
       "    <tr>\n",
       "      <th>NLC</th>\n",
       "      <td>0.029459</td>\n",
       "      <td>0.000000</td>\n",
       "    </tr>\n",
       "    <tr>\n",
       "      <th>PCS</th>\n",
       "      <td>0.048741</td>\n",
       "      <td>0.000000</td>\n",
       "    </tr>\n",
       "    <tr>\n",
       "      <th>PRM</th>\n",
       "      <td>0.045528</td>\n",
       "      <td>0.000000</td>\n",
       "    </tr>\n",
       "    <tr>\n",
       "      <th>TCL</th>\n",
       "      <td>0.027852</td>\n",
       "      <td>0.000000</td>\n",
       "    </tr>\n",
       "    <tr>\n",
       "      <th>UL</th>\n",
       "      <td>0.029459</td>\n",
       "      <td>0.000000</td>\n",
       "    </tr>\n",
       "    <tr>\n",
       "      <th>VCS</th>\n",
       "      <td>0.046063</td>\n",
       "      <td>0.000000</td>\n",
       "    </tr>\n",
       "  </tbody>\n",
       "</table>\n",
       "</div>"
      ],
      "text/plain": [
       "        assist_missing = False  assist_missing = True\n",
       "league                                               \n",
       "AL                    0.019282               0.000000\n",
       "CBLOL                 0.037493               0.000000\n",
       "CBLOLA                0.032137               0.000000\n",
       "DCup                  0.000000               0.044118\n",
       "EBL                   0.027317               0.000000\n",
       "ESLOL                 0.028923               0.000000\n",
       "GLL                   0.025174               0.000000\n",
       "HC                    0.008570               0.000000\n",
       "HM                    0.026245               0.000000\n",
       "LCK                   0.077665               0.000000\n",
       "LCKC                  0.091055               0.000000\n",
       "LCO                   0.038029               0.000000\n",
       "LCS                   0.023567               0.000000\n",
       "LDL                   0.000000               0.455882\n",
       "LEC                   0.045528               0.000000\n",
       "LFL                   0.042849               0.000000\n",
       "LFL2                  0.008034               0.000000\n",
       "LIT                   0.027317               0.000000\n",
       "LJL                   0.039100               0.000000\n",
       "LLA                   0.050884               0.000000\n",
       "LPL                   0.000000               0.500000\n",
       "LPLOL                 0.027317               0.000000\n",
       "LVP SL                0.042314               0.000000\n",
       "NACL                  0.049813               0.000000\n",
       "NEXO                  0.004285               0.000000\n",
       "NLC                   0.029459               0.000000\n",
       "PCS                   0.048741               0.000000\n",
       "PRM                   0.045528               0.000000\n",
       "TCL                   0.027852               0.000000\n",
       "UL                    0.029459               0.000000\n",
       "VCS                   0.046063               0.000000"
      ]
     },
     "execution_count": 11,
     "metadata": {},
     "output_type": "execute_result"
    }
   ],
   "source": [
    "league_dist = (\n",
    "    df2\n",
    "    .assign(assist_missing=df2['firstbloodassist'].isna())\n",
    "    .pivot_table(index='league', columns='assist_missing', aggfunc='size')\n",
    ")\n",
    "league_dist.columns = ['assist_missing = False', 'assist_missing = True']\n",
    "league_dist = (league_dist / league_dist.sum()).fillna(0)\n",
    "league_dist"
   ]
  },
  {
   "cell_type": "code",
   "execution_count": 12,
   "metadata": {},
   "outputs": [
    {
     "data": {
      "application/vnd.plotly.v1+json": {
       "config": {
        "plotlyServerURL": "https://plot.ly"
       },
       "data": [
        {
         "alignmentgroup": "True",
         "bingroup": "x",
         "histnorm": "probability",
         "hovertemplate": "0=%{x}<br>probability=%{y}<extra></extra>",
         "legendgroup": "",
         "marker": {
          "color": "#636efa",
          "pattern": {
           "shape": ""
          }
         },
         "name": "",
         "nbinsx": 50,
         "offsetgroup": "",
         "orientation": "v",
         "showlegend": false,
         "type": "histogram",
         "x": [
          0.035778800004200945,
          0.034430563869897186,
          0.03773485827110705,
          0.036575664009578124,
          0.033115147505172395,
          0.04007884621443648,
          0.041102823025300106,
          0.040516661940619855,
          0.03804270770975772,
          0.037362682084081625,
          0.050308111996807306,
          0.038425386223048405,
          0.037130318115462566,
          0.03155686484556329,
          0.04010838400705756,
          0.030881433987628267,
          0.04497883781257549,
          0.03622121049812534,
          0.027236470378188774,
          0.03838534610416208,
          0.03831773737882942,
          0.03959377002005943,
          0.020129021078168812,
          0.04129317768885809,
          0.03558844534064294,
          0.029641503092935097,
          0.03621333375342639,
          0.03561929592404717,
          0.02452818299253284,
          0.040156300870642855,
          0.029988079859688925,
          0.037267504752302644,
          0.03966662990852472,
          0.043214447000010515,
          0.0424307109024649,
          0.0328683428379386,
          0.028920124557589504,
          0.033986184189798034,
          0.03649295819023912,
          0.04634348383166872,
          0.03550836510287026,
          0.03096020143461779,
          0.030593276410724964,
          0.035333107533318635,
          0.02798673031076384,
          0.03426187025426133,
          0.033275307980717726,
          0.03702398206202675,
          0.026409412184798933,
          0.038208775743827236,
          0.038173330392681976,
          0.03159887415062436,
          0.03340133589590094,
          0.026616176733146396,
          0.02527253536658369,
          0.02749509016247098,
          0.034329478979593986,
          0.043219041767751556,
          0.03557663022359452,
          0.03466949179243202,
          0.03821993446548412,
          0.03495961855551005,
          0.025041484188747812,
          0.040111009588623875,
          0.03250273060482897,
          0.030320215927828017,
          0.028120634970645996,
          0.035566784292720824,
          0.039790032242141636,
          0.033083640526376606,
          0.03442137433441507,
          0.034867723200688955,
          0.03149385088797168,
          0.03826325656132833,
          0.03559238371299243,
          0.032187004421479364,
          0.0255948255038491,
          0.02934743795750759,
          0.03734627219929213,
          0.031666482875957025,
          0.02436736612159593,
          0.04375597319806337,
          0.03834793156684205,
          0.03596784187697574,
          0.04728212924162701,
          0.036497552957980205,
          0.04662639024543935,
          0.03745457743890271,
          0.03037535314072068,
          0.034456819685560344,
          0.029937537414537307,
          0.03670891227406871,
          0.034196230715103394,
          0.03500097146517953,
          0.03605054769631473,
          0.045575501223521005,
          0.03457825283300251,
          0.03902533161095184,
          0.038896021718810715,
          0.038434575758530515,
          0.030121328124179506,
          0.03774339141119759,
          0.03473906970393942,
          0.04648329605007509,
          0.030904407826333538,
          0.036576320404969706,
          0.035329825556360724,
          0.043551177835890645,
          0.037881890838820806,
          0.040781845678817846,
          0.03949990547906362,
          0.03938766186710358,
          0.034974715649516375,
          0.03827441528298518,
          0.033242488211138774,
          0.029978233928815226,
          0.04433622672421943,
          0.03637743260132118,
          0.032202757910877275,
          0.04190428179841835,
          0.033195884138336657,
          0.0537377779178088,
          0.03301734459182709,
          0.0264579854437758,
          0.0331939149521619,
          0.025389373746284777,
          0.0333238812396946,
          0.03482637029101945,
          0.03186799626117186,
          0.0412800497810265,
          0.03511977903105537,
          0.039447393847737273,
          0.0391743333648403,
          0.03466883539704044,
          0.03923012697312455,
          0.03490841971496687,
          0.03573482151296511,
          0.03431897665332872,
          0.039718485144459484,
          0.030770503166451368,
          0.04276941092451979,
          0.043582028419294865,
          0.028282108236974492,
          0.037540565235199594,
          0.03702463845741833,
          0.03465373830303413,
          0.03647129714231703,
          0.030860429335097715,
          0.03282502074209437,
          0.03375775859352846,
          0.02653806568154847,
          0.0434487801548043,
          0.04320722665070314,
          0.03668134366762238,
          0.03301274982408604,
          0.04518166398857348,
          0.040586896247518836,
          0.042364414967915404,
          0.034909732505750024,
          0.039276731045926674,
          0.03447782433809089,
          0.033219514372433485,
          0.035041011584065876,
          0.049227685182267875,
          0.027031675016016048,
          0.03916120545700873,
          0.03912641650125503,
          0.0330770765724608,
          0.048170888601825314,
          0.03808996817795142,
          0.039779529915876355,
          0.030343189766533295,
          0.04264010103237866,
          0.042489130092315454,
          0.04279829232174927,
          0.038992511841372854,
          0.04637695999663925,
          0.04073195962905784,
          0.03364092021382738,
          0.04205065797074052,
          0.036525121564426506,
          0.034132560362120215,
          0.03823634435027359,
          0.036846755306300355,
          0.03678767972105822,
          0.03371968766081687,
          0.03439183654179401,
          0.029302146675488628,
          0.026486866841005274,
          0.029862051944505703,
          0.031174842727664163,
          0.04202768413203526,
          0.03236620036338049,
          0.03897347637501706,
          0.04823587174559166,
          0.04550723610279675,
          0.04192988121868994,
          0.03634395643635066,
          0.0331118655282145,
          0.04250882195406282,
          0.02900348677232009,
          0.036084680256676833,
          0.04211629750989846,
          0.03130809099215476,
          0.030306431624604856,
          0.03154964449625592,
          0.04406185345053929,
          0.042159619605742646,
          0.03626256340779482,
          0.04084748521797578,
          0.0321318672085867,
          0.04037947530377978,
          0.033296312633248254,
          0.04012807586880494,
          0.034997689488221656,
          0.03265829631263324,
          0.036003287228121045,
          0.035567440688112406,
          0.03883563334278543,
          0.03563570580883664,
          0.042394609155928034,
          0.035279939506600716,
          0.040717518930443085,
          0.039046992658873944,
          0.04329321444700001,
          0.037554349538422765,
          0.0370377663652499,
          0.03438658537866139,
          0.03951828455002782,
          0.028993640841446375,
          0.04109363348981801,
          0.031245077034563154,
          0.03899251184137287,
          0.041256419546929636,
          0.04057639392125355,
          0.038115567598223,
          0.04015104970751022,
          0.037931120493189224,
          0.046569283846371975,
          0.03104618923091464,
          0.04411436508186564,
          0.025668998183097563,
          0.040531759034626164,
          0.0403912904208282,
          0.037030546015942536,
          0.038967568816492854,
          0.030277550227375348,
          0.031957922429818195,
          0.04064334625119466,
          0.030597871178466032,
          0.03677849018557611,
          0.029375006563953907,
          0.03243118350714682,
          0.03152995263450855,
          0.03110854679311466,
          0.03876802461745279,
          0.04360303307182542,
          0.03754450360754907,
          0.038364997847023116,
          0.03519132612873751,
          0.047866321140132534,
          0.033009467847128146,
          0.03904108510034972,
          0.03978018631126792,
          0.031286429944232655,
          0.039587206066143646,
          0.0404483968198956,
          0.04027445204112711,
          0.04032039971853766,
          0.028815101294936835,
          0.04115992942436751,
          0.031078352605102028,
          0.036237620382914816,
          0.03173409160128968,
          0.03303638005818287,
          0.033732159173256865,
          0.04396273774641084,
          0.03861114611886533,
          0.03340330508207569,
          0.04056326601342196,
          0.03350307718159573,
          0.03525762206328702,
          0.030649726414400794,
          0.027909932049949064,
          0.03231237594127098,
          0.04658044256802883,
          0.03161922240776331,
          0.03643650818656333,
          0.03519723368726173,
          0.03709487276431728,
          0.02932840249115178,
          0.032224418958799364,
          0.03434063770125082,
          0.039016798470861286,
          0.030777723515758745,
          0.043312249913355805,
          0.026651622084291664,
          0.026860355818813866,
          0.032692428872995366,
          0.038525158322568455,
          0.02882757280737684,
          0.03349716962307152,
          0.031059973534137815,
          0.026993604083304448,
          0.0367660186731361,
          0.029951978113152075,
          0.03218372244452147,
          0.03333700914752617,
          0.04145530735057816,
          0.04109232069903485,
          0.02819021288215339,
          0.03661307854689813,
          0.028540728021256703,
          0.029758341472636184,
          0.03258018526103531,
          0.03959180083388472,
          0.03337114170788829,
          0.029741931587846708,
          0.03731870359284583,
          0.03460582143944885,
          0.03928788976758353,
          0.04605270067319911,
          0.03967385025783211,
          0.039129698478212925,
          0.03887173508932229,
          0.036187734333154795,
          0.04258890219183548,
          0.03737909196887109,
          0.037736827457281796,
          0.044168845899366704,
          0.034563812134387764,
          0.03288934749046914,
          0.03544075637753762,
          0.038145105390844064,
          0.029857457176764655,
          0.03203143871367507,
          0.03424939874182131,
          0.033291061470115624,
          0.035741385466880916,
          0.04968256718863229,
          0.03094641713139461,
          0.024555095203587597,
          0.03379714231702322,
          0.04349407143682328,
          0.036838878561601396,
          0.042582338237919695,
          0.032653701544892194,
          0.03832692691431154,
          0.027483275045422573,
          0.03548932963651448,
          0.035262873226419654,
          0.035110589495573254,
          0.03958326769379418,
          0.03448635747818142,
          0.03645554365291913,
          0.0350679237951206,
          0.03259593875043321,
          0.03823109318714097,
          0.03716248148964995,
          0.039281325813667736,
          0.04207494460022895,
          0.03153323461146644,
          0.03578470756272514,
          0.0339146370921159,
          0.041742152136698296,
          0.04334900805528426,
          0.03666362099204974,
          0.04536282911664935,
          0.030646444437442875,
          0.030876839219887202,
          0.044211511599819356,
          0.041757249230704604,
          0.03619561107785376,
          0.03052501129000075,
          0.029966418811766808,
          0.03970798281819423,
          0.03661307854689813,
          0.03669250238927922,
          0.03476992028734365,
          0.03150369681884538,
          0.04157870968419505,
          0.05132618124914669,
          0.04154982828696556,
          0.043689677263513874,
          0.030551923501055477,
          0.03737515359652163,
          0.033699339403677926,
          0.04636055011184976,
          0.03345187834105254,
          0.03662883203629605,
          0.036882857052837184,
          0.039952818299253276,
          0.04549804656731465,
          0.04283242488211138,
          0.033508984740119936,
          0.025420880725080596,
          0.03860655135112427,
          0.03205703813394667,
          0.04134765850635916,
          0.0318128590482792,
          0.0331085835512566,
          0.04194957308043732,
          0.03468852725878782,
          0.03639778085846015,
          0.03515588077759224,
          0.03658025877731917,
          0.03942179442746568,
          0.04225020216978062,
          0.03970798281819423,
          0.03618182677463057,
          0.03440627724040876,
          0.02418685738891165,
          0.040668289276074646,
          0.038326926914311485,
          0.04261384521671549,
          0.030824983983952427,
          0.03365601730783368,
          0.027768807040759524,
          0.026756645346944354,
          0.03659141749897603,
          0.034573001669869874,
          0.03334029112448407,
          0.03141705262715691,
          0.0318410840501171,
          0.038571105999979,
          0.03884482287826754,
          0.0340505109381728,
          0.03736924603799742,
          0.027472772719157296,
          0.03595011920140312,
          0.03895378451326971,
          0.03592911454887256,
          0.031335003203209505,
          0.04202243296890261,
          0.030855178171965085,
          0.031201754938718938,
          0.05267901215119149,
          0.03355755799909679,
          0.027931593097871174,
          0.04276612894756188,
          0.03179185439574865,
          0.04117830849533173,
          0.03872798449856641,
          0.0436758929602907,
          0.024478953338164404,
          0.04113892477183696,
          0.033975025468141185,
          0.04030136425218185,
          0.03919533801737084,
          0.03098186248253989,
          0.0342874696745329,
          0.03187193463352132,
          0.035410562189524986,
          0.04182617074682041,
          0.027455050043584645,
          0.030823014797777704,
          0.03639778085846014,
          0.032713433525525915,
          0.03865249902853483,
          0.04051337996366196,
          0.03547817091485764,
          0.032321565476753106,
          0.03752940651354275,
          0.03835055714840838,
          0.03629669596815694,
          0.03290050621212599,
          0.033204417278427184,
          0.04456530871588056,
          0.03589695117468522,
          0.041868836447273086,
          0.021716185135007404,
          0.029207625739101212,
          0.030699612464160798,
          0.027952597750401716,
          0.04308054234012833,
          0.03427762374365921,
          0.03781231292731341,
          0.027040864551498154,
          0.041753310858355125,
          0.030324154300177483,
          0.03342562252538937,
          0.03595143199218627,
          0.028014955312601734,
          0.03188046777361185,
          0.041650913177268774,
          0.037071898925612023,
          0.03587069535902204,
          0.04794443219173046,
          0.024392309146475936,
          0.03885335601835805,
          0.03749921232553011,
          0.03091556654799039,
          0.029926378692880465,
          0.03325233414201246,
          0.047701565896846154,
          0.032152215465725664,
          0.02566046504300703,
          0.03967647583939842,
          0.040630218343363056,
          0.03780443618261446,
          0.037828066416711305,
          0.025103841750947833,
          0.041377196298980234,
          0.03349979520463782,
          0.03702923322515937,
          0.03559435289916716,
          0.03059196361994182,
          0.03441152840354138,
          0.03030774441538801,
          0.03412074524507179,
          0.044410399403467866,
          0.038523845531785304,
          0.03536461451211442,
          0.03412534001281285,
          0.03737580999191322,
          0.031049471207872544,
          0.03148859972483906,
          0.046057951836331754,
          0.029968387997941538,
          0.04334375689215162,
          0.024138284129934785,
          0.02718920990999506,
          0.0322900584979573,
          0.03489069703939422,
          0.02841273091989875,
          0.03642075469716542,
          0.03419229234275392,
          0.0316133148492391,
          0.0349228604135816,
          0.04023900668998182,
          0.03423430164781499,
          0.035200515664219625,
          0.03195135847590241,
          0.035862162218931515,
          0.030911628175640922,
          0.039517628154636254,
          0.037060740203955174,
          0.039703388050453196,
          0.038981353119716025,
          0.03914742115378555,
          0.040099850866967046,
          0.03223295209888989,
          0.033570029511536814,
          0.040105102030099676,
          0.030550610710272336,
          0.03964759444216894,
          0.03585428547423254,
          0.04116714977367489,
          0.027170174443639273,
          0.04883581713349506,
          0.04868550258882345,
          0.0478518804415178,
          0.027875799489586947,
          0.04643669197727297,
          0.03425858827730344,
          0.027319176197527748,
          0.041721147484167755,
          0.049162045643109935,
          0.034715439469842575,
          0.03229202768413204,
          0.03143411890733796,
          0.03714541520946888,
          0.03361138242120628,
          0.02804908787296386,
          0.03727078672926051,
          0.03897150718884235,
          0.025307980717728967,
          0.028110789039772308,
          0.03469049644496256,
          0.03278563701859963,
          0.030028119978575248,
          0.040098538076183875,
          0.03191591312475714,
          0.029860082758330967,
          0.04051337996366195,
          0.03658747912662656,
          0.04025213459781343,
          0.04470446453889537,
          0.03675682913765399,
          0.03513618891584486,
          0.030785600260457686,
          0.03226117710072781,
          0.03793768444710503,
          0.03828754319081676,
          0.0332634928636693,
          0.031199785752544198,
          0.037266848356911075,
          0.030596558387682885,
          0.03640040644002646,
          0.035607480806998756,
          0.032859153302456486,
          0.02811735299368809,
          0.037852353046199744,
          0.03828360481846729,
          0.030371414768371206,
          0.03756288267851329,
          0.036028886648392634,
          0.03593239652583047,
          0.038471990295850536,
          0.03218306604912988,
          0.03112889505025361,
          0.03644110295430438,
          0.04235522543243328,
          0.04802845080185261,
          0.034027537099467514,
          0.036769300650094,
          0.038733892057090644,
          0.04451345347994582,
          0.0394053845426762,
          0.03981497526702166,
          0.030873557242929305,
          0.023488452692271344,
          0.02881838327189472,
          0.043888565067162384,
          0.03810966003969879,
          0.03551886742913556,
          0.03133303401703477,
          0.03276528876146066,
          0.03735611813016583,
          0.03641484713864121,
          0.03411024291880651,
          0.03461172899797306,
          0.037675782685864925,
          0.043165873741033645,
          0.04169489166850458,
          0.03516703949924909,
          0.035810963378388315,
          0.0341233708266381,
          0.038230436791749374,
          0.0364968965625886,
          0.047014976317254265,
          0.04237097892183119,
          0.03241411722696578,
          0.02801823728955964,
          0.040149736916727054,
          0.03383324406356007,
          0.02690827268239916,
          0.03409842780175809,
          0.043496040622998,
          0.030700925254943976,
          0.03254473990989003,
          0.031690113110053875,
          0.03741125534305848,
          0.034809304010838406,
          0.037123754161546785,
          0.027468177951416234,
          0.03434260688742556,
          0.03624680991839692,
          0.042405767877584884,
          0.037042361132990954,
          0.028242724513479735,
          0.037020043689677276,
          0.03643256981421384,
          0.043763849942762334,
          0.03887829904323808,
          0.03285652772089018,
          0.02647242614239054,
          0.04340742724513478,
          0.040833044519361046,
          0.03657828959114444,
          0.03523989938771439,
          0.031491225306405364,
          0.03552477498765975,
          0.03285127655775753,
          0.03870566705525274,
          0.03700166461871304,
          0.031018620624468328,
          0.03268389573290483,
          0.035216925549009105,
          0.03427368537130976,
          0.03362844870138734,
          0.03809587573647562,
          0.03238064106199523,
          0.03329303065629036,
          0.03622974363821587,
          0.030056344980413166,
          0.03115712005209155,
          0.04175790562609619,
          0.033648140563134754,
          0.02870482686915152,
          0.027961130890492243,
          0.0383052658663894,
          0.03736530766564795,
          0.03996463341630171,
          0.04664673850257832,
          0.03184699160864132,
          0.03601313315899472,
          0.036893359379102465,
          0.04649708035329826,
          0.030020899629267902,
          0.03596521629540944,
          0.03356215276683784,
          0.04002699097850172,
          0.04351179411239592,
          0.029754403100286736,
          0.03719530125922894,
          0.036133253515653704,
          0.0430936702479599,
          0.03297074051902496,
          0.03597571862167469,
          0.031220790405074715,
          0.029846954850499385,
          0.027548914584580496,
          0.03664327273491077,
          0.029652661814591943,
          0.03451983364315195,
          0.03894262579161284,
          0.041209159078735944,
          0.026509840679710565,
          0.03319588413833664,
          0.03966269153617527,
          0.03636889946123066,
          0.03733576987302687,
          0.026992947687912876,
          0.038695821124379054,
          0.03873979961561487,
          0.044178035434848814,
          0.04211170274215737,
          0.03276594515685225,
          0.040752964281588366,
          0.0370791192749194,
          0.029881743806253077,
          0.04447603894262579,
          0.03230843756892153,
          0.045602413434575766,
          0.04052847705766826,
          0.03434720165516662,
          0.026710697669533805,
          0.03991146538958381,
          0.02786529716332168,
          0.03431438188558765,
          0.04481276977850593,
          0.037507745465620634,
          0.03532916916096915,
          0.03115646365669995,
          0.03952616129472677,
          0.03161265845384752,
          0.029145268176901176,
          0.030266391505718526,
          0.02552787317390801,
          0.03195726603442662,
          0.038305922261780964,
          0.029975608347248914,
          0.036920271590157205,
          0.03851334320552004,
          0.03765806001029229,
          0.04350916853082957,
          0.04274709348120608,
          0.03610765409538212,
          0.036730573321990825,
          0.04008278458678596,
          0.045011001186762864,
          0.031401955533150595,
          0.03397305628196646,
          0.02834906056691558,
          0.04290462837518509,
          0.0332543033281872,
          0.04947252066332691,
          0.029311992606362306,
          0.03203143871367509,
          0.028826260016593677,
          0.033746599871871605,
          0.04488431687618809,
          0.02343134629320395,
          0.02811669659829652,
          0.02661158196540534,
          0.0367594547192203,
          0.03868860077507166,
          0.03318078704433032,
          0.03385556150687377,
          0.033629761492170514,
          0.03720711637627735,
          0.033065917850803955,
          0.03830592226178098,
          0.0391336368505624,
          0.0387483327557054,
          0.037138194860161525,
          0.02982595019796885,
          0.04156229979940555,
          0.038410945524433665,
          0.035896951174685186,
          0.03193626138189609,
          0.02339327536049235,
          0.03386409464696431,
          0.03250469979100372,
          0.032569682934770056,
          0.04322954409401684,
          0.029508911223836087,
          0.0349103889011416,
          0.0324167428085321,
          0.04132468466765389,
          0.042539672537467065,
          0.032396394551393135,
          0.033623853933646294,
          0.03638924771836963,
          0.039493997920539384,
          0.03667806169066448,
          0.04406250984593087,
          0.032557211422330035,
          0.039646938046777366,
          0.04690273270529423,
          0.030152835102975308,
          0.04604744951006648,
          0.04663032861778883,
          0.036708255878677126,
          0.036532998309125465,
          0.03330025100559774,
          0.039874707247655336,
          0.03865578100549273,
          0.03544206916832079,
          0.035734821512965115,
          0.03238720501591103,
          0.03543681800518814,
          0.03775258094667969,
          0.03790355188674292,
          0.03348798008758941,
          0.035262216831028086,
          0.03016990138315637,
          0.0324423422288037,
          0.03259790793660795,
          0.024416595775964365,
          0.043667359820200174,
          0.040155644475251266,
          0.038290825167774656,
          0.029165616434040136,
          0.029260137370427552,
          0.05049255910184105,
          0.03450276736297091,
          0.04245762311351966,
          0.04719942342228803,
          0.035371178466030224,
          0.031147930516609423,
          0.04261515800749866,
          0.03645160528056965,
          0.03424874234642973,
          0.03422708129850762,
          0.03933974500351827,
          0.031167622378356814,
          0.03466489702469097,
          0.02865034605165044,
          0.034898573784093175,
          0.043235451652541036,
          0.035279283111209106,
          0.03249222827856369,
          0.03188178056439502,
          0.04137653990358865,
          0.04090262243086845,
          0.02653544009998214,
          0.03305147715218921,
          0.03932792988646985,
          0.04264535219551131,
          0.04369952319438755,
          0.042886249304220886,
          0.03946117815096044,
          0.028367439637879795,
          0.030475125240240722,
          0.03331337891342934,
          0.03482702668641104,
          0.03837550017328837,
          0.03869188275202956,
          0.03943229675373094,
          0.032956299820410234,
          0.04402969007635191,
          0.03539677788630182,
          0.03384571557600007,
          0.03288278353655334,
          0.03277185271537647,
          0.032870312024113335,
          0.03832036296039571,
          0.04279697953096611,
          0.0398320415472027,
          0.03365536091244212,
          0.03848314901750738,
          0.02755350935232154,
          0.04365291912158545,
          0.03658354075427706,
          0.029846954850499378,
          0.038034830965058754,
          0.03375513301196215,
          0.037568133841645944,
          0.02471394288834977,
          0.0435465830681496,
          0.04136866315888969,
          0.036185108751588466,
          0.03174525032294653,
          0.03755172395685646,
          0.033233298675656664,
          0.039425732799815164,
          0.03301471901026077,
          0.027629651217744734,
          0.03885335601835806,
          0.030764595607927155,
          0.04072277009357573,
          0.032774478296942765,
          0.039795939800665855,
          0.03707715008874467,
          0.032570995725553206,
          0.03924128569478139,
          0.04116911895984959,
          0.033195884138336657,
          0.040063749120430196,
          0.030860429335097726,
          0.03959508281084262,
          0.037359400107123714,
          0.02873108268481468,
          0.0368762930989214,
          0.035926488967306255,
          0.031532578216074844,
          0.04787288509404833,
          0.045853156474159024,
          0.03512437379879643,
          0.03361138242120629,
          0.03692683554407303,
          0.03774667338815549,
          0.032355041641723654,
          0.03033137464948485,
          0.02559745108541542,
          0.03446535282565087,
          0.03382339813268639,
          0.033990122562147514,
          0.033080358549418695,
          0.03444763015007825,
          0.046627703036222545,
          0.04022784796832499,
          0.05389793839335412,
          0.03770466408309441,
          0.03342299694382306,
          0.0387608042681454,
          0.03829410714473255,
          0.04155442305470661,
          0.03433013537498557,
          0.027472772719157303,
          0.03183714567776762,
          0.034800114475356296,
          0.0382520978396715,
          0.024844565571274027,
          0.04396995809571821,
          0.03659798145289181,
          0.031295619479714765,
          0.04114155035340328,
          0.03924194209017296,
          0.041625313756997184,
          0.03548736045033976,
          0.04348882027369064,
          0.040141203776636526,
          0.03444566096390351,
          0.036703004715544496,
          0.026148166818950404,
          0.04056260961803038,
          0.03889208334646122,
          0.03327136960836827,
          0.03284602539462492,
          0.03927476185975194,
          0.04076346660785365,
          0.035285190669733346,
          0.04941541426425953,
          0.03261628700757219,
          0.040745743932281,
          0.037998729218521904,
          0.03778802629782497,
          0.04356364934833064,
          0.03785235304619973,
          0.03316700274110715,
          0.033132870180745046,
          0.0315850898474012,
          0.03863871472531165,
          0.0378083745549639,
          0.02820334078998499,
          0.03148466135248956,
          0.04257117951626284,
          0.031075070628144127,
          0.03180432590818866,
          0.031858806725689734,
          0.04166338468970875,
          0.04165550794500983,
          0.040119542728714395,
          0.03661110936072338,
          0.042227228331075325,
          0.03443975340537929,
          0.03754647279372381,
          0.03851793797326108,
          0.038748332755705384,
          0.027520689582742574,
          0.031427554953422185,
          0.032924792841614425,
          0.037737483852673365,
          0.03610831049077372,
          0.030097697890082657,
          0.043031312685759895,
          0.03206622766942877,
          0.04249503765083966,
          0.03595143199218628,
          0.03264582480019325,
          0.04345074934097903,
          0.035991472111072606,
          0.03789830072361028,
          0.027354621548673033,
          0.03317881785815558,
          0.03950581303758783,
          0.03261366142600586
         ],
         "xaxis": "x",
         "yaxis": "y"
        }
       ],
       "layout": {
        "annotations": [
         {
          "showarrow": false,
          "text": "<span style=\"color:red\">Observed TVD = 1.0</span>",
          "x": 0.8999999999999999,
          "y": 0.08
         }
        ],
        "barmode": "relative",
        "legend": {
         "tracegroupgap": 0
        },
        "shapes": [
         {
          "line": {
           "color": "red"
          },
          "type": "line",
          "x0": 0.9999999999999999,
          "x1": 0.9999999999999999,
          "xref": "x",
          "y0": 0,
          "y1": 1,
          "yref": "y domain"
         }
        ],
        "template": {
         "data": {
          "bar": [
           {
            "error_x": {
             "color": "#2a3f5f"
            },
            "error_y": {
             "color": "#2a3f5f"
            },
            "marker": {
             "line": {
              "color": "#E5ECF6",
              "width": 0.5
             },
             "pattern": {
              "fillmode": "overlay",
              "size": 10,
              "solidity": 0.2
             }
            },
            "type": "bar"
           }
          ],
          "barpolar": [
           {
            "marker": {
             "line": {
              "color": "#E5ECF6",
              "width": 0.5
             },
             "pattern": {
              "fillmode": "overlay",
              "size": 10,
              "solidity": 0.2
             }
            },
            "type": "barpolar"
           }
          ],
          "carpet": [
           {
            "aaxis": {
             "endlinecolor": "#2a3f5f",
             "gridcolor": "white",
             "linecolor": "white",
             "minorgridcolor": "white",
             "startlinecolor": "#2a3f5f"
            },
            "baxis": {
             "endlinecolor": "#2a3f5f",
             "gridcolor": "white",
             "linecolor": "white",
             "minorgridcolor": "white",
             "startlinecolor": "#2a3f5f"
            },
            "type": "carpet"
           }
          ],
          "choropleth": [
           {
            "colorbar": {
             "outlinewidth": 0,
             "ticks": ""
            },
            "type": "choropleth"
           }
          ],
          "contour": [
           {
            "colorbar": {
             "outlinewidth": 0,
             "ticks": ""
            },
            "colorscale": [
             [
              0,
              "#0d0887"
             ],
             [
              0.1111111111111111,
              "#46039f"
             ],
             [
              0.2222222222222222,
              "#7201a8"
             ],
             [
              0.3333333333333333,
              "#9c179e"
             ],
             [
              0.4444444444444444,
              "#bd3786"
             ],
             [
              0.5555555555555556,
              "#d8576b"
             ],
             [
              0.6666666666666666,
              "#ed7953"
             ],
             [
              0.7777777777777778,
              "#fb9f3a"
             ],
             [
              0.8888888888888888,
              "#fdca26"
             ],
             [
              1,
              "#f0f921"
             ]
            ],
            "type": "contour"
           }
          ],
          "contourcarpet": [
           {
            "colorbar": {
             "outlinewidth": 0,
             "ticks": ""
            },
            "type": "contourcarpet"
           }
          ],
          "heatmap": [
           {
            "colorbar": {
             "outlinewidth": 0,
             "ticks": ""
            },
            "colorscale": [
             [
              0,
              "#0d0887"
             ],
             [
              0.1111111111111111,
              "#46039f"
             ],
             [
              0.2222222222222222,
              "#7201a8"
             ],
             [
              0.3333333333333333,
              "#9c179e"
             ],
             [
              0.4444444444444444,
              "#bd3786"
             ],
             [
              0.5555555555555556,
              "#d8576b"
             ],
             [
              0.6666666666666666,
              "#ed7953"
             ],
             [
              0.7777777777777778,
              "#fb9f3a"
             ],
             [
              0.8888888888888888,
              "#fdca26"
             ],
             [
              1,
              "#f0f921"
             ]
            ],
            "type": "heatmap"
           }
          ],
          "heatmapgl": [
           {
            "colorbar": {
             "outlinewidth": 0,
             "ticks": ""
            },
            "colorscale": [
             [
              0,
              "#0d0887"
             ],
             [
              0.1111111111111111,
              "#46039f"
             ],
             [
              0.2222222222222222,
              "#7201a8"
             ],
             [
              0.3333333333333333,
              "#9c179e"
             ],
             [
              0.4444444444444444,
              "#bd3786"
             ],
             [
              0.5555555555555556,
              "#d8576b"
             ],
             [
              0.6666666666666666,
              "#ed7953"
             ],
             [
              0.7777777777777778,
              "#fb9f3a"
             ],
             [
              0.8888888888888888,
              "#fdca26"
             ],
             [
              1,
              "#f0f921"
             ]
            ],
            "type": "heatmapgl"
           }
          ],
          "histogram": [
           {
            "marker": {
             "pattern": {
              "fillmode": "overlay",
              "size": 10,
              "solidity": 0.2
             }
            },
            "type": "histogram"
           }
          ],
          "histogram2d": [
           {
            "colorbar": {
             "outlinewidth": 0,
             "ticks": ""
            },
            "colorscale": [
             [
              0,
              "#0d0887"
             ],
             [
              0.1111111111111111,
              "#46039f"
             ],
             [
              0.2222222222222222,
              "#7201a8"
             ],
             [
              0.3333333333333333,
              "#9c179e"
             ],
             [
              0.4444444444444444,
              "#bd3786"
             ],
             [
              0.5555555555555556,
              "#d8576b"
             ],
             [
              0.6666666666666666,
              "#ed7953"
             ],
             [
              0.7777777777777778,
              "#fb9f3a"
             ],
             [
              0.8888888888888888,
              "#fdca26"
             ],
             [
              1,
              "#f0f921"
             ]
            ],
            "type": "histogram2d"
           }
          ],
          "histogram2dcontour": [
           {
            "colorbar": {
             "outlinewidth": 0,
             "ticks": ""
            },
            "colorscale": [
             [
              0,
              "#0d0887"
             ],
             [
              0.1111111111111111,
              "#46039f"
             ],
             [
              0.2222222222222222,
              "#7201a8"
             ],
             [
              0.3333333333333333,
              "#9c179e"
             ],
             [
              0.4444444444444444,
              "#bd3786"
             ],
             [
              0.5555555555555556,
              "#d8576b"
             ],
             [
              0.6666666666666666,
              "#ed7953"
             ],
             [
              0.7777777777777778,
              "#fb9f3a"
             ],
             [
              0.8888888888888888,
              "#fdca26"
             ],
             [
              1,
              "#f0f921"
             ]
            ],
            "type": "histogram2dcontour"
           }
          ],
          "mesh3d": [
           {
            "colorbar": {
             "outlinewidth": 0,
             "ticks": ""
            },
            "type": "mesh3d"
           }
          ],
          "parcoords": [
           {
            "line": {
             "colorbar": {
              "outlinewidth": 0,
              "ticks": ""
             }
            },
            "type": "parcoords"
           }
          ],
          "pie": [
           {
            "automargin": true,
            "type": "pie"
           }
          ],
          "scatter": [
           {
            "fillpattern": {
             "fillmode": "overlay",
             "size": 10,
             "solidity": 0.2
            },
            "type": "scatter"
           }
          ],
          "scatter3d": [
           {
            "line": {
             "colorbar": {
              "outlinewidth": 0,
              "ticks": ""
             }
            },
            "marker": {
             "colorbar": {
              "outlinewidth": 0,
              "ticks": ""
             }
            },
            "type": "scatter3d"
           }
          ],
          "scattercarpet": [
           {
            "marker": {
             "colorbar": {
              "outlinewidth": 0,
              "ticks": ""
             }
            },
            "type": "scattercarpet"
           }
          ],
          "scattergeo": [
           {
            "marker": {
             "colorbar": {
              "outlinewidth": 0,
              "ticks": ""
             }
            },
            "type": "scattergeo"
           }
          ],
          "scattergl": [
           {
            "marker": {
             "colorbar": {
              "outlinewidth": 0,
              "ticks": ""
             }
            },
            "type": "scattergl"
           }
          ],
          "scattermapbox": [
           {
            "marker": {
             "colorbar": {
              "outlinewidth": 0,
              "ticks": ""
             }
            },
            "type": "scattermapbox"
           }
          ],
          "scatterpolar": [
           {
            "marker": {
             "colorbar": {
              "outlinewidth": 0,
              "ticks": ""
             }
            },
            "type": "scatterpolar"
           }
          ],
          "scatterpolargl": [
           {
            "marker": {
             "colorbar": {
              "outlinewidth": 0,
              "ticks": ""
             }
            },
            "type": "scatterpolargl"
           }
          ],
          "scatterternary": [
           {
            "marker": {
             "colorbar": {
              "outlinewidth": 0,
              "ticks": ""
             }
            },
            "type": "scatterternary"
           }
          ],
          "surface": [
           {
            "colorbar": {
             "outlinewidth": 0,
             "ticks": ""
            },
            "colorscale": [
             [
              0,
              "#0d0887"
             ],
             [
              0.1111111111111111,
              "#46039f"
             ],
             [
              0.2222222222222222,
              "#7201a8"
             ],
             [
              0.3333333333333333,
              "#9c179e"
             ],
             [
              0.4444444444444444,
              "#bd3786"
             ],
             [
              0.5555555555555556,
              "#d8576b"
             ],
             [
              0.6666666666666666,
              "#ed7953"
             ],
             [
              0.7777777777777778,
              "#fb9f3a"
             ],
             [
              0.8888888888888888,
              "#fdca26"
             ],
             [
              1,
              "#f0f921"
             ]
            ],
            "type": "surface"
           }
          ],
          "table": [
           {
            "cells": {
             "fill": {
              "color": "#EBF0F8"
             },
             "line": {
              "color": "white"
             }
            },
            "header": {
             "fill": {
              "color": "#C8D4E3"
             },
             "line": {
              "color": "white"
             }
            },
            "type": "table"
           }
          ]
         },
         "layout": {
          "annotationdefaults": {
           "arrowcolor": "#2a3f5f",
           "arrowhead": 0,
           "arrowwidth": 1
          },
          "autotypenumbers": "strict",
          "coloraxis": {
           "colorbar": {
            "outlinewidth": 0,
            "ticks": ""
           }
          },
          "colorscale": {
           "diverging": [
            [
             0,
             "#8e0152"
            ],
            [
             0.1,
             "#c51b7d"
            ],
            [
             0.2,
             "#de77ae"
            ],
            [
             0.3,
             "#f1b6da"
            ],
            [
             0.4,
             "#fde0ef"
            ],
            [
             0.5,
             "#f7f7f7"
            ],
            [
             0.6,
             "#e6f5d0"
            ],
            [
             0.7,
             "#b8e186"
            ],
            [
             0.8,
             "#7fbc41"
            ],
            [
             0.9,
             "#4d9221"
            ],
            [
             1,
             "#276419"
            ]
           ],
           "sequential": [
            [
             0,
             "#0d0887"
            ],
            [
             0.1111111111111111,
             "#46039f"
            ],
            [
             0.2222222222222222,
             "#7201a8"
            ],
            [
             0.3333333333333333,
             "#9c179e"
            ],
            [
             0.4444444444444444,
             "#bd3786"
            ],
            [
             0.5555555555555556,
             "#d8576b"
            ],
            [
             0.6666666666666666,
             "#ed7953"
            ],
            [
             0.7777777777777778,
             "#fb9f3a"
            ],
            [
             0.8888888888888888,
             "#fdca26"
            ],
            [
             1,
             "#f0f921"
            ]
           ],
           "sequentialminus": [
            [
             0,
             "#0d0887"
            ],
            [
             0.1111111111111111,
             "#46039f"
            ],
            [
             0.2222222222222222,
             "#7201a8"
            ],
            [
             0.3333333333333333,
             "#9c179e"
            ],
            [
             0.4444444444444444,
             "#bd3786"
            ],
            [
             0.5555555555555556,
             "#d8576b"
            ],
            [
             0.6666666666666666,
             "#ed7953"
            ],
            [
             0.7777777777777778,
             "#fb9f3a"
            ],
            [
             0.8888888888888888,
             "#fdca26"
            ],
            [
             1,
             "#f0f921"
            ]
           ]
          },
          "colorway": [
           "#636efa",
           "#EF553B",
           "#00cc96",
           "#ab63fa",
           "#FFA15A",
           "#19d3f3",
           "#FF6692",
           "#B6E880",
           "#FF97FF",
           "#FECB52"
          ],
          "font": {
           "color": "#2a3f5f"
          },
          "geo": {
           "bgcolor": "white",
           "lakecolor": "white",
           "landcolor": "#E5ECF6",
           "showlakes": true,
           "showland": true,
           "subunitcolor": "white"
          },
          "hoverlabel": {
           "align": "left"
          },
          "hovermode": "closest",
          "mapbox": {
           "style": "light"
          },
          "paper_bgcolor": "white",
          "plot_bgcolor": "#E5ECF6",
          "polar": {
           "angularaxis": {
            "gridcolor": "white",
            "linecolor": "white",
            "ticks": ""
           },
           "bgcolor": "#E5ECF6",
           "radialaxis": {
            "gridcolor": "white",
            "linecolor": "white",
            "ticks": ""
           }
          },
          "scene": {
           "xaxis": {
            "backgroundcolor": "#E5ECF6",
            "gridcolor": "white",
            "gridwidth": 2,
            "linecolor": "white",
            "showbackground": true,
            "ticks": "",
            "zerolinecolor": "white"
           },
           "yaxis": {
            "backgroundcolor": "#E5ECF6",
            "gridcolor": "white",
            "gridwidth": 2,
            "linecolor": "white",
            "showbackground": true,
            "ticks": "",
            "zerolinecolor": "white"
           },
           "zaxis": {
            "backgroundcolor": "#E5ECF6",
            "gridcolor": "white",
            "gridwidth": 2,
            "linecolor": "white",
            "showbackground": true,
            "ticks": "",
            "zerolinecolor": "white"
           }
          },
          "shapedefaults": {
           "line": {
            "color": "#2a3f5f"
           }
          },
          "ternary": {
           "aaxis": {
            "gridcolor": "white",
            "linecolor": "white",
            "ticks": ""
           },
           "baxis": {
            "gridcolor": "white",
            "linecolor": "white",
            "ticks": ""
           },
           "bgcolor": "#E5ECF6",
           "caxis": {
            "gridcolor": "white",
            "linecolor": "white",
            "ticks": ""
           }
          },
          "title": {
           "x": 0.05
          },
          "xaxis": {
           "automargin": true,
           "gridcolor": "white",
           "linecolor": "white",
           "ticks": "",
           "title": {
            "standoff": 15
           },
           "zerolinecolor": "white",
           "zerolinewidth": 2
          },
          "yaxis": {
           "automargin": true,
           "gridcolor": "white",
           "linecolor": "white",
           "ticks": "",
           "title": {
            "standoff": 15
           },
           "zerolinecolor": "white",
           "zerolinewidth": 2
          }
         }
        },
        "title": {
         "text": "Empirical Distribution of the TVD"
        },
        "xaxis": {
         "anchor": "y",
         "domain": [
          0,
          1
         ],
         "title": {
          "text": "0"
         }
        },
        "yaxis": {
         "anchor": "x",
         "domain": [
          0,
          1
         ],
         "range": [
          0,
          0.1
         ],
         "title": {
          "text": "probability"
         }
        }
       }
      }
     },
     "metadata": {},
     "output_type": "display_data"
    }
   ],
   "source": [
    "#Simulation\n",
    "n_repetitions = 1000\n",
    "shuffled = df2.copy()\n",
    "tvds = []\n",
    "for _ in range(n_repetitions):\n",
    "    shuffled['league'] = np.random.permutation(shuffled['league'])\n",
    "    # Computing and storing the TVD.\n",
    "    pivoted = (\n",
    "        shuffled\n",
    "        .pivot_table(index='league', columns='assist_missing', aggfunc='size')\n",
    "    )\n",
    "    pivoted = pivoted / pivoted.sum()\n",
    "    tvd = pivoted.diff(axis=1).iloc[:, -1].abs().sum() / 2\n",
    "    tvds.append(tvd)\n",
    "#Observed_tvd\n",
    "observed_tvd = league_dist.diff(axis=1).iloc[:, -1].abs().sum() / 2\n",
    "#Graph\n",
    "fig = px.histogram(pd.DataFrame(tvds), x=0, nbins=50, histnorm='probability', \n",
    "                   title='Empirical Distribution of the TVD')\n",
    "fig.add_vline(x=observed_tvd, line_color='red')\n",
    "fig.add_annotation(text=f'<span style=\"color:red\">Observed TVD = {round(observed_tvd, 2)}</span>',\n",
    "                   x= -0.1 + observed_tvd, showarrow=False, y=0.08)\n",
    "fig.update_layout(yaxis_range=[0, 0.1])\n",
    "fig.show()\n",
    "fig.write_html('MD1.html', include_plotlyjs='cdn')"
   ]
  },
  {
   "cell_type": "code",
   "execution_count": 13,
   "metadata": {},
   "outputs": [
    {
     "data": {
      "text/plain": [
       "0.0"
      ]
     },
     "execution_count": 13,
     "metadata": {},
     "output_type": "execute_result"
    }
   ],
   "source": [
    "(np.array(tvds) >= observed_tvd).mean()"
   ]
  },
  {
   "cell_type": "markdown",
   "metadata": {},
   "source": [
    "The observed statistic was: 1\n",
    "\n",
    "The p-value was:0.0\n",
    "\n",
    "The empirical distribution of the test statistic is the graph showed above.\n",
    "\n",
    "Since the p-value was close to 0, the missingness of 'firstkillassist' depends on 'league' which is MAR."
   ]
  },
  {
   "cell_type": "markdown",
   "metadata": {},
   "source": [
    "Now let's check if there is any missing relationshiip between the 'side' which is the game side (red or blue) of the game that the team picks and 'firstbloodassist'. "
   ]
  },
  {
   "cell_type": "code",
   "execution_count": 14,
   "metadata": {},
   "outputs": [
    {
     "data": {
      "text/html": [
       "<div>\n",
       "<style scoped>\n",
       "    .dataframe tbody tr th:only-of-type {\n",
       "        vertical-align: middle;\n",
       "    }\n",
       "\n",
       "    .dataframe tbody tr th {\n",
       "        vertical-align: top;\n",
       "    }\n",
       "\n",
       "    .dataframe thead th {\n",
       "        text-align: right;\n",
       "    }\n",
       "</style>\n",
       "<table border=\"1\" class=\"dataframe\">\n",
       "  <thead>\n",
       "    <tr style=\"text-align: right;\">\n",
       "      <th></th>\n",
       "      <th>side</th>\n",
       "      <th>position</th>\n",
       "      <th>firstbloodassist</th>\n",
       "      <th>assist_missing</th>\n",
       "    </tr>\n",
       "  </thead>\n",
       "  <tbody>\n",
       "    <tr>\n",
       "      <th>0</th>\n",
       "      <td>Blue</td>\n",
       "      <td>top</td>\n",
       "      <td>NaN</td>\n",
       "      <td>True</td>\n",
       "    </tr>\n",
       "    <tr>\n",
       "      <th>1</th>\n",
       "      <td>Blue</td>\n",
       "      <td>jng</td>\n",
       "      <td>NaN</td>\n",
       "      <td>True</td>\n",
       "    </tr>\n",
       "    <tr>\n",
       "      <th>2</th>\n",
       "      <td>Blue</td>\n",
       "      <td>mid</td>\n",
       "      <td>NaN</td>\n",
       "      <td>True</td>\n",
       "    </tr>\n",
       "    <tr>\n",
       "      <th>3</th>\n",
       "      <td>Blue</td>\n",
       "      <td>bot</td>\n",
       "      <td>NaN</td>\n",
       "      <td>True</td>\n",
       "    </tr>\n",
       "    <tr>\n",
       "      <th>4</th>\n",
       "      <td>Blue</td>\n",
       "      <td>sup</td>\n",
       "      <td>NaN</td>\n",
       "      <td>True</td>\n",
       "    </tr>\n",
       "  </tbody>\n",
       "</table>\n",
       "</div>"
      ],
      "text/plain": [
       "   side position  firstbloodassist  assist_missing\n",
       "0  Blue      top               NaN            True\n",
       "1  Blue      jng               NaN            True\n",
       "2  Blue      mid               NaN            True\n",
       "3  Blue      bot               NaN            True\n",
       "4  Blue      sup               NaN            True"
      ]
     },
     "execution_count": 14,
     "metadata": {},
     "output_type": "execute_result"
    }
   ],
   "source": [
    "df3 = pd.read_csv('2024_LoL_esports_match_data_from_OraclesElixir.csv')\n",
    "df3 = df3[['side', 'position','firstbloodassist']]\n",
    "df3 = df3[df3['position'] != 'team']\n",
    "df3['assist_missing'] = df2['firstbloodassist'].isna()\n",
    "df3.head()"
   ]
  },
  {
   "cell_type": "code",
   "execution_count": 15,
   "metadata": {},
   "outputs": [
    {
     "data": {
      "text/html": [
       "<div>\n",
       "<style scoped>\n",
       "    .dataframe tbody tr th:only-of-type {\n",
       "        vertical-align: middle;\n",
       "    }\n",
       "\n",
       "    .dataframe tbody tr th {\n",
       "        vertical-align: top;\n",
       "    }\n",
       "\n",
       "    .dataframe thead th {\n",
       "        text-align: right;\n",
       "    }\n",
       "</style>\n",
       "<table border=\"1\" class=\"dataframe\">\n",
       "  <thead>\n",
       "    <tr style=\"text-align: right;\">\n",
       "      <th></th>\n",
       "      <th>assist_missing = False</th>\n",
       "      <th>assist_missing = True</th>\n",
       "    </tr>\n",
       "    <tr>\n",
       "      <th>side</th>\n",
       "      <th></th>\n",
       "      <th></th>\n",
       "    </tr>\n",
       "  </thead>\n",
       "  <tbody>\n",
       "    <tr>\n",
       "      <th>Blue</th>\n",
       "      <td>0.5</td>\n",
       "      <td>0.5</td>\n",
       "    </tr>\n",
       "    <tr>\n",
       "      <th>Red</th>\n",
       "      <td>0.5</td>\n",
       "      <td>0.5</td>\n",
       "    </tr>\n",
       "  </tbody>\n",
       "</table>\n",
       "</div>"
      ],
      "text/plain": [
       "      assist_missing = False  assist_missing = True\n",
       "side                                               \n",
       "Blue                     0.5                    0.5\n",
       "Red                      0.5                    0.5"
      ]
     },
     "execution_count": 15,
     "metadata": {},
     "output_type": "execute_result"
    }
   ],
   "source": [
    "patch_dist = (\n",
    "    df3\n",
    "    .assign(assist_missing=df2['firstbloodassist'].isna())\n",
    "    .pivot_table(index='side', columns='assist_missing', aggfunc='size')\n",
    ")\n",
    "patch_dist.columns = ['assist_missing = False', 'assist_missing = True']\n",
    "patch_dist = (patch_dist / patch_dist.sum()).fillna(0)\n",
    "patch_dist"
   ]
  },
  {
   "cell_type": "code",
   "execution_count": 16,
   "metadata": {},
   "outputs": [
    {
     "data": {
      "application/vnd.plotly.v1+json": {
       "config": {
        "plotlyServerURL": "https://plot.ly"
       },
       "data": [
        {
         "alignmentgroup": "True",
         "bingroup": "x",
         "histnorm": "probability",
         "hovertemplate": "0=%{x}<br>probability=%{y}<extra></extra>",
         "legendgroup": "",
         "marker": {
          "color": "#636efa",
          "pattern": {
           "shape": ""
          }
         },
         "name": "",
         "nbinsx": 50,
         "offsetgroup": "",
         "orientation": "v",
         "showlegend": false,
         "type": "histogram",
         "x": [
          0.00716783767604523,
          0.004778558450696829,
          0.0008959797095056399,
          0.005077218353865348,
          0.004778558450696829,
          0.004479898547528283,
          0.004181238644359708,
          0.005077218353865348,
          0.0014932995158427609,
          0.004479898547528283,
          0.008661137191887991,
          0.004181238644359708,
          0.0035839188380225873,
          0.0038825787411911616,
          0.007765157482382351,
          0.019711553609124438,
          0.0026879391285169474,
          0.008661137191887991,
          0.0023892792253484008,
          0.0002986599031685744,
          0.004479898547528283,
          0.000597319806337121,
          0.012543715933079153,
          0.010751756514067845,
          0.020906193221798625,
          0.0026879391285169474,
          0.000597319806337121,
          0.0059731980633710435,
          0.004181238644359708,
          0.004778558450696829,
          0.009557116901393659,
          0.00627185796653959,
          0.013439695642584848,
          0.004778558450696829,
          0.00627185796653959,
          0.006869177772876656,
          0.0014932995158427609,
          0.008362477288719417,
          0.008959797095056538,
          0.012245056029910606,
          0.008661137191887991,
          0.006869177772876656,
          0.0059731980633710435,
          0.01732227438377601,
          0.005077218353865348,
          0.004479898547528283,
          0.012842375836247727,
          0.005077218353865348,
          0.01732227438377601,
          0.0032852589348540684,
          0.0008959797095056399,
          0.0038825787411911616,
          0.016127634771101795,
          0.0059731980633710435,
          0.011946396126742087,
          0.0035839188380225873,
          0.011050416417236392,
          0.004479898547528283,
          0.008362477288719417,
          0.016426294674270314,
          0.005375878257033895,
          0.011349076320404966,
          0.0014932995158427609,
          0.008362477288719417,
          0.004778558450696829,
          0.005077218353865348,
          0.004479898547528283,
          0.012245056029910606,
          0.0059731980633710435,
          0.005077218353865348,
          0.010453096610899326,
          0.013738355545753367,
          0.02030887341546156,
          0.00806381738555087,
          0.014634335255259034,
          0.0014932995158427609,
          0.0002986599031685744,
          0.010453096610899326,
          0.005674538160202469,
          0.0011946396126741865,
          0.0008959797095056399,
          0.000597319806337121,
          0.000597319806337121,
          0.014037015448921913,
          0.0026879391285169474,
          0.007466497579213777,
          0.0002986599031685744,
          0.006869177772876656,
          0.0038825787411911616,
          0.01582897486793325,
          0.0059731980633710435,
          0.0038825787411911616,
          0.0017919594190113075,
          0.004181238644359708,
          0.011946396126742087,
          0.009557116901393659,
          0.007466497579213777,
          0.012543715933079153,
          0.0002986599031685744,
          0.013141035739416274,
          0.0152316550615961,
          0.025983411575664028,
          0.008362477288719417,
          0.011050416417236392,
          0.010751756514067845,
          0.014335675352090488,
          0.005077218353865348,
          0.009258456998225056,
          0.007466497579213777,
          0.002090619322179882,
          0.0032852589348540684,
          0.0014932995158427609,
          0.0032852589348540684,
          0.004181238644359708,
          0.004181238644359708,
          0.008959797095056538,
          0.012245056029910606,
          0.005375878257033895,
          0.01164773622357354,
          0.004181238644359708,
          0.00627185796653959,
          0.0032852589348540684,
          0.00716783767604523,
          0.0026879391285169474,
          0.004778558450696829,
          0.005375878257033895,
          0.004479898547528283,
          0.005077218353865348,
          0.004181238644359708,
          0.013439695642584848,
          0.0002986599031685744,
          0.0011946396126741865,
          0.02030887341546156,
          0.01164773622357354,
          0.00716783767604523,
          0.0002986599031685744,
          0.0038825787411911616,
          0.004181238644359708,
          0.007466497579213777,
          0.0023892792253484008,
          0.0038825787411911616,
          0.006570517869708109,
          0.006570517869708109,
          0.007466497579213777,
          0.005674538160202469,
          0.0014932995158427609,
          0.000597319806337121,
          0.018815573899618743,
          0.0026879391285169474,
          0.0038825787411911616,
          0.00627185796653959,
          0.004181238644359708,
          0.00806381738555087,
          0.002090619322179882,
          0.0059731980633710435,
          0.00716783767604523,
          0.002090619322179882,
          0.0026879391285169474,
          0.01015443670773078,
          0.013738355545753367,
          0.017023614480607435,
          0.002090619322179882,
          0.0038825787411911616,
          0.0038825787411911616,
          0.000597319806337121,
          0.0059731980633710435,
          0.011946396126742087,
          0.005375878257033895,
          0.00627185796653959,
          0.002090619322179882,
          0.0023892792253484008,
          0.0032852589348540684,
          0.01672495457743886,
          0.012245056029910606,
          0.011349076320404966,
          0.009855776804562205,
          0.013141035739416274,
          0.006869177772876656,
          0.007765157482382351,
          0.00806381738555087,
          0.019114233802787373,
          0.005375878257033895,
          0.0011946396126741865,
          0.015530314964764674,
          0.01015443670773078,
          0.014037015448921913,
          0.004181238644359708,
          0.014932995158427553,
          0.008959797095056538,
          0.0023892792253484008,
          0.0017919594190113075,
          0.013141035739416274,
          0.005375878257033895,
          0.02269815264080996,
          0.00627185796653959,
          0.006570517869708109,
          0.0035839188380225873,
          0.000597319806337121,
          0.013738355545753367,
          0.0017919594190113075,
          0.0026879391285169474,
          0.006869177772876656,
          0.0026879391285169474,
          0.0038825787411911616,
          0.0029865990316855218,
          0.0023892792253484008,
          0.006869177772876656,
          0.00627185796653959,
          0.026580731382001094,
          0.008362477288719417,
          0.0002986599031685744,
          0.011349076320404966,
          0.005077218353865348,
          0.002090619322179882,
          0.00627185796653959,
          0.0011946396126741865,
          0.009258456998225056,
          0.007765157482382351,
          0.010453096610899326,
          0.008362477288719417,
          0.000597319806337121,
          0.0032852589348540684,
          0.012245056029910606,
          0.005375878257033895,
          0.009855776804562205,
          0.004778558450696829,
          0.016426294674270314,
          0.00716783767604523,
          0.0029865990316855218,
          0.009855776804562205,
          0.006570517869708109,
          0.004181238644359708,
          0.025983411575664028,
          0.002090619322179882,
          0.013439695642584848,
          0.010453096610899326,
          0.013439695642584848,
          0.002090619322179882,
          0.014634335255259034,
          0.009557116901393659,
          0.0035839188380225873,
          0.018815573899618743,
          0.010453096610899326,
          0.016426294674270314,
          0.0032852589348540684,
          0.014634335255259034,
          0.008362477288719417,
          0.0023892792253484008,
          0.005375878257033895,
          0.0002986599031685744,
          0.0032852589348540684,
          0.0014932995158427609,
          0.013439695642584848,
          0.01015443670773078,
          0.0023892792253484008,
          0.011349076320404966,
          0.004479898547528283,
          0.005375878257033895,
          0.0014932995158427609,
          0.013738355545753367,
          0.014634335255259034,
          0.0017919594190113075,
          0.004479898547528283,
          0.004479898547528283,
          0.0008959797095056399,
          0.01732227438377601,
          0.00716783767604523,
          0.004181238644359708,
          0.004778558450696829,
          0.004479898547528283,
          0.0026879391285169474,
          0.008362477288719417,
          0.009557116901393659,
          0.016127634771101795,
          0.0035839188380225873,
          0.0032852589348540684,
          0.0014932995158427609,
          0.0017919594190113075,
          0.014037015448921913,
          0.0014932995158427609,
          0.005674538160202469,
          0.0011946396126741865,
          0.009258456998225056,
          0.012842375836247727,
          0.004181238644359708,
          0.019711553609124438,
          0.025983411575664028,
          0.014335675352090488,
          0.0014932995158427609,
          0.00627185796653959,
          0.0035839188380225873,
          0.00716783767604523,
          0.0017919594190113075,
          0,
          0.0059731980633710435,
          0.014634335255259034,
          0.008959797095056538,
          0.0026879391285169474,
          0.00627185796653959,
          0.013738355545753367,
          0.016426294674270314,
          0.013141035739416274,
          0.0026879391285169474,
          0.013141035739416274,
          0.0023892792253484008,
          0.013439695642584848,
          0.0059731980633710435,
          0.011349076320404966,
          0.0014932995158427609,
          0.010453096610899326,
          0.0014932995158427609,
          0.004181238644359708,
          0.009258456998225056,
          0.010751756514067845,
          0.008959797095056538,
          0.0014932995158427609,
          0,
          0.0026879391285169474,
          0.01015443670773078,
          0.009258456998225056,
          0.002090619322179882,
          0.017620934286944556,
          0.02747671109150679,
          0.004181238644359708,
          0.002090619322179882,
          0.002090619322179882,
          0.0023892792253484008,
          0.008959797095056538,
          0.0017919594190113075,
          0.01164773622357354,
          0.01015443670773078,
          0.005674538160202469,
          0.008959797095056538,
          0.004778558450696829,
          0.00716783767604523,
          0.0026879391285169474,
          0.00627185796653959,
          0.0011946396126741865,
          0.008959797095056538,
          0.00716783767604523,
          0.0035839188380225873,
          0.011946396126742087,
          0.002090619322179882,
          0.0002986599031685744,
          0.011050416417236392,
          0.008959797095056538,
          0.005375878257033895,
          0.0008959797095056399,
          0.0038825787411911616,
          0.010751756514067845,
          0.0026879391285169474,
          0.011946396126742087,
          0.013141035739416274,
          0.0026879391285169474,
          0.00716783767604523,
          0.0011946396126741865,
          0.0002986599031685744,
          0.008362477288719417,
          0.0035839188380225873,
          0.02269815264080996,
          0.007466497579213777,
          0.0038825787411911616,
          0.0035839188380225873,
          0.00627185796653959,
          0.018516913996450196,
          0.0029865990316855218,
          0.0002986599031685744,
          0.007466497579213777,
          0.0026879391285169474,
          0.006570517869708109,
          0.0002986599031685744,
          0.000597319806337121,
          0.0017919594190113075,
          0.006570517869708109,
          0.005674538160202469,
          0.0002986599031685744,
          0,
          0.0038825787411911616,
          0.005077218353865348,
          0.0038825787411911616,
          0.0008959797095056399,
          0.01732227438377601,
          0.02210083283447284,
          0.0017919594190113075,
          0.012543715933079153,
          0.0023892792253484008,
          0.0059731980633710435,
          0.01821825409328162,
          0.021503513028135773,
          0.0023892792253484008,
          0.00806381738555087,
          0.013738355545753367,
          0.0002986599031685744,
          0.004479898547528283,
          0.004181238644359708,
          0.0032852589348540684,
          0.011946396126742087,
          0.005077218353865348,
          0.0026879391285169474,
          0.004479898547528283,
          0.00806381738555087,
          0.013141035739416274,
          0.005674538160202469,
          0.0008959797095056399,
          0.011050416417236392,
          0.000597319806337121,
          0.005674538160202469,
          0.0026879391285169474,
          0.008362477288719417,
          0.004778558450696829,
          0.008661137191887991,
          0.011050416417236392,
          0.012842375836247727,
          0.00806381738555087,
          0.012245056029910606,
          0.007466497579213777,
          0.011050416417236392,
          0,
          0.0032852589348540684,
          0.0011946396126741865,
          0.005674538160202469,
          0,
          0.00716783767604523,
          0.0038825787411911616,
          0.0029865990316855218,
          0.01821825409328162,
          0.0008959797095056399,
          0.008959797095056538,
          0.000597319806337121,
          0.00716783767604523,
          0.008959797095056538,
          0.005077218353865348,
          0.014037015448921913,
          0.0059731980633710435,
          0.028970010607349578,
          0.005375878257033895,
          0.01821825409328162,
          0.009258456998225056,
          0.005674538160202469,
          0.0035839188380225873,
          0.0002986599031685744,
          0.004778558450696829,
          0.011050416417236392,
          0.006570517869708109,
          0.01732227438377601,
          0.0032852589348540684,
          0.0011946396126741865,
          0.012245056029910606,
          0.007466497579213777,
          0.011050416417236392,
          0.008661137191887991,
          0.012245056029910606,
          0.0026879391285169474,
          0.002090619322179882,
          0,
          0.012842375836247727,
          0.007765157482382351,
          0.0011946396126741865,
          0,
          0.011349076320404966,
          0.011349076320404966,
          0.0023892792253484008,
          0.006570517869708109,
          0.008959797095056538,
          0.00806381738555087,
          0.020010213512293012,
          0.0059731980633710435,
          0.0002986599031685744,
          0.004778558450696829,
          0.0032852589348540684,
          0.0002986599031685744,
          0.008362477288719417,
          0.005674538160202469,
          0.0017919594190113075,
          0.004778558450696829,
          0.0011946396126741865,
          0.008362477288719417,
          0.011946396126742087,
          0.008362477288719417,
          0.0023892792253484008,
          0.013738355545753367,
          0.017620934286944556,
          0.0011946396126741865,
          0.0032852589348540684,
          0.011050416417236392,
          0.004181238644359708,
          0.019114233802787373,
          0.009258456998225056,
          0.016426294674270314,
          0.012245056029910606,
          0.012543715933079153,
          0.0011946396126741865,
          0.0002986599031685744,
          0.008362477288719417,
          0.0017919594190113075,
          0.004479898547528283,
          0.016426294674270314,
          0.008661137191887991,
          0.015530314964764674,
          0.009557116901393659,
          0.004479898547528283,
          0.00627185796653959,
          0.0026879391285169474,
          0.007765157482382351,
          0.002090619322179882,
          0.0026879391285169474,
          0.011349076320404966,
          0.017919594190113075,
          0.009258456998225056,
          0.018815573899618743,
          0.0038825787411911616,
          0.014335675352090488,
          0.007466497579213777,
          0.0059731980633710435,
          0.004181238644359708,
          0.0023892792253484008,
          0.006570517869708109,
          0.0023892792253484008,
          0.008661137191887991,
          0.005077218353865348,
          0.014037015448921913,
          0.0032852589348540684,
          0.0002986599031685744,
          0.008362477288719417,
          0.005375878257033895,
          0.008959797095056538,
          0.005674538160202469,
          0.014335675352090488,
          0.0014932995158427609,
          0.007466497579213777,
          0.004778558450696829,
          0.004479898547528283,
          0.021503513028135773,
          0.000597319806337121,
          0.010453096610899326,
          0.0008959797095056399,
          0.01164773622357354,
          0.00806381738555087,
          0.020906193221798625,
          0.0017919594190113075,
          0.0008959797095056399,
          0.006570517869708109,
          0.006869177772876656,
          0.0008959797095056399,
          0.0038825787411911616,
          0.007466497579213777,
          0.008661137191887991,
          0.011349076320404966,
          0.006570517869708109,
          0.017919594190113075,
          0.009258456998225056,
          0.008959797095056538,
          0.0008959797095056399,
          0.012543715933079153,
          0.01672495457743886,
          0.004479898547528283,
          0.005077218353865348,
          0.004181238644359708,
          0.012245056029910606,
          0.013439695642584848,
          0.005674538160202469,
          0.013141035739416274,
          0.0011946396126741865,
          0.0014932995158427609,
          0.012543715933079153,
          0.0059731980633710435,
          0.007466497579213777,
          0.009855776804562205,
          0.00627185796653959,
          0.0002986599031685744,
          0.00627185796653959,
          0.010751756514067845,
          0.0023892792253484008,
          0.0035839188380225873,
          0.000597319806337121,
          0.0011946396126741865,
          0.0059731980633710435,
          0.0029865990316855218,
          0.005077218353865348,
          0.010751756514067845,
          0.011349076320404966,
          0.020010213512293012,
          0.00806381738555087,
          0.0017919594190113075,
          0.019114233802787373,
          0.0023892792253484008,
          0.004181238644359708,
          0.004778558450696829,
          0.012543715933079153,
          0.0002986599031685744,
          0.0008959797095056399,
          0.004181238644359708,
          0.0014932995158427609,
          0.0014932995158427609,
          0.012245056029910606,
          0.009855776804562205,
          0.008959797095056538,
          0.013141035739416274,
          0.004778558450696829,
          0.008959797095056538,
          0.0002986599031685744,
          0.0032852589348540684,
          0.009258456998225056,
          0.0029865990316855218,
          0.005674538160202469,
          0.0029865990316855218,
          0.0023892792253484008,
          0.012245056029910606,
          0.011349076320404966,
          0.005674538160202469,
          0.007765157482382351,
          0.004479898547528283,
          0.005375878257033895,
          0.0014932995158427609,
          0.0014932995158427609,
          0.011946396126742087,
          0.0023892792253484008,
          0.0035839188380225873,
          0.020906193221798625,
          0.0023892792253484008,
          0.011946396126742087,
          0.0032852589348540684,
          0.011050416417236392,
          0.01164773622357354,
          0.0035839188380225873,
          0.005375878257033895,
          0.004181238644359708,
          0.002090619322179882,
          0.0011946396126741865,
          0.012842375836247727,
          0.0029865990316855218,
          0.011050416417236392,
          0.0011946396126741865,
          0.009557116901393659,
          0.005375878257033895,
          0.0014932995158427609,
          0.0059731980633710435,
          0.013141035739416274,
          0.008362477288719417,
          0.004778558450696829,
          0.0008959797095056399,
          0.0014932995158427609,
          0.0014932995158427609,
          0.009258456998225056,
          0.008661137191887991,
          0.006570517869708109,
          0.009258456998225056,
          0.014634335255259034,
          0.009258456998225056,
          0.004479898547528283,
          0.0017919594190113075,
          0.0026879391285169474,
          0.008959797095056538,
          0.007765157482382351,
          0.0008959797095056399,
          0.004181238644359708,
          0.007765157482382351,
          0.0017919594190113075,
          0.01582897486793325,
          0.012245056029910606,
          0.0026879391285169474,
          0.0011946396126741865,
          0.012842375836247727,
          0.010751756514067845,
          0.01164773622357354,
          0.0059731980633710435,
          0.013439695642584848,
          0.0017919594190113075,
          0.008959797095056538,
          0.0038825787411911616,
          0.0035839188380225873,
          0.008959797095056538,
          0.014335675352090488,
          0.004181238644359708,
          0.0008959797095056399,
          0.0032852589348540684,
          0.004778558450696829,
          0.00806381738555087,
          0.0008959797095056399,
          0.000597319806337121,
          0.004479898547528283,
          0.0029865990316855218,
          0.000597319806337121,
          0.008959797095056538,
          0.01015443670773078,
          0.000597319806337121,
          0.01015443670773078,
          0.002090619322179882,
          0.014335675352090488,
          0.01015443670773078,
          0.015530314964764674,
          0.0029865990316855218,
          0.02180217293130432,
          0.016127634771101795,
          0.019711553609124438,
          0.009258456998225056,
          0.017919594190113075,
          0.013738355545753367,
          0.0029865990316855218,
          0.000597319806337121,
          0.0026879391285169474,
          0.010453096610899326,
          0.005375878257033895,
          0.006869177772876656,
          0.011050416417236392,
          0.012543715933079153,
          0.008362477288719417,
          0.0038825787411911616,
          0.0032852589348540684,
          0.004181238644359708,
          0.0032852589348540684,
          0.00716783767604523,
          0.006570517869708109,
          0.0035839188380225873,
          0.008959797095056538,
          0.0002986599031685744,
          0.011349076320404966,
          0.0035839188380225873,
          0.0023892792253484008,
          0.0008959797095056399,
          0.006869177772876656,
          0.007765157482382351,
          0.0011946396126741865,
          0.0008959797095056399,
          0.0029865990316855218,
          0.0059731980633710435,
          0.013439695642584848,
          0.012842375836247727,
          0.006570517869708109,
          0.011946396126742087,
          0.006869177772876656,
          0.005375878257033895,
          0.0035839188380225873,
          0.0026879391285169474,
          0.0032852589348540684,
          0.0029865990316855218,
          0.007466497579213777,
          0.0035839188380225873,
          0.0026879391285169474,
          0.004181238644359708,
          0.010751756514067845,
          0.0008959797095056399,
          0.007466497579213777,
          0.008959797095056538,
          0.00627185796653959,
          0.010453096610899326,
          0.0032852589348540684,
          0.008959797095056538,
          0.0011946396126741865,
          0.019114233802787373,
          0.0038825787411911616,
          0.0032852589348540684,
          0.008661137191887991,
          0.008362477288719417,
          0.004479898547528283,
          0.0038825787411911616,
          0.0002986599031685744,
          0.0002986599031685744,
          0.005077218353865348,
          0.0023892792253484008,
          0.02568475167249548,
          0.000597319806337121,
          0.0059731980633710435,
          0.007466497579213777,
          0.011050416417236392,
          0.010453096610899326,
          0.0017919594190113075,
          0.008362477288719417,
          0.0011946396126741865,
          0.008661137191887991,
          0.000597319806337121,
          0.0008959797095056399,
          0.008661137191887991,
          0.004181238644359708,
          0.007765157482382351,
          0.012842375836247727,
          0.004479898547528283,
          0.0059731980633710435,
          0.004181238644359708,
          0.0008959797095056399,
          0.00627185796653959,
          0.0059731980633710435,
          0.008959797095056538,
          0.016426294674270314,
          0.0011946396126741865,
          0.016426294674270314,
          0.006869177772876656,
          0.01732227438377601,
          0.01732227438377601,
          0.013738355545753367,
          0.004479898547528283,
          0.004479898547528283,
          0.007466497579213777,
          0.008661137191887991,
          0.007765157482382351,
          0.005077218353865348,
          0.012245056029910606,
          0.004181238644359708,
          0.017023614480607435,
          0.02210083283447284,
          0.0023892792253484008,
          0.012543715933079153,
          0.007765157482382351,
          0.005077218353865348,
          0.008959797095056538,
          0.006570517869708109,
          0.010751756514067845,
          0.016127634771101795,
          0.0029865990316855218,
          0.0038825787411911616,
          0.0032852589348540684,
          0.005077218353865348,
          0.004479898547528283,
          0.0152316550615961,
          0.004778558450696829,
          0.011050416417236392,
          0.0002986599031685744,
          0.00806381738555087,
          0.00806381738555087,
          0,
          0.0002986599031685744,
          0.0011946396126741865,
          0.01672495457743886,
          0.0002986599031685744,
          0.008362477288719417,
          0.0014932995158427609,
          0.0023892792253484008,
          0.010453096610899326,
          0.0038825787411911616,
          0.01015443670773078,
          0.0038825787411911616,
          0.0029865990316855218,
          0.012842375836247727,
          0.0212048531249672,
          0.000597319806337121,
          0.010453096610899326,
          0.0038825787411911616,
          0.011050416417236392,
          0.004778558450696829,
          0.0008959797095056399,
          0.008362477288719417,
          0.0029865990316855218,
          0.006570517869708109,
          0.006570517869708109,
          0.00627185796653959,
          0.004479898547528283,
          0.014037015448921913,
          0.0011946396126741865,
          0.0152316550615961,
          0.00627185796653959,
          0.015530314964764674,
          0.020607533318630078,
          0.005674538160202469,
          0.004479898547528283,
          0.0002986599031685744,
          0.0038825787411911616,
          0.0059731980633710435,
          0.0026879391285169474,
          0.016426294674270314,
          0.010751756514067845,
          0.0008959797095056399,
          0.01582897486793325,
          0.004181238644359708,
          0.007765157482382351,
          0.0059731980633710435,
          0.006570517869708109,
          0.0017919594190113075,
          0.004181238644359708,
          0.007466497579213777,
          0.002090619322179882,
          0.0059731980633710435,
          0.008959797095056538,
          0.0002986599031685744,
          0.004479898547528283,
          0.014335675352090488,
          0.005674538160202469,
          0.00806381738555087,
          0.004181238644359708,
          0.01582897486793325,
          0.0038825787411911616,
          0.010751756514067845,
          0.0014932995158427609,
          0.01672495457743886,
          0.006869177772876656,
          0.002090619322179882,
          0.014037015448921913,
          0.0014932995158427609,
          0.012543715933079153,
          0.008661137191887991,
          0.0059731980633710435,
          0.006570517869708109,
          0.009258456998225056,
          0.006570517869708109,
          0.004181238644359708,
          0.004479898547528283,
          0.005674538160202469,
          0.007765157482382351,
          0.011349076320404966,
          0.0008959797095056399,
          0.020010213512293012,
          0.0011946396126741865,
          0.0017919594190113075,
          0.010751756514067845,
          0.014932995158427553,
          0.011349076320404966,
          0.01164773622357354,
          0.005077218353865348,
          0.013738355545753367,
          0,
          0.0002986599031685744,
          0.0023892792253484008,
          0.010453096610899326,
          0.000597319806337121,
          0.004778558450696829,
          0.008661137191887991,
          0.0029865990316855218,
          0.011349076320404966,
          0.002090619322179882,
          0.0023892792253484008,
          0.014037015448921913,
          0.004181238644359708,
          0.0014932995158427609,
          0.002090619322179882,
          0.006869177772876656,
          0.007765157482382351,
          0.011349076320404966,
          0.007466497579213777,
          0.005674538160202469,
          0.000597319806337121,
          0.0017919594190113075,
          0.0014932995158427609,
          0.005375878257033895,
          0.010751756514067845,
          0.02419145215665272,
          0.006570517869708109,
          0.011946396126742087,
          0.0032852589348540684,
          0.009258456998225056,
          0.019711553609124438,
          0.019114233802787373,
          0.005077218353865348,
          0.014335675352090488,
          0.009557116901393659,
          0.008661137191887991,
          0.006869177772876656,
          0.014335675352090488,
          0.0002986599031685744,
          0.012245056029910606,
          0.009855776804562205,
          0.000597319806337121,
          0.0032852589348540684,
          0.004479898547528283,
          0,
          0.010751756514067845,
          0.009258456998225056,
          0.017919594190113075,
          0.0023892792253484008,
          0.012245056029910606,
          0.006869177772876656,
          0.004181238644359708,
          0.020010213512293012,
          0.01164773622357354,
          0.0035839188380225873,
          0.00716783767604523,
          0.0038825787411911616,
          0.0032852589348540684,
          0.0014932995158427609,
          0.0152316550615961,
          0.009557116901393659,
          0.008959797095056538,
          0.0017919594190113075,
          0.013439695642584848,
          0.005077218353865348,
          0.00627185796653959,
          0.004181238644359708,
          0,
          0.0017919594190113075,
          0.0014932995158427609,
          0.0059731980633710435,
          0.005375878257033895,
          0.010453096610899326,
          0.005674538160202469,
          0.013141035739416274,
          0.00806381738555087,
          0.004181238644359708,
          0.01582897486793325,
          0.0035839188380225873,
          0.005375878257033895,
          0.02210083283447284,
          0.00716783767604523,
          0.0011946396126741865,
          0.008362477288719417,
          0.007765157482382351,
          0.01821825409328162,
          0.009557116901393659,
          0.014634335255259034,
          0.0008959797095056399,
          0.0026879391285169474,
          0.012245056029910606,
          0.005674538160202469
         ],
         "xaxis": "x",
         "yaxis": "y"
        }
       ],
       "layout": {
        "annotations": [
         {
          "showarrow": false,
          "text": "<span style=\"color:red\">Observed TVD = 0.0</span>",
          "x": 0.003,
          "y": 0.14
         }
        ],
        "barmode": "relative",
        "legend": {
         "tracegroupgap": 0
        },
        "shapes": [
         {
          "line": {
           "color": "red"
          },
          "type": "line",
          "x0": 0,
          "x1": 0,
          "xref": "x",
          "y0": 0,
          "y1": 1,
          "yref": "y domain"
         }
        ],
        "template": {
         "data": {
          "bar": [
           {
            "error_x": {
             "color": "#2a3f5f"
            },
            "error_y": {
             "color": "#2a3f5f"
            },
            "marker": {
             "line": {
              "color": "#E5ECF6",
              "width": 0.5
             },
             "pattern": {
              "fillmode": "overlay",
              "size": 10,
              "solidity": 0.2
             }
            },
            "type": "bar"
           }
          ],
          "barpolar": [
           {
            "marker": {
             "line": {
              "color": "#E5ECF6",
              "width": 0.5
             },
             "pattern": {
              "fillmode": "overlay",
              "size": 10,
              "solidity": 0.2
             }
            },
            "type": "barpolar"
           }
          ],
          "carpet": [
           {
            "aaxis": {
             "endlinecolor": "#2a3f5f",
             "gridcolor": "white",
             "linecolor": "white",
             "minorgridcolor": "white",
             "startlinecolor": "#2a3f5f"
            },
            "baxis": {
             "endlinecolor": "#2a3f5f",
             "gridcolor": "white",
             "linecolor": "white",
             "minorgridcolor": "white",
             "startlinecolor": "#2a3f5f"
            },
            "type": "carpet"
           }
          ],
          "choropleth": [
           {
            "colorbar": {
             "outlinewidth": 0,
             "ticks": ""
            },
            "type": "choropleth"
           }
          ],
          "contour": [
           {
            "colorbar": {
             "outlinewidth": 0,
             "ticks": ""
            },
            "colorscale": [
             [
              0,
              "#0d0887"
             ],
             [
              0.1111111111111111,
              "#46039f"
             ],
             [
              0.2222222222222222,
              "#7201a8"
             ],
             [
              0.3333333333333333,
              "#9c179e"
             ],
             [
              0.4444444444444444,
              "#bd3786"
             ],
             [
              0.5555555555555556,
              "#d8576b"
             ],
             [
              0.6666666666666666,
              "#ed7953"
             ],
             [
              0.7777777777777778,
              "#fb9f3a"
             ],
             [
              0.8888888888888888,
              "#fdca26"
             ],
             [
              1,
              "#f0f921"
             ]
            ],
            "type": "contour"
           }
          ],
          "contourcarpet": [
           {
            "colorbar": {
             "outlinewidth": 0,
             "ticks": ""
            },
            "type": "contourcarpet"
           }
          ],
          "heatmap": [
           {
            "colorbar": {
             "outlinewidth": 0,
             "ticks": ""
            },
            "colorscale": [
             [
              0,
              "#0d0887"
             ],
             [
              0.1111111111111111,
              "#46039f"
             ],
             [
              0.2222222222222222,
              "#7201a8"
             ],
             [
              0.3333333333333333,
              "#9c179e"
             ],
             [
              0.4444444444444444,
              "#bd3786"
             ],
             [
              0.5555555555555556,
              "#d8576b"
             ],
             [
              0.6666666666666666,
              "#ed7953"
             ],
             [
              0.7777777777777778,
              "#fb9f3a"
             ],
             [
              0.8888888888888888,
              "#fdca26"
             ],
             [
              1,
              "#f0f921"
             ]
            ],
            "type": "heatmap"
           }
          ],
          "heatmapgl": [
           {
            "colorbar": {
             "outlinewidth": 0,
             "ticks": ""
            },
            "colorscale": [
             [
              0,
              "#0d0887"
             ],
             [
              0.1111111111111111,
              "#46039f"
             ],
             [
              0.2222222222222222,
              "#7201a8"
             ],
             [
              0.3333333333333333,
              "#9c179e"
             ],
             [
              0.4444444444444444,
              "#bd3786"
             ],
             [
              0.5555555555555556,
              "#d8576b"
             ],
             [
              0.6666666666666666,
              "#ed7953"
             ],
             [
              0.7777777777777778,
              "#fb9f3a"
             ],
             [
              0.8888888888888888,
              "#fdca26"
             ],
             [
              1,
              "#f0f921"
             ]
            ],
            "type": "heatmapgl"
           }
          ],
          "histogram": [
           {
            "marker": {
             "pattern": {
              "fillmode": "overlay",
              "size": 10,
              "solidity": 0.2
             }
            },
            "type": "histogram"
           }
          ],
          "histogram2d": [
           {
            "colorbar": {
             "outlinewidth": 0,
             "ticks": ""
            },
            "colorscale": [
             [
              0,
              "#0d0887"
             ],
             [
              0.1111111111111111,
              "#46039f"
             ],
             [
              0.2222222222222222,
              "#7201a8"
             ],
             [
              0.3333333333333333,
              "#9c179e"
             ],
             [
              0.4444444444444444,
              "#bd3786"
             ],
             [
              0.5555555555555556,
              "#d8576b"
             ],
             [
              0.6666666666666666,
              "#ed7953"
             ],
             [
              0.7777777777777778,
              "#fb9f3a"
             ],
             [
              0.8888888888888888,
              "#fdca26"
             ],
             [
              1,
              "#f0f921"
             ]
            ],
            "type": "histogram2d"
           }
          ],
          "histogram2dcontour": [
           {
            "colorbar": {
             "outlinewidth": 0,
             "ticks": ""
            },
            "colorscale": [
             [
              0,
              "#0d0887"
             ],
             [
              0.1111111111111111,
              "#46039f"
             ],
             [
              0.2222222222222222,
              "#7201a8"
             ],
             [
              0.3333333333333333,
              "#9c179e"
             ],
             [
              0.4444444444444444,
              "#bd3786"
             ],
             [
              0.5555555555555556,
              "#d8576b"
             ],
             [
              0.6666666666666666,
              "#ed7953"
             ],
             [
              0.7777777777777778,
              "#fb9f3a"
             ],
             [
              0.8888888888888888,
              "#fdca26"
             ],
             [
              1,
              "#f0f921"
             ]
            ],
            "type": "histogram2dcontour"
           }
          ],
          "mesh3d": [
           {
            "colorbar": {
             "outlinewidth": 0,
             "ticks": ""
            },
            "type": "mesh3d"
           }
          ],
          "parcoords": [
           {
            "line": {
             "colorbar": {
              "outlinewidth": 0,
              "ticks": ""
             }
            },
            "type": "parcoords"
           }
          ],
          "pie": [
           {
            "automargin": true,
            "type": "pie"
           }
          ],
          "scatter": [
           {
            "fillpattern": {
             "fillmode": "overlay",
             "size": 10,
             "solidity": 0.2
            },
            "type": "scatter"
           }
          ],
          "scatter3d": [
           {
            "line": {
             "colorbar": {
              "outlinewidth": 0,
              "ticks": ""
             }
            },
            "marker": {
             "colorbar": {
              "outlinewidth": 0,
              "ticks": ""
             }
            },
            "type": "scatter3d"
           }
          ],
          "scattercarpet": [
           {
            "marker": {
             "colorbar": {
              "outlinewidth": 0,
              "ticks": ""
             }
            },
            "type": "scattercarpet"
           }
          ],
          "scattergeo": [
           {
            "marker": {
             "colorbar": {
              "outlinewidth": 0,
              "ticks": ""
             }
            },
            "type": "scattergeo"
           }
          ],
          "scattergl": [
           {
            "marker": {
             "colorbar": {
              "outlinewidth": 0,
              "ticks": ""
             }
            },
            "type": "scattergl"
           }
          ],
          "scattermapbox": [
           {
            "marker": {
             "colorbar": {
              "outlinewidth": 0,
              "ticks": ""
             }
            },
            "type": "scattermapbox"
           }
          ],
          "scatterpolar": [
           {
            "marker": {
             "colorbar": {
              "outlinewidth": 0,
              "ticks": ""
             }
            },
            "type": "scatterpolar"
           }
          ],
          "scatterpolargl": [
           {
            "marker": {
             "colorbar": {
              "outlinewidth": 0,
              "ticks": ""
             }
            },
            "type": "scatterpolargl"
           }
          ],
          "scatterternary": [
           {
            "marker": {
             "colorbar": {
              "outlinewidth": 0,
              "ticks": ""
             }
            },
            "type": "scatterternary"
           }
          ],
          "surface": [
           {
            "colorbar": {
             "outlinewidth": 0,
             "ticks": ""
            },
            "colorscale": [
             [
              0,
              "#0d0887"
             ],
             [
              0.1111111111111111,
              "#46039f"
             ],
             [
              0.2222222222222222,
              "#7201a8"
             ],
             [
              0.3333333333333333,
              "#9c179e"
             ],
             [
              0.4444444444444444,
              "#bd3786"
             ],
             [
              0.5555555555555556,
              "#d8576b"
             ],
             [
              0.6666666666666666,
              "#ed7953"
             ],
             [
              0.7777777777777778,
              "#fb9f3a"
             ],
             [
              0.8888888888888888,
              "#fdca26"
             ],
             [
              1,
              "#f0f921"
             ]
            ],
            "type": "surface"
           }
          ],
          "table": [
           {
            "cells": {
             "fill": {
              "color": "#EBF0F8"
             },
             "line": {
              "color": "white"
             }
            },
            "header": {
             "fill": {
              "color": "#C8D4E3"
             },
             "line": {
              "color": "white"
             }
            },
            "type": "table"
           }
          ]
         },
         "layout": {
          "annotationdefaults": {
           "arrowcolor": "#2a3f5f",
           "arrowhead": 0,
           "arrowwidth": 1
          },
          "autotypenumbers": "strict",
          "coloraxis": {
           "colorbar": {
            "outlinewidth": 0,
            "ticks": ""
           }
          },
          "colorscale": {
           "diverging": [
            [
             0,
             "#8e0152"
            ],
            [
             0.1,
             "#c51b7d"
            ],
            [
             0.2,
             "#de77ae"
            ],
            [
             0.3,
             "#f1b6da"
            ],
            [
             0.4,
             "#fde0ef"
            ],
            [
             0.5,
             "#f7f7f7"
            ],
            [
             0.6,
             "#e6f5d0"
            ],
            [
             0.7,
             "#b8e186"
            ],
            [
             0.8,
             "#7fbc41"
            ],
            [
             0.9,
             "#4d9221"
            ],
            [
             1,
             "#276419"
            ]
           ],
           "sequential": [
            [
             0,
             "#0d0887"
            ],
            [
             0.1111111111111111,
             "#46039f"
            ],
            [
             0.2222222222222222,
             "#7201a8"
            ],
            [
             0.3333333333333333,
             "#9c179e"
            ],
            [
             0.4444444444444444,
             "#bd3786"
            ],
            [
             0.5555555555555556,
             "#d8576b"
            ],
            [
             0.6666666666666666,
             "#ed7953"
            ],
            [
             0.7777777777777778,
             "#fb9f3a"
            ],
            [
             0.8888888888888888,
             "#fdca26"
            ],
            [
             1,
             "#f0f921"
            ]
           ],
           "sequentialminus": [
            [
             0,
             "#0d0887"
            ],
            [
             0.1111111111111111,
             "#46039f"
            ],
            [
             0.2222222222222222,
             "#7201a8"
            ],
            [
             0.3333333333333333,
             "#9c179e"
            ],
            [
             0.4444444444444444,
             "#bd3786"
            ],
            [
             0.5555555555555556,
             "#d8576b"
            ],
            [
             0.6666666666666666,
             "#ed7953"
            ],
            [
             0.7777777777777778,
             "#fb9f3a"
            ],
            [
             0.8888888888888888,
             "#fdca26"
            ],
            [
             1,
             "#f0f921"
            ]
           ]
          },
          "colorway": [
           "#636efa",
           "#EF553B",
           "#00cc96",
           "#ab63fa",
           "#FFA15A",
           "#19d3f3",
           "#FF6692",
           "#B6E880",
           "#FF97FF",
           "#FECB52"
          ],
          "font": {
           "color": "#2a3f5f"
          },
          "geo": {
           "bgcolor": "white",
           "lakecolor": "white",
           "landcolor": "#E5ECF6",
           "showlakes": true,
           "showland": true,
           "subunitcolor": "white"
          },
          "hoverlabel": {
           "align": "left"
          },
          "hovermode": "closest",
          "mapbox": {
           "style": "light"
          },
          "paper_bgcolor": "white",
          "plot_bgcolor": "#E5ECF6",
          "polar": {
           "angularaxis": {
            "gridcolor": "white",
            "linecolor": "white",
            "ticks": ""
           },
           "bgcolor": "#E5ECF6",
           "radialaxis": {
            "gridcolor": "white",
            "linecolor": "white",
            "ticks": ""
           }
          },
          "scene": {
           "xaxis": {
            "backgroundcolor": "#E5ECF6",
            "gridcolor": "white",
            "gridwidth": 2,
            "linecolor": "white",
            "showbackground": true,
            "ticks": "",
            "zerolinecolor": "white"
           },
           "yaxis": {
            "backgroundcolor": "#E5ECF6",
            "gridcolor": "white",
            "gridwidth": 2,
            "linecolor": "white",
            "showbackground": true,
            "ticks": "",
            "zerolinecolor": "white"
           },
           "zaxis": {
            "backgroundcolor": "#E5ECF6",
            "gridcolor": "white",
            "gridwidth": 2,
            "linecolor": "white",
            "showbackground": true,
            "ticks": "",
            "zerolinecolor": "white"
           }
          },
          "shapedefaults": {
           "line": {
            "color": "#2a3f5f"
           }
          },
          "ternary": {
           "aaxis": {
            "gridcolor": "white",
            "linecolor": "white",
            "ticks": ""
           },
           "baxis": {
            "gridcolor": "white",
            "linecolor": "white",
            "ticks": ""
           },
           "bgcolor": "#E5ECF6",
           "caxis": {
            "gridcolor": "white",
            "linecolor": "white",
            "ticks": ""
           }
          },
          "title": {
           "x": 0.05
          },
          "xaxis": {
           "automargin": true,
           "gridcolor": "white",
           "linecolor": "white",
           "ticks": "",
           "title": {
            "standoff": 15
           },
           "zerolinecolor": "white",
           "zerolinewidth": 2
          },
          "yaxis": {
           "automargin": true,
           "gridcolor": "white",
           "linecolor": "white",
           "ticks": "",
           "title": {
            "standoff": 15
           },
           "zerolinecolor": "white",
           "zerolinewidth": 2
          }
         }
        },
        "title": {
         "text": "Empirical Distribution of the TVD"
        },
        "xaxis": {
         "anchor": "y",
         "domain": [
          0,
          1
         ],
         "title": {
          "text": "0"
         }
        },
        "yaxis": {
         "anchor": "x",
         "domain": [
          0,
          1
         ],
         "range": [
          0,
          0.15
         ],
         "title": {
          "text": "probability"
         }
        }
       }
      }
     },
     "metadata": {},
     "output_type": "display_data"
    }
   ],
   "source": [
    "#Simulation\n",
    "n_repetitions = 1000\n",
    "shuffled = df3.copy()\n",
    "tvds = []\n",
    "for _ in range(n_repetitions):\n",
    "    shuffled['side'] = np.random.permutation(shuffled['side'])\n",
    "    # Computing and storing the TVD.\n",
    "    pivoted = (\n",
    "        shuffled\n",
    "        .pivot_table(index='side', columns='assist_missing', aggfunc='size')\n",
    "    )\n",
    "    pivoted = pivoted / pivoted.sum()\n",
    "    tvd = pivoted.diff(axis=1).iloc[:, -1].abs().sum() / 2\n",
    "    tvds.append(tvd)\n",
    "#Observed_tvd\n",
    "observed_tvd = patch_dist.diff(axis=1).iloc[:, -1].abs().sum() / 2\n",
    "#Graph\n",
    "fig = px.histogram(pd.DataFrame(tvds), x=0, nbins=50, histnorm='probability', \n",
    "                   title='Empirical Distribution of the TVD')\n",
    "fig.add_vline(x=observed_tvd, line_color='red')\n",
    "fig.add_annotation(text=f'<span style=\"color:red\">Observed TVD = {round(observed_tvd, 2)}</span>',\n",
    "                   x=0.003 + observed_tvd, showarrow=False, y=0.14)\n",
    "fig.update_layout(yaxis_range=[0, 0.15])\n",
    "fig.show()\n",
    "fig.write_html('MD2.html', include_plotlyjs='cdn')"
   ]
  },
  {
   "cell_type": "code",
   "execution_count": 17,
   "metadata": {},
   "outputs": [
    {
     "data": {
      "text/plain": [
       "1.0"
      ]
     },
     "execution_count": 17,
     "metadata": {},
     "output_type": "execute_result"
    }
   ],
   "source": [
    "(np.array(tvds) >= observed_tvd).mean()"
   ]
  },
  {
   "cell_type": "markdown",
   "metadata": {},
   "source": [
    "The observed statistic was: 0\n",
    "\n",
    "The p-value was: 1.0\n",
    "\n",
    "The empirical distribution of the test statistic is the graph showed above.\n",
    "\n",
    "Since the p-value was close to 1, the missingness of 'firstkillassist' not depends on 'league' which is MCAR."
   ]
  },
  {
   "cell_type": "markdown",
   "metadata": {},
   "source": [
    "## Step 4: Hypothesis Testing"
   ]
  },
  {
   "cell_type": "markdown",
   "metadata": {},
   "source": [
    "In this part, I will use the columns 'position', 'result', and 'firstbloodkill' from the dataset.\n",
    "\n",
    "Null Hypothesis: The win rate of the jungle position gets the firstbloodkill is the same as the win rate of the jungle position not gets the firstbloodkill.\n",
    "\n",
    "Alternate Hypothesis: The win rate of the jungle position gets the firstbloodkill is different to the win rate of the jungle position not gets the firstbloodkill.\n",
    "\n",
    "Test Statistic: I choose the difference between the jungle position gets the firstbloodkill and won and the jungle position not gets the firstbloodkill and won which is Total Variation Distance (TVD).\n",
    "\n",
    "Significance Level: I choose 5% which is the most common significance level.\n"
   ]
  },
  {
   "cell_type": "code",
   "execution_count": 18,
   "metadata": {
    "ExecuteTime": {
     "end_time": "2019-10-31T23:36:28.666489Z",
     "start_time": "2019-10-31T23:36:28.664381Z"
    }
   },
   "outputs": [
    {
     "data": {
      "text/html": [
       "<div>\n",
       "<style scoped>\n",
       "    .dataframe tbody tr th:only-of-type {\n",
       "        vertical-align: middle;\n",
       "    }\n",
       "\n",
       "    .dataframe tbody tr th {\n",
       "        vertical-align: top;\n",
       "    }\n",
       "\n",
       "    .dataframe thead th {\n",
       "        text-align: right;\n",
       "    }\n",
       "</style>\n",
       "<table border=\"1\" class=\"dataframe\">\n",
       "  <thead>\n",
       "    <tr style=\"text-align: right;\">\n",
       "      <th></th>\n",
       "      <th>position</th>\n",
       "      <th>result</th>\n",
       "      <th>firstbloodkill</th>\n",
       "    </tr>\n",
       "  </thead>\n",
       "  <tbody>\n",
       "    <tr>\n",
       "      <th>1</th>\n",
       "      <td>jng</td>\n",
       "      <td>0</td>\n",
       "      <td>False</td>\n",
       "    </tr>\n",
       "    <tr>\n",
       "      <th>6</th>\n",
       "      <td>jng</td>\n",
       "      <td>1</td>\n",
       "      <td>False</td>\n",
       "    </tr>\n",
       "    <tr>\n",
       "      <th>13</th>\n",
       "      <td>jng</td>\n",
       "      <td>0</td>\n",
       "      <td>False</td>\n",
       "    </tr>\n",
       "    <tr>\n",
       "      <th>18</th>\n",
       "      <td>jng</td>\n",
       "      <td>1</td>\n",
       "      <td>False</td>\n",
       "    </tr>\n",
       "    <tr>\n",
       "      <th>25</th>\n",
       "      <td>jng</td>\n",
       "      <td>1</td>\n",
       "      <td>True</td>\n",
       "    </tr>\n",
       "  </tbody>\n",
       "</table>\n",
       "</div>"
      ],
      "text/plain": [
       "   position  result  firstbloodkill\n",
       "1       jng       0           False\n",
       "6       jng       1           False\n",
       "13      jng       0           False\n",
       "18      jng       1           False\n",
       "25      jng       1            True"
      ]
     },
     "execution_count": 18,
     "metadata": {},
     "output_type": "execute_result"
    }
   ],
   "source": [
    "df4 = pd.read_csv('2024_LoL_esports_match_data_from_OraclesElixir.csv')\n",
    "df4 = df4[['position', 'result', 'firstbloodkill']]\n",
    "df4 = df4[(df4['position'] == 'jng')]\n",
    "df4['firstbloodkill'] = df4['firstbloodkill'].apply(lambda x : bool(x))\n",
    "df4.head()"
   ]
  },
  {
   "cell_type": "code",
   "execution_count": 19,
   "metadata": {},
   "outputs": [
    {
     "data": {
      "text/plain": [
       "0.3324538258575198"
      ]
     },
     "execution_count": 19,
     "metadata": {},
     "output_type": "execute_result"
    }
   ],
   "source": [
    "win_dist = df4.copy()\n",
    "win_dist = win_dist.groupby('firstbloodkill').sum()['result']\n",
    "win_dist = win_dist / win_dist.sum()\n",
    "observed = win_dist.diff().abs().sum() / 2\n",
    "observed"
   ]
  },
  {
   "cell_type": "code",
   "execution_count": 20,
   "metadata": {},
   "outputs": [
    {
     "data": {
      "application/vnd.plotly.v1+json": {
       "config": {
        "plotlyServerURL": "https://plot.ly"
       },
       "data": [
        {
         "alignmentgroup": "True",
         "bingroup": "x",
         "histnorm": "probability",
         "hovertemplate": "0=%{x}<br>probability=%{y}<extra></extra>",
         "legendgroup": "",
         "marker": {
          "color": "#636efa",
          "pattern": {
           "shape": ""
          }
         },
         "name": "",
         "nbinsx": 50,
         "offsetgroup": "",
         "orientation": "v",
         "showlegend": false,
         "type": "histogram",
         "x": [
          0.3605980650835532,
          0.3605980650835532,
          0.3641160949868074,
          0.34916446789797717,
          0.362796833773087,
          0.35048372911169745,
          0.362796833773087,
          0.35708003518029907,
          0.3623570800351803,
          0.35180299032541773,
          0.3588390501319261,
          0.36499560246262097,
          0.35048372911169745,
          0.3540017590149517,
          0.3575197889182058,
          0.35839929639401935,
          0.35839929639401935,
          0.362796833773087,
          0.3562005277044855,
          0.35532102022867196,
          0.362796833773087,
          0.36015831134564646,
          0.36807387862796836,
          0.3562005277044855,
          0.35224274406332456,
          0.35048372911169745,
          0.362796833773087,
          0.3531222515391381,
          0.366754617414248,
          0.3641160949868074,
          0.3540017590149517,
          0.3496042216358839,
          0.3592788038698329,
          0.3605980650835532,
          0.3702726473175022,
          0.3575197889182058,
          0.35839929639401935,
          0.35971855760773963,
          0.35664028144239224,
          0.34740545294635006,
          0.35180299032541773,
          0.35839929639401935,
          0.34740545294635006,
          0.3548812664907651,
          0.3548812664907651,
          0.35971855760773963,
          0.35839929639401935,
          0.36103781882146,
          0.366754617414248,
          0.3544415127528584,
          0.3671943711521548,
          0.35839929639401935,
          0.3698328935795955,
          0.3482849604221636,
          0.36499560246262097,
          0.36807387862796836,
          0.35971855760773963,
          0.3548812664907651,
          0.35971855760773963,
          0.3557607739665787,
          0.35180299032541773,
          0.35356200527704484,
          0.36763412489006153,
          0.3720316622691293,
          0.366754617414248,
          0.3531222515391381,
          0.366754617414248,
          0.362796833773087,
          0.362796833773087,
          0.35795954265611263,
          0.3540017590149517,
          0.35971855760773963,
          0.35224274406332456,
          0.3526824978012313,
          0.35224274406332456,
          0.3698328935795955,
          0.366754617414248,
          0.3671943711521548,
          0.35224274406332456,
          0.3592788038698329,
          0.36103781882146,
          0.35224274406332456,
          0.35532102022867196,
          0.35839929639401935,
          0.3496042216358839,
          0.35708003518029907,
          0.351363236587511,
          0.3619173262972736,
          0.35795954265611263,
          0.35224274406332456,
          0.36015831134564646,
          0.3698328935795955,
          0.3623570800351803,
          0.3619173262972736,
          0.36455584872471414,
          0.36455584872471414,
          0.3641160949868074,
          0.36631486367634125,
          0.362796833773087,
          0.35532102022867196,
          0.35795954265611263,
          0.36499560246262097,
          0.36147757255936674,
          0.3562005277044855,
          0.3592788038698329,
          0.36807387862796836,
          0.3509234828496042,
          0.3636763412489006,
          0.36763412489006153,
          0.3698328935795955,
          0.36103781882146,
          0.3575197889182058,
          0.36455584872471414,
          0.3623570800351803,
          0.3562005277044855,
          0.3562005277044855,
          0.3562005277044855,
          0.3548812664907651,
          0.35532102022867196,
          0.3548812664907651,
          0.35532102022867196,
          0.3557607739665787,
          0.35224274406332456,
          0.3588390501319261,
          0.3605980650835532,
          0.3654353562005277,
          0.36147757255936674,
          0.35532102022867196,
          0.35356200527704484,
          0.34740545294635006,
          0.3689533861037819,
          0.3619173262972736,
          0.3526824978012313,
          0.3557607739665787,
          0.35532102022867196,
          0.3460861917326298,
          0.3619173262972736,
          0.35971855760773963,
          0.36455584872471414,
          0.3619173262972736,
          0.3548812664907651,
          0.35795954265611263,
          0.36323658751099386,
          0.3548812664907651,
          0.36499560246262097,
          0.36455584872471414,
          0.36147757255936674,
          0.36147757255936674,
          0.3548812664907651,
          0.3588390501319261,
          0.3531222515391381,
          0.3557607739665787,
          0.3548812664907651,
          0.36587510993843453,
          0.3575197889182058,
          0.35971855760773963,
          0.3619173262972736,
          0.3562005277044855,
          0.3548812664907651,
          0.362796833773087,
          0.36147757255936674,
          0.3478452066842568,
          0.35708003518029907,
          0.3575197889182058,
          0.35795954265611263,
          0.35664028144239224,
          0.3588390501319261,
          0.35708003518029907,
          0.3592788038698329,
          0.35356200527704484,
          0.36015831134564646,
          0.3592788038698329,
          0.3557607739665787,
          0.3557607739665787,
          0.35708003518029907,
          0.36147757255936674,
          0.36103781882146,
          0.36499560246262097,
          0.36323658751099386,
          0.36323658751099386,
          0.36103781882146,
          0.3557607739665787,
          0.36147757255936674,
          0.3619173262972736,
          0.3636763412489006,
          0.36103781882146,
          0.3548812664907651,
          0.36015831134564646,
          0.3562005277044855,
          0.3619173262972736,
          0.35839929639401935,
          0.35971855760773963,
          0.35048372911169745,
          0.3619173262972736,
          0.3544415127528584,
          0.35839929639401935,
          0.35971855760773963,
          0.3460861917326298,
          0.3526824978012313,
          0.3619173262972736,
          0.35971855760773963,
          0.35795954265611263,
          0.35180299032541773,
          0.3496042216358839,
          0.35048372911169745,
          0.35971855760773963,
          0.3460861917326298,
          0.3592788038698329,
          0.35708003518029907,
          0.35664028144239224,
          0.3496042216358839,
          0.36103781882146,
          0.3531222515391381,
          0.3605980650835532,
          0.3592788038698329,
          0.34872471416007034,
          0.35224274406332456,
          0.3544415127528584,
          0.36323658751099386,
          0.3469656992084432,
          0.3548812664907651,
          0.36763412489006153,
          0.3526824978012313,
          0.3588390501319261,
          0.3605980650835532,
          0.36103781882146,
          0.36763412489006153,
          0.36015831134564646,
          0.362796833773087,
          0.35708003518029907,
          0.3619173262972736,
          0.3592788038698329,
          0.36103781882146,
          0.3588390501319261,
          0.3526824978012313,
          0.35839929639401935,
          0.36015831134564646,
          0.3641160949868074,
          0.35795954265611263,
          0.3698328935795955,
          0.3540017590149517,
          0.35664028144239224,
          0.35532102022867196,
          0.36323658751099386,
          0.35971855760773963,
          0.36015831134564646,
          0.3671943711521548,
          0.36147757255936674,
          0.37115215479331576,
          0.3557607739665787,
          0.35971855760773963,
          0.3592788038698329,
          0.3540017590149517,
          0.35839929639401935,
          0.3654353562005277,
          0.3562005277044855,
          0.3540017590149517,
          0.3588390501319261,
          0.35839929639401935,
          0.35795954265611263,
          0.36103781882146,
          0.3575197889182058,
          0.35971855760773963,
          0.35971855760773963,
          0.35708003518029907,
          0.3619173262972736,
          0.3588390501319261,
          0.36939313984168864,
          0.3588390501319261,
          0.3605980650835532,
          0.3619173262972736,
          0.3592788038698329,
          0.3636763412489006,
          0.36499560246262097,
          0.35664028144239224,
          0.3592788038698329,
          0.362796833773087,
          0.36015831134564646,
          0.3636763412489006,
          0.3623570800351803,
          0.35795954265611263,
          0.35180299032541773,
          0.35795954265611263,
          0.3575197889182058,
          0.3548812664907651,
          0.36147757255936674,
          0.3562005277044855,
          0.3540017590149517,
          0.35664028144239224,
          0.36323658751099386,
          0.35795954265611263,
          0.36587510993843453,
          0.3619173262972736,
          0.36147757255936674,
          0.3575197889182058,
          0.3619173262972736,
          0.36455584872471414,
          0.366754617414248,
          0.35048372911169745,
          0.35839929639401935,
          0.35971855760773963,
          0.3689533861037819,
          0.3623570800351803,
          0.3548812664907651,
          0.35971855760773963,
          0.3575197889182058,
          0.3540017590149517,
          0.3544415127528584,
          0.35532102022867196,
          0.36323658751099386,
          0.3619173262972736,
          0.3605980650835532,
          0.36103781882146,
          0.35971855760773963,
          0.36455584872471414,
          0.36499560246262097,
          0.3575197889182058,
          0.35224274406332456,
          0.3548812664907651,
          0.3671943711521548,
          0.3636763412489006,
          0.35004397537379073,
          0.36147757255936674,
          0.3592788038698329,
          0.35971855760773963,
          0.3592788038698329,
          0.3707124010554089,
          0.36455584872471414,
          0.36015831134564646,
          0.3592788038698329,
          0.35839929639401935,
          0.36587510993843453,
          0.3509234828496042,
          0.3685136323658751,
          0.3562005277044855,
          0.3478452066842568,
          0.3641160949868074,
          0.3526824978012313,
          0.3698328935795955,
          0.351363236587511,
          0.366754617414248,
          0.3592788038698329,
          0.36807387862796836,
          0.35971855760773963,
          0.3605980650835532,
          0.36631486367634125,
          0.3654353562005277,
          0.35708003518029907,
          0.35839929639401935,
          0.3562005277044855,
          0.3689533861037819,
          0.3557607739665787,
          0.3592788038698329,
          0.362796833773087,
          0.35224274406332456,
          0.36455584872471414,
          0.37115215479331576,
          0.3544415127528584,
          0.35356200527704484,
          0.3592788038698329,
          0.3636763412489006,
          0.36015831134564646,
          0.36103781882146,
          0.3623570800351803,
          0.35356200527704484,
          0.36587510993843453,
          0.3544415127528584,
          0.35664028144239224,
          0.3540017590149517,
          0.3575197889182058,
          0.36103781882146,
          0.3698328935795955,
          0.3636763412489006,
          0.35795954265611263,
          0.3469656992084432,
          0.35664028144239224,
          0.3540017590149517,
          0.35532102022867196,
          0.3588390501319261,
          0.35971855760773963,
          0.36103781882146,
          0.35664028144239224,
          0.3671943711521548,
          0.3588390501319261,
          0.3707124010554089,
          0.36631486367634125,
          0.36103781882146,
          0.35180299032541773,
          0.3654353562005277,
          0.3605980650835532,
          0.3562005277044855,
          0.3526824978012313,
          0.351363236587511,
          0.3531222515391381,
          0.366754617414248,
          0.3548812664907651,
          0.3557607739665787,
          0.351363236587511,
          0.3526824978012313,
          0.35839929639401935,
          0.35224274406332456,
          0.3592788038698329,
          0.35224274406332456,
          0.3548812664907651,
          0.3605980650835532,
          0.36763412489006153,
          0.36103781882146,
          0.3605980650835532,
          0.34432717678100266,
          0.3671943711521548,
          0.35224274406332456,
          0.3654353562005277,
          0.35839929639401935,
          0.366754617414248,
          0.3575197889182058,
          0.36763412489006153,
          0.36455584872471414,
          0.3654353562005277,
          0.3592788038698329,
          0.3544415127528584,
          0.3636763412489006,
          0.3623570800351803,
          0.35356200527704484,
          0.3548812664907651,
          0.3588390501319261,
          0.35795954265611263,
          0.3588390501319261,
          0.3623570800351803,
          0.34916446789797717,
          0.3544415127528584,
          0.351363236587511,
          0.35795954265611263,
          0.3562005277044855,
          0.35795954265611263,
          0.35356200527704484,
          0.3509234828496042,
          0.3636763412489006,
          0.35180299032541773,
          0.3619173262972736,
          0.3636763412489006,
          0.3592788038698329,
          0.36499560246262097,
          0.3531222515391381,
          0.366754617414248,
          0.366754617414248,
          0.35664028144239224,
          0.36499560246262097,
          0.3562005277044855,
          0.36499560246262097,
          0.35224274406332456,
          0.3592788038698329,
          0.3592788038698329,
          0.35839929639401935,
          0.36147757255936674,
          0.35708003518029907,
          0.3557607739665787,
          0.3720316622691293,
          0.36587510993843453,
          0.3540017590149517,
          0.36103781882146,
          0.3623570800351803,
          0.35971855760773963,
          0.3619173262972736,
          0.3605980650835532,
          0.35356200527704484,
          0.35356200527704484,
          0.35048372911169745,
          0.3544415127528584,
          0.35839929639401935,
          0.36587510993843453,
          0.35356200527704484,
          0.3592788038698329,
          0.36147757255936674,
          0.36147757255936674,
          0.3592788038698329,
          0.3562005277044855,
          0.3619173262972736,
          0.3526824978012313,
          0.3544415127528584,
          0.351363236587511,
          0.3623570800351803,
          0.3531222515391381,
          0.3540017590149517,
          0.3654353562005277,
          0.35971855760773963,
          0.3531222515391381,
          0.3619173262972736,
          0.36147757255936674,
          0.35708003518029907,
          0.3496042216358839,
          0.36323658751099386,
          0.35795954265611263,
          0.35839929639401935,
          0.3526824978012313,
          0.3636763412489006,
          0.36015831134564646,
          0.3689533861037819,
          0.35532102022867196,
          0.36015831134564646,
          0.35048372911169745,
          0.3562005277044855,
          0.35971855760773963,
          0.35971855760773963,
          0.36147757255936674,
          0.3562005277044855,
          0.35664028144239224,
          0.3636763412489006,
          0.3531222515391381,
          0.36147757255936674,
          0.36499560246262097,
          0.3544415127528584,
          0.35664028144239224,
          0.36763412489006153,
          0.35224274406332456,
          0.3575197889182058,
          0.35795954265611263,
          0.36807387862796836,
          0.36147757255936674,
          0.35708003518029907,
          0.3531222515391381,
          0.3689533861037819,
          0.35839929639401935,
          0.3623570800351803,
          0.35795954265611263,
          0.36103781882146,
          0.35839929639401935,
          0.3562005277044855,
          0.36015831134564646,
          0.3575197889182058,
          0.35664028144239224,
          0.3496042216358839,
          0.35839929639401935,
          0.36147757255936674,
          0.3592788038698329,
          0.3557607739665787,
          0.3557607739665787,
          0.3575197889182058,
          0.3592788038698329,
          0.35180299032541773,
          0.36939313984168864,
          0.3592788038698329,
          0.36807387862796836,
          0.3557607739665787,
          0.37554969217238343,
          0.3623570800351803,
          0.36147757255936674,
          0.3654353562005277,
          0.35048372911169745,
          0.36147757255936674,
          0.3482849604221636,
          0.3526824978012313,
          0.35356200527704484,
          0.35356200527704484,
          0.36103781882146,
          0.36147757255936674,
          0.3623570800351803,
          0.351363236587511,
          0.36103781882146,
          0.3671943711521548,
          0.35664028144239224,
          0.362796833773087,
          0.3531222515391381,
          0.34872471416007034,
          0.3548812664907651,
          0.35532102022867196,
          0.35532102022867196,
          0.3641160949868074,
          0.36015831134564646,
          0.3548812664907651,
          0.351363236587511,
          0.35839929639401935,
          0.35356200527704484,
          0.36631486367634125,
          0.3526824978012313,
          0.3588390501319261,
          0.35224274406332456,
          0.35795954265611263,
          0.36147757255936674,
          0.34916446789797717,
          0.3623570800351803,
          0.35224274406332456,
          0.36323658751099386,
          0.35180299032541773,
          0.36587510993843453,
          0.3588390501319261,
          0.35971855760773963,
          0.3623570800351803,
          0.3588390501319261,
          0.36807387862796836,
          0.3685136323658751,
          0.36499560246262097,
          0.3685136323658751,
          0.36015831134564646,
          0.3623570800351803,
          0.36015831134564646,
          0.36147757255936674,
          0.36103781882146,
          0.351363236587511,
          0.3557607739665787,
          0.35971855760773963,
          0.36455584872471414,
          0.35004397537379073,
          0.35971855760773963,
          0.3698328935795955,
          0.36147757255936674,
          0.35708003518029907,
          0.36455584872471414,
          0.36323658751099386,
          0.3496042216358839,
          0.36807387862796836,
          0.36807387862796836,
          0.35532102022867196,
          0.3733509234828496,
          0.36015831134564646,
          0.36103781882146,
          0.35795954265611263,
          0.3654353562005277,
          0.3671943711521548,
          0.3548812664907651,
          0.36631486367634125,
          0.35795954265611263,
          0.3575197889182058,
          0.36499560246262097,
          0.36631486367634125,
          0.3605980650835532,
          0.3588390501319261,
          0.3619173262972736,
          0.36103781882146,
          0.3557607739665787,
          0.35795954265611263,
          0.34916446789797717,
          0.3526824978012313,
          0.3526824978012313,
          0.3636763412489006,
          0.36103781882146,
          0.36763412489006153,
          0.3531222515391381,
          0.36499560246262097,
          0.36147757255936674,
          0.36015831134564646,
          0.3526824978012313,
          0.3605980650835532,
          0.35004397537379073,
          0.3623570800351803,
          0.3619173262972736,
          0.3641160949868074,
          0.35532102022867196,
          0.3588390501319261,
          0.36103781882146,
          0.3592788038698329,
          0.35708003518029907,
          0.35532102022867196,
          0.35532102022867196,
          0.3562005277044855,
          0.35839929639401935,
          0.3619173262972736,
          0.3654353562005277,
          0.362796833773087,
          0.3592788038698329,
          0.366754617414248,
          0.3531222515391381,
          0.3562005277044855,
          0.3689533861037819,
          0.362796833773087,
          0.3557607739665787,
          0.36147757255936674,
          0.35708003518029907,
          0.3526824978012313,
          0.37247141600703604,
          0.36587510993843453,
          0.3689533861037819,
          0.3641160949868074,
          0.3733509234828496,
          0.36147757255936674,
          0.36455584872471414,
          0.3557607739665787,
          0.35839929639401935,
          0.36103781882146,
          0.35532102022867196,
          0.3592788038698329,
          0.35664028144239224,
          0.35839929639401935,
          0.3605980650835532,
          0.3588390501319261,
          0.35971855760773963,
          0.362796833773087,
          0.3531222515391381,
          0.3588390501319261,
          0.35532102022867196,
          0.3671943711521548,
          0.35664028144239224,
          0.35532102022867196,
          0.3588390501319261,
          0.36103781882146,
          0.36323658751099386,
          0.36147757255936674,
          0.3575197889182058,
          0.36147757255936674,
          0.36499560246262097,
          0.3452066842568162,
          0.3544415127528584,
          0.3592788038698329,
          0.3575197889182058,
          0.35708003518029907,
          0.35708003518029907,
          0.36323658751099386,
          0.36763412489006153,
          0.3623570800351803,
          0.3526824978012313,
          0.35971855760773963,
          0.3623570800351803,
          0.35971855760773963,
          0.362796833773087,
          0.35356200527704484,
          0.36587510993843453,
          0.36015831134564646,
          0.3751099384344767,
          0.3544415127528584,
          0.3689533861037819,
          0.35664028144239224,
          0.36103781882146,
          0.362796833773087,
          0.35971855760773963,
          0.35839929639401935,
          0.35795954265611263,
          0.3671943711521548,
          0.36147757255936674,
          0.35708003518029907,
          0.3623570800351803,
          0.3482849604221636,
          0.36323658751099386,
          0.36807387862796836,
          0.3592788038698329,
          0.3544415127528584,
          0.3592788038698329,
          0.3575197889182058,
          0.351363236587511,
          0.36103781882146,
          0.3689533861037819,
          0.36103781882146,
          0.35708003518029907,
          0.35971855760773963,
          0.3592788038698329,
          0.351363236587511,
          0.3544415127528584,
          0.36323658751099386,
          0.36015831134564646,
          0.35795954265611263,
          0.37423043095866315,
          0.3531222515391381,
          0.3623570800351803,
          0.3619173262972736,
          0.3548812664907651,
          0.36499560246262097,
          0.3592788038698329,
          0.36015831134564646,
          0.3702726473175022,
          0.3685136323658751,
          0.3641160949868074,
          0.36763412489006153,
          0.3619173262972736,
          0.36015831134564646,
          0.35356200527704484,
          0.35004397537379073,
          0.3623570800351803,
          0.35708003518029907,
          0.3575197889182058,
          0.3575197889182058,
          0.3685136323658751,
          0.36103781882146,
          0.366754617414248,
          0.3605980650835532,
          0.36103781882146,
          0.3592788038698329,
          0.34740545294635006,
          0.3605980650835532,
          0.35839929639401935,
          0.3698328935795955,
          0.3531222515391381,
          0.3575197889182058,
          0.36147757255936674,
          0.362796833773087,
          0.3562005277044855,
          0.3636763412489006,
          0.36147757255936674,
          0.37115215479331576,
          0.3671943711521548,
          0.3548812664907651,
          0.36103781882146,
          0.362796833773087,
          0.3623570800351803,
          0.362796833773087,
          0.3636763412489006,
          0.35971855760773963,
          0.36807387862796836,
          0.3623570800351803,
          0.35532102022867196,
          0.3623570800351803,
          0.3575197889182058,
          0.3698328935795955,
          0.36147757255936674,
          0.3702726473175022,
          0.3654353562005277,
          0.3575197889182058,
          0.3641160949868074,
          0.3562005277044855,
          0.36147757255936674,
          0.3588390501319261,
          0.3557607739665787,
          0.3544415127528584,
          0.3641160949868074,
          0.35708003518029907,
          0.35839929639401935,
          0.3685136323658751,
          0.3469656992084432,
          0.34916446789797717,
          0.35971855760773963,
          0.36103781882146,
          0.3575197889182058,
          0.35708003518029907,
          0.3605980650835532,
          0.35795954265611263,
          0.35356200527704484,
          0.3623570800351803,
          0.3526824978012313,
          0.35971855760773963,
          0.3619173262972736,
          0.3496042216358839,
          0.3588390501319261,
          0.36587510993843453,
          0.35532102022867196,
          0.3605980650835532,
          0.3557607739665787,
          0.36103781882146,
          0.35356200527704484,
          0.3641160949868074,
          0.3548812664907651,
          0.3619173262972736,
          0.36147757255936674,
          0.36455584872471414,
          0.36015831134564646,
          0.3636763412489006,
          0.3588390501319261,
          0.3654353562005277,
          0.3685136323658751,
          0.3544415127528584,
          0.3575197889182058,
          0.366754617414248,
          0.3685136323658751,
          0.35708003518029907,
          0.36455584872471414,
          0.35664028144239224,
          0.3548812664907651,
          0.3575197889182058,
          0.3619173262972736,
          0.362796833773087,
          0.3619173262972736,
          0.3531222515391381,
          0.3531222515391381,
          0.3689533861037819,
          0.36147757255936674,
          0.36147757255936674,
          0.3605980650835532,
          0.3636763412489006,
          0.3605980650835532,
          0.36455584872471414,
          0.3685136323658751,
          0.36015831134564646,
          0.3548812664907651,
          0.3588390501319261,
          0.35839929639401935,
          0.36323658751099386,
          0.3733509234828496,
          0.3654353562005277,
          0.36939313984168864,
          0.3641160949868074,
          0.3496042216358839,
          0.35971855760773963,
          0.366754617414248,
          0.35664028144239224,
          0.36499560246262097,
          0.36807387862796836,
          0.35356200527704484,
          0.35224274406332456,
          0.3654353562005277,
          0.3460861917326298,
          0.3619173262972736,
          0.362796833773087,
          0.3654353562005277,
          0.3575197889182058,
          0.35664028144239224,
          0.35839929639401935,
          0.3496042216358839,
          0.3557607739665787,
          0.3548812664907651,
          0.36015831134564646,
          0.35971855760773963,
          0.36455584872471414,
          0.3540017590149517,
          0.3605980650835532,
          0.3557607739665787,
          0.36763412489006153,
          0.35664028144239224,
          0.36455584872471414,
          0.35795954265611263,
          0.3605980650835532,
          0.36499560246262097,
          0.3526824978012313,
          0.3588390501319261,
          0.3548812664907651,
          0.35224274406332456,
          0.3548812664907651,
          0.3698328935795955,
          0.36103781882146,
          0.3588390501319261,
          0.3636763412489006,
          0.36631486367634125,
          0.36015831134564646,
          0.36103781882146,
          0.3671943711521548,
          0.3588390501319261,
          0.35708003518029907,
          0.3588390501319261,
          0.36455584872471414,
          0.35971855760773963,
          0.36147757255936674,
          0.3509234828496042,
          0.36015831134564646,
          0.35532102022867196,
          0.35839929639401935,
          0.3636763412489006,
          0.351363236587511,
          0.3619173262972736,
          0.36103781882146,
          0.3605980650835532,
          0.35708003518029907,
          0.3685136323658751,
          0.35971855760773963,
          0.35971855760773963,
          0.3588390501319261,
          0.35795954265611263,
          0.3623570800351803,
          0.3636763412489006,
          0.35004397537379073,
          0.3575197889182058,
          0.3623570800351803,
          0.3557607739665787,
          0.35839929639401935,
          0.36763412489006153,
          0.35048372911169745,
          0.3605980650835532,
          0.3588390501319261,
          0.3557607739665787,
          0.3636763412489006,
          0.3575197889182058,
          0.362796833773087,
          0.36763412489006153,
          0.35356200527704484,
          0.35180299032541773,
          0.35839929639401935,
          0.351363236587511,
          0.3685136323658751,
          0.3544415127528584,
          0.35839929639401935,
          0.3636763412489006,
          0.36147757255936674,
          0.36103781882146,
          0.3562005277044855,
          0.3588390501319261,
          0.36015831134564646,
          0.3548812664907651,
          0.3605980650835532,
          0.3605980650835532,
          0.34916446789797717,
          0.36147757255936674,
          0.35224274406332456,
          0.3636763412489006,
          0.3623570800351803,
          0.3636763412489006,
          0.36631486367634125,
          0.35664028144239224,
          0.36323658751099386,
          0.36807387862796836,
          0.3531222515391381,
          0.3636763412489006,
          0.3588390501319261,
          0.36587510993843453,
          0.3575197889182058,
          0.36323658751099386,
          0.3562005277044855,
          0.37291116974494287,
          0.35839929639401935,
          0.36323658751099386,
          0.36499560246262097,
          0.35795954265611263,
          0.37115215479331576,
          0.36499560246262097,
          0.36015831134564646,
          0.36499560246262097,
          0.3548812664907651
         ],
         "xaxis": "x",
         "yaxis": "y"
        }
       ],
       "layout": {
        "annotations": [
         {
          "showarrow": false,
          "text": "<span style=\"color:red\">Observed TVD = 0.33</span>",
          "x": 0.3374538258575198,
          "y": 0.1
         }
        ],
        "barmode": "relative",
        "legend": {
         "tracegroupgap": 0
        },
        "shapes": [
         {
          "line": {
           "color": "red"
          },
          "type": "line",
          "x0": 0.3324538258575198,
          "x1": 0.3324538258575198,
          "xref": "x",
          "y0": 0,
          "y1": 1,
          "yref": "y domain"
         }
        ],
        "template": {
         "data": {
          "bar": [
           {
            "error_x": {
             "color": "#2a3f5f"
            },
            "error_y": {
             "color": "#2a3f5f"
            },
            "marker": {
             "line": {
              "color": "#E5ECF6",
              "width": 0.5
             },
             "pattern": {
              "fillmode": "overlay",
              "size": 10,
              "solidity": 0.2
             }
            },
            "type": "bar"
           }
          ],
          "barpolar": [
           {
            "marker": {
             "line": {
              "color": "#E5ECF6",
              "width": 0.5
             },
             "pattern": {
              "fillmode": "overlay",
              "size": 10,
              "solidity": 0.2
             }
            },
            "type": "barpolar"
           }
          ],
          "carpet": [
           {
            "aaxis": {
             "endlinecolor": "#2a3f5f",
             "gridcolor": "white",
             "linecolor": "white",
             "minorgridcolor": "white",
             "startlinecolor": "#2a3f5f"
            },
            "baxis": {
             "endlinecolor": "#2a3f5f",
             "gridcolor": "white",
             "linecolor": "white",
             "minorgridcolor": "white",
             "startlinecolor": "#2a3f5f"
            },
            "type": "carpet"
           }
          ],
          "choropleth": [
           {
            "colorbar": {
             "outlinewidth": 0,
             "ticks": ""
            },
            "type": "choropleth"
           }
          ],
          "contour": [
           {
            "colorbar": {
             "outlinewidth": 0,
             "ticks": ""
            },
            "colorscale": [
             [
              0,
              "#0d0887"
             ],
             [
              0.1111111111111111,
              "#46039f"
             ],
             [
              0.2222222222222222,
              "#7201a8"
             ],
             [
              0.3333333333333333,
              "#9c179e"
             ],
             [
              0.4444444444444444,
              "#bd3786"
             ],
             [
              0.5555555555555556,
              "#d8576b"
             ],
             [
              0.6666666666666666,
              "#ed7953"
             ],
             [
              0.7777777777777778,
              "#fb9f3a"
             ],
             [
              0.8888888888888888,
              "#fdca26"
             ],
             [
              1,
              "#f0f921"
             ]
            ],
            "type": "contour"
           }
          ],
          "contourcarpet": [
           {
            "colorbar": {
             "outlinewidth": 0,
             "ticks": ""
            },
            "type": "contourcarpet"
           }
          ],
          "heatmap": [
           {
            "colorbar": {
             "outlinewidth": 0,
             "ticks": ""
            },
            "colorscale": [
             [
              0,
              "#0d0887"
             ],
             [
              0.1111111111111111,
              "#46039f"
             ],
             [
              0.2222222222222222,
              "#7201a8"
             ],
             [
              0.3333333333333333,
              "#9c179e"
             ],
             [
              0.4444444444444444,
              "#bd3786"
             ],
             [
              0.5555555555555556,
              "#d8576b"
             ],
             [
              0.6666666666666666,
              "#ed7953"
             ],
             [
              0.7777777777777778,
              "#fb9f3a"
             ],
             [
              0.8888888888888888,
              "#fdca26"
             ],
             [
              1,
              "#f0f921"
             ]
            ],
            "type": "heatmap"
           }
          ],
          "heatmapgl": [
           {
            "colorbar": {
             "outlinewidth": 0,
             "ticks": ""
            },
            "colorscale": [
             [
              0,
              "#0d0887"
             ],
             [
              0.1111111111111111,
              "#46039f"
             ],
             [
              0.2222222222222222,
              "#7201a8"
             ],
             [
              0.3333333333333333,
              "#9c179e"
             ],
             [
              0.4444444444444444,
              "#bd3786"
             ],
             [
              0.5555555555555556,
              "#d8576b"
             ],
             [
              0.6666666666666666,
              "#ed7953"
             ],
             [
              0.7777777777777778,
              "#fb9f3a"
             ],
             [
              0.8888888888888888,
              "#fdca26"
             ],
             [
              1,
              "#f0f921"
             ]
            ],
            "type": "heatmapgl"
           }
          ],
          "histogram": [
           {
            "marker": {
             "pattern": {
              "fillmode": "overlay",
              "size": 10,
              "solidity": 0.2
             }
            },
            "type": "histogram"
           }
          ],
          "histogram2d": [
           {
            "colorbar": {
             "outlinewidth": 0,
             "ticks": ""
            },
            "colorscale": [
             [
              0,
              "#0d0887"
             ],
             [
              0.1111111111111111,
              "#46039f"
             ],
             [
              0.2222222222222222,
              "#7201a8"
             ],
             [
              0.3333333333333333,
              "#9c179e"
             ],
             [
              0.4444444444444444,
              "#bd3786"
             ],
             [
              0.5555555555555556,
              "#d8576b"
             ],
             [
              0.6666666666666666,
              "#ed7953"
             ],
             [
              0.7777777777777778,
              "#fb9f3a"
             ],
             [
              0.8888888888888888,
              "#fdca26"
             ],
             [
              1,
              "#f0f921"
             ]
            ],
            "type": "histogram2d"
           }
          ],
          "histogram2dcontour": [
           {
            "colorbar": {
             "outlinewidth": 0,
             "ticks": ""
            },
            "colorscale": [
             [
              0,
              "#0d0887"
             ],
             [
              0.1111111111111111,
              "#46039f"
             ],
             [
              0.2222222222222222,
              "#7201a8"
             ],
             [
              0.3333333333333333,
              "#9c179e"
             ],
             [
              0.4444444444444444,
              "#bd3786"
             ],
             [
              0.5555555555555556,
              "#d8576b"
             ],
             [
              0.6666666666666666,
              "#ed7953"
             ],
             [
              0.7777777777777778,
              "#fb9f3a"
             ],
             [
              0.8888888888888888,
              "#fdca26"
             ],
             [
              1,
              "#f0f921"
             ]
            ],
            "type": "histogram2dcontour"
           }
          ],
          "mesh3d": [
           {
            "colorbar": {
             "outlinewidth": 0,
             "ticks": ""
            },
            "type": "mesh3d"
           }
          ],
          "parcoords": [
           {
            "line": {
             "colorbar": {
              "outlinewidth": 0,
              "ticks": ""
             }
            },
            "type": "parcoords"
           }
          ],
          "pie": [
           {
            "automargin": true,
            "type": "pie"
           }
          ],
          "scatter": [
           {
            "fillpattern": {
             "fillmode": "overlay",
             "size": 10,
             "solidity": 0.2
            },
            "type": "scatter"
           }
          ],
          "scatter3d": [
           {
            "line": {
             "colorbar": {
              "outlinewidth": 0,
              "ticks": ""
             }
            },
            "marker": {
             "colorbar": {
              "outlinewidth": 0,
              "ticks": ""
             }
            },
            "type": "scatter3d"
           }
          ],
          "scattercarpet": [
           {
            "marker": {
             "colorbar": {
              "outlinewidth": 0,
              "ticks": ""
             }
            },
            "type": "scattercarpet"
           }
          ],
          "scattergeo": [
           {
            "marker": {
             "colorbar": {
              "outlinewidth": 0,
              "ticks": ""
             }
            },
            "type": "scattergeo"
           }
          ],
          "scattergl": [
           {
            "marker": {
             "colorbar": {
              "outlinewidth": 0,
              "ticks": ""
             }
            },
            "type": "scattergl"
           }
          ],
          "scattermapbox": [
           {
            "marker": {
             "colorbar": {
              "outlinewidth": 0,
              "ticks": ""
             }
            },
            "type": "scattermapbox"
           }
          ],
          "scatterpolar": [
           {
            "marker": {
             "colorbar": {
              "outlinewidth": 0,
              "ticks": ""
             }
            },
            "type": "scatterpolar"
           }
          ],
          "scatterpolargl": [
           {
            "marker": {
             "colorbar": {
              "outlinewidth": 0,
              "ticks": ""
             }
            },
            "type": "scatterpolargl"
           }
          ],
          "scatterternary": [
           {
            "marker": {
             "colorbar": {
              "outlinewidth": 0,
              "ticks": ""
             }
            },
            "type": "scatterternary"
           }
          ],
          "surface": [
           {
            "colorbar": {
             "outlinewidth": 0,
             "ticks": ""
            },
            "colorscale": [
             [
              0,
              "#0d0887"
             ],
             [
              0.1111111111111111,
              "#46039f"
             ],
             [
              0.2222222222222222,
              "#7201a8"
             ],
             [
              0.3333333333333333,
              "#9c179e"
             ],
             [
              0.4444444444444444,
              "#bd3786"
             ],
             [
              0.5555555555555556,
              "#d8576b"
             ],
             [
              0.6666666666666666,
              "#ed7953"
             ],
             [
              0.7777777777777778,
              "#fb9f3a"
             ],
             [
              0.8888888888888888,
              "#fdca26"
             ],
             [
              1,
              "#f0f921"
             ]
            ],
            "type": "surface"
           }
          ],
          "table": [
           {
            "cells": {
             "fill": {
              "color": "#EBF0F8"
             },
             "line": {
              "color": "white"
             }
            },
            "header": {
             "fill": {
              "color": "#C8D4E3"
             },
             "line": {
              "color": "white"
             }
            },
            "type": "table"
           }
          ]
         },
         "layout": {
          "annotationdefaults": {
           "arrowcolor": "#2a3f5f",
           "arrowhead": 0,
           "arrowwidth": 1
          },
          "autotypenumbers": "strict",
          "coloraxis": {
           "colorbar": {
            "outlinewidth": 0,
            "ticks": ""
           }
          },
          "colorscale": {
           "diverging": [
            [
             0,
             "#8e0152"
            ],
            [
             0.1,
             "#c51b7d"
            ],
            [
             0.2,
             "#de77ae"
            ],
            [
             0.3,
             "#f1b6da"
            ],
            [
             0.4,
             "#fde0ef"
            ],
            [
             0.5,
             "#f7f7f7"
            ],
            [
             0.6,
             "#e6f5d0"
            ],
            [
             0.7,
             "#b8e186"
            ],
            [
             0.8,
             "#7fbc41"
            ],
            [
             0.9,
             "#4d9221"
            ],
            [
             1,
             "#276419"
            ]
           ],
           "sequential": [
            [
             0,
             "#0d0887"
            ],
            [
             0.1111111111111111,
             "#46039f"
            ],
            [
             0.2222222222222222,
             "#7201a8"
            ],
            [
             0.3333333333333333,
             "#9c179e"
            ],
            [
             0.4444444444444444,
             "#bd3786"
            ],
            [
             0.5555555555555556,
             "#d8576b"
            ],
            [
             0.6666666666666666,
             "#ed7953"
            ],
            [
             0.7777777777777778,
             "#fb9f3a"
            ],
            [
             0.8888888888888888,
             "#fdca26"
            ],
            [
             1,
             "#f0f921"
            ]
           ],
           "sequentialminus": [
            [
             0,
             "#0d0887"
            ],
            [
             0.1111111111111111,
             "#46039f"
            ],
            [
             0.2222222222222222,
             "#7201a8"
            ],
            [
             0.3333333333333333,
             "#9c179e"
            ],
            [
             0.4444444444444444,
             "#bd3786"
            ],
            [
             0.5555555555555556,
             "#d8576b"
            ],
            [
             0.6666666666666666,
             "#ed7953"
            ],
            [
             0.7777777777777778,
             "#fb9f3a"
            ],
            [
             0.8888888888888888,
             "#fdca26"
            ],
            [
             1,
             "#f0f921"
            ]
           ]
          },
          "colorway": [
           "#636efa",
           "#EF553B",
           "#00cc96",
           "#ab63fa",
           "#FFA15A",
           "#19d3f3",
           "#FF6692",
           "#B6E880",
           "#FF97FF",
           "#FECB52"
          ],
          "font": {
           "color": "#2a3f5f"
          },
          "geo": {
           "bgcolor": "white",
           "lakecolor": "white",
           "landcolor": "#E5ECF6",
           "showlakes": true,
           "showland": true,
           "subunitcolor": "white"
          },
          "hoverlabel": {
           "align": "left"
          },
          "hovermode": "closest",
          "mapbox": {
           "style": "light"
          },
          "paper_bgcolor": "white",
          "plot_bgcolor": "#E5ECF6",
          "polar": {
           "angularaxis": {
            "gridcolor": "white",
            "linecolor": "white",
            "ticks": ""
           },
           "bgcolor": "#E5ECF6",
           "radialaxis": {
            "gridcolor": "white",
            "linecolor": "white",
            "ticks": ""
           }
          },
          "scene": {
           "xaxis": {
            "backgroundcolor": "#E5ECF6",
            "gridcolor": "white",
            "gridwidth": 2,
            "linecolor": "white",
            "showbackground": true,
            "ticks": "",
            "zerolinecolor": "white"
           },
           "yaxis": {
            "backgroundcolor": "#E5ECF6",
            "gridcolor": "white",
            "gridwidth": 2,
            "linecolor": "white",
            "showbackground": true,
            "ticks": "",
            "zerolinecolor": "white"
           },
           "zaxis": {
            "backgroundcolor": "#E5ECF6",
            "gridcolor": "white",
            "gridwidth": 2,
            "linecolor": "white",
            "showbackground": true,
            "ticks": "",
            "zerolinecolor": "white"
           }
          },
          "shapedefaults": {
           "line": {
            "color": "#2a3f5f"
           }
          },
          "ternary": {
           "aaxis": {
            "gridcolor": "white",
            "linecolor": "white",
            "ticks": ""
           },
           "baxis": {
            "gridcolor": "white",
            "linecolor": "white",
            "ticks": ""
           },
           "bgcolor": "#E5ECF6",
           "caxis": {
            "gridcolor": "white",
            "linecolor": "white",
            "ticks": ""
           }
          },
          "title": {
           "x": 0.05
          },
          "xaxis": {
           "automargin": true,
           "gridcolor": "white",
           "linecolor": "white",
           "ticks": "",
           "title": {
            "standoff": 15
           },
           "zerolinecolor": "white",
           "zerolinewidth": 2
          },
          "yaxis": {
           "automargin": true,
           "gridcolor": "white",
           "linecolor": "white",
           "ticks": "",
           "title": {
            "standoff": 15
           },
           "zerolinecolor": "white",
           "zerolinewidth": 2
          }
         }
        },
        "title": {
         "text": "Empirical Distribution of the Observed Statistic"
        },
        "xaxis": {
         "anchor": "y",
         "domain": [
          0,
          1
         ],
         "title": {
          "text": "0"
         }
        },
        "yaxis": {
         "anchor": "x",
         "domain": [
          0,
          1
         ],
         "range": [
          0,
          0.12
         ],
         "title": {
          "text": "probability"
         }
        }
       }
      }
     },
     "metadata": {},
     "output_type": "display_data"
    }
   ],
   "source": [
    "n_repetitions = 1000\n",
    "differences = []\n",
    "for _ in range(n_repetitions):\n",
    "    # Step 1: Shuffle the weights and store them in a DataFrame.\n",
    "    with_shuffled = df4.assign(Shuffled_result=np.random.permutation(df4['result']))\n",
    "    # Step 2: Compute the test statistic.\n",
    "    # Remember, False (0) comes before True (1),\n",
    "    # so this computes True - False.\n",
    "    dif = with_shuffled.groupby('firstbloodkill').sum()['Shuffled_result']\n",
    "    dif = dif / dif.sum()\n",
    "    difference = dif.diff().abs().sum() / 2\n",
    "    # Step 4: Store the result\n",
    "    differences.append(difference)\n",
    "\n",
    "fig = px.histogram(pd.DataFrame(differences), x=0, nbins=50, histnorm='probability', \n",
    "                   title='Empirical Distribution of the Observed Statistic')\n",
    "fig.add_vline(x=observed, line_color='red')\n",
    "fig.add_annotation(text=f'<span style=\"color:red\">Observed TVD = {round(observed, 2)}</span>',\n",
    "                   x= 0.005 + observed, showarrow=False, y=0.1)\n",
    "fig.update_layout(yaxis_range=[0, 0.12])\n",
    "fig.show()\n",
    "fig.write_html('HT.html', include_plotlyjs='cdn')"
   ]
  },
  {
   "cell_type": "code",
   "execution_count": 21,
   "metadata": {},
   "outputs": [
    {
     "data": {
      "text/plain": [
       "1.0"
      ]
     },
     "execution_count": 21,
     "metadata": {},
     "output_type": "execute_result"
    }
   ],
   "source": [
    "(np.array(differences) >= observed).mean()"
   ]
  },
  {
   "cell_type": "markdown",
   "metadata": {},
   "source": [
    "Because the p-value is 1, I fail to reject the null hypothesis that the win rate of the jungle position gets the firstbloodkill is the same as the win rate of the jungle position not gets the firstbloodkill. This answers my questiion because it shows that the relationship between jungle gets the first blood kill and the result of team wnning is not very clear. The jungle gets the first blood might not impact the game result at all. \n"
   ]
  },
  {
   "cell_type": "markdown",
   "metadata": {},
   "source": [
    "## Step 5: Framing a Prediction Problem"
   ]
  },
  {
   "cell_type": "markdown",
   "metadata": {},
   "source": [
    "Based on the Hypothesis test, we might conclude that the benefits for jungle taking the first blood kill will not increase the team win rate by a lot. Then it leads to another interesting question. If jungle will not increase the team win rate by taking first blood kill, is there such a position increase the team win rate by taking the first blood? In other words, which position gets the first blood kill, the team is most likely to win the game. \n",
    "\n",
    "Therefore, now let's try predict if a team will win or lose a game when different position gets the first blood kill. I will do a multiclass classification since there are 5 different types of position. I will choose predict output of 'result' which indicates the result of the game because most people care about winning while they are playing. I will use accuracy to evaluate my model because the idea of this model is to tell people when a type of position gets the first blood, their team are likely to win or not. If the accuracy is the least thing that I care about, it will be no difference of guessing the result than predicting the result by running the model. I use regession model first. "
   ]
  },
  {
   "cell_type": "code",
   "execution_count": 22,
   "metadata": {},
   "outputs": [],
   "source": [
    "from sklearn.linear_model import LinearRegression\n",
    "from sklearn.pipeline import Pipeline\n",
    "from sklearn.preprocessing import OneHotEncoder\n",
    "from sklearn.compose import ColumnTransformer\n",
    "from sklearn.preprocessing import StandardScaler\n",
    "from sklearn.model_selection import train_test_split\n",
    "from sklearn.preprocessing import PolynomialFeatures\n",
    "from sklearn.metrics import mean_squared_error\n",
    "from sklearn.tree import DecisionTreeClassifier\n",
    "from sklearn.tree import plot_tree"
   ]
  },
  {
   "cell_type": "code",
   "execution_count": 23,
   "metadata": {},
   "outputs": [],
   "source": [
    "df5 = pd.read_csv('2024_LoL_esports_match_data_from_OraclesElixir.csv')\n",
    "df5 = df5[['side', 'position', 'kills', 'firstbloodkill', 'result']]\n",
    "df5 = df5[df5['position'] != 'team']\n",
    "df5_X = df5[['side', 'position', 'kills', 'firstbloodkill']]\n",
    "X_train, X_test, y_train, y_test = train_test_split(df5_X, df5['result'], test_size=0.25, random_state=13)"
   ]
  },
  {
   "cell_type": "markdown",
   "metadata": {},
   "source": [
    "## Step 6: Baseline Model"
   ]
  },
  {
   "cell_type": "markdown",
   "metadata": {},
   "source": [
    "My base model has two predictors which are 'position' and 'firstbloodkill' columns. The 'position' is nominal since there are 5 positions and connot be compared. The 'firstbloodkill' is quantitative which indicates whether this position gets the first blood kill in the game. The output for my model is 'result' which is quantitative indicates the result of the game. \n",
    "\n",
    "In the beginning, I get the needed data from dataset, and then use train test split to get my train set and test set with which the test size is 25%. Because the 'position' is nonminal, I apply the ColumnTransformer to transform 'position' by using OneHotEncoder, and 'firstbloodkill' by using StandardScaler. Next, I just called a LinearRegression and fits the train set into my model. After fitting, I use score method to check the accuracy of my train and test set. This method calculate the value of R^2 of the model. I found out this model is not doing good because the R^2 is 0.0037852165311508257 for trian set, and 0.004114362110160696 for test set which is far from 1 which means the linear does not fit well. "
   ]
  },
  {
   "cell_type": "code",
   "execution_count": 24,
   "metadata": {
    "ExecuteTime": {
     "end_time": "2019-10-31T23:36:28.662099Z",
     "start_time": "2019-10-31T23:36:28.660016Z"
    }
   },
   "outputs": [
    {
     "data": {
      "text/plain": [
       "(0.003785512662262125, 0.004105817212896934)"
      ]
     },
     "execution_count": 24,
     "metadata": {},
     "output_type": "execute_result"
    }
   ],
   "source": [
    "preproc = ColumnTransformer(\n",
    "    transformers=[\n",
    "        ('categorical_cols', OneHotEncoder(), ['position']),\n",
    "        ('StandardScaler', StandardScaler(), ['firstbloodkill'])\n",
    "    ],\n",
    "    remainder='drop' # Specify what to do with all other columns ('total_bill' here) – drop or passthrough.\n",
    ")\n",
    "base_model = Pipeline([\n",
    "    ('preproc', preproc),\n",
    "    ('lin_reg', LinearRegression()),\n",
    "    ])\n",
    "base_model.fit(X_train, y_train)\n",
    "base_model.score(X_train, y_train), base_model.score(X_test, y_test)"
   ]
  },
  {
   "cell_type": "markdown",
   "metadata": {},
   "source": [
    "## Step 7: Final Model"
   ]
  },
  {
   "cell_type": "markdown",
   "metadata": {},
   "source": [
    "In order to improve my model. I start by adding more features. I add 'side' and 'kills' columns. The 'side' is nominal which indicates the game side of position which is either red or blue. I think this factor will help my model because the game map in League of Legends is not symmetry. The side red starts at top right, but the side blue starts at bottom left. Therefore, there are some place can be reached easily by one side than another which makes the benefit side more likely to get a kill. The 'kills' is quantitative which indicates the the total kills of that position got in the game. I think this factor matters because after a position gets the first blood, it will have more power which makes them most likely to get the kills again. In the game, more kills means more money means more items means more damage means more likely to win. \n",
    "\n",
    "Similiar to my base model, I do the same for 'position' and 'firstbloodkill', but I also OneHotEncoder 'side', and also StanardScaler 'kills'. After all ColumnTransforms, I fits a linear reggression into my data, and then check the accuracy. This time, the R^2 is 0.15981344297856914 for the train set, and 0.15531338549828344 for the test set. The accuracy is much better than my base model which increse about 15.5%. However, in general, the model is still not doing well. \n"
   ]
  },
  {
   "cell_type": "code",
   "execution_count": 25,
   "metadata": {
    "ExecuteTime": {
     "end_time": "2019-10-31T23:36:28.662099Z",
     "start_time": "2019-10-31T23:36:28.660016Z"
    }
   },
   "outputs": [
    {
     "data": {
      "text/plain": [
       "(0.15981344297856914, 0.15531338549828344)"
      ]
     },
     "execution_count": 25,
     "metadata": {},
     "output_type": "execute_result"
    }
   ],
   "source": [
    "preproc = ColumnTransformer(\n",
    "    transformers=[\n",
    "        ('categorical_cols', OneHotEncoder(), ['side', 'position']),\n",
    "        ('StandardScaler', StandardScaler(), ['kills', 'firstbloodkill'])\n",
    "    ],\n",
    "    remainder='passthrough' # Specify what to do with all other columns ('total_bill' here) – drop or passthrough.\n",
    ")\n",
    "improved_model = Pipeline([\n",
    "    ('preproc', preproc),\n",
    "    ('lin_reg', LinearRegression()),\n",
    "    ])\n",
    "improved_model.fit(X_train, y_train)\n",
    "improved_model.score(X_train, y_train), improved_model.score(X_test, y_test)"
   ]
  },
  {
   "cell_type": "markdown",
   "metadata": {},
   "source": [
    "Therefore, I start using hyperparameters to determine if it will improve my model. I create 2 empty list which are going to help me to find the hyperparameter that leads to the best test set performance. I run a for loop which range from 1 to 6 as my polynomial degree. \n",
    "\n",
    "After the for loop, I find out that when the degree is 2 the test error is the lowest, so I choose degree of 2 and use it to fit my train set again. This time, I get R^2 of 0.17695699054777625 for the train set, and 0.15531338549828344 for the test set. This model only improve the train set by about 2% and not improve test set at all. "
   ]
  },
  {
   "cell_type": "code",
   "execution_count": 26,
   "metadata": {},
   "outputs": [
    {
     "data": {
      "text/html": [
       "<div>\n",
       "<style scoped>\n",
       "    .dataframe tbody tr th:only-of-type {\n",
       "        vertical-align: middle;\n",
       "    }\n",
       "\n",
       "    .dataframe tbody tr th {\n",
       "        vertical-align: top;\n",
       "    }\n",
       "\n",
       "    .dataframe thead th {\n",
       "        text-align: right;\n",
       "    }\n",
       "</style>\n",
       "<table border=\"1\" class=\"dataframe\">\n",
       "  <thead>\n",
       "    <tr style=\"text-align: right;\">\n",
       "      <th></th>\n",
       "      <th>Train Error</th>\n",
       "      <th>Test Error</th>\n",
       "    </tr>\n",
       "  </thead>\n",
       "  <tbody>\n",
       "    <tr>\n",
       "      <th>0</th>\n",
       "      <td>0.458283</td>\n",
       "      <td>0.459618</td>\n",
       "    </tr>\n",
       "    <tr>\n",
       "      <th>1</th>\n",
       "      <td>0.453608</td>\n",
       "      <td>0.455157</td>\n",
       "    </tr>\n",
       "    <tr>\n",
       "      <th>2</th>\n",
       "      <td>0.453243</td>\n",
       "      <td>0.455047</td>\n",
       "    </tr>\n",
       "    <tr>\n",
       "      <th>3</th>\n",
       "      <td>0.453103</td>\n",
       "      <td>0.455270</td>\n",
       "    </tr>\n",
       "    <tr>\n",
       "      <th>4</th>\n",
       "      <td>0.453344</td>\n",
       "      <td>0.458724</td>\n",
       "    </tr>\n",
       "    <tr>\n",
       "      <th>5</th>\n",
       "      <td>0.452370</td>\n",
       "      <td>0.465876</td>\n",
       "    </tr>\n",
       "  </tbody>\n",
       "</table>\n",
       "</div>"
      ],
      "text/plain": [
       "   Train Error  Test Error\n",
       "0     0.458283    0.459618\n",
       "1     0.453608    0.455157\n",
       "2     0.453243    0.455047\n",
       "3     0.453103    0.455270\n",
       "4     0.453344    0.458724\n",
       "5     0.452370    0.465876"
      ]
     },
     "execution_count": 26,
     "metadata": {},
     "output_type": "execute_result"
    }
   ],
   "source": [
    "train_errs = []\n",
    "test_errs = []\n",
    "for d in range(1, 7):\n",
    "    pl = Pipeline([\n",
    "    ('preproc', preproc),\n",
    "    ('poly', PolynomialFeatures(d)),\n",
    "    ('lin_reg', LinearRegression()),\n",
    "    ])\n",
    "    pl.fit(X_train, y_train)\n",
    "    train_errs.append(mean_squared_error(y_train, pl.predict(X_train), squared=False))\n",
    "    test_errs.append(mean_squared_error(y_test, pl.predict(X_test), squared=False))\n",
    "errs = pd.DataFrame({'Train Error': train_errs, 'Test Error': test_errs})\n",
    "errs\n"
   ]
  },
  {
   "cell_type": "code",
   "execution_count": 27,
   "metadata": {},
   "outputs": [
    {
     "data": {
      "application/vnd.plotly.v1+json": {
       "config": {
        "plotlyServerURL": "https://plot.ly"
       },
       "data": [
        {
         "hovertemplate": "variable=Train Error<br>index=%{x}<br>value=%{y}<extra></extra>",
         "legendgroup": "Train Error",
         "line": {
          "color": "#636efa",
          "dash": "solid"
         },
         "marker": {
          "symbol": "circle"
         },
         "mode": "lines",
         "name": "Train Error",
         "orientation": "v",
         "showlegend": true,
         "type": "scatter",
         "x": [
          0,
          1,
          2,
          3,
          4,
          5
         ],
         "xaxis": "x",
         "y": [
          0.45828262962375105,
          0.4536075796735994,
          0.45324270520562887,
          0.4531028683995207,
          0.45334435263833245,
          0.45236978572570075
         ],
         "yaxis": "y"
        },
        {
         "hovertemplate": "variable=Test Error<br>index=%{x}<br>value=%{y}<extra></extra>",
         "legendgroup": "Test Error",
         "line": {
          "color": "#EF553B",
          "dash": "solid"
         },
         "marker": {
          "symbol": "circle"
         },
         "mode": "lines",
         "name": "Test Error",
         "orientation": "v",
         "showlegend": true,
         "type": "scatter",
         "x": [
          0,
          1,
          2,
          3,
          4,
          5
         ],
         "xaxis": "x",
         "y": [
          0.45961838433720414,
          0.45515748319569754,
          0.45504683442908805,
          0.4552695495311143,
          0.45872361527812483,
          0.46587577370525834
         ],
         "yaxis": "y"
        }
       ],
       "layout": {
        "legend": {
         "title": {
          "text": "variable"
         },
         "tracegroupgap": 0
        },
        "margin": {
         "t": 60
        },
        "showlegend": true,
        "template": {
         "data": {
          "bar": [
           {
            "error_x": {
             "color": "#2a3f5f"
            },
            "error_y": {
             "color": "#2a3f5f"
            },
            "marker": {
             "line": {
              "color": "#E5ECF6",
              "width": 0.5
             },
             "pattern": {
              "fillmode": "overlay",
              "size": 10,
              "solidity": 0.2
             }
            },
            "type": "bar"
           }
          ],
          "barpolar": [
           {
            "marker": {
             "line": {
              "color": "#E5ECF6",
              "width": 0.5
             },
             "pattern": {
              "fillmode": "overlay",
              "size": 10,
              "solidity": 0.2
             }
            },
            "type": "barpolar"
           }
          ],
          "carpet": [
           {
            "aaxis": {
             "endlinecolor": "#2a3f5f",
             "gridcolor": "white",
             "linecolor": "white",
             "minorgridcolor": "white",
             "startlinecolor": "#2a3f5f"
            },
            "baxis": {
             "endlinecolor": "#2a3f5f",
             "gridcolor": "white",
             "linecolor": "white",
             "minorgridcolor": "white",
             "startlinecolor": "#2a3f5f"
            },
            "type": "carpet"
           }
          ],
          "choropleth": [
           {
            "colorbar": {
             "outlinewidth": 0,
             "ticks": ""
            },
            "type": "choropleth"
           }
          ],
          "contour": [
           {
            "colorbar": {
             "outlinewidth": 0,
             "ticks": ""
            },
            "colorscale": [
             [
              0,
              "#0d0887"
             ],
             [
              0.1111111111111111,
              "#46039f"
             ],
             [
              0.2222222222222222,
              "#7201a8"
             ],
             [
              0.3333333333333333,
              "#9c179e"
             ],
             [
              0.4444444444444444,
              "#bd3786"
             ],
             [
              0.5555555555555556,
              "#d8576b"
             ],
             [
              0.6666666666666666,
              "#ed7953"
             ],
             [
              0.7777777777777778,
              "#fb9f3a"
             ],
             [
              0.8888888888888888,
              "#fdca26"
             ],
             [
              1,
              "#f0f921"
             ]
            ],
            "type": "contour"
           }
          ],
          "contourcarpet": [
           {
            "colorbar": {
             "outlinewidth": 0,
             "ticks": ""
            },
            "type": "contourcarpet"
           }
          ],
          "heatmap": [
           {
            "colorbar": {
             "outlinewidth": 0,
             "ticks": ""
            },
            "colorscale": [
             [
              0,
              "#0d0887"
             ],
             [
              0.1111111111111111,
              "#46039f"
             ],
             [
              0.2222222222222222,
              "#7201a8"
             ],
             [
              0.3333333333333333,
              "#9c179e"
             ],
             [
              0.4444444444444444,
              "#bd3786"
             ],
             [
              0.5555555555555556,
              "#d8576b"
             ],
             [
              0.6666666666666666,
              "#ed7953"
             ],
             [
              0.7777777777777778,
              "#fb9f3a"
             ],
             [
              0.8888888888888888,
              "#fdca26"
             ],
             [
              1,
              "#f0f921"
             ]
            ],
            "type": "heatmap"
           }
          ],
          "heatmapgl": [
           {
            "colorbar": {
             "outlinewidth": 0,
             "ticks": ""
            },
            "colorscale": [
             [
              0,
              "#0d0887"
             ],
             [
              0.1111111111111111,
              "#46039f"
             ],
             [
              0.2222222222222222,
              "#7201a8"
             ],
             [
              0.3333333333333333,
              "#9c179e"
             ],
             [
              0.4444444444444444,
              "#bd3786"
             ],
             [
              0.5555555555555556,
              "#d8576b"
             ],
             [
              0.6666666666666666,
              "#ed7953"
             ],
             [
              0.7777777777777778,
              "#fb9f3a"
             ],
             [
              0.8888888888888888,
              "#fdca26"
             ],
             [
              1,
              "#f0f921"
             ]
            ],
            "type": "heatmapgl"
           }
          ],
          "histogram": [
           {
            "marker": {
             "pattern": {
              "fillmode": "overlay",
              "size": 10,
              "solidity": 0.2
             }
            },
            "type": "histogram"
           }
          ],
          "histogram2d": [
           {
            "colorbar": {
             "outlinewidth": 0,
             "ticks": ""
            },
            "colorscale": [
             [
              0,
              "#0d0887"
             ],
             [
              0.1111111111111111,
              "#46039f"
             ],
             [
              0.2222222222222222,
              "#7201a8"
             ],
             [
              0.3333333333333333,
              "#9c179e"
             ],
             [
              0.4444444444444444,
              "#bd3786"
             ],
             [
              0.5555555555555556,
              "#d8576b"
             ],
             [
              0.6666666666666666,
              "#ed7953"
             ],
             [
              0.7777777777777778,
              "#fb9f3a"
             ],
             [
              0.8888888888888888,
              "#fdca26"
             ],
             [
              1,
              "#f0f921"
             ]
            ],
            "type": "histogram2d"
           }
          ],
          "histogram2dcontour": [
           {
            "colorbar": {
             "outlinewidth": 0,
             "ticks": ""
            },
            "colorscale": [
             [
              0,
              "#0d0887"
             ],
             [
              0.1111111111111111,
              "#46039f"
             ],
             [
              0.2222222222222222,
              "#7201a8"
             ],
             [
              0.3333333333333333,
              "#9c179e"
             ],
             [
              0.4444444444444444,
              "#bd3786"
             ],
             [
              0.5555555555555556,
              "#d8576b"
             ],
             [
              0.6666666666666666,
              "#ed7953"
             ],
             [
              0.7777777777777778,
              "#fb9f3a"
             ],
             [
              0.8888888888888888,
              "#fdca26"
             ],
             [
              1,
              "#f0f921"
             ]
            ],
            "type": "histogram2dcontour"
           }
          ],
          "mesh3d": [
           {
            "colorbar": {
             "outlinewidth": 0,
             "ticks": ""
            },
            "type": "mesh3d"
           }
          ],
          "parcoords": [
           {
            "line": {
             "colorbar": {
              "outlinewidth": 0,
              "ticks": ""
             }
            },
            "type": "parcoords"
           }
          ],
          "pie": [
           {
            "automargin": true,
            "type": "pie"
           }
          ],
          "scatter": [
           {
            "fillpattern": {
             "fillmode": "overlay",
             "size": 10,
             "solidity": 0.2
            },
            "type": "scatter"
           }
          ],
          "scatter3d": [
           {
            "line": {
             "colorbar": {
              "outlinewidth": 0,
              "ticks": ""
             }
            },
            "marker": {
             "colorbar": {
              "outlinewidth": 0,
              "ticks": ""
             }
            },
            "type": "scatter3d"
           }
          ],
          "scattercarpet": [
           {
            "marker": {
             "colorbar": {
              "outlinewidth": 0,
              "ticks": ""
             }
            },
            "type": "scattercarpet"
           }
          ],
          "scattergeo": [
           {
            "marker": {
             "colorbar": {
              "outlinewidth": 0,
              "ticks": ""
             }
            },
            "type": "scattergeo"
           }
          ],
          "scattergl": [
           {
            "marker": {
             "colorbar": {
              "outlinewidth": 0,
              "ticks": ""
             }
            },
            "type": "scattergl"
           }
          ],
          "scattermapbox": [
           {
            "marker": {
             "colorbar": {
              "outlinewidth": 0,
              "ticks": ""
             }
            },
            "type": "scattermapbox"
           }
          ],
          "scatterpolar": [
           {
            "marker": {
             "colorbar": {
              "outlinewidth": 0,
              "ticks": ""
             }
            },
            "type": "scatterpolar"
           }
          ],
          "scatterpolargl": [
           {
            "marker": {
             "colorbar": {
              "outlinewidth": 0,
              "ticks": ""
             }
            },
            "type": "scatterpolargl"
           }
          ],
          "scatterternary": [
           {
            "marker": {
             "colorbar": {
              "outlinewidth": 0,
              "ticks": ""
             }
            },
            "type": "scatterternary"
           }
          ],
          "surface": [
           {
            "colorbar": {
             "outlinewidth": 0,
             "ticks": ""
            },
            "colorscale": [
             [
              0,
              "#0d0887"
             ],
             [
              0.1111111111111111,
              "#46039f"
             ],
             [
              0.2222222222222222,
              "#7201a8"
             ],
             [
              0.3333333333333333,
              "#9c179e"
             ],
             [
              0.4444444444444444,
              "#bd3786"
             ],
             [
              0.5555555555555556,
              "#d8576b"
             ],
             [
              0.6666666666666666,
              "#ed7953"
             ],
             [
              0.7777777777777778,
              "#fb9f3a"
             ],
             [
              0.8888888888888888,
              "#fdca26"
             ],
             [
              1,
              "#f0f921"
             ]
            ],
            "type": "surface"
           }
          ],
          "table": [
           {
            "cells": {
             "fill": {
              "color": "#EBF0F8"
             },
             "line": {
              "color": "white"
             }
            },
            "header": {
             "fill": {
              "color": "#C8D4E3"
             },
             "line": {
              "color": "white"
             }
            },
            "type": "table"
           }
          ]
         },
         "layout": {
          "annotationdefaults": {
           "arrowcolor": "#2a3f5f",
           "arrowhead": 0,
           "arrowwidth": 1
          },
          "autotypenumbers": "strict",
          "coloraxis": {
           "colorbar": {
            "outlinewidth": 0,
            "ticks": ""
           }
          },
          "colorscale": {
           "diverging": [
            [
             0,
             "#8e0152"
            ],
            [
             0.1,
             "#c51b7d"
            ],
            [
             0.2,
             "#de77ae"
            ],
            [
             0.3,
             "#f1b6da"
            ],
            [
             0.4,
             "#fde0ef"
            ],
            [
             0.5,
             "#f7f7f7"
            ],
            [
             0.6,
             "#e6f5d0"
            ],
            [
             0.7,
             "#b8e186"
            ],
            [
             0.8,
             "#7fbc41"
            ],
            [
             0.9,
             "#4d9221"
            ],
            [
             1,
             "#276419"
            ]
           ],
           "sequential": [
            [
             0,
             "#0d0887"
            ],
            [
             0.1111111111111111,
             "#46039f"
            ],
            [
             0.2222222222222222,
             "#7201a8"
            ],
            [
             0.3333333333333333,
             "#9c179e"
            ],
            [
             0.4444444444444444,
             "#bd3786"
            ],
            [
             0.5555555555555556,
             "#d8576b"
            ],
            [
             0.6666666666666666,
             "#ed7953"
            ],
            [
             0.7777777777777778,
             "#fb9f3a"
            ],
            [
             0.8888888888888888,
             "#fdca26"
            ],
            [
             1,
             "#f0f921"
            ]
           ],
           "sequentialminus": [
            [
             0,
             "#0d0887"
            ],
            [
             0.1111111111111111,
             "#46039f"
            ],
            [
             0.2222222222222222,
             "#7201a8"
            ],
            [
             0.3333333333333333,
             "#9c179e"
            ],
            [
             0.4444444444444444,
             "#bd3786"
            ],
            [
             0.5555555555555556,
             "#d8576b"
            ],
            [
             0.6666666666666666,
             "#ed7953"
            ],
            [
             0.7777777777777778,
             "#fb9f3a"
            ],
            [
             0.8888888888888888,
             "#fdca26"
            ],
            [
             1,
             "#f0f921"
            ]
           ]
          },
          "colorway": [
           "#636efa",
           "#EF553B",
           "#00cc96",
           "#ab63fa",
           "#FFA15A",
           "#19d3f3",
           "#FF6692",
           "#B6E880",
           "#FF97FF",
           "#FECB52"
          ],
          "font": {
           "color": "#2a3f5f"
          },
          "geo": {
           "bgcolor": "white",
           "lakecolor": "white",
           "landcolor": "#E5ECF6",
           "showlakes": true,
           "showland": true,
           "subunitcolor": "white"
          },
          "hoverlabel": {
           "align": "left"
          },
          "hovermode": "closest",
          "mapbox": {
           "style": "light"
          },
          "paper_bgcolor": "white",
          "plot_bgcolor": "#E5ECF6",
          "polar": {
           "angularaxis": {
            "gridcolor": "white",
            "linecolor": "white",
            "ticks": ""
           },
           "bgcolor": "#E5ECF6",
           "radialaxis": {
            "gridcolor": "white",
            "linecolor": "white",
            "ticks": ""
           }
          },
          "scene": {
           "xaxis": {
            "backgroundcolor": "#E5ECF6",
            "gridcolor": "white",
            "gridwidth": 2,
            "linecolor": "white",
            "showbackground": true,
            "ticks": "",
            "zerolinecolor": "white"
           },
           "yaxis": {
            "backgroundcolor": "#E5ECF6",
            "gridcolor": "white",
            "gridwidth": 2,
            "linecolor": "white",
            "showbackground": true,
            "ticks": "",
            "zerolinecolor": "white"
           },
           "zaxis": {
            "backgroundcolor": "#E5ECF6",
            "gridcolor": "white",
            "gridwidth": 2,
            "linecolor": "white",
            "showbackground": true,
            "ticks": "",
            "zerolinecolor": "white"
           }
          },
          "shapedefaults": {
           "line": {
            "color": "#2a3f5f"
           }
          },
          "ternary": {
           "aaxis": {
            "gridcolor": "white",
            "linecolor": "white",
            "ticks": ""
           },
           "baxis": {
            "gridcolor": "white",
            "linecolor": "white",
            "ticks": ""
           },
           "bgcolor": "#E5ECF6",
           "caxis": {
            "gridcolor": "white",
            "linecolor": "white",
            "ticks": ""
           }
          },
          "title": {
           "x": 0.05
          },
          "xaxis": {
           "automargin": true,
           "gridcolor": "white",
           "linecolor": "white",
           "ticks": "",
           "title": {
            "standoff": 15
           },
           "zerolinecolor": "white",
           "zerolinewidth": 2
          },
          "yaxis": {
           "automargin": true,
           "gridcolor": "white",
           "linecolor": "white",
           "ticks": "",
           "title": {
            "standoff": 15
           },
           "zerolinecolor": "white",
           "zerolinewidth": 2
          }
         }
        },
        "xaxis": {
         "anchor": "y",
         "domain": [
          0,
          1
         ],
         "title": {
          "text": "Polynomial Degree"
         }
        },
        "yaxis": {
         "anchor": "x",
         "domain": [
          0,
          1
         ],
         "title": {
          "text": "RMSE"
         }
        }
       }
      }
     },
     "metadata": {},
     "output_type": "display_data"
    }
   ],
   "source": [
    "fig = px.line(errs)\n",
    "fig.update_layout(showlegend=True, xaxis_title='Polynomial Degree', yaxis_title='RMSE')\n",
    "fig.show()\n",
    "fig.write_html('FM.html', include_plotlyjs='cdn')"
   ]
  },
  {
   "cell_type": "code",
   "execution_count": 28,
   "metadata": {},
   "outputs": [
    {
     "data": {
      "text/plain": [
       "(0.17695699054777625, 0.15531338549828344)"
      ]
     },
     "execution_count": 28,
     "metadata": {},
     "output_type": "execute_result"
    }
   ],
   "source": [
    "pl = Pipeline([\n",
    "    ('preproc', preproc),\n",
    "    ('poly', PolynomialFeatures(errs['Test Error'].idxmin())),\n",
    "    ('lin_reg', LinearRegression()),\n",
    "    ])\n",
    "pl.fit(X_train, y_train)\n",
    "pl.score(X_train, y_train), improved_model.score(X_test, y_test)"
   ]
  },
  {
   "cell_type": "markdown",
   "metadata": {},
   "source": [
    "The model is still not doing well, so I decide to give DecisionTreeClassifier a try. Because DecisionTreeClassifier cannot handle any nominal and ordinal values, I transform my X trian and test by using the ColumnTransformer which I mentioned before. Then, I create a DecisionTreeClassifier, and run a for loop in range 1 to 20 for tree depth to determine which tree depth is best fit. \n",
    "\n",
    "After the loop, the value of accuracy stops changing after tree's depth is 14, so I make my DecisionTreeClassifier has the max depth of 14. This time, the R^2 is 0.6782909389286133 for train set, and 0.6729957805907173 for test set. It is a huge improvment model which increase the accuracy for about 50%. Although the accuracy still not reach above 80%, I still thing this is a good model since it improved a lot. Finally, I find a model that can be used. "
   ]
  },
  {
   "cell_type": "code",
   "execution_count": 29,
   "metadata": {},
   "outputs": [],
   "source": [
    "X1 = pl.named_steps['preproc'].transform(X_train)\n",
    "X2 = pl.named_steps['preproc'].transform(X_test)"
   ]
  },
  {
   "cell_type": "code",
   "execution_count": 30,
   "metadata": {},
   "outputs": [
    {
     "data": {
      "text/plain": [
       "[[1, 0.6518579299027077, 0.6520745428973277],\n",
       " [2, 0.6518579299027077, 0.6520745428973277],\n",
       " [3, 0.6622904700504044, 0.6633263009845288],\n",
       " [4, 0.6654553979603798, 0.6691279887482419],\n",
       " [5, 0.6724885710936584, 0.6747538677918424],\n",
       " [6, 0.6738365959442035, 0.6728199718706048],\n",
       " [7, 0.6763568163169617, 0.6744022503516175],\n",
       " [8, 0.6777634509436173, 0.6766877637130801],\n",
       " [9, 0.6781151096002813, 0.6731715893108298],\n",
       " [10, 0.6781151096002813, 0.6731715893108298],\n",
       " [11, 0.6781151096002813, 0.6729957805907173],\n",
       " [12, 0.6781151096002813, 0.6731715893108298],\n",
       " [13, 0.6782323291525026, 0.6729957805907173],\n",
       " [14, 0.6782909389286133, 0.6729957805907173],\n",
       " [15, 0.6782909389286133, 0.6729957805907173],\n",
       " [16, 0.6782909389286133, 0.6729957805907173],\n",
       " [17, 0.6782909389286133, 0.6729957805907173],\n",
       " [18, 0.6782909389286133, 0.6729957805907173],\n",
       " [19, 0.6782909389286133, 0.6729957805907173],\n",
       " [20, 0.6782909389286133, 0.6729957805907173]]"
      ]
     },
     "execution_count": 30,
     "metadata": {},
     "output_type": "execute_result"
    }
   ],
   "source": [
    "acc = []\n",
    "for d in range(1,21):\n",
    "    dt = DecisionTreeClassifier(max_depth=d, criterion='entropy')\n",
    "    dt.fit(X1, y_train)\n",
    "    acc.append([d, dt.score(X1, y_train), dt.score(X2, y_test)])\n",
    "acc"
   ]
  },
  {
   "cell_type": "code",
   "execution_count": 31,
   "metadata": {},
   "outputs": [
    {
     "data": {
      "text/plain": [
       "(0.6782909389286133, 0.6729957805907173)"
      ]
     },
     "execution_count": 31,
     "metadata": {},
     "output_type": "execute_result"
    }
   ],
   "source": [
    "dt = DecisionTreeClassifier(max_depth=14, criterion='entropy')\n",
    "dt.fit(X1, y_train)\n",
    "dt.score(X1, y_train), dt.score(X2, y_test)"
   ]
  },
  {
   "cell_type": "markdown",
   "metadata": {},
   "source": [
    "## Step 8: Fairness Analysis"
   ]
  },
  {
   "cell_type": "markdown",
   "metadata": {},
   "source": [
    "In League of Legends, if you get the eighth kill and after every kill that you get, the system will display that you are legendary to other players instead of just saying you killed a enemy champion. In order to perform a fairness analysis and this game setting, I make 2 group, the first group is a position gets at least 8 kills in the game, and another group will be the rest. \n",
    "\n",
    "C: Our desicion tree classifier (1 if win the game, 0 if lose the game)\n",
    "\n",
    "A: Whether or not it was legendary (has at least 8 kills) (1 if true, 0 if false).\n",
    "\n",
    "From the observed stats, the winning rate of a position is legendary is 0.997268, and the winning rate of a position is not legendary is 0.421270. Now, let's compute the accuracy of C in each group. If these two numbers are the same, C achieves accuracy parity. However, it has False for 0.660090, and True for 0.860656.\n"
   ]
  },
  {
   "cell_type": "code",
   "execution_count": 32,
   "metadata": {
    "ExecuteTime": {
     "end_time": "2019-10-31T23:36:28.666489Z",
     "start_time": "2019-10-31T23:36:28.664381Z"
    }
   },
   "outputs": [
    {
     "data": {
      "text/plain": [
       "(0.6843114691215957, 0.6323998582063098)"
      ]
     },
     "execution_count": 32,
     "metadata": {},
     "output_type": "execute_result"
    },
    {
     "data": {
      "image/png": "[encoded data removed]",
      "text/plain": [
       "<Figure size 640x480 with 2 Axes>"
      ]
     },
     "metadata": {},
     "output_type": "display_data"
    }
   ],
   "source": [
    "from sklearn import metrics\n",
    "from sklearn.metrics import ConfusionMatrixDisplay\n",
    "ConfusionMatrixDisplay.from_estimator(dt, X2, y_test)\n",
    "y_pred = dt.predict(X2)\n",
    "precision = metrics.precision_score(y_test, y_pred)\n",
    "recall = metrics.recall_score(y_test, y_pred)\n",
    "precision, recall"
   ]
  },
  {
   "cell_type": "code",
   "execution_count": 33,
   "metadata": {},
   "outputs": [
    {
     "data": {
      "text/plain": [
       "Legendary\n",
       "False    0.421270\n",
       "True     0.997268\n",
       "Name: pred_result, dtype: float64"
      ]
     },
     "execution_count": 33,
     "metadata": {},
     "output_type": "execute_result"
    }
   ],
   "source": [
    "results = X_test\n",
    "results['true_result'] = y_test\n",
    "results['pred_result'] = y_pred\n",
    "results['Legendary'] = (results['kills'] >= 8)\n",
    "results.groupby('Legendary')['pred_result'].mean()"
   ]
  },
  {
   "cell_type": "code",
   "execution_count": 34,
   "metadata": {},
   "outputs": [
    {
     "data": {
      "text/plain": [
       "Legendary\n",
       "False    0.660090\n",
       "True     0.860656\n",
       "Name: accuracy, dtype: float64"
      ]
     },
     "execution_count": 34,
     "metadata": {},
     "output_type": "execute_result"
    }
   ],
   "source": [
    "compute_accuracy = lambda x: metrics.accuracy_score(x['true_result'], x['pred_result'])\n",
    "(\n",
    "    results\n",
    "    .groupby('Legendary')\n",
    "    .apply(compute_accuracy)\n",
    "    .rename('accuracy')\n",
    ")"
   ]
  },
  {
   "cell_type": "markdown",
   "metadata": {},
   "source": [
    "Let's run a permutation test to see if the difference in accuracy is significant.\n",
    "\n",
    "Null Hypothesis: The classifier's accuracy is the same for both who is legendary and who is not legendary, and any differences are due to chance.\n",
    "\n",
    "Alternative Hypothesis: The classifier's accuracy is higher for who is not legendary.\n",
    "\n",
    "Test statistic: Difference in accuracy (True minus False).\n",
    "\n",
    "Significance level: 0.05\n",
    "\n",
    "Since the p-value is 0 which is less than my significance level, I reject the null hypothesis."
   ]
  },
  {
   "cell_type": "code",
   "execution_count": 35,
   "metadata": {},
   "outputs": [
    {
     "data": {
      "application/vnd.plotly.v1+json": {
       "config": {
        "plotlyServerURL": "https://plot.ly"
       },
       "data": [
        {
         "alignmentgroup": "True",
         "bingroup": "x",
         "histnorm": "probability",
         "hovertemplate": "variable=0<br>value=%{x}<br>probability=%{y}<extra></extra>",
         "legendgroup": "0",
         "marker": {
          "color": "#636efa",
          "pattern": {
           "shape": ""
          }
         },
         "name": "0",
         "nbinsx": 20,
         "offsetgroup": "0",
         "orientation": "v",
         "showlegend": true,
         "type": "histogram",
         "x": [
          -0.012604653741660088,
          0.007836324320328214,
          -0.009684514018518886,
          -0.0038442345722364824,
          -0.0038442345722364824,
          -0.009684514018518886,
          0.010756464043469416,
          -0.021365072911083693,
          -0.027205352357365875,
          0.0019960448740458103,
          -0.07392758792762488,
          -0.0038442345722364824,
          0.025357162659175314,
          -0.01552479346480129,
          -0.062247029035060186,
          0.007836324320328214,
          0.01659674348975182,
          -0.006764374295377684,
          0.010756464043469416,
          0.0019960448740458103,
          0.0019960448740458103,
          -0.021365072911083693,
          -0.01552479346480129,
          0.042878000998022414,
          -0.0038442345722364824,
          -0.0009240948490953915,
          0.031197442105457718,
          -0.0009240948490953915,
          0.031197442105457718,
          -0.012604653741660088,
          0.03703772155174012,
          0.010756464043469416,
          -0.009684514018518886,
          -0.0038442345722364824,
          -0.04764633041935418,
          -0.01552479346480129,
          -0.07100744820448368,
          -0.03888591124993068,
          -0.03888591124993068,
          -0.012604653741660088,
          0.031197442105457718,
          -0.03304563180364828,
          0.03995786127488121,
          0.042878000998022414,
          -0.0009240948490953915,
          0.028277302382316516,
          0.01659674348975182,
          -0.0009240948490953915,
          -0.0038442345722364824,
          0.0019960448740458103,
          -0.01844493318794249,
          0.05163842016744602,
          0.007836324320328214,
          -0.021365072911083693,
          -0.009684514018518886,
          -0.0038442345722364824,
          -0.009684514018518886,
          0.013676603766610618,
          0.03411758182859892,
          -0.012604653741660088,
          0.03411758182859892,
          -0.021365072911083693,
          0.004916184597187012,
          0.03703772155174012,
          0.05455855989058722,
          0.025357162659175314,
          -0.03596577152678948,
          0.022437022936034112,
          0.042878000998022414,
          -0.030125492080507077,
          0.01659674348975182,
          -0.03304563180364828,
          -0.0038442345722364824,
          -0.027205352357365875,
          -0.0009240948490953915,
          -0.021365072911083693,
          -0.01552479346480129,
          -0.01552479346480129,
          -0.0038442345722364824,
          0.004916184597187012,
          0.010756464043469416,
          0.004916184597187012,
          -0.021365072911083693,
          -0.01844493318794249,
          -0.0009240948490953915,
          -0.01552479346480129,
          -0.021365072911083693,
          -0.021365072911083693,
          -0.009684514018518886,
          -0.03304563180364828,
          0.028277302382316516,
          0.004916184597187012,
          0.028277302382316516,
          0.045798140721163616,
          -0.0009240948490953915,
          0.0019960448740458103,
          -0.01552479346480129,
          0.0019960448740458103,
          0.025357162659175314,
          0.028277302382316516,
          -0.01844493318794249,
          0.04871828044430482,
          -0.01552479346480129,
          -0.0009240948490953915,
          0.010756464043469416,
          0.03411758182859892,
          0.03411758182859892,
          -0.006764374295377684,
          -0.0009240948490953915,
          -0.006764374295377684,
          -0.0009240948490953915,
          -0.0009240948490953915,
          0.028277302382316516,
          -0.024285212634224784,
          -0.006764374295377684,
          0.010756464043469416,
          0.013676603766610618,
          -0.0009240948490953915,
          -0.03304563180364828,
          -0.04764633041935418,
          -0.012604653741660088,
          0.01659674348975182,
          -0.012604653741660088,
          0.042878000998022414,
          0.042878000998022414,
          -0.021365072911083693,
          -0.009684514018518886,
          0.05455855989058722,
          0.004916184597187012,
          -0.01552479346480129,
          0.022437022936034112,
          -0.024285212634224784,
          0.010756464043469416,
          0.03411758182859892,
          0.031197442105457718,
          0.007836324320328214,
          -0.01552479346480129,
          0.04871828044430482,
          0.004916184597187012,
          -0.03304563180364828,
          -0.0038442345722364824,
          -0.012604653741660088,
          0.042878000998022414,
          0.028277302382316516,
          0.007836324320328214,
          -0.006764374295377684,
          -0.012604653741660088,
          0.0019960448740458103,
          0.007836324320328214,
          0.010756464043469416,
          0.03995786127488121,
          0.007836324320328214,
          -0.030125492080507077,
          -0.024285212634224784,
          -0.01552479346480129,
          -0.03304563180364828,
          -0.01552479346480129,
          -0.006764374295377684,
          -0.006764374295377684,
          0.03703772155174012,
          0.013676603766610618,
          0.013676603766610618,
          0.01951688321289291,
          0.031197442105457718,
          -0.012604653741660088,
          -0.0009240948490953915,
          0.0019960448740458103,
          0.025357162659175314,
          -0.0038442345722364824,
          -0.0009240948490953915,
          -0.012604653741660088,
          0.010756464043469416,
          0.042878000998022414,
          0.007836324320328214,
          -0.030125492080507077,
          0.06915925850629312,
          -0.030125492080507077,
          -0.03888591124993068,
          0.004916184597187012,
          -0.024285212634224784,
          -0.06516716875820128,
          -0.021365072911083693,
          0.01951688321289291,
          -0.01552479346480129,
          -0.04764633041935418,
          -0.01844493318794249,
          -0.030125492080507077,
          0.0019960448740458103,
          -0.01844493318794249,
          0.06623911878315192,
          -0.059326889311918984,
          0.004916184597187012,
          -0.030125492080507077,
          -0.021365072911083693,
          0.010756464043469416,
          -0.0009240948490953915,
          -0.012604653741660088,
          0.031197442105457718,
          -0.0009240948490953915,
          0.03995786127488121,
          -0.027205352357365875,
          -0.041806050973071884,
          0.01659674348975182,
          0.03411758182859892,
          0.06623911878315192,
          0.022437022936034112,
          0.028277302382316516,
          0.03411758182859892,
          0.0019960448740458103,
          -0.03888591124993068,
          -0.03888591124993068,
          -0.012604653741660088,
          -0.024285212634224784,
          0.03703772155174012,
          -0.012604653741660088,
          0.007836324320328214,
          -0.021365072911083693,
          0.010756464043469416,
          0.022437022936034112,
          -0.03596577152678948,
          -0.021365072911083693,
          0.004916184597187012,
          -0.006764374295377684,
          0.004916184597187012,
          0.007836324320328214,
          -0.024285212634224784,
          0.01951688321289291,
          -0.027205352357365875,
          -0.024285212634224784,
          0.010756464043469416,
          0.007836324320328214,
          -0.006764374295377684,
          0.03703772155174012,
          -0.01844493318794249,
          0.010756464043469416,
          -0.0038442345722364824,
          0.031197442105457718,
          0.010756464043469416,
          0.013676603766610618,
          -0.01552479346480129,
          0.0019960448740458103,
          -0.0038442345722364824,
          0.004916184597187012,
          0.0019960448740458103,
          0.028277302382316516,
          -0.024285212634224784,
          -0.006764374295377684,
          0.004916184597187012,
          -0.021365072911083693,
          0.013676603766610618,
          0.0019960448740458103,
          0.004916184597187012,
          -0.0038442345722364824,
          -0.009684514018518886,
          -0.012604653741660088,
          -0.012604653741660088,
          -0.0038442345722364824,
          0.01951688321289291,
          -0.01552479346480129,
          -0.021365072911083693,
          0.013676603766610618,
          0.03703772155174012,
          0.004916184597187012,
          0.007836324320328214,
          0.0019960448740458103,
          -0.006764374295377684,
          -0.006764374295377684,
          0.013676603766610618,
          -0.05640674958877778,
          -0.0038442345722364824,
          0.0019960448740458103,
          -0.012604653741660088,
          0.01951688321289291,
          -0.027205352357365875,
          -0.01552479346480129,
          0.013676603766610618,
          -0.024285212634224784,
          0.028277302382316516,
          0.01951688321289291,
          -0.012604653741660088,
          -0.03888591124993068,
          0.004916184597187012,
          0.0019960448740458103,
          0.01659674348975182,
          -0.0038442345722364824,
          -0.01552479346480129,
          0.05455855989058722,
          0.03995786127488121,
          0.010756464043469416,
          0.01659674348975182,
          0.028277302382316516,
          0.01951688321289291,
          0.03411758182859892,
          0.010756464043469416,
          -0.006764374295377684,
          0.007836324320328214,
          -0.0038442345722364824,
          0.01951688321289291,
          -0.03596577152678948,
          0.028277302382316516,
          0.03995786127488121,
          -0.03888591124993068,
          -0.024285212634224784,
          -0.009684514018518886,
          0.010756464043469416,
          0.013676603766610618,
          0.042878000998022414,
          0.0019960448740458103,
          0.01951688321289291,
          -0.024285212634224784,
          -0.04764633041935418,
          -0.027205352357365875,
          -0.041806050973071884,
          0.042878000998022414,
          0.004916184597187012,
          0.01659674348975182,
          0.010756464043469416,
          0.045798140721163616,
          0.025357162659175314,
          -0.009684514018518886,
          -0.006764374295377684,
          -0.030125492080507077,
          0.007836324320328214,
          -0.01844493318794249,
          0.03703772155174012,
          -0.041806050973071884,
          -0.024285212634224784,
          -0.006764374295377684,
          0.03703772155174012,
          -0.012604653741660088,
          -0.0009240948490953915,
          0.01951688321289291,
          -0.01552479346480129,
          -0.012604653741660088,
          -0.0038442345722364824,
          0.004916184597187012,
          -0.044726190696212975,
          -0.0038442345722364824,
          -0.03596577152678948,
          0.042878000998022414,
          -0.006764374295377684,
          -0.05640674958877778,
          0.022437022936034112,
          0.010756464043469416,
          -0.03888591124993068,
          0.01951688321289291,
          0.010756464043469416,
          0.007836324320328214,
          -0.0038442345722364824,
          -0.03596577152678948,
          0.05747869961372842,
          0.0019960448740458103,
          -0.006764374295377684,
          0.0019960448740458103,
          0.013676603766610618,
          0.007836324320328214,
          -0.006764374295377684,
          -0.027205352357365875,
          -0.012604653741660088,
          -0.006764374295377684,
          -0.01844493318794249,
          -0.006764374295377684,
          -0.006764374295377684,
          0.01659674348975182,
          -0.006764374295377684,
          -0.0038442345722364824,
          0.031197442105457718,
          -0.01844493318794249,
          -0.009684514018518886,
          -0.006764374295377684,
          0.01951688321289291,
          -0.01844493318794249,
          0.0019960448740458103,
          -0.012604653741660088,
          -0.024285212634224784,
          -0.0009240948490953915,
          -0.01552479346480129,
          0.013676603766610618,
          -0.0009240948490953915,
          -0.01552479346480129,
          -0.041806050973071884,
          -0.01844493318794249,
          -0.012604653741660088,
          0.007836324320328214,
          0.01951688321289291,
          0.042878000998022414,
          -0.006764374295377684,
          -0.027205352357365875,
          0.004916184597187012,
          0.004916184597187012,
          0.004916184597187012,
          -0.027205352357365875,
          0.05747869961372842,
          0.031197442105457718,
          0.013676603766610618,
          0.010756464043469416,
          0.010756464043469416,
          0.007836324320328214,
          0.01951688321289291,
          0.010756464043469416,
          0.004916184597187012,
          0.025357162659175314,
          0.013676603766610618,
          -0.027205352357365875,
          -0.030125492080507077,
          0.010756464043469416,
          -0.009684514018518886,
          0.031197442105457718,
          0.013676603766610618,
          0.007836324320328214,
          -0.009684514018518886,
          -0.024285212634224784,
          0.0019960448740458103,
          0.022437022936034112,
          0.007836324320328214,
          -0.01552479346480129,
          -0.009684514018518886,
          -0.009684514018518886,
          0.022437022936034112,
          -0.059326889311918984,
          0.022437022936034112,
          0.007836324320328214,
          -0.021365072911083693,
          0.025357162659175314,
          -0.01844493318794249,
          0.025357162659175314,
          -0.012604653741660088,
          0.025357162659175314,
          -0.012604653741660088,
          -0.0038442345722364824,
          -0.027205352357365875,
          -0.0038442345722364824,
          -0.021365072911083693,
          -0.009684514018518886,
          -0.012604653741660088,
          0.05747869961372842,
          -0.01844493318794249,
          0.03703772155174012,
          -0.01844493318794249,
          0.01659674348975182,
          0.013676603766610618,
          -0.006764374295377684,
          -0.0009240948490953915,
          -0.05640674958877778,
          -0.009684514018518886,
          -0.027205352357365875,
          -0.05348660986563658,
          0.0019960448740458103,
          -0.03596577152678948,
          -0.024285212634224784,
          -0.05640674958877778,
          0.01659674348975182,
          -0.021365072911083693,
          0.025357162659175314,
          0.013676603766610618,
          0.01659674348975182,
          0.007836324320328214,
          0.03411758182859892,
          -0.01552479346480129,
          -0.03304563180364828,
          -0.0009240948490953915,
          0.03703772155174012,
          -0.027205352357365875,
          -0.01552479346480129,
          -0.03888591124993068,
          -0.012604653741660088,
          0.007836324320328214,
          0.01951688321289291,
          -0.01552479346480129,
          0.010756464043469416,
          0.03995786127488121,
          -0.03304563180364828,
          -0.0038442345722364824,
          0.04871828044430482,
          0.031197442105457718,
          0.0019960448740458103,
          -0.01844493318794249,
          0.03411758182859892,
          -0.041806050973071884,
          -0.03888591124993068,
          -0.030125492080507077,
          0.025357162659175314,
          -0.01844493318794249,
          -0.01552479346480129,
          0.004916184597187012,
          0.010756464043469416,
          0.022437022936034112,
          -0.0038442345722364824,
          0.0019960448740458103,
          -0.021365072911083693,
          -0.021365072911083693,
          -0.05348660986563658,
          0.007836324320328214,
          -0.006764374295377684,
          -0.0009240948490953915,
          0.0019960448740458103,
          -0.0009240948490953915,
          -0.0009240948490953915,
          0.0019960448740458103,
          -0.027205352357365875,
          0.007836324320328214,
          -0.01552479346480129,
          0.004916184597187012,
          -0.0038442345722364824,
          0.06915925850629312,
          0.004916184597187012,
          0.013676603766610618,
          0.031197442105457718,
          0.031197442105457718,
          -0.009684514018518886,
          0.03411758182859892,
          0.022437022936034112,
          -0.06516716875820128,
          0.004916184597187012,
          0.025357162659175314,
          0.007836324320328214,
          0.025357162659175314,
          -0.009684514018518886,
          -0.0009240948490953915,
          -0.024285212634224784,
          -0.01552479346480129,
          -0.024285212634224784,
          -0.01844493318794249,
          -0.0038442345722364824,
          -0.006764374295377684,
          -0.006764374295377684,
          0.004916184597187012,
          -0.027205352357365875,
          0.010756464043469416,
          -0.021365072911083693,
          -0.01552479346480129,
          -0.006764374295377684,
          -0.009684514018518886,
          0.01951688321289291,
          0.05455855989058722,
          -0.01552479346480129,
          0.01951688321289291,
          -0.0038442345722364824,
          0.0019960448740458103,
          -0.024285212634224784,
          0.025357162659175314,
          0.042878000998022414,
          -0.012604653741660088,
          0.01659674348975182,
          0.028277302382316516,
          0.042878000998022414,
          -0.05056647014249538,
          -0.0038442345722364824,
          -0.0009240948490953915,
          -0.0009240948490953915,
          -0.01552479346480129,
          0.025357162659175314,
          0.004916184597187012,
          -0.01844493318794249,
          -0.044726190696212975,
          0.013676603766610618,
          0.0019960448740458103,
          0.01659674348975182,
          -0.0038442345722364824,
          0.022437022936034112,
          -0.07100744820448368,
          0.022437022936034112,
          -0.01844493318794249,
          0.022437022936034112,
          -0.006764374295377684,
          -0.006764374295377684,
          -0.05348660986563658,
          -0.01844493318794249,
          0.004916184597187012,
          -0.0038442345722364824,
          0.010756464043469416,
          0.05163842016744602,
          -0.009684514018518886,
          0.022437022936034112,
          0.0019960448740458103,
          -0.01844493318794249,
          -0.009684514018518886,
          -0.05348660986563658,
          0.03995786127488121,
          0.007836324320328214,
          -0.03304563180364828,
          -0.01844493318794249,
          -0.006764374295377684,
          0.025357162659175314,
          0.01659674348975182,
          -0.024285212634224784,
          -0.0038442345722364824,
          0.01951688321289291,
          -0.006764374295377684,
          -0.01844493318794249,
          -0.030125492080507077,
          0.01951688321289291,
          -0.024285212634224784,
          -0.01844493318794249,
          -0.01552479346480129,
          0.025357162659175314,
          0.01659674348975182,
          0.025357162659175314,
          0.010756464043469416,
          -0.006764374295377684,
          0.013676603766610618,
          0.03411758182859892,
          -0.06516716875820128,
          0.01951688321289291,
          0.0019960448740458103,
          -0.01552479346480129,
          -0.0038442345722364824,
          -0.0009240948490953915,
          0.060398839336869514,
          0.03411758182859892,
          -0.030125492080507077,
          -0.062247029035060186,
          0.013676603766610618,
          -0.03596577152678948,
          0.0019960448740458103,
          0.010756464043469416,
          -0.006764374295377684,
          0.010756464043469416,
          -0.0038442345722364824,
          0.03995786127488121,
          -0.006764374295377684,
          -0.0009240948490953915,
          0.013676603766610618,
          0.004916184597187012,
          -0.006764374295377684,
          0.004916184597187012,
          0.022437022936034112,
          -0.0009240948490953915,
          0.010756464043469416,
          -0.006764374295377684,
          0.0019960448740458103,
          -0.01844493318794249,
          -0.024285212634224784,
          -0.044726190696212975,
          0.06623911878315192,
          -0.03304563180364828,
          0.028277302382316516,
          0.013676603766610618,
          -0.03304563180364828,
          0.03995786127488121,
          0.01951688321289291,
          0.01951688321289291,
          -0.0009240948490953915,
          0.007836324320328214,
          -0.021365072911083693,
          0.04871828044430482,
          -0.009684514018518886,
          -0.006764374295377684,
          -0.0009240948490953915,
          -0.0038442345722364824,
          0.03995786127488121,
          0.010756464043469416,
          -0.03596577152678948,
          0.03411758182859892,
          -0.009684514018518886,
          0.028277302382316516,
          0.01659674348975182,
          -0.030125492080507077,
          0.01951688321289291,
          0.010756464043469416,
          -0.006764374295377684,
          -0.012604653741660088,
          -0.012604653741660088,
          -0.006764374295377684,
          -0.0009240948490953915,
          -0.009684514018518886,
          -0.0009240948490953915,
          -0.009684514018518886,
          0.03995786127488121,
          0.0019960448740458103,
          -0.01552479346480129,
          -0.009684514018518886,
          -0.009684514018518886,
          0.01951688321289291,
          -0.01844493318794249,
          0.031197442105457718,
          -0.01552479346480129,
          -0.006764374295377684,
          0.01659674348975182,
          0.0019960448740458103,
          -0.012604653741660088,
          -0.01844493318794249,
          0.01951688321289291,
          -0.012604653741660088,
          0.010756464043469416,
          0.0019960448740458103,
          0.013676603766610618,
          0.022437022936034112,
          -0.0038442345722364824,
          0.03995786127488121,
          0.028277302382316516,
          0.0019960448740458103,
          0.031197442105457718,
          -0.027205352357365875,
          0.0019960448740458103,
          0.022437022936034112,
          0.01659674348975182,
          0.03411758182859892,
          0.004916184597187012,
          -0.044726190696212975,
          0.022437022936034112,
          -0.044726190696212975,
          -0.0009240948490953915,
          -0.006764374295377684,
          -0.021365072911083693,
          0.013676603766610618,
          0.022437022936034112,
          -0.027205352357365875,
          0.01659674348975182,
          0.03703772155174012,
          0.01951688321289291,
          -0.0009240948490953915,
          -0.041806050973071884,
          0.0019960448740458103,
          -0.01552479346480129,
          -0.030125492080507077,
          0.007836324320328214,
          -0.030125492080507077,
          -0.03888591124993068,
          -0.0038442345722364824,
          0.025357162659175314,
          0.042878000998022414,
          -0.021365072911083693,
          -0.01844493318794249,
          -0.01844493318794249,
          -0.009684514018518886,
          -0.05640674958877778,
          -0.024285212634224784,
          -0.0038442345722364824,
          -0.006764374295377684,
          -0.027205352357365875,
          0.03995786127488121,
          -0.01552479346480129,
          -0.006764374295377684,
          -0.0009240948490953915,
          0.013676603766610618,
          -0.024285212634224784,
          -0.006764374295377684,
          0.013676603766610618,
          -0.006764374295377684,
          0.0019960448740458103,
          -0.059326889311918984,
          -0.0009240948490953915,
          0.042878000998022414,
          0.022437022936034112,
          -0.0009240948490953915,
          -0.03888591124993068,
          0.042878000998022414,
          0.01951688321289291,
          0.03703772155174012,
          0.022437022936034112,
          -0.05056647014249538,
          0.010756464043469416,
          -0.006764374295377684,
          0.013676603766610618,
          0.013676603766610618,
          -0.009684514018518886,
          0.013676603766610618,
          -0.012604653741660088,
          -0.05348660986563658,
          0.05455855989058722,
          0.03411758182859892,
          -0.03304563180364828,
          0.042878000998022414,
          0.022437022936034112,
          0.010756464043469416,
          0.0019960448740458103,
          -0.03304563180364828,
          -0.012604653741660088,
          0.03411758182859892,
          0.01951688321289291,
          -0.01552479346480129,
          -0.021365072911083693,
          0.025357162659175314,
          -0.024285212634224784,
          0.03995786127488121,
          0.010756464043469416,
          0.01659674348975182,
          0.010756464043469416,
          -0.030125492080507077,
          0.007836324320328214,
          -0.01552479346480129,
          0.013676603766610618,
          -0.0038442345722364824,
          -0.03596577152678948,
          -0.01844493318794249,
          0.004916184597187012,
          0.010756464043469416,
          -0.04764633041935418,
          0.010756464043469416,
          -0.0038442345722364824,
          0.060398839336869514,
          -0.027205352357365875,
          0.0019960448740458103,
          -0.012604653741660088,
          -0.059326889311918984,
          0.004916184597187012,
          0.010756464043469416,
          0.028277302382316516,
          -0.024285212634224784,
          0.013676603766610618,
          -0.006764374295377684,
          0.010756464043469416,
          -0.024285212634224784,
          -0.012604653741660088,
          -0.01844493318794249,
          -0.05056647014249538,
          -0.04764633041935418,
          0.04871828044430482,
          0.03703772155174012,
          0.0019960448740458103,
          0.03995786127488121,
          -0.021365072911083693,
          0.007836324320328214,
          0.03995786127488121,
          0.01951688321289291,
          0.013676603766610618,
          -0.05056647014249538,
          -0.01552479346480129,
          0.007836324320328214,
          0.013676603766610618,
          0.013676603766610618,
          -0.030125492080507077,
          -0.030125492080507077,
          -0.0009240948490953915,
          -0.027205352357365875,
          0.025357162659175314,
          0.004916184597187012,
          0.0019960448740458103,
          0.03995786127488121,
          -0.012604653741660088,
          0.03995786127488121,
          -0.059326889311918984,
          -0.05056647014249538,
          -0.021365072911083693,
          -0.024285212634224784,
          -0.044726190696212975,
          -0.012604653741660088,
          -0.012604653741660088,
          0.03995786127488121,
          0.010756464043469416,
          -0.027205352357365875,
          0.031197442105457718,
          0.004916184597187012,
          0.045798140721163616,
          -0.012604653741660088,
          0.01951688321289291,
          0.004916184597187012,
          -0.041806050973071884,
          0.007836324320328214,
          0.03703772155174012,
          -0.012604653741660088,
          0.004916184597187012,
          0.007836324320328214,
          -0.03596577152678948,
          0.03995786127488121,
          -0.0038442345722364824,
          -0.0009240948490953915,
          -0.03304563180364828,
          0.013676603766610618,
          0.0019960448740458103,
          0.004916184597187012,
          -0.01844493318794249,
          -0.0038442345722364824,
          -0.012604653741660088,
          0.025357162659175314,
          -0.062247029035060186,
          -0.009684514018518886,
          -0.006764374295377684,
          -0.041806050973071884,
          0.004916184597187012,
          -0.01552479346480129,
          -0.0009240948490953915,
          0.010756464043469416,
          -0.01844493318794249,
          -0.041806050973071884,
          -0.044726190696212975,
          0.007836324320328214,
          0.025357162659175314,
          -0.01844493318794249,
          0.022437022936034112,
          0.013676603766610618,
          0.03411758182859892,
          -0.021365072911083693,
          0.045798140721163616,
          -0.03888591124993068,
          -0.009684514018518886,
          0.01951688321289291,
          -0.01844493318794249,
          -0.024285212634224784,
          0.06915925850629312,
          0.01659674348975182,
          -0.021365072911083693,
          -0.03888591124993068,
          -0.021365072911083693,
          -0.006764374295377684,
          0.05455855989058722,
          0.031197442105457718,
          -0.012604653741660088,
          -0.01844493318794249,
          -0.0009240948490953915,
          -0.006764374295377684,
          -0.0009240948490953915,
          -0.03596577152678948,
          -0.041806050973071884,
          -0.03304563180364828,
          -0.0038442345722364824,
          0.022437022936034112,
          0.004916184597187012,
          0.004916184597187012,
          -0.027205352357365875,
          0.01659674348975182,
          -0.03596577152678948,
          -0.009684514018518886,
          -0.06516716875820128,
          -0.006764374295377684,
          0.01659674348975182,
          0.025357162659175314,
          -0.021365072911083693,
          -0.0009240948490953915,
          -0.05056647014249538,
          0.010756464043469416,
          0.03995786127488121,
          -0.01552479346480129,
          0.013676603766610618,
          -0.030125492080507077,
          -0.006764374295377684,
          -0.044726190696212975,
          -0.044726190696212975,
          0.0019960448740458103,
          0.004916184597187012,
          -0.024285212634224784,
          -0.01552479346480129,
          0.03703772155174012,
          0.04871828044430482,
          0.01659674348975182,
          -0.05640674958877778,
          0.025357162659175314,
          0.025357162659175314,
          0.013676603766610618,
          0.0019960448740458103,
          -0.062247029035060186,
          -0.0038442345722364824,
          0.03411758182859892,
          -0.0009240948490953915,
          0.0019960448740458103,
          -0.009684514018518886,
          0.010756464043469416,
          -0.0038442345722364824,
          -0.0009240948490953915,
          -0.01552479346480129,
          -0.0009240948490953915,
          -0.030125492080507077,
          0.01659674348975182,
          -0.012604653741660088,
          0.004916184597187012,
          -0.006764374295377684,
          0.03411758182859892,
          0.04871828044430482,
          0.01951688321289291,
          -0.021365072911083693,
          -0.006764374295377684,
          0.01659674348975182,
          -0.030125492080507077,
          0.007836324320328214,
          0.01659674348975182,
          0.022437022936034112,
          -0.021365072911083693,
          -0.009684514018518886,
          0.004916184597187012,
          0.013676603766610618,
          0.042878000998022414,
          -0.0009240948490953915,
          -0.024285212634224784,
          0.0019960448740458103,
          -0.01844493318794249,
          -0.05056647014249538,
          -0.01844493318794249,
          0.01951688321289291,
          0.028277302382316516,
          0.05163842016744602,
          -0.05640674958877778,
          -0.04764633041935418,
          0.01951688321289291,
          -0.0009240948490953915,
          0.025357162659175314,
          0.004916184597187012,
          -0.012604653741660088,
          -0.030125492080507077,
          -0.021365072911083693,
          -0.01844493318794249,
          0.025357162659175314,
          -0.009684514018518886,
          -0.0038442345722364824,
          0.007836324320328214,
          -0.024285212634224784,
          0.025357162659175314,
          0.007836324320328214,
          -0.021365072911083693,
          0.007836324320328214
         ],
         "xaxis": "x",
         "yaxis": "y"
        }
       ],
       "layout": {
        "annotations": [
         {
          "showarrow": false,
          "text": "<span style=\"color:red\">Observed = 0.2</span>",
          "x": 0.18056554604764632,
          "y": 0.15
         }
        ],
        "barmode": "relative",
        "legend": {
         "title": {
          "text": "variable"
         },
         "tracegroupgap": 0
        },
        "shapes": [
         {
          "line": {
           "color": "red"
          },
          "type": "line",
          "x0": 0.20056554604764631,
          "x1": 0.20056554604764631,
          "xref": "x",
          "y0": 0,
          "y1": 1,
          "yref": "y domain"
         }
        ],
        "template": {
         "data": {
          "bar": [
           {
            "error_x": {
             "color": "#2a3f5f"
            },
            "error_y": {
             "color": "#2a3f5f"
            },
            "marker": {
             "line": {
              "color": "#E5ECF6",
              "width": 0.5
             },
             "pattern": {
              "fillmode": "overlay",
              "size": 10,
              "solidity": 0.2
             }
            },
            "type": "bar"
           }
          ],
          "barpolar": [
           {
            "marker": {
             "line": {
              "color": "#E5ECF6",
              "width": 0.5
             },
             "pattern": {
              "fillmode": "overlay",
              "size": 10,
              "solidity": 0.2
             }
            },
            "type": "barpolar"
           }
          ],
          "carpet": [
           {
            "aaxis": {
             "endlinecolor": "#2a3f5f",
             "gridcolor": "white",
             "linecolor": "white",
             "minorgridcolor": "white",
             "startlinecolor": "#2a3f5f"
            },
            "baxis": {
             "endlinecolor": "#2a3f5f",
             "gridcolor": "white",
             "linecolor": "white",
             "minorgridcolor": "white",
             "startlinecolor": "#2a3f5f"
            },
            "type": "carpet"
           }
          ],
          "choropleth": [
           {
            "colorbar": {
             "outlinewidth": 0,
             "ticks": ""
            },
            "type": "choropleth"
           }
          ],
          "contour": [
           {
            "colorbar": {
             "outlinewidth": 0,
             "ticks": ""
            },
            "colorscale": [
             [
              0,
              "#0d0887"
             ],
             [
              0.1111111111111111,
              "#46039f"
             ],
             [
              0.2222222222222222,
              "#7201a8"
             ],
             [
              0.3333333333333333,
              "#9c179e"
             ],
             [
              0.4444444444444444,
              "#bd3786"
             ],
             [
              0.5555555555555556,
              "#d8576b"
             ],
             [
              0.6666666666666666,
              "#ed7953"
             ],
             [
              0.7777777777777778,
              "#fb9f3a"
             ],
             [
              0.8888888888888888,
              "#fdca26"
             ],
             [
              1,
              "#f0f921"
             ]
            ],
            "type": "contour"
           }
          ],
          "contourcarpet": [
           {
            "colorbar": {
             "outlinewidth": 0,
             "ticks": ""
            },
            "type": "contourcarpet"
           }
          ],
          "heatmap": [
           {
            "colorbar": {
             "outlinewidth": 0,
             "ticks": ""
            },
            "colorscale": [
             [
              0,
              "#0d0887"
             ],
             [
              0.1111111111111111,
              "#46039f"
             ],
             [
              0.2222222222222222,
              "#7201a8"
             ],
             [
              0.3333333333333333,
              "#9c179e"
             ],
             [
              0.4444444444444444,
              "#bd3786"
             ],
             [
              0.5555555555555556,
              "#d8576b"
             ],
             [
              0.6666666666666666,
              "#ed7953"
             ],
             [
              0.7777777777777778,
              "#fb9f3a"
             ],
             [
              0.8888888888888888,
              "#fdca26"
             ],
             [
              1,
              "#f0f921"
             ]
            ],
            "type": "heatmap"
           }
          ],
          "heatmapgl": [
           {
            "colorbar": {
             "outlinewidth": 0,
             "ticks": ""
            },
            "colorscale": [
             [
              0,
              "#0d0887"
             ],
             [
              0.1111111111111111,
              "#46039f"
             ],
             [
              0.2222222222222222,
              "#7201a8"
             ],
             [
              0.3333333333333333,
              "#9c179e"
             ],
             [
              0.4444444444444444,
              "#bd3786"
             ],
             [
              0.5555555555555556,
              "#d8576b"
             ],
             [
              0.6666666666666666,
              "#ed7953"
             ],
             [
              0.7777777777777778,
              "#fb9f3a"
             ],
             [
              0.8888888888888888,
              "#fdca26"
             ],
             [
              1,
              "#f0f921"
             ]
            ],
            "type": "heatmapgl"
           }
          ],
          "histogram": [
           {
            "marker": {
             "pattern": {
              "fillmode": "overlay",
              "size": 10,
              "solidity": 0.2
             }
            },
            "type": "histogram"
           }
          ],
          "histogram2d": [
           {
            "colorbar": {
             "outlinewidth": 0,
             "ticks": ""
            },
            "colorscale": [
             [
              0,
              "#0d0887"
             ],
             [
              0.1111111111111111,
              "#46039f"
             ],
             [
              0.2222222222222222,
              "#7201a8"
             ],
             [
              0.3333333333333333,
              "#9c179e"
             ],
             [
              0.4444444444444444,
              "#bd3786"
             ],
             [
              0.5555555555555556,
              "#d8576b"
             ],
             [
              0.6666666666666666,
              "#ed7953"
             ],
             [
              0.7777777777777778,
              "#fb9f3a"
             ],
             [
              0.8888888888888888,
              "#fdca26"
             ],
             [
              1,
              "#f0f921"
             ]
            ],
            "type": "histogram2d"
           }
          ],
          "histogram2dcontour": [
           {
            "colorbar": {
             "outlinewidth": 0,
             "ticks": ""
            },
            "colorscale": [
             [
              0,
              "#0d0887"
             ],
             [
              0.1111111111111111,
              "#46039f"
             ],
             [
              0.2222222222222222,
              "#7201a8"
             ],
             [
              0.3333333333333333,
              "#9c179e"
             ],
             [
              0.4444444444444444,
              "#bd3786"
             ],
             [
              0.5555555555555556,
              "#d8576b"
             ],
             [
              0.6666666666666666,
              "#ed7953"
             ],
             [
              0.7777777777777778,
              "#fb9f3a"
             ],
             [
              0.8888888888888888,
              "#fdca26"
             ],
             [
              1,
              "#f0f921"
             ]
            ],
            "type": "histogram2dcontour"
           }
          ],
          "mesh3d": [
           {
            "colorbar": {
             "outlinewidth": 0,
             "ticks": ""
            },
            "type": "mesh3d"
           }
          ],
          "parcoords": [
           {
            "line": {
             "colorbar": {
              "outlinewidth": 0,
              "ticks": ""
             }
            },
            "type": "parcoords"
           }
          ],
          "pie": [
           {
            "automargin": true,
            "type": "pie"
           }
          ],
          "scatter": [
           {
            "fillpattern": {
             "fillmode": "overlay",
             "size": 10,
             "solidity": 0.2
            },
            "type": "scatter"
           }
          ],
          "scatter3d": [
           {
            "line": {
             "colorbar": {
              "outlinewidth": 0,
              "ticks": ""
             }
            },
            "marker": {
             "colorbar": {
              "outlinewidth": 0,
              "ticks": ""
             }
            },
            "type": "scatter3d"
           }
          ],
          "scattercarpet": [
           {
            "marker": {
             "colorbar": {
              "outlinewidth": 0,
              "ticks": ""
             }
            },
            "type": "scattercarpet"
           }
          ],
          "scattergeo": [
           {
            "marker": {
             "colorbar": {
              "outlinewidth": 0,
              "ticks": ""
             }
            },
            "type": "scattergeo"
           }
          ],
          "scattergl": [
           {
            "marker": {
             "colorbar": {
              "outlinewidth": 0,
              "ticks": ""
             }
            },
            "type": "scattergl"
           }
          ],
          "scattermapbox": [
           {
            "marker": {
             "colorbar": {
              "outlinewidth": 0,
              "ticks": ""
             }
            },
            "type": "scattermapbox"
           }
          ],
          "scatterpolar": [
           {
            "marker": {
             "colorbar": {
              "outlinewidth": 0,
              "ticks": ""
             }
            },
            "type": "scatterpolar"
           }
          ],
          "scatterpolargl": [
           {
            "marker": {
             "colorbar": {
              "outlinewidth": 0,
              "ticks": ""
             }
            },
            "type": "scatterpolargl"
           }
          ],
          "scatterternary": [
           {
            "marker": {
             "colorbar": {
              "outlinewidth": 0,
              "ticks": ""
             }
            },
            "type": "scatterternary"
           }
          ],
          "surface": [
           {
            "colorbar": {
             "outlinewidth": 0,
             "ticks": ""
            },
            "colorscale": [
             [
              0,
              "#0d0887"
             ],
             [
              0.1111111111111111,
              "#46039f"
             ],
             [
              0.2222222222222222,
              "#7201a8"
             ],
             [
              0.3333333333333333,
              "#9c179e"
             ],
             [
              0.4444444444444444,
              "#bd3786"
             ],
             [
              0.5555555555555556,
              "#d8576b"
             ],
             [
              0.6666666666666666,
              "#ed7953"
             ],
             [
              0.7777777777777778,
              "#fb9f3a"
             ],
             [
              0.8888888888888888,
              "#fdca26"
             ],
             [
              1,
              "#f0f921"
             ]
            ],
            "type": "surface"
           }
          ],
          "table": [
           {
            "cells": {
             "fill": {
              "color": "#EBF0F8"
             },
             "line": {
              "color": "white"
             }
            },
            "header": {
             "fill": {
              "color": "#C8D4E3"
             },
             "line": {
              "color": "white"
             }
            },
            "type": "table"
           }
          ]
         },
         "layout": {
          "annotationdefaults": {
           "arrowcolor": "#2a3f5f",
           "arrowhead": 0,
           "arrowwidth": 1
          },
          "autotypenumbers": "strict",
          "coloraxis": {
           "colorbar": {
            "outlinewidth": 0,
            "ticks": ""
           }
          },
          "colorscale": {
           "diverging": [
            [
             0,
             "#8e0152"
            ],
            [
             0.1,
             "#c51b7d"
            ],
            [
             0.2,
             "#de77ae"
            ],
            [
             0.3,
             "#f1b6da"
            ],
            [
             0.4,
             "#fde0ef"
            ],
            [
             0.5,
             "#f7f7f7"
            ],
            [
             0.6,
             "#e6f5d0"
            ],
            [
             0.7,
             "#b8e186"
            ],
            [
             0.8,
             "#7fbc41"
            ],
            [
             0.9,
             "#4d9221"
            ],
            [
             1,
             "#276419"
            ]
           ],
           "sequential": [
            [
             0,
             "#0d0887"
            ],
            [
             0.1111111111111111,
             "#46039f"
            ],
            [
             0.2222222222222222,
             "#7201a8"
            ],
            [
             0.3333333333333333,
             "#9c179e"
            ],
            [
             0.4444444444444444,
             "#bd3786"
            ],
            [
             0.5555555555555556,
             "#d8576b"
            ],
            [
             0.6666666666666666,
             "#ed7953"
            ],
            [
             0.7777777777777778,
             "#fb9f3a"
            ],
            [
             0.8888888888888888,
             "#fdca26"
            ],
            [
             1,
             "#f0f921"
            ]
           ],
           "sequentialminus": [
            [
             0,
             "#0d0887"
            ],
            [
             0.1111111111111111,
             "#46039f"
            ],
            [
             0.2222222222222222,
             "#7201a8"
            ],
            [
             0.3333333333333333,
             "#9c179e"
            ],
            [
             0.4444444444444444,
             "#bd3786"
            ],
            [
             0.5555555555555556,
             "#d8576b"
            ],
            [
             0.6666666666666666,
             "#ed7953"
            ],
            [
             0.7777777777777778,
             "#fb9f3a"
            ],
            [
             0.8888888888888888,
             "#fdca26"
            ],
            [
             1,
             "#f0f921"
            ]
           ]
          },
          "colorway": [
           "#636efa",
           "#EF553B",
           "#00cc96",
           "#ab63fa",
           "#FFA15A",
           "#19d3f3",
           "#FF6692",
           "#B6E880",
           "#FF97FF",
           "#FECB52"
          ],
          "font": {
           "color": "#2a3f5f"
          },
          "geo": {
           "bgcolor": "white",
           "lakecolor": "white",
           "landcolor": "#E5ECF6",
           "showlakes": true,
           "showland": true,
           "subunitcolor": "white"
          },
          "hoverlabel": {
           "align": "left"
          },
          "hovermode": "closest",
          "mapbox": {
           "style": "light"
          },
          "paper_bgcolor": "white",
          "plot_bgcolor": "#E5ECF6",
          "polar": {
           "angularaxis": {
            "gridcolor": "white",
            "linecolor": "white",
            "ticks": ""
           },
           "bgcolor": "#E5ECF6",
           "radialaxis": {
            "gridcolor": "white",
            "linecolor": "white",
            "ticks": ""
           }
          },
          "scene": {
           "xaxis": {
            "backgroundcolor": "#E5ECF6",
            "gridcolor": "white",
            "gridwidth": 2,
            "linecolor": "white",
            "showbackground": true,
            "ticks": "",
            "zerolinecolor": "white"
           },
           "yaxis": {
            "backgroundcolor": "#E5ECF6",
            "gridcolor": "white",
            "gridwidth": 2,
            "linecolor": "white",
            "showbackground": true,
            "ticks": "",
            "zerolinecolor": "white"
           },
           "zaxis": {
            "backgroundcolor": "#E5ECF6",
            "gridcolor": "white",
            "gridwidth": 2,
            "linecolor": "white",
            "showbackground": true,
            "ticks": "",
            "zerolinecolor": "white"
           }
          },
          "shapedefaults": {
           "line": {
            "color": "#2a3f5f"
           }
          },
          "ternary": {
           "aaxis": {
            "gridcolor": "white",
            "linecolor": "white",
            "ticks": ""
           },
           "baxis": {
            "gridcolor": "white",
            "linecolor": "white",
            "ticks": ""
           },
           "bgcolor": "#E5ECF6",
           "caxis": {
            "gridcolor": "white",
            "linecolor": "white",
            "ticks": ""
           }
          },
          "title": {
           "x": 0.05
          },
          "xaxis": {
           "automargin": true,
           "gridcolor": "white",
           "linecolor": "white",
           "ticks": "",
           "title": {
            "standoff": 15
           },
           "zerolinecolor": "white",
           "zerolinewidth": 2
          },
          "yaxis": {
           "automargin": true,
           "gridcolor": "white",
           "linecolor": "white",
           "ticks": "",
           "title": {
            "standoff": 15
           },
           "zerolinecolor": "white",
           "zerolinewidth": 2
          }
         }
        },
        "title": {
         "text": "Difference in Accuracy (Legendary -  not Legendary)"
        },
        "xaxis": {
         "anchor": "y",
         "domain": [
          0,
          1
         ],
         "title": {
          "text": "value"
         }
        },
        "yaxis": {
         "anchor": "x",
         "domain": [
          0,
          1
         ],
         "title": {
          "text": "probability"
         }
        }
       }
      }
     },
     "metadata": {},
     "output_type": "display_data"
    }
   ],
   "source": [
    "obs = results.groupby('Legendary').apply(compute_accuracy).diff().iloc[-1]\n",
    "diff_in_acc = []\n",
    "for _ in range(1000):\n",
    "    s = (\n",
    "        results[['Legendary', 'pred_result', 'true_result']]\n",
    "        .assign(Legendary=np.random.permutation(results['Legendary']))\n",
    "        .groupby('Legendary')\n",
    "        .apply(compute_accuracy)\n",
    "        .diff()\n",
    "        .iloc[-1]\n",
    "    )\n",
    "    \n",
    "    diff_in_acc.append(s)\n",
    "fig = pd.Series(diff_in_acc).plot(kind='hist', histnorm='probability', nbins=20,\n",
    "                            title='Difference in Accuracy (Legendary -  not Legendary)')\n",
    "fig.add_vline(x=obs, line_color='red')\n",
    "fig.add_annotation(text=f'<span style=\"color:red\">Observed = {round(obs, 2)}</span>',\n",
    "                   x= -0.02 + obs, showarrow=False, y=0.15)\n",
    "fig.show()\n",
    "fig.write_html('FA.html', include_plotlyjs='cdn')"
   ]
  },
  {
   "cell_type": "code",
   "execution_count": 36,
   "metadata": {},
   "outputs": [
    {
     "data": {
      "text/plain": [
       "0.0"
      ]
     },
     "execution_count": 36,
     "metadata": {},
     "output_type": "execute_result"
    }
   ],
   "source": [
    "(diff_in_acc >= obs).mean()"
   ]
  },
  {
   "cell_type": "code",
   "execution_count": null,
   "metadata": {},
   "outputs": [],
   "source": []
  }
 ],
 "metadata": {
  "kernelspec": {
   "display_name": "Python 3 (ipykernel)",
   "language": "python",
   "name": "python3"
  },
  "language_info": {
   "codemirror_mode": {
    "name": "ipython",
    "version": 3
   },
   "file_extension": ".py",
   "mimetype": "text/x-python",
   "name": "python",
   "nbconvert_exporter": "python",
   "pygments_lexer": "ipython3",
   "version": "3.8.18"
  }
 },
 "nbformat": 4,
 "nbformat_minor": 2
}
