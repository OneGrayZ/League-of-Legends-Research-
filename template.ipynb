{
 "cells": [
  {
   "cell_type": "markdown",
   "metadata": {},
   "source": [
    "# Digging into League of Legends\n",
    "\n",
    "**Name**: Yihui Zhang\n",
    "\n",
    "**Website Link**: https://onegrayz.github.io/League-of-Legends-Research-/"
   ]
  },
  {
   "cell_type": "code",
   "execution_count": 1,
   "metadata": {
    "ExecuteTime": {
     "end_time": "2019-10-31T23:36:28.652554Z",
     "start_time": "2019-10-31T23:36:27.180520Z"
    }
   },
   "outputs": [],
   "source": [
    "import pandas as pd\n",
    "import numpy as np\n",
    "from pathlib import Path\n",
    "\n",
    "import plotly.express as px\n",
    "pd.options.plotting.backend = 'plotly'\n",
    "\n",
    "# from dsc80_utils import * # Feel free to uncomment and use this."
   ]
  },
  {
   "cell_type": "markdown",
   "metadata": {},
   "source": [
    "## Step 1: Introduction"
   ]
  },
  {
   "cell_type": "markdown",
   "metadata": {},
   "source": [
    "League of Legends is a multiplayer online battle arena video game developed and published by Riot Games in 2009. This game is very popular worldwide. The format of the game is simply two teams play against each other which each team has 5 players. There are 5 roles for each team which are top line, jungle, mid line, bot line, and support. \n",
    "\n",
    "I played League of Legends for years, the first blood kill is a big thing for the game because it will give player advatanges in the game. If the player knows how to use his advatanges from the first blood, it will help the team to win much easier. My favorite position is jungle, so I am very curious in which jungle champion gets the first blood will increase team's win rate in the all professional league games. Some coach or players either play in the professional league or play in daily rank will like to know that so they can pick the right champion to help them win.\n",
    "\n",
    "My dataset is on all of the professional League of Legends games that have taken place in 2024. The dataset contains 12 rows per game, one row per player and 2 rows of summary statistics (one for each team). \n",
    "\n",
    "The columns I am interested in to answer, “Which jungle champion gets the first blood kill will increase team's win rate” are: \"result\", \"position\", \"champion\", \"firstbloodkill\". I chose these columns because they showed me the result of the match, and which champion gets the first blood kill, which position gets the first blood kill. When we cleaned our data to isolate the games where soul appeared we had 27300 rows, and 4 columns.\n"
   ]
  },
  {
   "cell_type": "markdown",
   "metadata": {},
   "source": [
    "#### Descriptions of Columns\n",
    "- position: the position of game, top means top line, jng means jungle, mid means mid line, bot means bot line, and sup means support\n",
    "- champion: the champion that the player picked \n",
    "- result: 0 means defeat, 1 means victory\n",
    "- firstbooldkill: 0 means not got first blood kill, 1 means got first blood kill"
   ]
  },
  {
   "cell_type": "markdown",
   "metadata": {},
   "source": [
    "## Step 2: Data Cleaning and Exploratory Data Analysis"
   ]
  },
  {
   "cell_type": "markdown",
   "metadata": {},
   "source": [
    "### Raw Dataset"
   ]
  },
  {
   "cell_type": "code",
   "execution_count": 92,
   "metadata": {
    "ExecuteTime": {
     "end_time": "2019-10-31T23:36:28.657068Z",
     "start_time": "2019-10-31T23:36:28.654650Z"
    }
   },
   "outputs": [
    {
     "data": {
      "text/html": [
       "<div>\n",
       "<style scoped>\n",
       "    .dataframe tbody tr th:only-of-type {\n",
       "        vertical-align: middle;\n",
       "    }\n",
       "\n",
       "    .dataframe tbody tr th {\n",
       "        vertical-align: top;\n",
       "    }\n",
       "\n",
       "    .dataframe thead th {\n",
       "        text-align: right;\n",
       "    }\n",
       "</style>\n",
       "<table border=\"1\" class=\"dataframe\">\n",
       "  <thead>\n",
       "    <tr style=\"text-align: right;\">\n",
       "      <th></th>\n",
       "      <th>gameid</th>\n",
       "      <th>datacompleteness</th>\n",
       "      <th>url</th>\n",
       "      <th>league</th>\n",
       "      <th>year</th>\n",
       "      <th>split</th>\n",
       "      <th>playoffs</th>\n",
       "      <th>date</th>\n",
       "      <th>game</th>\n",
       "      <th>patch</th>\n",
       "      <th>...</th>\n",
       "      <th>opp_csat15</th>\n",
       "      <th>golddiffat15</th>\n",
       "      <th>xpdiffat15</th>\n",
       "      <th>csdiffat15</th>\n",
       "      <th>killsat15</th>\n",
       "      <th>assistsat15</th>\n",
       "      <th>deathsat15</th>\n",
       "      <th>opp_killsat15</th>\n",
       "      <th>opp_assistsat15</th>\n",
       "      <th>opp_deathsat15</th>\n",
       "    </tr>\n",
       "  </thead>\n",
       "  <tbody>\n",
       "    <tr>\n",
       "      <th>0</th>\n",
       "      <td>10660-10660_game_1</td>\n",
       "      <td>partial</td>\n",
       "      <td>https://lpl.qq.com/es/stats.shtml?bmid=10660</td>\n",
       "      <td>DCup</td>\n",
       "      <td>2023</td>\n",
       "      <td>NaN</td>\n",
       "      <td>0</td>\n",
       "      <td>2024-01-01 05:13:15</td>\n",
       "      <td>1</td>\n",
       "      <td>13.24</td>\n",
       "      <td>...</td>\n",
       "      <td>NaN</td>\n",
       "      <td>NaN</td>\n",
       "      <td>NaN</td>\n",
       "      <td>NaN</td>\n",
       "      <td>NaN</td>\n",
       "      <td>NaN</td>\n",
       "      <td>NaN</td>\n",
       "      <td>NaN</td>\n",
       "      <td>NaN</td>\n",
       "      <td>NaN</td>\n",
       "    </tr>\n",
       "    <tr>\n",
       "      <th>1</th>\n",
       "      <td>10660-10660_game_1</td>\n",
       "      <td>partial</td>\n",
       "      <td>https://lpl.qq.com/es/stats.shtml?bmid=10660</td>\n",
       "      <td>DCup</td>\n",
       "      <td>2023</td>\n",
       "      <td>NaN</td>\n",
       "      <td>0</td>\n",
       "      <td>2024-01-01 05:13:15</td>\n",
       "      <td>1</td>\n",
       "      <td>13.24</td>\n",
       "      <td>...</td>\n",
       "      <td>NaN</td>\n",
       "      <td>NaN</td>\n",
       "      <td>NaN</td>\n",
       "      <td>NaN</td>\n",
       "      <td>NaN</td>\n",
       "      <td>NaN</td>\n",
       "      <td>NaN</td>\n",
       "      <td>NaN</td>\n",
       "      <td>NaN</td>\n",
       "      <td>NaN</td>\n",
       "    </tr>\n",
       "    <tr>\n",
       "      <th>2</th>\n",
       "      <td>10660-10660_game_1</td>\n",
       "      <td>partial</td>\n",
       "      <td>https://lpl.qq.com/es/stats.shtml?bmid=10660</td>\n",
       "      <td>DCup</td>\n",
       "      <td>2023</td>\n",
       "      <td>NaN</td>\n",
       "      <td>0</td>\n",
       "      <td>2024-01-01 05:13:15</td>\n",
       "      <td>1</td>\n",
       "      <td>13.24</td>\n",
       "      <td>...</td>\n",
       "      <td>NaN</td>\n",
       "      <td>NaN</td>\n",
       "      <td>NaN</td>\n",
       "      <td>NaN</td>\n",
       "      <td>NaN</td>\n",
       "      <td>NaN</td>\n",
       "      <td>NaN</td>\n",
       "      <td>NaN</td>\n",
       "      <td>NaN</td>\n",
       "      <td>NaN</td>\n",
       "    </tr>\n",
       "    <tr>\n",
       "      <th>3</th>\n",
       "      <td>10660-10660_game_1</td>\n",
       "      <td>partial</td>\n",
       "      <td>https://lpl.qq.com/es/stats.shtml?bmid=10660</td>\n",
       "      <td>DCup</td>\n",
       "      <td>2023</td>\n",
       "      <td>NaN</td>\n",
       "      <td>0</td>\n",
       "      <td>2024-01-01 05:13:15</td>\n",
       "      <td>1</td>\n",
       "      <td>13.24</td>\n",
       "      <td>...</td>\n",
       "      <td>NaN</td>\n",
       "      <td>NaN</td>\n",
       "      <td>NaN</td>\n",
       "      <td>NaN</td>\n",
       "      <td>NaN</td>\n",
       "      <td>NaN</td>\n",
       "      <td>NaN</td>\n",
       "      <td>NaN</td>\n",
       "      <td>NaN</td>\n",
       "      <td>NaN</td>\n",
       "    </tr>\n",
       "    <tr>\n",
       "      <th>4</th>\n",
       "      <td>10660-10660_game_1</td>\n",
       "      <td>partial</td>\n",
       "      <td>https://lpl.qq.com/es/stats.shtml?bmid=10660</td>\n",
       "      <td>DCup</td>\n",
       "      <td>2023</td>\n",
       "      <td>NaN</td>\n",
       "      <td>0</td>\n",
       "      <td>2024-01-01 05:13:15</td>\n",
       "      <td>1</td>\n",
       "      <td>13.24</td>\n",
       "      <td>...</td>\n",
       "      <td>NaN</td>\n",
       "      <td>NaN</td>\n",
       "      <td>NaN</td>\n",
       "      <td>NaN</td>\n",
       "      <td>NaN</td>\n",
       "      <td>NaN</td>\n",
       "      <td>NaN</td>\n",
       "      <td>NaN</td>\n",
       "      <td>NaN</td>\n",
       "      <td>NaN</td>\n",
       "    </tr>\n",
       "  </tbody>\n",
       "</table>\n",
       "<p>5 rows × 131 columns</p>\n",
       "</div>"
      ],
      "text/plain": [
       "               gameid datacompleteness  \\\n",
       "0  10660-10660_game_1          partial   \n",
       "1  10660-10660_game_1          partial   \n",
       "2  10660-10660_game_1          partial   \n",
       "3  10660-10660_game_1          partial   \n",
       "4  10660-10660_game_1          partial   \n",
       "\n",
       "                                            url league  year split  playoffs  \\\n",
       "0  https://lpl.qq.com/es/stats.shtml?bmid=10660   DCup  2023   NaN         0   \n",
       "1  https://lpl.qq.com/es/stats.shtml?bmid=10660   DCup  2023   NaN         0   \n",
       "2  https://lpl.qq.com/es/stats.shtml?bmid=10660   DCup  2023   NaN         0   \n",
       "3  https://lpl.qq.com/es/stats.shtml?bmid=10660   DCup  2023   NaN         0   \n",
       "4  https://lpl.qq.com/es/stats.shtml?bmid=10660   DCup  2023   NaN         0   \n",
       "\n",
       "                  date  game  patch  ...  opp_csat15 golddiffat15 xpdiffat15  \\\n",
       "0  2024-01-01 05:13:15     1  13.24  ...         NaN          NaN        NaN   \n",
       "1  2024-01-01 05:13:15     1  13.24  ...         NaN          NaN        NaN   \n",
       "2  2024-01-01 05:13:15     1  13.24  ...         NaN          NaN        NaN   \n",
       "3  2024-01-01 05:13:15     1  13.24  ...         NaN          NaN        NaN   \n",
       "4  2024-01-01 05:13:15     1  13.24  ...         NaN          NaN        NaN   \n",
       "\n",
       "  csdiffat15 killsat15 assistsat15 deathsat15 opp_killsat15 opp_assistsat15  \\\n",
       "0        NaN       NaN         NaN        NaN           NaN             NaN   \n",
       "1        NaN       NaN         NaN        NaN           NaN             NaN   \n",
       "2        NaN       NaN         NaN        NaN           NaN             NaN   \n",
       "3        NaN       NaN         NaN        NaN           NaN             NaN   \n",
       "4        NaN       NaN         NaN        NaN           NaN             NaN   \n",
       "\n",
       "  opp_deathsat15  \n",
       "0            NaN  \n",
       "1            NaN  \n",
       "2            NaN  \n",
       "3            NaN  \n",
       "4            NaN  \n",
       "\n",
       "[5 rows x 131 columns]"
      ]
     },
     "execution_count": 92,
     "metadata": {},
     "output_type": "execute_result"
    }
   ],
   "source": [
    "df = pd.read_csv('2024_LoL_esports_match_data_from_OraclesElixir.csv')\n",
    "df.head()"
   ]
  },
  {
   "cell_type": "markdown",
   "metadata": {},
   "source": [
    "### Data cleaning:\n",
    "First of all, I only gets the columns that helps to answer my question from the dataset which are 'position', 'champion', 'result', and 'firstbloodkill'. In the position columns, other than the 5 roles of the game which are top, jng, mid, bot, sup, there is another value called 'team' which I do not want. In addition, because I only care about the position, so I only have 'jng' in my position column. I also need to filter out the firstbloodkill column because I only care about the win rate when the champion got the first blood kill. I also realize that the 'result' and 'firstbloodkill' columns should be boolean values instead of integers, so I convert them to the right type. Then I check if there are any missing values now in each columns, and the output shows there is not empty cells in my dataset."
   ]
  },
  {
   "cell_type": "code",
   "execution_count": 93,
   "metadata": {},
   "outputs": [
    {
     "data": {
      "text/html": [
       "<div>\n",
       "<style scoped>\n",
       "    .dataframe tbody tr th:only-of-type {\n",
       "        vertical-align: middle;\n",
       "    }\n",
       "\n",
       "    .dataframe tbody tr th {\n",
       "        vertical-align: top;\n",
       "    }\n",
       "\n",
       "    .dataframe thead th {\n",
       "        text-align: right;\n",
       "    }\n",
       "</style>\n",
       "<table border=\"1\" class=\"dataframe\">\n",
       "  <thead>\n",
       "    <tr style=\"text-align: right;\">\n",
       "      <th></th>\n",
       "      <th>position</th>\n",
       "      <th>champion</th>\n",
       "      <th>result</th>\n",
       "      <th>firstbloodkill</th>\n",
       "    </tr>\n",
       "  </thead>\n",
       "  <tbody>\n",
       "    <tr>\n",
       "      <th>0</th>\n",
       "      <td>top</td>\n",
       "      <td>Aatrox</td>\n",
       "      <td>0</td>\n",
       "      <td>0.0</td>\n",
       "    </tr>\n",
       "    <tr>\n",
       "      <th>1</th>\n",
       "      <td>jng</td>\n",
       "      <td>Maokai</td>\n",
       "      <td>0</td>\n",
       "      <td>0.0</td>\n",
       "    </tr>\n",
       "    <tr>\n",
       "      <th>2</th>\n",
       "      <td>mid</td>\n",
       "      <td>Orianna</td>\n",
       "      <td>0</td>\n",
       "      <td>0.0</td>\n",
       "    </tr>\n",
       "    <tr>\n",
       "      <th>3</th>\n",
       "      <td>bot</td>\n",
       "      <td>Kalista</td>\n",
       "      <td>0</td>\n",
       "      <td>0.0</td>\n",
       "    </tr>\n",
       "    <tr>\n",
       "      <th>4</th>\n",
       "      <td>sup</td>\n",
       "      <td>Senna</td>\n",
       "      <td>0</td>\n",
       "      <td>0.0</td>\n",
       "    </tr>\n",
       "  </tbody>\n",
       "</table>\n",
       "</div>"
      ],
      "text/plain": [
       "  position champion  result  firstbloodkill\n",
       "0      top   Aatrox       0             0.0\n",
       "1      jng   Maokai       0             0.0\n",
       "2      mid  Orianna       0             0.0\n",
       "3      bot  Kalista       0             0.0\n",
       "4      sup    Senna       0             0.0"
      ]
     },
     "execution_count": 93,
     "metadata": {},
     "output_type": "execute_result"
    }
   ],
   "source": [
    "df = df[['position', 'champion', 'result', 'firstbloodkill']]\n",
    "df.head()\n"
   ]
  },
  {
   "cell_type": "code",
   "execution_count": 94,
   "metadata": {},
   "outputs": [
    {
     "data": {
      "text/html": [
       "<div>\n",
       "<style scoped>\n",
       "    .dataframe tbody tr th:only-of-type {\n",
       "        vertical-align: middle;\n",
       "    }\n",
       "\n",
       "    .dataframe tbody tr th {\n",
       "        vertical-align: top;\n",
       "    }\n",
       "\n",
       "    .dataframe thead th {\n",
       "        text-align: right;\n",
       "    }\n",
       "</style>\n",
       "<table border=\"1\" class=\"dataframe\">\n",
       "  <thead>\n",
       "    <tr style=\"text-align: right;\">\n",
       "      <th></th>\n",
       "      <th>position</th>\n",
       "      <th>champion</th>\n",
       "      <th>result</th>\n",
       "      <th>firstbloodkill</th>\n",
       "    </tr>\n",
       "  </thead>\n",
       "  <tbody>\n",
       "    <tr>\n",
       "      <th>25</th>\n",
       "      <td>jng</td>\n",
       "      <td>Bel'Veth</td>\n",
       "      <td>True</td>\n",
       "      <td>True</td>\n",
       "    </tr>\n",
       "    <tr>\n",
       "      <th>37</th>\n",
       "      <td>jng</td>\n",
       "      <td>Jarvan IV</td>\n",
       "      <td>True</td>\n",
       "      <td>True</td>\n",
       "    </tr>\n",
       "    <tr>\n",
       "      <th>73</th>\n",
       "      <td>jng</td>\n",
       "      <td>Nocturne</td>\n",
       "      <td>True</td>\n",
       "      <td>True</td>\n",
       "    </tr>\n",
       "    <tr>\n",
       "      <th>85</th>\n",
       "      <td>jng</td>\n",
       "      <td>Jarvan IV</td>\n",
       "      <td>True</td>\n",
       "      <td>True</td>\n",
       "    </tr>\n",
       "    <tr>\n",
       "      <th>126</th>\n",
       "      <td>jng</td>\n",
       "      <td>Lee Sin</td>\n",
       "      <td>True</td>\n",
       "      <td>True</td>\n",
       "    </tr>\n",
       "    <tr>\n",
       "      <th>...</th>\n",
       "      <td>...</td>\n",
       "      <td>...</td>\n",
       "      <td>...</td>\n",
       "      <td>...</td>\n",
       "    </tr>\n",
       "    <tr>\n",
       "      <th>27181</th>\n",
       "      <td>jng</td>\n",
       "      <td>Nocturne</td>\n",
       "      <td>True</td>\n",
       "      <td>True</td>\n",
       "    </tr>\n",
       "    <tr>\n",
       "      <th>27229</th>\n",
       "      <td>jng</td>\n",
       "      <td>Viego</td>\n",
       "      <td>False</td>\n",
       "      <td>True</td>\n",
       "    </tr>\n",
       "    <tr>\n",
       "      <th>27253</th>\n",
       "      <td>jng</td>\n",
       "      <td>Viego</td>\n",
       "      <td>False</td>\n",
       "      <td>True</td>\n",
       "    </tr>\n",
       "    <tr>\n",
       "      <th>27265</th>\n",
       "      <td>jng</td>\n",
       "      <td>Taliyah</td>\n",
       "      <td>False</td>\n",
       "      <td>True</td>\n",
       "    </tr>\n",
       "    <tr>\n",
       "      <th>27282</th>\n",
       "      <td>jng</td>\n",
       "      <td>Vi</td>\n",
       "      <td>True</td>\n",
       "      <td>True</td>\n",
       "    </tr>\n",
       "  </tbody>\n",
       "</table>\n",
       "<p>640 rows × 4 columns</p>\n",
       "</div>"
      ],
      "text/plain": [
       "      position   champion  result  firstbloodkill\n",
       "25         jng   Bel'Veth    True            True\n",
       "37         jng  Jarvan IV    True            True\n",
       "73         jng   Nocturne    True            True\n",
       "85         jng  Jarvan IV    True            True\n",
       "126        jng    Lee Sin    True            True\n",
       "...        ...        ...     ...             ...\n",
       "27181      jng   Nocturne    True            True\n",
       "27229      jng      Viego   False            True\n",
       "27253      jng      Viego   False            True\n",
       "27265      jng    Taliyah   False            True\n",
       "27282      jng         Vi    True            True\n",
       "\n",
       "[640 rows x 4 columns]"
      ]
     },
     "execution_count": 94,
     "metadata": {},
     "output_type": "execute_result"
    }
   ],
   "source": [
    "df = df[df['position'] == 'jng']\n",
    "df = df[df['firstbloodkill'] == 1]\n",
    "df['result'] = df['result'].apply(lambda x : bool(x))\n",
    "df['firstbloodkill'] = df['firstbloodkill'].apply(lambda x : bool(x))\n",
    "df"
   ]
  },
  {
   "cell_type": "code",
   "execution_count": 95,
   "metadata": {},
   "outputs": [
    {
     "data": {
      "text/plain": [
       "position          0\n",
       "champion          0\n",
       "result            0\n",
       "firstbloodkill    0\n",
       "dtype: int64"
      ]
     },
     "execution_count": 95,
     "metadata": {},
     "output_type": "execute_result"
    }
   ],
   "source": [
    "df.isna().sum()"
   ]
  },
  {
   "cell_type": "markdown",
   "metadata": {},
   "source": [
    "### Univariate Analysis:\n",
    "First, let's look at all jungle champions' win rate when by drawing graph. This pie graph shows that the win rate of all jungle champions when they get the firstblood. Based on this graph, when a jungle champion gets the first blood kill, the team will have almost 60% to win. "
   ]
  },
  {
   "cell_type": "code",
   "execution_count": 96,
   "metadata": {},
   "outputs": [
    {
     "data": {
      "application/vnd.plotly.v1+json": {
       "config": {
        "plotlyServerURL": "https://plot.ly"
       },
       "data": [
        {
         "domain": {
          "x": [
           0,
           1
          ],
          "y": [
           0,
           1
          ]
         },
         "hovertemplate": "result=%{label}<br>firstbloodkill=%{value}<extra></extra>",
         "labels": [
          "victory",
          "victory",
          "victory",
          "victory",
          "victory",
          "defeat",
          "defeat",
          "victory",
          "victory",
          "victory",
          "victory",
          "victory",
          "victory",
          "defeat",
          "defeat",
          "victory",
          "defeat",
          "victory",
          "victory",
          "victory",
          "defeat",
          "victory",
          "defeat",
          "defeat",
          "defeat",
          "victory",
          "defeat",
          "victory",
          "victory",
          "defeat",
          "victory",
          "victory",
          "victory",
          "victory",
          "victory",
          "defeat",
          "victory",
          "defeat",
          "victory",
          "victory",
          "victory",
          "victory",
          "defeat",
          "defeat",
          "victory",
          "victory",
          "victory",
          "defeat",
          "defeat",
          "defeat",
          "defeat",
          "victory",
          "defeat",
          "victory",
          "defeat",
          "victory",
          "victory",
          "defeat",
          "victory",
          "victory",
          "defeat",
          "defeat",
          "victory",
          "defeat",
          "victory",
          "victory",
          "defeat",
          "victory",
          "victory",
          "defeat",
          "victory",
          "victory",
          "victory",
          "victory",
          "victory",
          "victory",
          "defeat",
          "victory",
          "defeat",
          "victory",
          "victory",
          "defeat",
          "victory",
          "victory",
          "victory",
          "victory",
          "victory",
          "victory",
          "defeat",
          "victory",
          "defeat",
          "defeat",
          "defeat",
          "victory",
          "victory",
          "victory",
          "victory",
          "victory",
          "victory",
          "victory",
          "defeat",
          "victory",
          "defeat",
          "defeat",
          "defeat",
          "victory",
          "defeat",
          "victory",
          "victory",
          "defeat",
          "victory",
          "victory",
          "victory",
          "victory",
          "victory",
          "defeat",
          "victory",
          "defeat",
          "victory",
          "victory",
          "victory",
          "victory",
          "defeat",
          "victory",
          "victory",
          "defeat",
          "defeat",
          "victory",
          "victory",
          "victory",
          "defeat",
          "defeat",
          "victory",
          "victory",
          "defeat",
          "defeat",
          "victory",
          "victory",
          "victory",
          "victory",
          "victory",
          "victory",
          "victory",
          "victory",
          "victory",
          "victory",
          "defeat",
          "victory",
          "defeat",
          "victory",
          "victory",
          "defeat",
          "victory",
          "defeat",
          "victory",
          "defeat",
          "victory",
          "victory",
          "defeat",
          "victory",
          "victory",
          "victory",
          "victory",
          "defeat",
          "victory",
          "defeat",
          "victory",
          "victory",
          "victory",
          "victory",
          "victory",
          "victory",
          "victory",
          "defeat",
          "defeat",
          "victory",
          "victory",
          "defeat",
          "victory",
          "defeat",
          "victory",
          "defeat",
          "victory",
          "victory",
          "victory",
          "defeat",
          "defeat",
          "defeat",
          "defeat",
          "victory",
          "defeat",
          "defeat",
          "defeat",
          "defeat",
          "victory",
          "victory",
          "victory",
          "defeat",
          "victory",
          "victory",
          "victory",
          "defeat",
          "defeat",
          "victory",
          "defeat",
          "victory",
          "defeat",
          "victory",
          "defeat",
          "defeat",
          "victory",
          "victory",
          "victory",
          "victory",
          "defeat",
          "defeat",
          "victory",
          "victory",
          "defeat",
          "victory",
          "victory",
          "defeat",
          "victory",
          "victory",
          "victory",
          "defeat",
          "victory",
          "victory",
          "victory",
          "victory",
          "victory",
          "defeat",
          "victory",
          "victory",
          "victory",
          "defeat",
          "victory",
          "victory",
          "victory",
          "victory",
          "defeat",
          "victory",
          "defeat",
          "defeat",
          "victory",
          "defeat",
          "victory",
          "victory",
          "victory",
          "defeat",
          "victory",
          "victory",
          "defeat",
          "victory",
          "victory",
          "defeat",
          "victory",
          "victory",
          "victory",
          "victory",
          "victory",
          "defeat",
          "defeat",
          "defeat",
          "defeat",
          "defeat",
          "victory",
          "victory",
          "defeat",
          "victory",
          "defeat",
          "victory",
          "victory",
          "defeat",
          "defeat",
          "victory",
          "victory",
          "defeat",
          "victory",
          "victory",
          "defeat",
          "victory",
          "defeat",
          "victory",
          "victory",
          "defeat",
          "defeat",
          "victory",
          "defeat",
          "victory",
          "defeat",
          "defeat",
          "defeat",
          "victory",
          "defeat",
          "defeat",
          "victory",
          "defeat",
          "defeat",
          "victory",
          "victory",
          "defeat",
          "victory",
          "defeat",
          "victory",
          "defeat",
          "victory",
          "defeat",
          "victory",
          "victory",
          "victory",
          "victory",
          "victory",
          "victory",
          "victory",
          "defeat",
          "victory",
          "defeat",
          "victory",
          "victory",
          "defeat",
          "victory",
          "defeat",
          "victory",
          "victory",
          "defeat",
          "defeat",
          "defeat",
          "victory",
          "defeat",
          "victory",
          "victory",
          "victory",
          "victory",
          "defeat",
          "victory",
          "victory",
          "victory",
          "victory",
          "defeat",
          "victory",
          "victory",
          "defeat",
          "defeat",
          "victory",
          "defeat",
          "defeat",
          "victory",
          "victory",
          "victory",
          "defeat",
          "defeat",
          "defeat",
          "defeat",
          "victory",
          "defeat",
          "defeat",
          "defeat",
          "victory",
          "defeat",
          "victory",
          "defeat",
          "victory",
          "victory",
          "victory",
          "defeat",
          "victory",
          "victory",
          "victory",
          "victory",
          "victory",
          "victory",
          "defeat",
          "defeat",
          "defeat",
          "defeat",
          "victory",
          "victory",
          "victory",
          "defeat",
          "victory",
          "victory",
          "victory",
          "victory",
          "defeat",
          "defeat",
          "defeat",
          "defeat",
          "victory",
          "victory",
          "victory",
          "defeat",
          "defeat",
          "defeat",
          "victory",
          "victory",
          "defeat",
          "victory",
          "defeat",
          "victory",
          "defeat",
          "defeat",
          "defeat",
          "defeat",
          "defeat",
          "defeat",
          "defeat",
          "victory",
          "defeat",
          "victory",
          "defeat",
          "victory",
          "defeat",
          "defeat",
          "victory",
          "defeat",
          "defeat",
          "defeat",
          "defeat",
          "defeat",
          "defeat",
          "victory",
          "defeat",
          "victory",
          "victory",
          "defeat",
          "defeat",
          "victory",
          "victory",
          "victory",
          "defeat",
          "defeat",
          "victory",
          "victory",
          "defeat",
          "defeat",
          "victory",
          "defeat",
          "victory",
          "victory",
          "defeat",
          "defeat",
          "defeat",
          "victory",
          "victory",
          "defeat",
          "defeat",
          "defeat",
          "defeat",
          "victory",
          "victory",
          "victory",
          "victory",
          "victory",
          "victory",
          "defeat",
          "victory",
          "victory",
          "victory",
          "victory",
          "victory",
          "victory",
          "victory",
          "defeat",
          "victory",
          "victory",
          "victory",
          "defeat",
          "victory",
          "victory",
          "defeat",
          "defeat",
          "defeat",
          "victory",
          "defeat",
          "defeat",
          "defeat",
          "victory",
          "victory",
          "victory",
          "defeat",
          "victory",
          "defeat",
          "defeat",
          "victory",
          "victory",
          "defeat",
          "defeat",
          "defeat",
          "victory",
          "victory",
          "defeat",
          "victory",
          "defeat",
          "defeat",
          "defeat",
          "defeat",
          "victory",
          "victory",
          "victory",
          "victory",
          "victory",
          "victory",
          "victory",
          "victory",
          "victory",
          "defeat",
          "defeat",
          "victory",
          "defeat",
          "victory",
          "defeat",
          "defeat",
          "victory",
          "victory",
          "defeat",
          "defeat",
          "defeat",
          "defeat",
          "defeat",
          "defeat",
          "defeat",
          "victory",
          "victory",
          "victory",
          "defeat",
          "victory",
          "victory",
          "victory",
          "defeat",
          "defeat",
          "victory",
          "defeat",
          "victory",
          "victory",
          "defeat",
          "victory",
          "victory",
          "defeat",
          "victory",
          "defeat",
          "victory",
          "defeat",
          "victory",
          "defeat",
          "defeat",
          "victory",
          "victory",
          "defeat",
          "victory",
          "defeat",
          "defeat",
          "victory",
          "victory",
          "victory",
          "defeat",
          "defeat",
          "victory",
          "victory",
          "victory",
          "defeat",
          "victory",
          "victory",
          "victory",
          "victory",
          "victory",
          "victory",
          "victory",
          "victory",
          "victory",
          "victory",
          "victory",
          "victory",
          "victory",
          "defeat",
          "defeat",
          "defeat",
          "victory",
          "victory",
          "victory",
          "victory",
          "defeat",
          "victory",
          "defeat",
          "victory",
          "victory",
          "defeat",
          "victory",
          "victory",
          "victory",
          "victory",
          "victory",
          "victory",
          "victory",
          "defeat",
          "victory",
          "victory",
          "defeat",
          "defeat",
          "victory",
          "victory",
          "victory",
          "defeat",
          "victory",
          "defeat",
          "victory",
          "victory",
          "defeat",
          "defeat",
          "victory",
          "defeat",
          "victory",
          "victory",
          "victory",
          "victory",
          "victory",
          "defeat",
          "defeat",
          "victory",
          "victory",
          "victory",
          "defeat",
          "victory",
          "victory",
          "victory",
          "victory",
          "victory",
          "victory",
          "victory",
          "defeat",
          "defeat",
          "defeat",
          "victory",
          "victory",
          "defeat",
          "victory",
          "defeat",
          "defeat",
          "defeat",
          "victory"
         ],
         "legendgroup": "",
         "name": "",
         "showlegend": true,
         "type": "pie",
         "values": [
          1,
          1,
          1,
          1,
          1,
          1,
          1,
          1,
          1,
          1,
          1,
          1,
          1,
          1,
          1,
          1,
          1,
          1,
          1,
          1,
          1,
          1,
          1,
          1,
          1,
          1,
          1,
          1,
          1,
          1,
          1,
          1,
          1,
          1,
          1,
          1,
          1,
          1,
          1,
          1,
          1,
          1,
          1,
          1,
          1,
          1,
          1,
          1,
          1,
          1,
          1,
          1,
          1,
          1,
          1,
          1,
          1,
          1,
          1,
          1,
          1,
          1,
          1,
          1,
          1,
          1,
          1,
          1,
          1,
          1,
          1,
          1,
          1,
          1,
          1,
          1,
          1,
          1,
          1,
          1,
          1,
          1,
          1,
          1,
          1,
          1,
          1,
          1,
          1,
          1,
          1,
          1,
          1,
          1,
          1,
          1,
          1,
          1,
          1,
          1,
          1,
          1,
          1,
          1,
          1,
          1,
          1,
          1,
          1,
          1,
          1,
          1,
          1,
          1,
          1,
          1,
          1,
          1,
          1,
          1,
          1,
          1,
          1,
          1,
          1,
          1,
          1,
          1,
          1,
          1,
          1,
          1,
          1,
          1,
          1,
          1,
          1,
          1,
          1,
          1,
          1,
          1,
          1,
          1,
          1,
          1,
          1,
          1,
          1,
          1,
          1,
          1,
          1,
          1,
          1,
          1,
          1,
          1,
          1,
          1,
          1,
          1,
          1,
          1,
          1,
          1,
          1,
          1,
          1,
          1,
          1,
          1,
          1,
          1,
          1,
          1,
          1,
          1,
          1,
          1,
          1,
          1,
          1,
          1,
          1,
          1,
          1,
          1,
          1,
          1,
          1,
          1,
          1,
          1,
          1,
          1,
          1,
          1,
          1,
          1,
          1,
          1,
          1,
          1,
          1,
          1,
          1,
          1,
          1,
          1,
          1,
          1,
          1,
          1,
          1,
          1,
          1,
          1,
          1,
          1,
          1,
          1,
          1,
          1,
          1,
          1,
          1,
          1,
          1,
          1,
          1,
          1,
          1,
          1,
          1,
          1,
          1,
          1,
          1,
          1,
          1,
          1,
          1,
          1,
          1,
          1,
          1,
          1,
          1,
          1,
          1,
          1,
          1,
          1,
          1,
          1,
          1,
          1,
          1,
          1,
          1,
          1,
          1,
          1,
          1,
          1,
          1,
          1,
          1,
          1,
          1,
          1,
          1,
          1,
          1,
          1,
          1,
          1,
          1,
          1,
          1,
          1,
          1,
          1,
          1,
          1,
          1,
          1,
          1,
          1,
          1,
          1,
          1,
          1,
          1,
          1,
          1,
          1,
          1,
          1,
          1,
          1,
          1,
          1,
          1,
          1,
          1,
          1,
          1,
          1,
          1,
          1,
          1,
          1,
          1,
          1,
          1,
          1,
          1,
          1,
          1,
          1,
          1,
          1,
          1,
          1,
          1,
          1,
          1,
          1,
          1,
          1,
          1,
          1,
          1,
          1,
          1,
          1,
          1,
          1,
          1,
          1,
          1,
          1,
          1,
          1,
          1,
          1,
          1,
          1,
          1,
          1,
          1,
          1,
          1,
          1,
          1,
          1,
          1,
          1,
          1,
          1,
          1,
          1,
          1,
          1,
          1,
          1,
          1,
          1,
          1,
          1,
          1,
          1,
          1,
          1,
          1,
          1,
          1,
          1,
          1,
          1,
          1,
          1,
          1,
          1,
          1,
          1,
          1,
          1,
          1,
          1,
          1,
          1,
          1,
          1,
          1,
          1,
          1,
          1,
          1,
          1,
          1,
          1,
          1,
          1,
          1,
          1,
          1,
          1,
          1,
          1,
          1,
          1,
          1,
          1,
          1,
          1,
          1,
          1,
          1,
          1,
          1,
          1,
          1,
          1,
          1,
          1,
          1,
          1,
          1,
          1,
          1,
          1,
          1,
          1,
          1,
          1,
          1,
          1,
          1,
          1,
          1,
          1,
          1,
          1,
          1,
          1,
          1,
          1,
          1,
          1,
          1,
          1,
          1,
          1,
          1,
          1,
          1,
          1,
          1,
          1,
          1,
          1,
          1,
          1,
          1,
          1,
          1,
          1,
          1,
          1,
          1,
          1,
          1,
          1,
          1,
          1,
          1,
          1,
          1,
          1,
          1,
          1,
          1,
          1,
          1,
          1,
          1,
          1,
          1,
          1,
          1,
          1,
          1,
          1,
          1,
          1,
          1,
          1,
          1,
          1,
          1,
          1,
          1,
          1,
          1,
          1,
          1,
          1,
          1,
          1,
          1,
          1,
          1,
          1,
          1,
          1,
          1,
          1,
          1,
          1,
          1,
          1,
          1,
          1,
          1,
          1,
          1,
          1,
          1,
          1,
          1,
          1,
          1,
          1,
          1,
          1,
          1,
          1,
          1,
          1,
          1,
          1,
          1,
          1,
          1,
          1,
          1,
          1,
          1,
          1,
          1,
          1,
          1,
          1,
          1,
          1,
          1,
          1,
          1,
          1,
          1,
          1,
          1,
          1,
          1,
          1,
          1,
          1,
          1,
          1,
          1,
          1,
          1,
          1,
          1,
          1,
          1,
          1,
          1,
          1,
          1,
          1,
          1,
          1,
          1,
          1,
          1,
          1,
          1,
          1,
          1,
          1,
          1,
          1,
          1,
          1,
          1,
          1,
          1,
          1,
          1,
          1,
          1,
          1,
          1,
          1,
          1,
          1,
          1,
          1,
          1,
          1,
          1,
          1,
          1,
          1,
          1,
          1,
          1,
          1,
          1,
          1,
          1,
          1,
          1,
          1,
          1,
          1,
          1,
          1,
          1,
          1,
          1,
          1,
          1,
          1,
          1,
          1
         ]
        }
       ],
       "layout": {
        "legend": {
         "tracegroupgap": 0
        },
        "template": {
         "data": {
          "bar": [
           {
            "error_x": {
             "color": "#2a3f5f"
            },
            "error_y": {
             "color": "#2a3f5f"
            },
            "marker": {
             "line": {
              "color": "#E5ECF6",
              "width": 0.5
             },
             "pattern": {
              "fillmode": "overlay",
              "size": 10,
              "solidity": 0.2
             }
            },
            "type": "bar"
           }
          ],
          "barpolar": [
           {
            "marker": {
             "line": {
              "color": "#E5ECF6",
              "width": 0.5
             },
             "pattern": {
              "fillmode": "overlay",
              "size": 10,
              "solidity": 0.2
             }
            },
            "type": "barpolar"
           }
          ],
          "carpet": [
           {
            "aaxis": {
             "endlinecolor": "#2a3f5f",
             "gridcolor": "white",
             "linecolor": "white",
             "minorgridcolor": "white",
             "startlinecolor": "#2a3f5f"
            },
            "baxis": {
             "endlinecolor": "#2a3f5f",
             "gridcolor": "white",
             "linecolor": "white",
             "minorgridcolor": "white",
             "startlinecolor": "#2a3f5f"
            },
            "type": "carpet"
           }
          ],
          "choropleth": [
           {
            "colorbar": {
             "outlinewidth": 0,
             "ticks": ""
            },
            "type": "choropleth"
           }
          ],
          "contour": [
           {
            "colorbar": {
             "outlinewidth": 0,
             "ticks": ""
            },
            "colorscale": [
             [
              0,
              "#0d0887"
             ],
             [
              0.1111111111111111,
              "#46039f"
             ],
             [
              0.2222222222222222,
              "#7201a8"
             ],
             [
              0.3333333333333333,
              "#9c179e"
             ],
             [
              0.4444444444444444,
              "#bd3786"
             ],
             [
              0.5555555555555556,
              "#d8576b"
             ],
             [
              0.6666666666666666,
              "#ed7953"
             ],
             [
              0.7777777777777778,
              "#fb9f3a"
             ],
             [
              0.8888888888888888,
              "#fdca26"
             ],
             [
              1,
              "#f0f921"
             ]
            ],
            "type": "contour"
           }
          ],
          "contourcarpet": [
           {
            "colorbar": {
             "outlinewidth": 0,
             "ticks": ""
            },
            "type": "contourcarpet"
           }
          ],
          "heatmap": [
           {
            "colorbar": {
             "outlinewidth": 0,
             "ticks": ""
            },
            "colorscale": [
             [
              0,
              "#0d0887"
             ],
             [
              0.1111111111111111,
              "#46039f"
             ],
             [
              0.2222222222222222,
              "#7201a8"
             ],
             [
              0.3333333333333333,
              "#9c179e"
             ],
             [
              0.4444444444444444,
              "#bd3786"
             ],
             [
              0.5555555555555556,
              "#d8576b"
             ],
             [
              0.6666666666666666,
              "#ed7953"
             ],
             [
              0.7777777777777778,
              "#fb9f3a"
             ],
             [
              0.8888888888888888,
              "#fdca26"
             ],
             [
              1,
              "#f0f921"
             ]
            ],
            "type": "heatmap"
           }
          ],
          "heatmapgl": [
           {
            "colorbar": {
             "outlinewidth": 0,
             "ticks": ""
            },
            "colorscale": [
             [
              0,
              "#0d0887"
             ],
             [
              0.1111111111111111,
              "#46039f"
             ],
             [
              0.2222222222222222,
              "#7201a8"
             ],
             [
              0.3333333333333333,
              "#9c179e"
             ],
             [
              0.4444444444444444,
              "#bd3786"
             ],
             [
              0.5555555555555556,
              "#d8576b"
             ],
             [
              0.6666666666666666,
              "#ed7953"
             ],
             [
              0.7777777777777778,
              "#fb9f3a"
             ],
             [
              0.8888888888888888,
              "#fdca26"
             ],
             [
              1,
              "#f0f921"
             ]
            ],
            "type": "heatmapgl"
           }
          ],
          "histogram": [
           {
            "marker": {
             "pattern": {
              "fillmode": "overlay",
              "size": 10,
              "solidity": 0.2
             }
            },
            "type": "histogram"
           }
          ],
          "histogram2d": [
           {
            "colorbar": {
             "outlinewidth": 0,
             "ticks": ""
            },
            "colorscale": [
             [
              0,
              "#0d0887"
             ],
             [
              0.1111111111111111,
              "#46039f"
             ],
             [
              0.2222222222222222,
              "#7201a8"
             ],
             [
              0.3333333333333333,
              "#9c179e"
             ],
             [
              0.4444444444444444,
              "#bd3786"
             ],
             [
              0.5555555555555556,
              "#d8576b"
             ],
             [
              0.6666666666666666,
              "#ed7953"
             ],
             [
              0.7777777777777778,
              "#fb9f3a"
             ],
             [
              0.8888888888888888,
              "#fdca26"
             ],
             [
              1,
              "#f0f921"
             ]
            ],
            "type": "histogram2d"
           }
          ],
          "histogram2dcontour": [
           {
            "colorbar": {
             "outlinewidth": 0,
             "ticks": ""
            },
            "colorscale": [
             [
              0,
              "#0d0887"
             ],
             [
              0.1111111111111111,
              "#46039f"
             ],
             [
              0.2222222222222222,
              "#7201a8"
             ],
             [
              0.3333333333333333,
              "#9c179e"
             ],
             [
              0.4444444444444444,
              "#bd3786"
             ],
             [
              0.5555555555555556,
              "#d8576b"
             ],
             [
              0.6666666666666666,
              "#ed7953"
             ],
             [
              0.7777777777777778,
              "#fb9f3a"
             ],
             [
              0.8888888888888888,
              "#fdca26"
             ],
             [
              1,
              "#f0f921"
             ]
            ],
            "type": "histogram2dcontour"
           }
          ],
          "mesh3d": [
           {
            "colorbar": {
             "outlinewidth": 0,
             "ticks": ""
            },
            "type": "mesh3d"
           }
          ],
          "parcoords": [
           {
            "line": {
             "colorbar": {
              "outlinewidth": 0,
              "ticks": ""
             }
            },
            "type": "parcoords"
           }
          ],
          "pie": [
           {
            "automargin": true,
            "type": "pie"
           }
          ],
          "scatter": [
           {
            "fillpattern": {
             "fillmode": "overlay",
             "size": 10,
             "solidity": 0.2
            },
            "type": "scatter"
           }
          ],
          "scatter3d": [
           {
            "line": {
             "colorbar": {
              "outlinewidth": 0,
              "ticks": ""
             }
            },
            "marker": {
             "colorbar": {
              "outlinewidth": 0,
              "ticks": ""
             }
            },
            "type": "scatter3d"
           }
          ],
          "scattercarpet": [
           {
            "marker": {
             "colorbar": {
              "outlinewidth": 0,
              "ticks": ""
             }
            },
            "type": "scattercarpet"
           }
          ],
          "scattergeo": [
           {
            "marker": {
             "colorbar": {
              "outlinewidth": 0,
              "ticks": ""
             }
            },
            "type": "scattergeo"
           }
          ],
          "scattergl": [
           {
            "marker": {
             "colorbar": {
              "outlinewidth": 0,
              "ticks": ""
             }
            },
            "type": "scattergl"
           }
          ],
          "scattermapbox": [
           {
            "marker": {
             "colorbar": {
              "outlinewidth": 0,
              "ticks": ""
             }
            },
            "type": "scattermapbox"
           }
          ],
          "scatterpolar": [
           {
            "marker": {
             "colorbar": {
              "outlinewidth": 0,
              "ticks": ""
             }
            },
            "type": "scatterpolar"
           }
          ],
          "scatterpolargl": [
           {
            "marker": {
             "colorbar": {
              "outlinewidth": 0,
              "ticks": ""
             }
            },
            "type": "scatterpolargl"
           }
          ],
          "scatterternary": [
           {
            "marker": {
             "colorbar": {
              "outlinewidth": 0,
              "ticks": ""
             }
            },
            "type": "scatterternary"
           }
          ],
          "surface": [
           {
            "colorbar": {
             "outlinewidth": 0,
             "ticks": ""
            },
            "colorscale": [
             [
              0,
              "#0d0887"
             ],
             [
              0.1111111111111111,
              "#46039f"
             ],
             [
              0.2222222222222222,
              "#7201a8"
             ],
             [
              0.3333333333333333,
              "#9c179e"
             ],
             [
              0.4444444444444444,
              "#bd3786"
             ],
             [
              0.5555555555555556,
              "#d8576b"
             ],
             [
              0.6666666666666666,
              "#ed7953"
             ],
             [
              0.7777777777777778,
              "#fb9f3a"
             ],
             [
              0.8888888888888888,
              "#fdca26"
             ],
             [
              1,
              "#f0f921"
             ]
            ],
            "type": "surface"
           }
          ],
          "table": [
           {
            "cells": {
             "fill": {
              "color": "#EBF0F8"
             },
             "line": {
              "color": "white"
             }
            },
            "header": {
             "fill": {
              "color": "#C8D4E3"
             },
             "line": {
              "color": "white"
             }
            },
            "type": "table"
           }
          ]
         },
         "layout": {
          "annotationdefaults": {
           "arrowcolor": "#2a3f5f",
           "arrowhead": 0,
           "arrowwidth": 1
          },
          "autotypenumbers": "strict",
          "coloraxis": {
           "colorbar": {
            "outlinewidth": 0,
            "ticks": ""
           }
          },
          "colorscale": {
           "diverging": [
            [
             0,
             "#8e0152"
            ],
            [
             0.1,
             "#c51b7d"
            ],
            [
             0.2,
             "#de77ae"
            ],
            [
             0.3,
             "#f1b6da"
            ],
            [
             0.4,
             "#fde0ef"
            ],
            [
             0.5,
             "#f7f7f7"
            ],
            [
             0.6,
             "#e6f5d0"
            ],
            [
             0.7,
             "#b8e186"
            ],
            [
             0.8,
             "#7fbc41"
            ],
            [
             0.9,
             "#4d9221"
            ],
            [
             1,
             "#276419"
            ]
           ],
           "sequential": [
            [
             0,
             "#0d0887"
            ],
            [
             0.1111111111111111,
             "#46039f"
            ],
            [
             0.2222222222222222,
             "#7201a8"
            ],
            [
             0.3333333333333333,
             "#9c179e"
            ],
            [
             0.4444444444444444,
             "#bd3786"
            ],
            [
             0.5555555555555556,
             "#d8576b"
            ],
            [
             0.6666666666666666,
             "#ed7953"
            ],
            [
             0.7777777777777778,
             "#fb9f3a"
            ],
            [
             0.8888888888888888,
             "#fdca26"
            ],
            [
             1,
             "#f0f921"
            ]
           ],
           "sequentialminus": [
            [
             0,
             "#0d0887"
            ],
            [
             0.1111111111111111,
             "#46039f"
            ],
            [
             0.2222222222222222,
             "#7201a8"
            ],
            [
             0.3333333333333333,
             "#9c179e"
            ],
            [
             0.4444444444444444,
             "#bd3786"
            ],
            [
             0.5555555555555556,
             "#d8576b"
            ],
            [
             0.6666666666666666,
             "#ed7953"
            ],
            [
             0.7777777777777778,
             "#fb9f3a"
            ],
            [
             0.8888888888888888,
             "#fdca26"
            ],
            [
             1,
             "#f0f921"
            ]
           ]
          },
          "colorway": [
           "#636efa",
           "#EF553B",
           "#00cc96",
           "#ab63fa",
           "#FFA15A",
           "#19d3f3",
           "#FF6692",
           "#B6E880",
           "#FF97FF",
           "#FECB52"
          ],
          "font": {
           "color": "#2a3f5f"
          },
          "geo": {
           "bgcolor": "white",
           "lakecolor": "white",
           "landcolor": "#E5ECF6",
           "showlakes": true,
           "showland": true,
           "subunitcolor": "white"
          },
          "hoverlabel": {
           "align": "left"
          },
          "hovermode": "closest",
          "mapbox": {
           "style": "light"
          },
          "paper_bgcolor": "white",
          "plot_bgcolor": "#E5ECF6",
          "polar": {
           "angularaxis": {
            "gridcolor": "white",
            "linecolor": "white",
            "ticks": ""
           },
           "bgcolor": "#E5ECF6",
           "radialaxis": {
            "gridcolor": "white",
            "linecolor": "white",
            "ticks": ""
           }
          },
          "scene": {
           "xaxis": {
            "backgroundcolor": "#E5ECF6",
            "gridcolor": "white",
            "gridwidth": 2,
            "linecolor": "white",
            "showbackground": true,
            "ticks": "",
            "zerolinecolor": "white"
           },
           "yaxis": {
            "backgroundcolor": "#E5ECF6",
            "gridcolor": "white",
            "gridwidth": 2,
            "linecolor": "white",
            "showbackground": true,
            "ticks": "",
            "zerolinecolor": "white"
           },
           "zaxis": {
            "backgroundcolor": "#E5ECF6",
            "gridcolor": "white",
            "gridwidth": 2,
            "linecolor": "white",
            "showbackground": true,
            "ticks": "",
            "zerolinecolor": "white"
           }
          },
          "shapedefaults": {
           "line": {
            "color": "#2a3f5f"
           }
          },
          "ternary": {
           "aaxis": {
            "gridcolor": "white",
            "linecolor": "white",
            "ticks": ""
           },
           "baxis": {
            "gridcolor": "white",
            "linecolor": "white",
            "ticks": ""
           },
           "bgcolor": "#E5ECF6",
           "caxis": {
            "gridcolor": "white",
            "linecolor": "white",
            "ticks": ""
           }
          },
          "title": {
           "x": 0.05
          },
          "xaxis": {
           "automargin": true,
           "gridcolor": "white",
           "linecolor": "white",
           "ticks": "",
           "title": {
            "standoff": 15
           },
           "zerolinecolor": "white",
           "zerolinewidth": 2
          },
          "yaxis": {
           "automargin": true,
           "gridcolor": "white",
           "linecolor": "white",
           "ticks": "",
           "title": {
            "standoff": 15
           },
           "zerolinecolor": "white",
           "zerolinewidth": 2
          }
         }
        },
        "title": {
         "text": "Win Rate of Jungle Getting First Blood Kill"
        }
       }
      }
     },
     "metadata": {},
     "output_type": "display_data"
    }
   ],
   "source": [
    "df_plot_1 = df.copy()\n",
    "df_plot_1['result'] = df_plot_1['result'].apply(lambda x: 'victory' if int(x) == 1 else 'defeat')\n",
    "df_plot_1['firstbloodkill'] = df_plot_1['firstbloodkill'].apply(lambda x: int(x))\n",
    "fig = px.pie(df_plot_1, values = 'firstbloodkill', names = 'result', title='Win Rate of Jungle Getting First Blood Kill')\n",
    "fig.show()"
   ]
  },
  {
   "cell_type": "markdown",
   "metadata": {},
   "source": [
    "### Bivariate Analysis:\n",
    "Now let start exploring the question, \"Which jungle champion gets the first blood kill will increase team's win rate\". The first graph shows that the counts of each champion when gets the first blood kill and win the game. In this graph, the champion who gets the most win when has the first blood kill is Xin Zhao. The second graph shows that the win rate of each champion when gets the first blood. In this graph, there are some champions have the 100% win rate which means if they get the first blood in the game, they must win the game."
   ]
  },
  {
   "cell_type": "code",
   "execution_count": 97,
   "metadata": {},
   "outputs": [
    {
     "data": {
      "application/vnd.plotly.v1+json": {
       "config": {
        "plotlyServerURL": "https://plot.ly"
       },
       "data": [
        {
         "alignmentgroup": "True",
         "hovertemplate": "champion=%{x}<br>result=%{y}<extra></extra>",
         "legendgroup": "",
         "marker": {
          "color": "#636efa",
          "pattern": {
           "shape": ""
          }
         },
         "name": "",
         "offsetgroup": "",
         "orientation": "v",
         "showlegend": false,
         "textposition": "auto",
         "type": "bar",
         "x": [
          "Amumu",
          "Bel'Veth",
          "Brand",
          "Diana",
          "Fiddlesticks",
          "Gragas",
          "Graves",
          "Ivern",
          "Jarvan IV",
          "Jax",
          "Kayn",
          "Kindred",
          "Lee Sin",
          "Lillia",
          "Maokai",
          "Nidalee",
          "Nocturne",
          "Nunu & Willump",
          "Poppy",
          "Rell",
          "Rengar",
          "Sejuani",
          "Taliyah",
          "Trundle",
          "Vi",
          "Viego",
          "Volibear",
          "Wukong",
          "Xin Zhao",
          "Zac"
         ],
         "xaxis": "x",
         "y": [
          0,
          8,
          12,
          0,
          1,
          2,
          7,
          4,
          9,
          10,
          1,
          6,
          52,
          3,
          27,
          1,
          27,
          1,
          20,
          19,
          2,
          21,
          3,
          5,
          45,
          28,
          3,
          7,
          56,
          1
         ],
         "yaxis": "y"
        }
       ],
       "layout": {
        "barmode": "relative",
        "legend": {
         "tracegroupgap": 0
        },
        "template": {
         "data": {
          "bar": [
           {
            "error_x": {
             "color": "#2a3f5f"
            },
            "error_y": {
             "color": "#2a3f5f"
            },
            "marker": {
             "line": {
              "color": "#E5ECF6",
              "width": 0.5
             },
             "pattern": {
              "fillmode": "overlay",
              "size": 10,
              "solidity": 0.2
             }
            },
            "type": "bar"
           }
          ],
          "barpolar": [
           {
            "marker": {
             "line": {
              "color": "#E5ECF6",
              "width": 0.5
             },
             "pattern": {
              "fillmode": "overlay",
              "size": 10,
              "solidity": 0.2
             }
            },
            "type": "barpolar"
           }
          ],
          "carpet": [
           {
            "aaxis": {
             "endlinecolor": "#2a3f5f",
             "gridcolor": "white",
             "linecolor": "white",
             "minorgridcolor": "white",
             "startlinecolor": "#2a3f5f"
            },
            "baxis": {
             "endlinecolor": "#2a3f5f",
             "gridcolor": "white",
             "linecolor": "white",
             "minorgridcolor": "white",
             "startlinecolor": "#2a3f5f"
            },
            "type": "carpet"
           }
          ],
          "choropleth": [
           {
            "colorbar": {
             "outlinewidth": 0,
             "ticks": ""
            },
            "type": "choropleth"
           }
          ],
          "contour": [
           {
            "colorbar": {
             "outlinewidth": 0,
             "ticks": ""
            },
            "colorscale": [
             [
              0,
              "#0d0887"
             ],
             [
              0.1111111111111111,
              "#46039f"
             ],
             [
              0.2222222222222222,
              "#7201a8"
             ],
             [
              0.3333333333333333,
              "#9c179e"
             ],
             [
              0.4444444444444444,
              "#bd3786"
             ],
             [
              0.5555555555555556,
              "#d8576b"
             ],
             [
              0.6666666666666666,
              "#ed7953"
             ],
             [
              0.7777777777777778,
              "#fb9f3a"
             ],
             [
              0.8888888888888888,
              "#fdca26"
             ],
             [
              1,
              "#f0f921"
             ]
            ],
            "type": "contour"
           }
          ],
          "contourcarpet": [
           {
            "colorbar": {
             "outlinewidth": 0,
             "ticks": ""
            },
            "type": "contourcarpet"
           }
          ],
          "heatmap": [
           {
            "colorbar": {
             "outlinewidth": 0,
             "ticks": ""
            },
            "colorscale": [
             [
              0,
              "#0d0887"
             ],
             [
              0.1111111111111111,
              "#46039f"
             ],
             [
              0.2222222222222222,
              "#7201a8"
             ],
             [
              0.3333333333333333,
              "#9c179e"
             ],
             [
              0.4444444444444444,
              "#bd3786"
             ],
             [
              0.5555555555555556,
              "#d8576b"
             ],
             [
              0.6666666666666666,
              "#ed7953"
             ],
             [
              0.7777777777777778,
              "#fb9f3a"
             ],
             [
              0.8888888888888888,
              "#fdca26"
             ],
             [
              1,
              "#f0f921"
             ]
            ],
            "type": "heatmap"
           }
          ],
          "heatmapgl": [
           {
            "colorbar": {
             "outlinewidth": 0,
             "ticks": ""
            },
            "colorscale": [
             [
              0,
              "#0d0887"
             ],
             [
              0.1111111111111111,
              "#46039f"
             ],
             [
              0.2222222222222222,
              "#7201a8"
             ],
             [
              0.3333333333333333,
              "#9c179e"
             ],
             [
              0.4444444444444444,
              "#bd3786"
             ],
             [
              0.5555555555555556,
              "#d8576b"
             ],
             [
              0.6666666666666666,
              "#ed7953"
             ],
             [
              0.7777777777777778,
              "#fb9f3a"
             ],
             [
              0.8888888888888888,
              "#fdca26"
             ],
             [
              1,
              "#f0f921"
             ]
            ],
            "type": "heatmapgl"
           }
          ],
          "histogram": [
           {
            "marker": {
             "pattern": {
              "fillmode": "overlay",
              "size": 10,
              "solidity": 0.2
             }
            },
            "type": "histogram"
           }
          ],
          "histogram2d": [
           {
            "colorbar": {
             "outlinewidth": 0,
             "ticks": ""
            },
            "colorscale": [
             [
              0,
              "#0d0887"
             ],
             [
              0.1111111111111111,
              "#46039f"
             ],
             [
              0.2222222222222222,
              "#7201a8"
             ],
             [
              0.3333333333333333,
              "#9c179e"
             ],
             [
              0.4444444444444444,
              "#bd3786"
             ],
             [
              0.5555555555555556,
              "#d8576b"
             ],
             [
              0.6666666666666666,
              "#ed7953"
             ],
             [
              0.7777777777777778,
              "#fb9f3a"
             ],
             [
              0.8888888888888888,
              "#fdca26"
             ],
             [
              1,
              "#f0f921"
             ]
            ],
            "type": "histogram2d"
           }
          ],
          "histogram2dcontour": [
           {
            "colorbar": {
             "outlinewidth": 0,
             "ticks": ""
            },
            "colorscale": [
             [
              0,
              "#0d0887"
             ],
             [
              0.1111111111111111,
              "#46039f"
             ],
             [
              0.2222222222222222,
              "#7201a8"
             ],
             [
              0.3333333333333333,
              "#9c179e"
             ],
             [
              0.4444444444444444,
              "#bd3786"
             ],
             [
              0.5555555555555556,
              "#d8576b"
             ],
             [
              0.6666666666666666,
              "#ed7953"
             ],
             [
              0.7777777777777778,
              "#fb9f3a"
             ],
             [
              0.8888888888888888,
              "#fdca26"
             ],
             [
              1,
              "#f0f921"
             ]
            ],
            "type": "histogram2dcontour"
           }
          ],
          "mesh3d": [
           {
            "colorbar": {
             "outlinewidth": 0,
             "ticks": ""
            },
            "type": "mesh3d"
           }
          ],
          "parcoords": [
           {
            "line": {
             "colorbar": {
              "outlinewidth": 0,
              "ticks": ""
             }
            },
            "type": "parcoords"
           }
          ],
          "pie": [
           {
            "automargin": true,
            "type": "pie"
           }
          ],
          "scatter": [
           {
            "fillpattern": {
             "fillmode": "overlay",
             "size": 10,
             "solidity": 0.2
            },
            "type": "scatter"
           }
          ],
          "scatter3d": [
           {
            "line": {
             "colorbar": {
              "outlinewidth": 0,
              "ticks": ""
             }
            },
            "marker": {
             "colorbar": {
              "outlinewidth": 0,
              "ticks": ""
             }
            },
            "type": "scatter3d"
           }
          ],
          "scattercarpet": [
           {
            "marker": {
             "colorbar": {
              "outlinewidth": 0,
              "ticks": ""
             }
            },
            "type": "scattercarpet"
           }
          ],
          "scattergeo": [
           {
            "marker": {
             "colorbar": {
              "outlinewidth": 0,
              "ticks": ""
             }
            },
            "type": "scattergeo"
           }
          ],
          "scattergl": [
           {
            "marker": {
             "colorbar": {
              "outlinewidth": 0,
              "ticks": ""
             }
            },
            "type": "scattergl"
           }
          ],
          "scattermapbox": [
           {
            "marker": {
             "colorbar": {
              "outlinewidth": 0,
              "ticks": ""
             }
            },
            "type": "scattermapbox"
           }
          ],
          "scatterpolar": [
           {
            "marker": {
             "colorbar": {
              "outlinewidth": 0,
              "ticks": ""
             }
            },
            "type": "scatterpolar"
           }
          ],
          "scatterpolargl": [
           {
            "marker": {
             "colorbar": {
              "outlinewidth": 0,
              "ticks": ""
             }
            },
            "type": "scatterpolargl"
           }
          ],
          "scatterternary": [
           {
            "marker": {
             "colorbar": {
              "outlinewidth": 0,
              "ticks": ""
             }
            },
            "type": "scatterternary"
           }
          ],
          "surface": [
           {
            "colorbar": {
             "outlinewidth": 0,
             "ticks": ""
            },
            "colorscale": [
             [
              0,
              "#0d0887"
             ],
             [
              0.1111111111111111,
              "#46039f"
             ],
             [
              0.2222222222222222,
              "#7201a8"
             ],
             [
              0.3333333333333333,
              "#9c179e"
             ],
             [
              0.4444444444444444,
              "#bd3786"
             ],
             [
              0.5555555555555556,
              "#d8576b"
             ],
             [
              0.6666666666666666,
              "#ed7953"
             ],
             [
              0.7777777777777778,
              "#fb9f3a"
             ],
             [
              0.8888888888888888,
              "#fdca26"
             ],
             [
              1,
              "#f0f921"
             ]
            ],
            "type": "surface"
           }
          ],
          "table": [
           {
            "cells": {
             "fill": {
              "color": "#EBF0F8"
             },
             "line": {
              "color": "white"
             }
            },
            "header": {
             "fill": {
              "color": "#C8D4E3"
             },
             "line": {
              "color": "white"
             }
            },
            "type": "table"
           }
          ]
         },
         "layout": {
          "annotationdefaults": {
           "arrowcolor": "#2a3f5f",
           "arrowhead": 0,
           "arrowwidth": 1
          },
          "autotypenumbers": "strict",
          "coloraxis": {
           "colorbar": {
            "outlinewidth": 0,
            "ticks": ""
           }
          },
          "colorscale": {
           "diverging": [
            [
             0,
             "#8e0152"
            ],
            [
             0.1,
             "#c51b7d"
            ],
            [
             0.2,
             "#de77ae"
            ],
            [
             0.3,
             "#f1b6da"
            ],
            [
             0.4,
             "#fde0ef"
            ],
            [
             0.5,
             "#f7f7f7"
            ],
            [
             0.6,
             "#e6f5d0"
            ],
            [
             0.7,
             "#b8e186"
            ],
            [
             0.8,
             "#7fbc41"
            ],
            [
             0.9,
             "#4d9221"
            ],
            [
             1,
             "#276419"
            ]
           ],
           "sequential": [
            [
             0,
             "#0d0887"
            ],
            [
             0.1111111111111111,
             "#46039f"
            ],
            [
             0.2222222222222222,
             "#7201a8"
            ],
            [
             0.3333333333333333,
             "#9c179e"
            ],
            [
             0.4444444444444444,
             "#bd3786"
            ],
            [
             0.5555555555555556,
             "#d8576b"
            ],
            [
             0.6666666666666666,
             "#ed7953"
            ],
            [
             0.7777777777777778,
             "#fb9f3a"
            ],
            [
             0.8888888888888888,
             "#fdca26"
            ],
            [
             1,
             "#f0f921"
            ]
           ],
           "sequentialminus": [
            [
             0,
             "#0d0887"
            ],
            [
             0.1111111111111111,
             "#46039f"
            ],
            [
             0.2222222222222222,
             "#7201a8"
            ],
            [
             0.3333333333333333,
             "#9c179e"
            ],
            [
             0.4444444444444444,
             "#bd3786"
            ],
            [
             0.5555555555555556,
             "#d8576b"
            ],
            [
             0.6666666666666666,
             "#ed7953"
            ],
            [
             0.7777777777777778,
             "#fb9f3a"
            ],
            [
             0.8888888888888888,
             "#fdca26"
            ],
            [
             1,
             "#f0f921"
            ]
           ]
          },
          "colorway": [
           "#636efa",
           "#EF553B",
           "#00cc96",
           "#ab63fa",
           "#FFA15A",
           "#19d3f3",
           "#FF6692",
           "#B6E880",
           "#FF97FF",
           "#FECB52"
          ],
          "font": {
           "color": "#2a3f5f"
          },
          "geo": {
           "bgcolor": "white",
           "lakecolor": "white",
           "landcolor": "#E5ECF6",
           "showlakes": true,
           "showland": true,
           "subunitcolor": "white"
          },
          "hoverlabel": {
           "align": "left"
          },
          "hovermode": "closest",
          "mapbox": {
           "style": "light"
          },
          "paper_bgcolor": "white",
          "plot_bgcolor": "#E5ECF6",
          "polar": {
           "angularaxis": {
            "gridcolor": "white",
            "linecolor": "white",
            "ticks": ""
           },
           "bgcolor": "#E5ECF6",
           "radialaxis": {
            "gridcolor": "white",
            "linecolor": "white",
            "ticks": ""
           }
          },
          "scene": {
           "xaxis": {
            "backgroundcolor": "#E5ECF6",
            "gridcolor": "white",
            "gridwidth": 2,
            "linecolor": "white",
            "showbackground": true,
            "ticks": "",
            "zerolinecolor": "white"
           },
           "yaxis": {
            "backgroundcolor": "#E5ECF6",
            "gridcolor": "white",
            "gridwidth": 2,
            "linecolor": "white",
            "showbackground": true,
            "ticks": "",
            "zerolinecolor": "white"
           },
           "zaxis": {
            "backgroundcolor": "#E5ECF6",
            "gridcolor": "white",
            "gridwidth": 2,
            "linecolor": "white",
            "showbackground": true,
            "ticks": "",
            "zerolinecolor": "white"
           }
          },
          "shapedefaults": {
           "line": {
            "color": "#2a3f5f"
           }
          },
          "ternary": {
           "aaxis": {
            "gridcolor": "white",
            "linecolor": "white",
            "ticks": ""
           },
           "baxis": {
            "gridcolor": "white",
            "linecolor": "white",
            "ticks": ""
           },
           "bgcolor": "#E5ECF6",
           "caxis": {
            "gridcolor": "white",
            "linecolor": "white",
            "ticks": ""
           }
          },
          "title": {
           "x": 0.05
          },
          "xaxis": {
           "automargin": true,
           "gridcolor": "white",
           "linecolor": "white",
           "ticks": "",
           "title": {
            "standoff": 15
           },
           "zerolinecolor": "white",
           "zerolinewidth": 2
          },
          "yaxis": {
           "automargin": true,
           "gridcolor": "white",
           "linecolor": "white",
           "ticks": "",
           "title": {
            "standoff": 15
           },
           "zerolinecolor": "white",
           "zerolinewidth": 2
          }
         }
        },
        "title": {
         "text": "Number of Times of Each Jungle Champion When Gets the First Blood and Win The Game"
        },
        "xaxis": {
         "anchor": "y",
         "domain": [
          0,
          1
         ],
         "title": {
          "text": "champion"
         }
        },
        "yaxis": {
         "anchor": "x",
         "domain": [
          0,
          1
         ],
         "title": {
          "text": "result"
         }
        }
       }
      }
     },
     "metadata": {},
     "output_type": "display_data"
    }
   ],
   "source": [
    "df_plot_2 = df.copy()\n",
    "df_plot_2 = df_plot_2.groupby('champion').sum() \n",
    "fig = px.bar(df_plot_2, y = 'result', title='Number of Times of Each Jungle Champion When Gets the First Blood and Win The Game')\n",
    "fig.show()"
   ]
  },
  {
   "cell_type": "code",
   "execution_count": 98,
   "metadata": {},
   "outputs": [
    {
     "data": {
      "application/vnd.plotly.v1+json": {
       "config": {
        "plotlyServerURL": "https://plot.ly"
       },
       "data": [
        {
         "alignmentgroup": "True",
         "hovertemplate": "champion=%{x}<br>win rate=%{y}<extra></extra>",
         "legendgroup": "",
         "marker": {
          "color": "#636efa",
          "pattern": {
           "shape": ""
          }
         },
         "name": "",
         "offsetgroup": "",
         "orientation": "v",
         "showlegend": false,
         "textposition": "auto",
         "type": "bar",
         "x": [
          "Amumu",
          "Bel'Veth",
          "Brand",
          "Diana",
          "Fiddlesticks",
          "Gragas",
          "Graves",
          "Ivern",
          "Jarvan IV",
          "Jax",
          "Kayn",
          "Kindred",
          "Lee Sin",
          "Lillia",
          "Maokai",
          "Nidalee",
          "Nocturne",
          "Nunu & Willump",
          "Poppy",
          "Rell",
          "Rengar",
          "Sejuani",
          "Taliyah",
          "Trundle",
          "Vi",
          "Viego",
          "Volibear",
          "Wukong",
          "Xin Zhao",
          "Zac"
         ],
         "xaxis": "x",
         "y": [
          0,
          0.6666666666666666,
          0.6666666666666666,
          0,
          1,
          0.5,
          0.6363636363636364,
          0.5714285714285714,
          0.5625,
          0.5555555555555556,
          1,
          0.6666666666666666,
          0.7222222222222222,
          0.75,
          0.75,
          0.3333333333333333,
          0.627906976744186,
          1,
          0.6060606060606061,
          0.5588235294117647,
          1,
          0.525,
          0.42857142857142855,
          0.5,
          0.5625,
          0.509090909090909,
          0.42857142857142855,
          0.5833333333333334,
          0.56,
          1
         ],
         "yaxis": "y"
        }
       ],
       "layout": {
        "barmode": "relative",
        "legend": {
         "tracegroupgap": 0
        },
        "template": {
         "data": {
          "bar": [
           {
            "error_x": {
             "color": "#2a3f5f"
            },
            "error_y": {
             "color": "#2a3f5f"
            },
            "marker": {
             "line": {
              "color": "#E5ECF6",
              "width": 0.5
             },
             "pattern": {
              "fillmode": "overlay",
              "size": 10,
              "solidity": 0.2
             }
            },
            "type": "bar"
           }
          ],
          "barpolar": [
           {
            "marker": {
             "line": {
              "color": "#E5ECF6",
              "width": 0.5
             },
             "pattern": {
              "fillmode": "overlay",
              "size": 10,
              "solidity": 0.2
             }
            },
            "type": "barpolar"
           }
          ],
          "carpet": [
           {
            "aaxis": {
             "endlinecolor": "#2a3f5f",
             "gridcolor": "white",
             "linecolor": "white",
             "minorgridcolor": "white",
             "startlinecolor": "#2a3f5f"
            },
            "baxis": {
             "endlinecolor": "#2a3f5f",
             "gridcolor": "white",
             "linecolor": "white",
             "minorgridcolor": "white",
             "startlinecolor": "#2a3f5f"
            },
            "type": "carpet"
           }
          ],
          "choropleth": [
           {
            "colorbar": {
             "outlinewidth": 0,
             "ticks": ""
            },
            "type": "choropleth"
           }
          ],
          "contour": [
           {
            "colorbar": {
             "outlinewidth": 0,
             "ticks": ""
            },
            "colorscale": [
             [
              0,
              "#0d0887"
             ],
             [
              0.1111111111111111,
              "#46039f"
             ],
             [
              0.2222222222222222,
              "#7201a8"
             ],
             [
              0.3333333333333333,
              "#9c179e"
             ],
             [
              0.4444444444444444,
              "#bd3786"
             ],
             [
              0.5555555555555556,
              "#d8576b"
             ],
             [
              0.6666666666666666,
              "#ed7953"
             ],
             [
              0.7777777777777778,
              "#fb9f3a"
             ],
             [
              0.8888888888888888,
              "#fdca26"
             ],
             [
              1,
              "#f0f921"
             ]
            ],
            "type": "contour"
           }
          ],
          "contourcarpet": [
           {
            "colorbar": {
             "outlinewidth": 0,
             "ticks": ""
            },
            "type": "contourcarpet"
           }
          ],
          "heatmap": [
           {
            "colorbar": {
             "outlinewidth": 0,
             "ticks": ""
            },
            "colorscale": [
             [
              0,
              "#0d0887"
             ],
             [
              0.1111111111111111,
              "#46039f"
             ],
             [
              0.2222222222222222,
              "#7201a8"
             ],
             [
              0.3333333333333333,
              "#9c179e"
             ],
             [
              0.4444444444444444,
              "#bd3786"
             ],
             [
              0.5555555555555556,
              "#d8576b"
             ],
             [
              0.6666666666666666,
              "#ed7953"
             ],
             [
              0.7777777777777778,
              "#fb9f3a"
             ],
             [
              0.8888888888888888,
              "#fdca26"
             ],
             [
              1,
              "#f0f921"
             ]
            ],
            "type": "heatmap"
           }
          ],
          "heatmapgl": [
           {
            "colorbar": {
             "outlinewidth": 0,
             "ticks": ""
            },
            "colorscale": [
             [
              0,
              "#0d0887"
             ],
             [
              0.1111111111111111,
              "#46039f"
             ],
             [
              0.2222222222222222,
              "#7201a8"
             ],
             [
              0.3333333333333333,
              "#9c179e"
             ],
             [
              0.4444444444444444,
              "#bd3786"
             ],
             [
              0.5555555555555556,
              "#d8576b"
             ],
             [
              0.6666666666666666,
              "#ed7953"
             ],
             [
              0.7777777777777778,
              "#fb9f3a"
             ],
             [
              0.8888888888888888,
              "#fdca26"
             ],
             [
              1,
              "#f0f921"
             ]
            ],
            "type": "heatmapgl"
           }
          ],
          "histogram": [
           {
            "marker": {
             "pattern": {
              "fillmode": "overlay",
              "size": 10,
              "solidity": 0.2
             }
            },
            "type": "histogram"
           }
          ],
          "histogram2d": [
           {
            "colorbar": {
             "outlinewidth": 0,
             "ticks": ""
            },
            "colorscale": [
             [
              0,
              "#0d0887"
             ],
             [
              0.1111111111111111,
              "#46039f"
             ],
             [
              0.2222222222222222,
              "#7201a8"
             ],
             [
              0.3333333333333333,
              "#9c179e"
             ],
             [
              0.4444444444444444,
              "#bd3786"
             ],
             [
              0.5555555555555556,
              "#d8576b"
             ],
             [
              0.6666666666666666,
              "#ed7953"
             ],
             [
              0.7777777777777778,
              "#fb9f3a"
             ],
             [
              0.8888888888888888,
              "#fdca26"
             ],
             [
              1,
              "#f0f921"
             ]
            ],
            "type": "histogram2d"
           }
          ],
          "histogram2dcontour": [
           {
            "colorbar": {
             "outlinewidth": 0,
             "ticks": ""
            },
            "colorscale": [
             [
              0,
              "#0d0887"
             ],
             [
              0.1111111111111111,
              "#46039f"
             ],
             [
              0.2222222222222222,
              "#7201a8"
             ],
             [
              0.3333333333333333,
              "#9c179e"
             ],
             [
              0.4444444444444444,
              "#bd3786"
             ],
             [
              0.5555555555555556,
              "#d8576b"
             ],
             [
              0.6666666666666666,
              "#ed7953"
             ],
             [
              0.7777777777777778,
              "#fb9f3a"
             ],
             [
              0.8888888888888888,
              "#fdca26"
             ],
             [
              1,
              "#f0f921"
             ]
            ],
            "type": "histogram2dcontour"
           }
          ],
          "mesh3d": [
           {
            "colorbar": {
             "outlinewidth": 0,
             "ticks": ""
            },
            "type": "mesh3d"
           }
          ],
          "parcoords": [
           {
            "line": {
             "colorbar": {
              "outlinewidth": 0,
              "ticks": ""
             }
            },
            "type": "parcoords"
           }
          ],
          "pie": [
           {
            "automargin": true,
            "type": "pie"
           }
          ],
          "scatter": [
           {
            "fillpattern": {
             "fillmode": "overlay",
             "size": 10,
             "solidity": 0.2
            },
            "type": "scatter"
           }
          ],
          "scatter3d": [
           {
            "line": {
             "colorbar": {
              "outlinewidth": 0,
              "ticks": ""
             }
            },
            "marker": {
             "colorbar": {
              "outlinewidth": 0,
              "ticks": ""
             }
            },
            "type": "scatter3d"
           }
          ],
          "scattercarpet": [
           {
            "marker": {
             "colorbar": {
              "outlinewidth": 0,
              "ticks": ""
             }
            },
            "type": "scattercarpet"
           }
          ],
          "scattergeo": [
           {
            "marker": {
             "colorbar": {
              "outlinewidth": 0,
              "ticks": ""
             }
            },
            "type": "scattergeo"
           }
          ],
          "scattergl": [
           {
            "marker": {
             "colorbar": {
              "outlinewidth": 0,
              "ticks": ""
             }
            },
            "type": "scattergl"
           }
          ],
          "scattermapbox": [
           {
            "marker": {
             "colorbar": {
              "outlinewidth": 0,
              "ticks": ""
             }
            },
            "type": "scattermapbox"
           }
          ],
          "scatterpolar": [
           {
            "marker": {
             "colorbar": {
              "outlinewidth": 0,
              "ticks": ""
             }
            },
            "type": "scatterpolar"
           }
          ],
          "scatterpolargl": [
           {
            "marker": {
             "colorbar": {
              "outlinewidth": 0,
              "ticks": ""
             }
            },
            "type": "scatterpolargl"
           }
          ],
          "scatterternary": [
           {
            "marker": {
             "colorbar": {
              "outlinewidth": 0,
              "ticks": ""
             }
            },
            "type": "scatterternary"
           }
          ],
          "surface": [
           {
            "colorbar": {
             "outlinewidth": 0,
             "ticks": ""
            },
            "colorscale": [
             [
              0,
              "#0d0887"
             ],
             [
              0.1111111111111111,
              "#46039f"
             ],
             [
              0.2222222222222222,
              "#7201a8"
             ],
             [
              0.3333333333333333,
              "#9c179e"
             ],
             [
              0.4444444444444444,
              "#bd3786"
             ],
             [
              0.5555555555555556,
              "#d8576b"
             ],
             [
              0.6666666666666666,
              "#ed7953"
             ],
             [
              0.7777777777777778,
              "#fb9f3a"
             ],
             [
              0.8888888888888888,
              "#fdca26"
             ],
             [
              1,
              "#f0f921"
             ]
            ],
            "type": "surface"
           }
          ],
          "table": [
           {
            "cells": {
             "fill": {
              "color": "#EBF0F8"
             },
             "line": {
              "color": "white"
             }
            },
            "header": {
             "fill": {
              "color": "#C8D4E3"
             },
             "line": {
              "color": "white"
             }
            },
            "type": "table"
           }
          ]
         },
         "layout": {
          "annotationdefaults": {
           "arrowcolor": "#2a3f5f",
           "arrowhead": 0,
           "arrowwidth": 1
          },
          "autotypenumbers": "strict",
          "coloraxis": {
           "colorbar": {
            "outlinewidth": 0,
            "ticks": ""
           }
          },
          "colorscale": {
           "diverging": [
            [
             0,
             "#8e0152"
            ],
            [
             0.1,
             "#c51b7d"
            ],
            [
             0.2,
             "#de77ae"
            ],
            [
             0.3,
             "#f1b6da"
            ],
            [
             0.4,
             "#fde0ef"
            ],
            [
             0.5,
             "#f7f7f7"
            ],
            [
             0.6,
             "#e6f5d0"
            ],
            [
             0.7,
             "#b8e186"
            ],
            [
             0.8,
             "#7fbc41"
            ],
            [
             0.9,
             "#4d9221"
            ],
            [
             1,
             "#276419"
            ]
           ],
           "sequential": [
            [
             0,
             "#0d0887"
            ],
            [
             0.1111111111111111,
             "#46039f"
            ],
            [
             0.2222222222222222,
             "#7201a8"
            ],
            [
             0.3333333333333333,
             "#9c179e"
            ],
            [
             0.4444444444444444,
             "#bd3786"
            ],
            [
             0.5555555555555556,
             "#d8576b"
            ],
            [
             0.6666666666666666,
             "#ed7953"
            ],
            [
             0.7777777777777778,
             "#fb9f3a"
            ],
            [
             0.8888888888888888,
             "#fdca26"
            ],
            [
             1,
             "#f0f921"
            ]
           ],
           "sequentialminus": [
            [
             0,
             "#0d0887"
            ],
            [
             0.1111111111111111,
             "#46039f"
            ],
            [
             0.2222222222222222,
             "#7201a8"
            ],
            [
             0.3333333333333333,
             "#9c179e"
            ],
            [
             0.4444444444444444,
             "#bd3786"
            ],
            [
             0.5555555555555556,
             "#d8576b"
            ],
            [
             0.6666666666666666,
             "#ed7953"
            ],
            [
             0.7777777777777778,
             "#fb9f3a"
            ],
            [
             0.8888888888888888,
             "#fdca26"
            ],
            [
             1,
             "#f0f921"
            ]
           ]
          },
          "colorway": [
           "#636efa",
           "#EF553B",
           "#00cc96",
           "#ab63fa",
           "#FFA15A",
           "#19d3f3",
           "#FF6692",
           "#B6E880",
           "#FF97FF",
           "#FECB52"
          ],
          "font": {
           "color": "#2a3f5f"
          },
          "geo": {
           "bgcolor": "white",
           "lakecolor": "white",
           "landcolor": "#E5ECF6",
           "showlakes": true,
           "showland": true,
           "subunitcolor": "white"
          },
          "hoverlabel": {
           "align": "left"
          },
          "hovermode": "closest",
          "mapbox": {
           "style": "light"
          },
          "paper_bgcolor": "white",
          "plot_bgcolor": "#E5ECF6",
          "polar": {
           "angularaxis": {
            "gridcolor": "white",
            "linecolor": "white",
            "ticks": ""
           },
           "bgcolor": "#E5ECF6",
           "radialaxis": {
            "gridcolor": "white",
            "linecolor": "white",
            "ticks": ""
           }
          },
          "scene": {
           "xaxis": {
            "backgroundcolor": "#E5ECF6",
            "gridcolor": "white",
            "gridwidth": 2,
            "linecolor": "white",
            "showbackground": true,
            "ticks": "",
            "zerolinecolor": "white"
           },
           "yaxis": {
            "backgroundcolor": "#E5ECF6",
            "gridcolor": "white",
            "gridwidth": 2,
            "linecolor": "white",
            "showbackground": true,
            "ticks": "",
            "zerolinecolor": "white"
           },
           "zaxis": {
            "backgroundcolor": "#E5ECF6",
            "gridcolor": "white",
            "gridwidth": 2,
            "linecolor": "white",
            "showbackground": true,
            "ticks": "",
            "zerolinecolor": "white"
           }
          },
          "shapedefaults": {
           "line": {
            "color": "#2a3f5f"
           }
          },
          "ternary": {
           "aaxis": {
            "gridcolor": "white",
            "linecolor": "white",
            "ticks": ""
           },
           "baxis": {
            "gridcolor": "white",
            "linecolor": "white",
            "ticks": ""
           },
           "bgcolor": "#E5ECF6",
           "caxis": {
            "gridcolor": "white",
            "linecolor": "white",
            "ticks": ""
           }
          },
          "title": {
           "x": 0.05
          },
          "xaxis": {
           "automargin": true,
           "gridcolor": "white",
           "linecolor": "white",
           "ticks": "",
           "title": {
            "standoff": 15
           },
           "zerolinecolor": "white",
           "zerolinewidth": 2
          },
          "yaxis": {
           "automargin": true,
           "gridcolor": "white",
           "linecolor": "white",
           "ticks": "",
           "title": {
            "standoff": 15
           },
           "zerolinecolor": "white",
           "zerolinewidth": 2
          }
         }
        },
        "title": {
         "text": "Win Rate of Each Jungle Champion When Gets the First Blood"
        },
        "xaxis": {
         "anchor": "y",
         "domain": [
          0,
          1
         ],
         "title": {
          "text": "champion"
         }
        },
        "yaxis": {
         "anchor": "x",
         "domain": [
          0,
          1
         ],
         "title": {
          "text": "win rate"
         }
        }
       }
      }
     },
     "metadata": {},
     "output_type": "display_data"
    }
   ],
   "source": [
    "df_plot_3 = df_plot_2.copy()\n",
    "df_plot_3['win rate'] = df_plot_3['result'] / df_plot_3['firstbloodkill']\n",
    "fig = px.bar(df_plot_3, y = 'win rate', title='Win Rate of Each Jungle Champion When Gets the First Blood')\n",
    "fig.show()"
   ]
  },
  {
   "cell_type": "markdown",
   "metadata": {},
   "source": [
    "### Interesting Aggregates:\n",
    "This groupby() shows 3 important values. The sum column describes the counts of getting the first blood and win the game for each champion. The count column describes the counts of getting the first blood in total for each champion. The mean column describes the win rate of each champion of getting the first blood and win the game. Now you might find out that the champion with the highest win rate such as 1 has low counts for getting the first blood. In addition, the champion with the lowest win rate such as 0 also has low counts for getting the first blood. "
   ]
  },
  {
   "cell_type": "code",
   "execution_count": 102,
   "metadata": {},
   "outputs": [
    {
     "data": {
      "text/html": [
       "<div>\n",
       "<style scoped>\n",
       "    .dataframe tbody tr th:only-of-type {\n",
       "        vertical-align: middle;\n",
       "    }\n",
       "\n",
       "    .dataframe tbody tr th {\n",
       "        vertical-align: top;\n",
       "    }\n",
       "\n",
       "    .dataframe thead th {\n",
       "        text-align: right;\n",
       "    }\n",
       "</style>\n",
       "<table border=\"1\" class=\"dataframe\">\n",
       "  <thead>\n",
       "    <tr style=\"text-align: right;\">\n",
       "      <th></th>\n",
       "      <th>sum</th>\n",
       "      <th>count</th>\n",
       "      <th>mean</th>\n",
       "    </tr>\n",
       "    <tr>\n",
       "      <th>champion</th>\n",
       "      <th></th>\n",
       "      <th></th>\n",
       "      <th></th>\n",
       "    </tr>\n",
       "  </thead>\n",
       "  <tbody>\n",
       "    <tr>\n",
       "      <th>Amumu</th>\n",
       "      <td>0</td>\n",
       "      <td>1</td>\n",
       "      <td>0.000000</td>\n",
       "    </tr>\n",
       "    <tr>\n",
       "      <th>Bel'Veth</th>\n",
       "      <td>8</td>\n",
       "      <td>12</td>\n",
       "      <td>0.666667</td>\n",
       "    </tr>\n",
       "    <tr>\n",
       "      <th>Brand</th>\n",
       "      <td>12</td>\n",
       "      <td>18</td>\n",
       "      <td>0.666667</td>\n",
       "    </tr>\n",
       "    <tr>\n",
       "      <th>Diana</th>\n",
       "      <td>0</td>\n",
       "      <td>2</td>\n",
       "      <td>0.000000</td>\n",
       "    </tr>\n",
       "    <tr>\n",
       "      <th>Fiddlesticks</th>\n",
       "      <td>1</td>\n",
       "      <td>1</td>\n",
       "      <td>1.000000</td>\n",
       "    </tr>\n",
       "    <tr>\n",
       "      <th>Gragas</th>\n",
       "      <td>2</td>\n",
       "      <td>4</td>\n",
       "      <td>0.500000</td>\n",
       "    </tr>\n",
       "    <tr>\n",
       "      <th>Graves</th>\n",
       "      <td>7</td>\n",
       "      <td>11</td>\n",
       "      <td>0.636364</td>\n",
       "    </tr>\n",
       "    <tr>\n",
       "      <th>Ivern</th>\n",
       "      <td>4</td>\n",
       "      <td>7</td>\n",
       "      <td>0.571429</td>\n",
       "    </tr>\n",
       "    <tr>\n",
       "      <th>Jarvan IV</th>\n",
       "      <td>9</td>\n",
       "      <td>16</td>\n",
       "      <td>0.562500</td>\n",
       "    </tr>\n",
       "    <tr>\n",
       "      <th>Jax</th>\n",
       "      <td>10</td>\n",
       "      <td>18</td>\n",
       "      <td>0.555556</td>\n",
       "    </tr>\n",
       "    <tr>\n",
       "      <th>Kayn</th>\n",
       "      <td>1</td>\n",
       "      <td>1</td>\n",
       "      <td>1.000000</td>\n",
       "    </tr>\n",
       "    <tr>\n",
       "      <th>Kindred</th>\n",
       "      <td>6</td>\n",
       "      <td>9</td>\n",
       "      <td>0.666667</td>\n",
       "    </tr>\n",
       "    <tr>\n",
       "      <th>Lee Sin</th>\n",
       "      <td>52</td>\n",
       "      <td>72</td>\n",
       "      <td>0.722222</td>\n",
       "    </tr>\n",
       "    <tr>\n",
       "      <th>Lillia</th>\n",
       "      <td>3</td>\n",
       "      <td>4</td>\n",
       "      <td>0.750000</td>\n",
       "    </tr>\n",
       "    <tr>\n",
       "      <th>Maokai</th>\n",
       "      <td>27</td>\n",
       "      <td>36</td>\n",
       "      <td>0.750000</td>\n",
       "    </tr>\n",
       "    <tr>\n",
       "      <th>Nidalee</th>\n",
       "      <td>1</td>\n",
       "      <td>3</td>\n",
       "      <td>0.333333</td>\n",
       "    </tr>\n",
       "    <tr>\n",
       "      <th>Nocturne</th>\n",
       "      <td>27</td>\n",
       "      <td>43</td>\n",
       "      <td>0.627907</td>\n",
       "    </tr>\n",
       "    <tr>\n",
       "      <th>Nunu &amp; Willump</th>\n",
       "      <td>1</td>\n",
       "      <td>1</td>\n",
       "      <td>1.000000</td>\n",
       "    </tr>\n",
       "    <tr>\n",
       "      <th>Poppy</th>\n",
       "      <td>20</td>\n",
       "      <td>33</td>\n",
       "      <td>0.606061</td>\n",
       "    </tr>\n",
       "    <tr>\n",
       "      <th>Rell</th>\n",
       "      <td>19</td>\n",
       "      <td>34</td>\n",
       "      <td>0.558824</td>\n",
       "    </tr>\n",
       "    <tr>\n",
       "      <th>Rengar</th>\n",
       "      <td>2</td>\n",
       "      <td>2</td>\n",
       "      <td>1.000000</td>\n",
       "    </tr>\n",
       "    <tr>\n",
       "      <th>Sejuani</th>\n",
       "      <td>21</td>\n",
       "      <td>40</td>\n",
       "      <td>0.525000</td>\n",
       "    </tr>\n",
       "    <tr>\n",
       "      <th>Taliyah</th>\n",
       "      <td>3</td>\n",
       "      <td>7</td>\n",
       "      <td>0.428571</td>\n",
       "    </tr>\n",
       "    <tr>\n",
       "      <th>Trundle</th>\n",
       "      <td>5</td>\n",
       "      <td>10</td>\n",
       "      <td>0.500000</td>\n",
       "    </tr>\n",
       "    <tr>\n",
       "      <th>Vi</th>\n",
       "      <td>45</td>\n",
       "      <td>80</td>\n",
       "      <td>0.562500</td>\n",
       "    </tr>\n",
       "    <tr>\n",
       "      <th>Viego</th>\n",
       "      <td>28</td>\n",
       "      <td>55</td>\n",
       "      <td>0.509091</td>\n",
       "    </tr>\n",
       "    <tr>\n",
       "      <th>Volibear</th>\n",
       "      <td>3</td>\n",
       "      <td>7</td>\n",
       "      <td>0.428571</td>\n",
       "    </tr>\n",
       "    <tr>\n",
       "      <th>Wukong</th>\n",
       "      <td>7</td>\n",
       "      <td>12</td>\n",
       "      <td>0.583333</td>\n",
       "    </tr>\n",
       "    <tr>\n",
       "      <th>Xin Zhao</th>\n",
       "      <td>56</td>\n",
       "      <td>100</td>\n",
       "      <td>0.560000</td>\n",
       "    </tr>\n",
       "    <tr>\n",
       "      <th>Zac</th>\n",
       "      <td>1</td>\n",
       "      <td>1</td>\n",
       "      <td>1.000000</td>\n",
       "    </tr>\n",
       "  </tbody>\n",
       "</table>\n",
       "</div>"
      ],
      "text/plain": [
       "                sum  count      mean\n",
       "champion                            \n",
       "Amumu             0      1  0.000000\n",
       "Bel'Veth          8     12  0.666667\n",
       "Brand            12     18  0.666667\n",
       "Diana             0      2  0.000000\n",
       "Fiddlesticks      1      1  1.000000\n",
       "Gragas            2      4  0.500000\n",
       "Graves            7     11  0.636364\n",
       "Ivern             4      7  0.571429\n",
       "Jarvan IV         9     16  0.562500\n",
       "Jax              10     18  0.555556\n",
       "Kayn              1      1  1.000000\n",
       "Kindred           6      9  0.666667\n",
       "Lee Sin          52     72  0.722222\n",
       "Lillia            3      4  0.750000\n",
       "Maokai           27     36  0.750000\n",
       "Nidalee           1      3  0.333333\n",
       "Nocturne         27     43  0.627907\n",
       "Nunu & Willump    1      1  1.000000\n",
       "Poppy            20     33  0.606061\n",
       "Rell             19     34  0.558824\n",
       "Rengar            2      2  1.000000\n",
       "Sejuani          21     40  0.525000\n",
       "Taliyah           3      7  0.428571\n",
       "Trundle           5     10  0.500000\n",
       "Vi               45     80  0.562500\n",
       "Viego            28     55  0.509091\n",
       "Volibear          3      7  0.428571\n",
       "Wukong            7     12  0.583333\n",
       "Xin Zhao         56    100  0.560000\n",
       "Zac               1      1  1.000000"
      ]
     },
     "execution_count": 102,
     "metadata": {},
     "output_type": "execute_result"
    }
   ],
   "source": [
    "df.groupby('champion')['result'].agg(['sum','count', 'mean'])"
   ]
  },
  {
   "cell_type": "markdown",
   "metadata": {},
   "source": [
    "## Step 3: Assessment of Missingness"
   ]
  },
  {
   "cell_type": "markdown",
   "metadata": {},
   "source": [
    "### NMAR Analysis:\n",
    "I do believe that there are many columns in my data are Not Missing At Random (NMAR). In my data, since there are 10 players in each game, after every other 10 rows, there always are 2 rows which records the each team's data instead of indivdual player's data. Beacuse of this recording format, many columns have missing values in the rows of team. \n",
    "\n",
    "In my case, the data of 'firstbloodkill' is missing under rows which recrod team data, I think this is NMAR because the 'firstbloodkill' refers which champion and position gets the kill instead of the whole team, and there is another column that records which team gets the first blood. However, I realize there is a column called 'firstbloodassist' which records which champion and position is involved in the first blood but not taking the kill. This columns is missing also under team rows, but there are some missingness under player rows as well. It is not MD again because it cannot infer this column’s missingness exactly from anothers such as 'firstbloodkill' column. \n",
    "\n"
   ]
  },
  {
   "cell_type": "markdown",
   "metadata": {},
   "source": [
    "### Missingness Dependency:\n",
    "I observed that some of the games do not record the information of 'firstbloodassist', and based on this fact, I think the missingness of 'firstbloodassist' is dependent on the 'league' column. Therefore, I will use the total variation distance to determine whether it is Missing at Random (MAR) or Missing Complete at Random (MCAR). "
   ]
  },
  {
   "cell_type": "code",
   "execution_count": 84,
   "metadata": {
    "ExecuteTime": {
     "end_time": "2019-10-31T23:36:28.662099Z",
     "start_time": "2019-10-31T23:36:28.660016Z"
    }
   },
   "outputs": [
    {
     "data": {
      "text/html": [
       "<div>\n",
       "<style scoped>\n",
       "    .dataframe tbody tr th:only-of-type {\n",
       "        vertical-align: middle;\n",
       "    }\n",
       "\n",
       "    .dataframe tbody tr th {\n",
       "        vertical-align: top;\n",
       "    }\n",
       "\n",
       "    .dataframe thead th {\n",
       "        text-align: right;\n",
       "    }\n",
       "</style>\n",
       "<table border=\"1\" class=\"dataframe\">\n",
       "  <thead>\n",
       "    <tr style=\"text-align: right;\">\n",
       "      <th></th>\n",
       "      <th>league</th>\n",
       "      <th>position</th>\n",
       "      <th>firstbloodassist</th>\n",
       "      <th>assist_missing</th>\n",
       "    </tr>\n",
       "  </thead>\n",
       "  <tbody>\n",
       "    <tr>\n",
       "      <th>0</th>\n",
       "      <td>DCup</td>\n",
       "      <td>top</td>\n",
       "      <td>NaN</td>\n",
       "      <td>True</td>\n",
       "    </tr>\n",
       "    <tr>\n",
       "      <th>1</th>\n",
       "      <td>DCup</td>\n",
       "      <td>jng</td>\n",
       "      <td>NaN</td>\n",
       "      <td>True</td>\n",
       "    </tr>\n",
       "    <tr>\n",
       "      <th>2</th>\n",
       "      <td>DCup</td>\n",
       "      <td>mid</td>\n",
       "      <td>NaN</td>\n",
       "      <td>True</td>\n",
       "    </tr>\n",
       "    <tr>\n",
       "      <th>3</th>\n",
       "      <td>DCup</td>\n",
       "      <td>bot</td>\n",
       "      <td>NaN</td>\n",
       "      <td>True</td>\n",
       "    </tr>\n",
       "    <tr>\n",
       "      <th>4</th>\n",
       "      <td>DCup</td>\n",
       "      <td>sup</td>\n",
       "      <td>NaN</td>\n",
       "      <td>True</td>\n",
       "    </tr>\n",
       "    <tr>\n",
       "      <th>...</th>\n",
       "      <td>...</td>\n",
       "      <td>...</td>\n",
       "      <td>...</td>\n",
       "      <td>...</td>\n",
       "    </tr>\n",
       "    <tr>\n",
       "      <th>27293</th>\n",
       "      <td>LPLOL</td>\n",
       "      <td>top</td>\n",
       "      <td>0.0</td>\n",
       "      <td>False</td>\n",
       "    </tr>\n",
       "    <tr>\n",
       "      <th>27294</th>\n",
       "      <td>LPLOL</td>\n",
       "      <td>jng</td>\n",
       "      <td>0.0</td>\n",
       "      <td>False</td>\n",
       "    </tr>\n",
       "    <tr>\n",
       "      <th>27295</th>\n",
       "      <td>LPLOL</td>\n",
       "      <td>mid</td>\n",
       "      <td>0.0</td>\n",
       "      <td>False</td>\n",
       "    </tr>\n",
       "    <tr>\n",
       "      <th>27296</th>\n",
       "      <td>LPLOL</td>\n",
       "      <td>bot</td>\n",
       "      <td>0.0</td>\n",
       "      <td>False</td>\n",
       "    </tr>\n",
       "    <tr>\n",
       "      <th>27297</th>\n",
       "      <td>LPLOL</td>\n",
       "      <td>sup</td>\n",
       "      <td>0.0</td>\n",
       "      <td>False</td>\n",
       "    </tr>\n",
       "  </tbody>\n",
       "</table>\n",
       "<p>22750 rows × 4 columns</p>\n",
       "</div>"
      ],
      "text/plain": [
       "      league position  firstbloodassist  assist_missing\n",
       "0       DCup      top               NaN            True\n",
       "1       DCup      jng               NaN            True\n",
       "2       DCup      mid               NaN            True\n",
       "3       DCup      bot               NaN            True\n",
       "4       DCup      sup               NaN            True\n",
       "...      ...      ...               ...             ...\n",
       "27293  LPLOL      top               0.0           False\n",
       "27294  LPLOL      jng               0.0           False\n",
       "27295  LPLOL      mid               0.0           False\n",
       "27296  LPLOL      bot               0.0           False\n",
       "27297  LPLOL      sup               0.0           False\n",
       "\n",
       "[22750 rows x 4 columns]"
      ]
     },
     "execution_count": 84,
     "metadata": {},
     "output_type": "execute_result"
    }
   ],
   "source": [
    "df2 = pd.read_csv('2024_LoL_esports_match_data_from_OraclesElixir.csv')\n",
    "df2 = df2[['league', 'position','firstbloodassist']]\n",
    "df2 = df2[df2['position'] != 'team']\n",
    "df2['assist_missing'] = df2['firstbloodassist'].isna()\n",
    "df2"
   ]
  },
  {
   "cell_type": "code",
   "execution_count": 89,
   "metadata": {},
   "outputs": [
    {
     "data": {
      "text/html": [
       "<div>\n",
       "<style scoped>\n",
       "    .dataframe tbody tr th:only-of-type {\n",
       "        vertical-align: middle;\n",
       "    }\n",
       "\n",
       "    .dataframe tbody tr th {\n",
       "        vertical-align: top;\n",
       "    }\n",
       "\n",
       "    .dataframe thead th {\n",
       "        text-align: right;\n",
       "    }\n",
       "</style>\n",
       "<table border=\"1\" class=\"dataframe\">\n",
       "  <thead>\n",
       "    <tr style=\"text-align: right;\">\n",
       "      <th></th>\n",
       "      <th>assist_missing = False</th>\n",
       "      <th>assist_missing = True</th>\n",
       "    </tr>\n",
       "    <tr>\n",
       "      <th>league</th>\n",
       "      <th></th>\n",
       "      <th></th>\n",
       "    </tr>\n",
       "  </thead>\n",
       "  <tbody>\n",
       "    <tr>\n",
       "      <th>AL</th>\n",
       "      <td>0.019282</td>\n",
       "      <td>0.000000</td>\n",
       "    </tr>\n",
       "    <tr>\n",
       "      <th>CBLOL</th>\n",
       "      <td>0.037493</td>\n",
       "      <td>0.000000</td>\n",
       "    </tr>\n",
       "    <tr>\n",
       "      <th>CBLOLA</th>\n",
       "      <td>0.032137</td>\n",
       "      <td>0.000000</td>\n",
       "    </tr>\n",
       "    <tr>\n",
       "      <th>DCup</th>\n",
       "      <td>0.000000</td>\n",
       "      <td>0.044118</td>\n",
       "    </tr>\n",
       "    <tr>\n",
       "      <th>EBL</th>\n",
       "      <td>0.027317</td>\n",
       "      <td>0.000000</td>\n",
       "    </tr>\n",
       "    <tr>\n",
       "      <th>ESLOL</th>\n",
       "      <td>0.028923</td>\n",
       "      <td>0.000000</td>\n",
       "    </tr>\n",
       "    <tr>\n",
       "      <th>GLL</th>\n",
       "      <td>0.025174</td>\n",
       "      <td>0.000000</td>\n",
       "    </tr>\n",
       "    <tr>\n",
       "      <th>HC</th>\n",
       "      <td>0.008570</td>\n",
       "      <td>0.000000</td>\n",
       "    </tr>\n",
       "    <tr>\n",
       "      <th>HM</th>\n",
       "      <td>0.026245</td>\n",
       "      <td>0.000000</td>\n",
       "    </tr>\n",
       "    <tr>\n",
       "      <th>LCK</th>\n",
       "      <td>0.077665</td>\n",
       "      <td>0.000000</td>\n",
       "    </tr>\n",
       "    <tr>\n",
       "      <th>LCKC</th>\n",
       "      <td>0.091055</td>\n",
       "      <td>0.000000</td>\n",
       "    </tr>\n",
       "    <tr>\n",
       "      <th>LCO</th>\n",
       "      <td>0.038029</td>\n",
       "      <td>0.000000</td>\n",
       "    </tr>\n",
       "    <tr>\n",
       "      <th>LCS</th>\n",
       "      <td>0.023567</td>\n",
       "      <td>0.000000</td>\n",
       "    </tr>\n",
       "    <tr>\n",
       "      <th>LDL</th>\n",
       "      <td>0.000000</td>\n",
       "      <td>0.455882</td>\n",
       "    </tr>\n",
       "    <tr>\n",
       "      <th>LEC</th>\n",
       "      <td>0.045528</td>\n",
       "      <td>0.000000</td>\n",
       "    </tr>\n",
       "    <tr>\n",
       "      <th>LFL</th>\n",
       "      <td>0.042849</td>\n",
       "      <td>0.000000</td>\n",
       "    </tr>\n",
       "    <tr>\n",
       "      <th>LFL2</th>\n",
       "      <td>0.008034</td>\n",
       "      <td>0.000000</td>\n",
       "    </tr>\n",
       "    <tr>\n",
       "      <th>LIT</th>\n",
       "      <td>0.027317</td>\n",
       "      <td>0.000000</td>\n",
       "    </tr>\n",
       "    <tr>\n",
       "      <th>LJL</th>\n",
       "      <td>0.039100</td>\n",
       "      <td>0.000000</td>\n",
       "    </tr>\n",
       "    <tr>\n",
       "      <th>LLA</th>\n",
       "      <td>0.050884</td>\n",
       "      <td>0.000000</td>\n",
       "    </tr>\n",
       "    <tr>\n",
       "      <th>LPL</th>\n",
       "      <td>0.000000</td>\n",
       "      <td>0.500000</td>\n",
       "    </tr>\n",
       "    <tr>\n",
       "      <th>LPLOL</th>\n",
       "      <td>0.027317</td>\n",
       "      <td>0.000000</td>\n",
       "    </tr>\n",
       "    <tr>\n",
       "      <th>LVP SL</th>\n",
       "      <td>0.042314</td>\n",
       "      <td>0.000000</td>\n",
       "    </tr>\n",
       "    <tr>\n",
       "      <th>NACL</th>\n",
       "      <td>0.049813</td>\n",
       "      <td>0.000000</td>\n",
       "    </tr>\n",
       "    <tr>\n",
       "      <th>NEXO</th>\n",
       "      <td>0.004285</td>\n",
       "      <td>0.000000</td>\n",
       "    </tr>\n",
       "    <tr>\n",
       "      <th>NLC</th>\n",
       "      <td>0.029459</td>\n",
       "      <td>0.000000</td>\n",
       "    </tr>\n",
       "    <tr>\n",
       "      <th>PCS</th>\n",
       "      <td>0.048741</td>\n",
       "      <td>0.000000</td>\n",
       "    </tr>\n",
       "    <tr>\n",
       "      <th>PRM</th>\n",
       "      <td>0.045528</td>\n",
       "      <td>0.000000</td>\n",
       "    </tr>\n",
       "    <tr>\n",
       "      <th>TCL</th>\n",
       "      <td>0.027852</td>\n",
       "      <td>0.000000</td>\n",
       "    </tr>\n",
       "    <tr>\n",
       "      <th>UL</th>\n",
       "      <td>0.029459</td>\n",
       "      <td>0.000000</td>\n",
       "    </tr>\n",
       "    <tr>\n",
       "      <th>VCS</th>\n",
       "      <td>0.046063</td>\n",
       "      <td>0.000000</td>\n",
       "    </tr>\n",
       "  </tbody>\n",
       "</table>\n",
       "</div>"
      ],
      "text/plain": [
       "        assist_missing = False  assist_missing = True\n",
       "league                                               \n",
       "AL                    0.019282               0.000000\n",
       "CBLOL                 0.037493               0.000000\n",
       "CBLOLA                0.032137               0.000000\n",
       "DCup                  0.000000               0.044118\n",
       "EBL                   0.027317               0.000000\n",
       "ESLOL                 0.028923               0.000000\n",
       "GLL                   0.025174               0.000000\n",
       "HC                    0.008570               0.000000\n",
       "HM                    0.026245               0.000000\n",
       "LCK                   0.077665               0.000000\n",
       "LCKC                  0.091055               0.000000\n",
       "LCO                   0.038029               0.000000\n",
       "LCS                   0.023567               0.000000\n",
       "LDL                   0.000000               0.455882\n",
       "LEC                   0.045528               0.000000\n",
       "LFL                   0.042849               0.000000\n",
       "LFL2                  0.008034               0.000000\n",
       "LIT                   0.027317               0.000000\n",
       "LJL                   0.039100               0.000000\n",
       "LLA                   0.050884               0.000000\n",
       "LPL                   0.000000               0.500000\n",
       "LPLOL                 0.027317               0.000000\n",
       "LVP SL                0.042314               0.000000\n",
       "NACL                  0.049813               0.000000\n",
       "NEXO                  0.004285               0.000000\n",
       "NLC                   0.029459               0.000000\n",
       "PCS                   0.048741               0.000000\n",
       "PRM                   0.045528               0.000000\n",
       "TCL                   0.027852               0.000000\n",
       "UL                    0.029459               0.000000\n",
       "VCS                   0.046063               0.000000"
      ]
     },
     "execution_count": 89,
     "metadata": {},
     "output_type": "execute_result"
    }
   ],
   "source": [
    "league_dist = (\n",
    "    df2\n",
    "    .assign(assist_missing=df2['firstbloodassist'].isna())\n",
    "    .pivot_table(index='league', columns='assist_missing', aggfunc='size')\n",
    ")\n",
    "league_dist.columns = ['assist_missing = False', 'assist_missing = True']\n",
    "league_dist = (league_dist / league_dist.sum()).fillna(0)\n",
    "league_dist"
   ]
  },
  {
   "cell_type": "code",
   "execution_count": 258,
   "metadata": {},
   "outputs": [
    {
     "data": {
      "application/vnd.plotly.v1+json": {
       "config": {
        "plotlyServerURL": "https://plot.ly"
       },
       "data": [
        {
         "alignmentgroup": "True",
         "bingroup": "x",
         "histnorm": "probability",
         "hovertemplate": "0=%{x}<br>probability=%{y}<extra></extra>",
         "legendgroup": "",
         "marker": {
          "color": "#636efa",
          "pattern": {
           "shape": ""
          }
         },
         "name": "",
         "nbinsx": 50,
         "offsetgroup": "",
         "orientation": "v",
         "showlegend": false,
         "type": "histogram",
         "x": [
          0.031443308442820075,
          0.03770925885083547,
          0.03702266927124359,
          0.04126298350084544,
          0.03752415535041012,
          0.029109166430364323,
          0.03546766858859238,
          0.0353468918365418,
          0.030332031044876456,
          0.023565907348477695,
          0.035041667979457444,
          0.0279401262379617,
          0.044975555835617596,
          0.04372118424230967,
          0.03533376392871021,
          0.04443271684678156,
          0.03454149469107407,
          0.030119358938004766,
          0.03876211705892856,
          0.04273527836415765,
          0.035831968030918836,
          0.0374834588361322,
          0.03171965090267494,
          0.03709881113666678,
          0.036416159929424374,
          0.030425895585872283,
          0.026553819170946364,
          0.031397360765409554,
          0.03567837150928931,
          0.039504500246804665,
          0.03173212241511496,
          0.028068779734711235,
          0.03773617106189021,
          0.031721620088849684,
          0.036311136666771694,
          0.03131268575989583,
          0.03971389037671843,
          0.03656516168331286,
          0.04040244914248505,
          0.03862099204973901,
          0.027167548862072954,
          0.03561470115630612,
          0.03191263114779923,
          0.031170904355314704,
          0.03840766354747577,
          0.03602429188065157,
          0.03878509089763382,
          0.03559369650377559,
          0.03610371572303264,
          0.0369688448491341,
          0.04222722833107534,
          0.03326414925906087,
          0.03867744205341485,
          0.032237546866630946,
          0.03627372212945168,
          0.039264915928878236,
          0.03322410914017455,
          0.03224542361132991,
          0.03813329027379564,
          0.03814641818162723,
          0.03148006658474853,
          0.03849365134377265,
          0.03453689992333302,
          0.03927673104592668,
          0.04249175567388176,
          0.037087652415009935,
          0.033164377159540834,
          0.038385346104162076,
          0.03984845143199218,
          0.034495547013663516,
          0.03467408656017308,
          0.0293441559805497,
          0.041288582921117034,
          0.03301997017339339,
          0.031899503239967646,
          0.03521429996744278,
          0.035591727317600845,
          0.03934105779430143,
          0.04084682882258422,
          0.04037356774525558,
          0.041453994559794996,
          0.04588466345295485,
          0.04698872050159111,
          0.04119340558933805,
          0.03673910646208135,
          0.036741075648256086,
          0.039530099667076254,
          0.030833517124042968,
          0.0279657256582333,
          0.0281298245061281,
          0.0328657172563723,
          0.038550757742840044,
          0.04165616434040141,
          0.03325627251436193,
          0.036321638993036955,
          0.034301910373147636,
          0.03174721950912125,
          0.03341118182677463,
          0.03566196162449982,
          0.027683475639854235,
          0.034882163899303695,
          0.03248697711543107,
          0.03924325488095613,
          0.03174131195059707,
          0.04578948612117584,
          0.03358250102397681,
          0.02694634361511075,
          0.04109297709442641,
          0.03872732810317484,
          0.032046535807681395,
          0.0366019198252413,
          0.034817837150928926,
          0.03416209815474126,
          0.03161068926767279,
          0.030290678135206927,
          0.042236417866557456,
          0.026606330802272704,
          0.033298281819423,
          0.03457431446065303,
          0.028670694308789393,
          0.02969598391043616,
          0.045778327399519016,
          0.040869146265897896,
          0.043615504584265406,
          0.032278899776300454,
          0.033028503313483934,
          0.03414700106073495,
          0.036269783757102186,
          0.02996641881176679,
          0.028993640841446382,
          0.03237670268964575,
          0.029976921138032082,
          0.03224542361132991,
          0.04246418706743543,
          0.0444189325435584,
          0.03979790898684059,
          0.03196448638373399,
          0.036168042471407424,
          0.03733839545459319,
          0.04090065324469371,
          0.031261486919352655,
          0.03322936030330717,
          0.03497077727716689,
          0.035606168016215606,
          0.03699116229244776,
          0.03956685780900469,
          0.039166456620141364,
          0.036333454110085386,
          0.0442226703214762,
          0.03128577354884108,
          0.029897497295651006,
          0.03254014514214899,
          0.04023703750380709,
          0.04063087473875464,
          0.035067267399729034,
          0.04088489975529579,
          0.04197189052375101,
          0.04274774987659767,
          0.03290641377065019,
          0.026460611025342126,
          0.04178547423254251,
          0.04369033365890544,
          0.04280813825262296,
          0.030308400810779575,
          0.036594043080542316,
          0.03369540103132845,
          0.04158199166115295,
          0.03615360177279267,
          0.022129714231702312,
          0.0376987565245702,
          0.04233684636146907,
          0.034887415062436325,
          0.03957539094909522,
          0.030458715355451232,
          0.03595011920140312,
          0.031119705514771518,
          0.034127309198987585,
          0.029903404854175197,
          0.03961936944033105,
          0.03391726267368221,
          0.03500097146517953,
          0.03910081708098345,
          0.03202290557358456,
          0.031413114254807445,
          0.03604201455622419,
          0.03779590304252389,
          0.04580852158753164,
          0.03941391768276674,
          0.027953910541184873,
          0.04244777718264594,
          0.048371089196256975,
          0.03882250543495386,
          0.038668252517932704,
          0.040536353802367225,
          0.03745982860203535,
          0.03765543442872596,
          0.03227496140395097,
          0.02751543841960994,
          0.03433144816576871,
          0.035957339550710496,
          0.03569346860329563,
          0.03825341063045465,
          0.04308119873551992,
          0.034972746463341635,
          0.03355690160370522,
          0.03200715208418664,
          0.04014382935820285,
          0.036033481416133675,
          0.0374421059264627,
          0.04190756377537624,
          0.032012403247319264,
          0.03533048195175232,
          0.03145052879212745,
          0.04367786214646545,
          0.04805667580369051,
          0.039061433357488684,
          0.03647786109623282,
          0.03058146129367655,
          0.03817136120650723,
          0.03373741033638951,
          0.03824356469958096,
          0.03415028303769285,
          0.03535345579045758,
          0.032236234075847796,
          0.03478173540439207,
          0.041148114307319066,
          0.047462637974311314,
          0.0455689372696052,
          0.041839955050043585,
          0.03534032788262598,
          0.0444379680099142,
          0.0349517418108111,
          0.041248542802230705,
          0.03683165821229402,
          0.0362953831773738,
          0.04062627997101359,
          0.025051330119621504,
          0.03776636524990285,
          0.02920565655292647,
          0.03616016572670847,
          0.034862472037556304,
          0.037510371047186956,
          0.03491104529653319,
          0.045566968083430484,
          0.03913494964134557,
          0.03106325551109571,
          0.040727364861316784,
          0.04464867093061113,
          0.03431109990862977,
          0.030656946763708153,
          0.03830132749403995,
          0.0318981904491845,
          0.044173440667107766,
          0.030366163605238555,
          0.030884715964586144,
          0.03952813048090153,
          0.03395795918796013,
          0.0298935589233015,
          0.03256771374859531,
          0.042104482392850015,
          0.036158852935925315,
          0.03484146738502579,
          0.03476466912421101,
          0.03393761093082117,
          0.03348338531984833,
          0.037916679794574505,
          0.021722092693531606,
          0.03176231660312759,
          0.026977194198514975,
          0.02667262673682221,
          0.045704811115662124,
          0.03401703477320227,
          0.03610240293224948,
          0.04315996618250942,
          0.03120700610185155,
          0.04046808868164298,
          0.04275431383051344,
          0.03526287322641965,
          0.028975261770482156,
          0.030362881628280648,
          0.035742041862272485,
          0.030296585693731174,
          0.04173361899660777,
          0.029419641450581298,
          0.03598622094793997,
          0.036196923868636904,
          0.035883823266853604,
          0.031963173592950825,
          0.04295714000651144,
          0.032804672484955416,
          0.04096169801611056,
          0.035876602917546234,
          0.04527093376182823,
          0.042072319018662624,
          0.04172508585651722,
          0.026732358717455926,
          0.03596324710923468,
          0.033226734721740876,
          0.04761951647289873,
          0.04342843189766535,
          0.03409514582480018,
          0.033910042324374834,
          0.03467474295556465,
          0.03593502210739679,
          0.030542077570181795,
          0.02977606414820883,
          0.03432947897959398,
          0.03971979793524265,
          0.04118618524003065,
          0.03581358895995462,
          0.03772501234023338,
          0.04317309409034101,
          0.03474694644863836,
          0.03870566705525274,
          0.037640993730111205,
          0.032906413770650206,
          0.03159690496444964,
          0.04737796296879759,
          0.030347128138882764,
          0.026117972630937764,
          0.037757175714420735,
          0.03450342375836246,
          0.04399621391138139,
          0.04033221483558609,
          0.042334877175294314,
          0.036280942478759036,
          0.04059871136456725,
          0.035460448239285,
          0.04408023252150352,
          0.035978344203241,
          0.03655072098469811,
          0.026679190690738003,
          0.03187981137822029,
          0.04153998235609188,
          0.037609486751315424,
          0.035942242456704174,
          0.035447976726844986,
          0.039196650808154,
          0.03223098291271515,
          0.03747952046378272,
          0.033162407973366115,
          0.029566674018295068,
          0.04224298182047324,
          0.027406476784607794,
          0.03145118518751902,
          0.037151322767993114,
          0.031059317138746236,
          0.046778017580894164,
          0.03695506054591092,
          0.032774478296942786,
          0.03447848073348246,
          0.024330607979667483,
          0.029438020521545524,
          0.02863131058529465,
          0.041335186993919144,
          0.04039588518856928,
          0.043763193547370724,
          0.034914327273491086,
          0.03357462427927786,
          0.03652577795981812,
          0.03140589390550007,
          0.036112248863123184,
          0.03684019135238455,
          0.03304031843053237,
          0.024524244620183364,
          0.03164810380499281,
          0.04911347238413309,
          0.03879493682850751,
          0.04043526891206402,
          0.03499506390665533,
          0.03401637837781069,
          0.03546044823928501,
          0.035409905794133396,
          0.030180403709421634,
          0.03074162176922188,
          0.03141573983637376,
          0.0363492075994833,
          0.03724321812281421,
          0.03524580694623859,
          0.03093657120052091,
          0.04001648865223647,
          0.024893795225642477,
          0.037535970467458546,
          0.03164285264186016,
          0.03856979320919583,
          0.03112889505025362,
          0.040162208429167075,
          0.03713294369702888,
          0.0397624636356953,
          0.022807770671203664,
          0.03657303842801181,
          0.03639056050915277,
          0.03887370427549702,
          0.03728522742787527,
          0.04011429156558178,
          0.04129974164277388,
          0.04560700820231681,
          0.0450956761922766,
          0.0397125775859353,
          0.0364496360943949,
          0.04110479221147485,
          0.038508092042387386,
          0.03831576819265467,
          0.036224492475083234,
          0.026227590661331488,
          0.039145451967610836,
          0.02774517680666267,
          0.025876419126836595,
          0.03577157965489357,
          0.03765215245176806,
          0.03266748584811536,
          0.04455546278500687,
          0.037129005324679415,
          0.0368513500740414,
          0.04350129178613063,
          0.029092756545574854,
          0.032483038743081595,
          0.03410564815106546,
          0.03576764128254409,
          0.0334689446212336,
          0.04303065629036829,
          0.0330265341273092,
          0.03754581639833224,
          0.03384440278521691,
          0.04158396084732768,
          0.03308101494481027,
          0.03707124253022044,
          0.041554423054706635,
          0.0366898768077129,
          0.02993556822836258,
          0.036907800077717226,
          0.03937519035466356,
          0.030836142705609304,
          0.03184436602707499,
          0.03078363107428295,
          0.03474629005324681,
          0.026271569152567287,
          0.03506792379512062,
          0.04126823466397808,
          0.03935812407448249,
          0.04024688343468077,
          0.03759898442505015,
          0.03981497526702164,
          0.04625093208145604,
          0.043031969081151464,
          0.03131334215528739,
          0.03685791402795719,
          0.03347288299358308,
          0.030545359547139682,
          0.03417785164413918,
          0.02761914889147945,
          0.032685208523688,
          0.03498062320804058,
          0.03727603789239316,
          0.04310942373735783,
          0.02447632775659809,
          0.032446936996544724,
          0.03695702973208566,
          0.035500488358171337,
          0.03471215749288467,
          0.03354639927743996,
          0.033258898095928247,
          0.04326761502672842,
          0.026052989487171396,
          0.028587988489450423,
          0.04597721520316751,
          0.03412796559437918,
          0.03168551834231283,
          0.03749067918543958,
          0.03174065555520548,
          0.04135422246027495,
          0.03920649673902768,
          0.03500950460527007,
          0.027311299452828803,
          0.03950909501454572,
          0.03927410546436036,
          0.03358053183780207,
          0.031703897413277046,
          0.037705320478485974,
          0.027625056450003672,
          0.030727181070607137,
          0.03565408487980088,
          0.03288934749046915,
          0.042497006837014406,
          0.03313418297152818,
          0.03466883539704045,
          0.03536067613976495,
          0.047950339750254686,
          0.02651837381980108,
          0.03439708770492664,
          0.032251331169854125,
          0.03801907747566087,
          0.036563848892529685,
          0.029196467017444373,
          0.03737449720113005,
          0.028944411187077933,
          0.03769875652457018,
          0.03538758835081969,
          0.030996959576546197,
          0.03669053320310448,
          0.04363125807366332,
          0.030333343835659596,
          0.03086961887057984,
          0.03800594956782928,
          0.036865134377264575,
          0.037370558828780584,
          0.04296042198346934,
          0.0354762017286829,
          0.029751777518720404,
          0.038139854227711434,
          0.03464651795372674,
          0.03269045968682063,
          0.04031383576462187,
          0.033391489965027256,
          0.04805864498986527,
          0.03752875011815117,
          0.0385172815778695,
          0.042027027736643664,
          0.030973329342449344,
          0.03741781929697427,
          0.027770776226934253,
          0.03290641377065019,
          0.04111135616539063,
          0.036963593686001446,
          0.040494344497306156,
          0.03990096306331852,
          0.04328730688847579,
          0.04021472006049341,
          0.034449599336252995,
          0.04697887457071741,
          0.026761896510076984,
          0.04391416448743397,
          0.03894262579161284,
          0.03794293561023768,
          0.030704863627293442,
          0.03545847905311026,
          0.035135532520453275,
          0.036353802367224346,
          0.036054486068664224,
          0.04035453227889976,
          0.03147941018935694,
          0.04043789449363032,
          0.031982865454698216,
          0.025932212735120825,
          0.03828426121385887,
          0.031250984593087366,
          0.030559143850362843,
          0.03480667842927209,
          0.034119432454288626,
          0.03086502410283879,
          0.040461524727727176,
          0.0409098427801758,
          0.03745195185733641,
          0.0355018011489545,
          0.03976246363569531,
          0.03275281724902067,
          0.03576173372401988,
          0.03207082243716985,
          0.03784578909228394,
          0.031834520096201316,
          0.03136388460043901,
          0.03448176271044035,
          0.034189666761187607,
          0.0322519875652457,
          0.04487184536374807,
          0.03024341766701325,
          0.028484278017580897,
          0.03177478811556761,
          0.03320376088303558,
          0.04380192087547394,
          0.037363994874864775,
          0.03757929256330278,
          0.040094599703834395,
          0.03412796559437917,
          0.033386895197286194,
          0.032078042786477204,
          0.038825131016520166,
          0.0392852641860172,
          0.03797050421668399,
          0.03932070953716249,
          0.042243638215864826,
          0.04026132413329553,
          0.031405893905500054,
          0.03029330371677328,
          0.028937190837770556,
          0.03531079009000494,
          0.03466358423390783,
          0.02882691641198525,
          0.04062562357562201,
          0.02748327504542256,
          0.040789722423516805,
          0.04043329972588929,
          0.04307922954934517,
          0.04386165285610763,
          0.035190013337954365,
          0.037365964061039536,
          0.040091317726876484,
          0.03806108678072194,
          0.0365605669155718,
          0.03935615488830776,
          0.0365067424934623,
          0.03605382967327263,
          0.0365159320289444,
          0.03702070008506885,
          0.03755763151538066,
          0.028318866378902924,
          0.03983794910572691,
          0.030129204868878455,
          0.03851006122856214,
          0.039889147946270104,
          0.04955719566884065,
          0.03850743564699579,
          0.04246943823056808,
          0.03653628028608337,
          0.03899513742293918,
          0.041055562557106406,
          0.04553874308159257,
          0.04076149742167892,
          0.0332162323954756,
          0.03368030393732213,
          0.03396911790961698,
          0.03620545700872743,
          0.03254802188684794,
          0.02874880536038733,
          0.03707452450717835,
          0.040702421836436756,
          0.039374533959271985,
          0.03382733650503588,
          0.02801167333564385,
          0.038449016457145255,
          0.036036763393091566,
          0.03983860550111848,
          0.03263072770618694,
          0.03042064442273964,
          0.03264188642784377,
          0.04293482256319774,
          0.03569806337103669,
          0.045139654683512415,
          0.046586350126553044,
          0.03467080458321517,
          0.03015217870758372,
          0.031653354968125436,
          0.02400306667926947,
          0.04313305397145468,
          0.03231434512744573,
          0.03612931514330424,
          0.027812785531995333,
          0.03636430469348961,
          0.038395192035035754,
          0.034960931346293224,
          0.0337728556875348,
          0.03717560939748153,
          0.029590960647783483,
          0.03275938120293643,
          0.03305607191993026,
          0.037393532667485845,
          0.034324227816461356,
          0.04126560908241175,
          0.034923516808973196,
          0.03945067582469517,
          0.03189031370448553,
          0.0349294243674974,
          0.02825125765357027,
          0.04218259344444794,
          0.03978871945135848,
          0.043179001648865234,
          0.03577748721341776,
          0.03672860413581608,
          0.03962199502189734,
          0.036951122173561446,
          0.036389247718369634,
          0.03471872144680047,
          0.030907033407899857,
          0.033763009756661105,
          0.0407326160244494,
          0.04134700211096759,
          0.04016023924299231,
          0.024788115567598218,
          0.030405547328733313,
          0.03406495163678755,
          0.03566458720606615,
          0.039130354873604514,
          0.033445970782528325,
          0.03752087337345223,
          0.04107525441885376,
          0.03288672190890282,
          0.026679190690738,
          0.03914545196761082,
          0.03908243801001923,
          0.03324708297887982,
          0.03447257317495824,
          0.03888551939254545,
          0.029830544965709912,
          0.036995757060188816,
          0.03871420019534326,
          0.033631074282953664,
          0.03158705903357594,
          0.03075015490931242,
          0.038172673997290386,
          0.044541022086392136,
          0.03600985118203683,
          0.04103718348614219,
          0.033695401031328426,
          0.03499900227900481,
          0.02862343384059567,
          0.03576764128254409,
          0.0373790919688711,
          0.032987806799206015,
          0.029753746704895116,
          0.035907453500950474,
          0.05534791581335267,
          0.024123187035928452,
          0.03696753205835092,
          0.037048925086906735,
          0.03177938288330866,
          0.030333343835659603,
          0.0440900784523772,
          0.0343570475860403,
          0.03866168856401692,
          0.036905174496150904,
          0.03154176775155698,
          0.028375972777970326,
          0.030549297919489175,
          0.03534689183654179,
          0.04547901110095887,
          0.031568023567220146,
          0.04267029522039133,
          0.034625513301196204,
          0.04284358360376824,
          0.03299371435773024,
          0.033310096936471446,
          0.02798344833380594,
          0.03203668987680771,
          0.03625271747692112,
          0.0362697837571022,
          0.027951941355010137,
          0.03375775859352846,
          0.04000073516283858,
          0.03331600449499564,
          0.0370699297394373,
          0.040276421227301865,
          0.03803942573279982,
          0.029600806578657178,
          0.03628356806032537,
          0.035987533738723126,
          0.03505085751493956,
          0.031344192738691615,
          0.028767840826743118,
          0.037069273344045695,
          0.035430910446663945,
          0.03211873930075512,
          0.03506529821355431,
          0.04248519171996597,
          0.034517208061585626,
          0.038995793818330765,
          0.03731213963893001,
          0.026918118613272847,
          0.0352261150844912,
          0.03682575065376981,
          0.0336487969585263,
          0.03205835092472982,
          0.03967056828087422,
          0.03353524055578311,
          0.03320047890607768,
          0.029165616434040136,
          0.03692224077633194,
          0.031145304935043118,
          0.02884463908755789,
          0.038048615268281925,
          0.03782937920749445,
          0.030462653727800708,
          0.043653575516976996,
          0.03252242246657637,
          0.04037553693143031,
          0.023804178875620946,
          0.047236181564216474,
          0.040037493304767025,
          0.03378532719997479,
          0.029440646103111836,
          0.03184436602707498,
          0.037111939044498346,
          0.032396394551393135,
          0.03967385025783213,
          0.048917210162050875,
          0.03362451032903788,
          0.038878299043238085,
          0.02801626810338489,
          0.035631767436487174,
          0.02817905416049655,
          0.041199969543253834,
          0.03392973418612222,
          0.033757102198136886,
          0.033920544650640115,
          0.024353581818372768,
          0.03752809372275959,
          0.040875710219813705,
          0.03315715681023347,
          0.02130396882909564,
          0.04048056019408299,
          0.03337770566180409,
          0.031644821828034894,
          0.038380751336421014,
          0.03281976957896174,
          0.03693339949798881,
          0.024454010313284397,
          0.033254959723578795,
          0.03477385865969313,
          0.034611072602581464,
          0.0345152388754109,
          0.0375438472121575,
          0.03738368673661217,
          0.03225526954220359,
          0.030702238045727127,
          0.04351901446170326,
          0.032674706197422757,
          0.03476269993803627,
          0.0371861117237468,
          0.03399603012067172,
          0.05694361301028176,
          0.0336021928857242,
          0.03585625466040729,
          0.02961262169570561,
          0.03360088009494103,
          0.03278826260016593,
          0.035705283720344067,
          0.03783659955680185,
          0.043780916222943375,
          0.04714888097713645,
          0.02987124147998782,
          0.03660191982524129,
          0.03913363685056239,
          0.031451185187519035,
          0.040901966035476855,
          0.03910147347637502,
          0.032345195710849955,
          0.04551708203367044,
          0.03909228394089289,
          0.03626125061701166,
          0.03743094720480587,
          0.045009688395979706,
          0.02790008611907538,
          0.03404329058886541,
          0.040440520075196676,
          0.029861395549114128,
          0.04064268985580305,
          0.03333503996135145,
          0.03922618860077507,
          0.03233206780301837,
          0.036110936072340005,
          0.030666136299190273,
          0.038718794963084335,
          0.033046225989056585,
          0.036339361668609606,
          0.03557859940976927,
          0.03500687902370375,
          0.03581687093691251,
          0.02926145016121071,
          0.04204015564447525,
          0.026623397082453766,
          0.03328646670237457,
          0.04362600691053068,
          0.03987930201539641,
          0.03951106420072045,
          0.0381661100433746,
          0.03618904712393794,
          0.02948068622199818,
          0.02983054496570991,
          0.03915661068926769,
          0.031752470672253896,
          0.026572854637302155,
          0.04161021666299084,
          0.03367702196036422,
          0.028877458857136856,
          0.038462800760368406,
          0.03288606551351124,
          0.03601313315899474,
          0.029236507136330695,
          0.032318939895186805,
          0.03359169055945892,
          0.025692628417194406,
          0.03769744373378704,
          0.02908947456861697,
          0.03662751924551289,
          0.032433152693321574,
          0.027139980255626615,
          0.04027051366877764,
          0.03037535314072068,
          0.0348158679647542,
          0.030210597897434268,
          0.039518940945419426,
          0.03185486835334026,
          0.03948612117584045,
          0.03486706680529738,
          0.030431146749004902,
          0.035659992438325086,
          0.03725700242603737,
          0.0359067971055589,
          0.03835449552075784,
          0.03656844366027075,
          0.034834903431109995,
          0.03487756913156263,
          0.032042597435331915,
          0.03043967988909545,
          0.0260818708844009,
          0.041739526555131974,
          0.0394841519896657,
          0.03338558240650303,
          0.04083763928710209,
          0.03617395002993161,
          0.03452836678324249,
          0.036884169843620356,
          0.03500687902370374,
          0.047173167606624856,
          0.039511720596112035,
          0.0421963777476711,
          0.04046021193694403,
          0.04031317936923029,
          0.030093759517733167,
          0.03478501738134998,
          0.03675879832382873,
          0.0406866683470389,
          0.041583960847327676,
          0.03497274646334162,
          0.029612621695705606,
          0.03897675835197496,
          0.03593830408435467,
          0.03479092493987419,
          0.031131520631819946,
          0.036134566306436876,
          0.03604398374239893,
          0.03982875957024481,
          0.029603432160223472,
          0.03798428851990716,
          0.03023160254996481,
          0.03176953695243495,
          0.04116189861054222,
          0.034895291807135284,
          0.032624163752271146,
          0.04137128874045601,
          0.046350047785584506,
          0.03296548935589233,
          0.04113629919027064,
          0.04351441969396221,
          0.030484971171114407,
          0.028729113498639946,
          0.030832204333259814,
          0.04086586428893999,
          0.04074377474610627,
          0.03002024323387631,
          0.0325808416564269,
          0.03992459329741539,
          0.0327823550416417,
          0.0320117468519277,
          0.031674359620655984,
          0.0354827656825987,
          0.029764249031160393,
          0.04674388502053204,
          0.04349210225064851,
          0.04046218112311879,
          0.03770269489691966,
          0.03489726099331002,
          0.03351620508942731,
          0.03440759003119191,
          0.03110526481615679,
          0.0382612873751536,
          0.037742735015805995,
          0.04283570685906928,
          0.03780968734574708,
          0.03919468162197927,
          0.0418202631882962,
          0.035705940115735635,
          0.03527074997111859,
          0.03570922209269354,
          0.033168971927281896,
          0.036904518100759315,
          0.03274494050432172,
          0.032314345127445715,
          0.0327259050379659,
          0.031918538706323454,
          0.04094397534053794,
          0.043218385372359974,
          0.0378438199061092,
          0.044088765661594045,
          0.027897460537509057,
          0.03914348278143608,
          0.0369209279855488,
          0.020991524622703928,
          0.034071515590703344,
          0.03159756135984121,
          0.032377359085037326,
          0.03432160223489501,
          0.03632295178382012,
          0.03256574456242056,
          0.0297393060062804,
          0.03259003119190902,
          0.043619442956614886,
          0.03951500257306993,
          0.045826244263104284,
          0.03347091380740834,
          0.03608139827971897
         ],
         "xaxis": "x",
         "yaxis": "y"
        }
       ],
       "layout": {
        "annotations": [
         {
          "showarrow": false,
          "text": "<span style=\"color:red\">Observed TVD = 1.0</span>",
          "x": 0.8999999999999999,
          "y": 0.08
         }
        ],
        "barmode": "relative",
        "legend": {
         "tracegroupgap": 0
        },
        "shapes": [
         {
          "line": {
           "color": "red"
          },
          "type": "line",
          "x0": 0.9999999999999999,
          "x1": 0.9999999999999999,
          "xref": "x",
          "y0": 0,
          "y1": 1,
          "yref": "y domain"
         }
        ],
        "template": {
         "data": {
          "bar": [
           {
            "error_x": {
             "color": "#2a3f5f"
            },
            "error_y": {
             "color": "#2a3f5f"
            },
            "marker": {
             "line": {
              "color": "#E5ECF6",
              "width": 0.5
             },
             "pattern": {
              "fillmode": "overlay",
              "size": 10,
              "solidity": 0.2
             }
            },
            "type": "bar"
           }
          ],
          "barpolar": [
           {
            "marker": {
             "line": {
              "color": "#E5ECF6",
              "width": 0.5
             },
             "pattern": {
              "fillmode": "overlay",
              "size": 10,
              "solidity": 0.2
             }
            },
            "type": "barpolar"
           }
          ],
          "carpet": [
           {
            "aaxis": {
             "endlinecolor": "#2a3f5f",
             "gridcolor": "white",
             "linecolor": "white",
             "minorgridcolor": "white",
             "startlinecolor": "#2a3f5f"
            },
            "baxis": {
             "endlinecolor": "#2a3f5f",
             "gridcolor": "white",
             "linecolor": "white",
             "minorgridcolor": "white",
             "startlinecolor": "#2a3f5f"
            },
            "type": "carpet"
           }
          ],
          "choropleth": [
           {
            "colorbar": {
             "outlinewidth": 0,
             "ticks": ""
            },
            "type": "choropleth"
           }
          ],
          "contour": [
           {
            "colorbar": {
             "outlinewidth": 0,
             "ticks": ""
            },
            "colorscale": [
             [
              0,
              "#0d0887"
             ],
             [
              0.1111111111111111,
              "#46039f"
             ],
             [
              0.2222222222222222,
              "#7201a8"
             ],
             [
              0.3333333333333333,
              "#9c179e"
             ],
             [
              0.4444444444444444,
              "#bd3786"
             ],
             [
              0.5555555555555556,
              "#d8576b"
             ],
             [
              0.6666666666666666,
              "#ed7953"
             ],
             [
              0.7777777777777778,
              "#fb9f3a"
             ],
             [
              0.8888888888888888,
              "#fdca26"
             ],
             [
              1,
              "#f0f921"
             ]
            ],
            "type": "contour"
           }
          ],
          "contourcarpet": [
           {
            "colorbar": {
             "outlinewidth": 0,
             "ticks": ""
            },
            "type": "contourcarpet"
           }
          ],
          "heatmap": [
           {
            "colorbar": {
             "outlinewidth": 0,
             "ticks": ""
            },
            "colorscale": [
             [
              0,
              "#0d0887"
             ],
             [
              0.1111111111111111,
              "#46039f"
             ],
             [
              0.2222222222222222,
              "#7201a8"
             ],
             [
              0.3333333333333333,
              "#9c179e"
             ],
             [
              0.4444444444444444,
              "#bd3786"
             ],
             [
              0.5555555555555556,
              "#d8576b"
             ],
             [
              0.6666666666666666,
              "#ed7953"
             ],
             [
              0.7777777777777778,
              "#fb9f3a"
             ],
             [
              0.8888888888888888,
              "#fdca26"
             ],
             [
              1,
              "#f0f921"
             ]
            ],
            "type": "heatmap"
           }
          ],
          "heatmapgl": [
           {
            "colorbar": {
             "outlinewidth": 0,
             "ticks": ""
            },
            "colorscale": [
             [
              0,
              "#0d0887"
             ],
             [
              0.1111111111111111,
              "#46039f"
             ],
             [
              0.2222222222222222,
              "#7201a8"
             ],
             [
              0.3333333333333333,
              "#9c179e"
             ],
             [
              0.4444444444444444,
              "#bd3786"
             ],
             [
              0.5555555555555556,
              "#d8576b"
             ],
             [
              0.6666666666666666,
              "#ed7953"
             ],
             [
              0.7777777777777778,
              "#fb9f3a"
             ],
             [
              0.8888888888888888,
              "#fdca26"
             ],
             [
              1,
              "#f0f921"
             ]
            ],
            "type": "heatmapgl"
           }
          ],
          "histogram": [
           {
            "marker": {
             "pattern": {
              "fillmode": "overlay",
              "size": 10,
              "solidity": 0.2
             }
            },
            "type": "histogram"
           }
          ],
          "histogram2d": [
           {
            "colorbar": {
             "outlinewidth": 0,
             "ticks": ""
            },
            "colorscale": [
             [
              0,
              "#0d0887"
             ],
             [
              0.1111111111111111,
              "#46039f"
             ],
             [
              0.2222222222222222,
              "#7201a8"
             ],
             [
              0.3333333333333333,
              "#9c179e"
             ],
             [
              0.4444444444444444,
              "#bd3786"
             ],
             [
              0.5555555555555556,
              "#d8576b"
             ],
             [
              0.6666666666666666,
              "#ed7953"
             ],
             [
              0.7777777777777778,
              "#fb9f3a"
             ],
             [
              0.8888888888888888,
              "#fdca26"
             ],
             [
              1,
              "#f0f921"
             ]
            ],
            "type": "histogram2d"
           }
          ],
          "histogram2dcontour": [
           {
            "colorbar": {
             "outlinewidth": 0,
             "ticks": ""
            },
            "colorscale": [
             [
              0,
              "#0d0887"
             ],
             [
              0.1111111111111111,
              "#46039f"
             ],
             [
              0.2222222222222222,
              "#7201a8"
             ],
             [
              0.3333333333333333,
              "#9c179e"
             ],
             [
              0.4444444444444444,
              "#bd3786"
             ],
             [
              0.5555555555555556,
              "#d8576b"
             ],
             [
              0.6666666666666666,
              "#ed7953"
             ],
             [
              0.7777777777777778,
              "#fb9f3a"
             ],
             [
              0.8888888888888888,
              "#fdca26"
             ],
             [
              1,
              "#f0f921"
             ]
            ],
            "type": "histogram2dcontour"
           }
          ],
          "mesh3d": [
           {
            "colorbar": {
             "outlinewidth": 0,
             "ticks": ""
            },
            "type": "mesh3d"
           }
          ],
          "parcoords": [
           {
            "line": {
             "colorbar": {
              "outlinewidth": 0,
              "ticks": ""
             }
            },
            "type": "parcoords"
           }
          ],
          "pie": [
           {
            "automargin": true,
            "type": "pie"
           }
          ],
          "scatter": [
           {
            "fillpattern": {
             "fillmode": "overlay",
             "size": 10,
             "solidity": 0.2
            },
            "type": "scatter"
           }
          ],
          "scatter3d": [
           {
            "line": {
             "colorbar": {
              "outlinewidth": 0,
              "ticks": ""
             }
            },
            "marker": {
             "colorbar": {
              "outlinewidth": 0,
              "ticks": ""
             }
            },
            "type": "scatter3d"
           }
          ],
          "scattercarpet": [
           {
            "marker": {
             "colorbar": {
              "outlinewidth": 0,
              "ticks": ""
             }
            },
            "type": "scattercarpet"
           }
          ],
          "scattergeo": [
           {
            "marker": {
             "colorbar": {
              "outlinewidth": 0,
              "ticks": ""
             }
            },
            "type": "scattergeo"
           }
          ],
          "scattergl": [
           {
            "marker": {
             "colorbar": {
              "outlinewidth": 0,
              "ticks": ""
             }
            },
            "type": "scattergl"
           }
          ],
          "scattermapbox": [
           {
            "marker": {
             "colorbar": {
              "outlinewidth": 0,
              "ticks": ""
             }
            },
            "type": "scattermapbox"
           }
          ],
          "scatterpolar": [
           {
            "marker": {
             "colorbar": {
              "outlinewidth": 0,
              "ticks": ""
             }
            },
            "type": "scatterpolar"
           }
          ],
          "scatterpolargl": [
           {
            "marker": {
             "colorbar": {
              "outlinewidth": 0,
              "ticks": ""
             }
            },
            "type": "scatterpolargl"
           }
          ],
          "scatterternary": [
           {
            "marker": {
             "colorbar": {
              "outlinewidth": 0,
              "ticks": ""
             }
            },
            "type": "scatterternary"
           }
          ],
          "surface": [
           {
            "colorbar": {
             "outlinewidth": 0,
             "ticks": ""
            },
            "colorscale": [
             [
              0,
              "#0d0887"
             ],
             [
              0.1111111111111111,
              "#46039f"
             ],
             [
              0.2222222222222222,
              "#7201a8"
             ],
             [
              0.3333333333333333,
              "#9c179e"
             ],
             [
              0.4444444444444444,
              "#bd3786"
             ],
             [
              0.5555555555555556,
              "#d8576b"
             ],
             [
              0.6666666666666666,
              "#ed7953"
             ],
             [
              0.7777777777777778,
              "#fb9f3a"
             ],
             [
              0.8888888888888888,
              "#fdca26"
             ],
             [
              1,
              "#f0f921"
             ]
            ],
            "type": "surface"
           }
          ],
          "table": [
           {
            "cells": {
             "fill": {
              "color": "#EBF0F8"
             },
             "line": {
              "color": "white"
             }
            },
            "header": {
             "fill": {
              "color": "#C8D4E3"
             },
             "line": {
              "color": "white"
             }
            },
            "type": "table"
           }
          ]
         },
         "layout": {
          "annotationdefaults": {
           "arrowcolor": "#2a3f5f",
           "arrowhead": 0,
           "arrowwidth": 1
          },
          "autotypenumbers": "strict",
          "coloraxis": {
           "colorbar": {
            "outlinewidth": 0,
            "ticks": ""
           }
          },
          "colorscale": {
           "diverging": [
            [
             0,
             "#8e0152"
            ],
            [
             0.1,
             "#c51b7d"
            ],
            [
             0.2,
             "#de77ae"
            ],
            [
             0.3,
             "#f1b6da"
            ],
            [
             0.4,
             "#fde0ef"
            ],
            [
             0.5,
             "#f7f7f7"
            ],
            [
             0.6,
             "#e6f5d0"
            ],
            [
             0.7,
             "#b8e186"
            ],
            [
             0.8,
             "#7fbc41"
            ],
            [
             0.9,
             "#4d9221"
            ],
            [
             1,
             "#276419"
            ]
           ],
           "sequential": [
            [
             0,
             "#0d0887"
            ],
            [
             0.1111111111111111,
             "#46039f"
            ],
            [
             0.2222222222222222,
             "#7201a8"
            ],
            [
             0.3333333333333333,
             "#9c179e"
            ],
            [
             0.4444444444444444,
             "#bd3786"
            ],
            [
             0.5555555555555556,
             "#d8576b"
            ],
            [
             0.6666666666666666,
             "#ed7953"
            ],
            [
             0.7777777777777778,
             "#fb9f3a"
            ],
            [
             0.8888888888888888,
             "#fdca26"
            ],
            [
             1,
             "#f0f921"
            ]
           ],
           "sequentialminus": [
            [
             0,
             "#0d0887"
            ],
            [
             0.1111111111111111,
             "#46039f"
            ],
            [
             0.2222222222222222,
             "#7201a8"
            ],
            [
             0.3333333333333333,
             "#9c179e"
            ],
            [
             0.4444444444444444,
             "#bd3786"
            ],
            [
             0.5555555555555556,
             "#d8576b"
            ],
            [
             0.6666666666666666,
             "#ed7953"
            ],
            [
             0.7777777777777778,
             "#fb9f3a"
            ],
            [
             0.8888888888888888,
             "#fdca26"
            ],
            [
             1,
             "#f0f921"
            ]
           ]
          },
          "colorway": [
           "#636efa",
           "#EF553B",
           "#00cc96",
           "#ab63fa",
           "#FFA15A",
           "#19d3f3",
           "#FF6692",
           "#B6E880",
           "#FF97FF",
           "#FECB52"
          ],
          "font": {
           "color": "#2a3f5f"
          },
          "geo": {
           "bgcolor": "white",
           "lakecolor": "white",
           "landcolor": "#E5ECF6",
           "showlakes": true,
           "showland": true,
           "subunitcolor": "white"
          },
          "hoverlabel": {
           "align": "left"
          },
          "hovermode": "closest",
          "mapbox": {
           "style": "light"
          },
          "paper_bgcolor": "white",
          "plot_bgcolor": "#E5ECF6",
          "polar": {
           "angularaxis": {
            "gridcolor": "white",
            "linecolor": "white",
            "ticks": ""
           },
           "bgcolor": "#E5ECF6",
           "radialaxis": {
            "gridcolor": "white",
            "linecolor": "white",
            "ticks": ""
           }
          },
          "scene": {
           "xaxis": {
            "backgroundcolor": "#E5ECF6",
            "gridcolor": "white",
            "gridwidth": 2,
            "linecolor": "white",
            "showbackground": true,
            "ticks": "",
            "zerolinecolor": "white"
           },
           "yaxis": {
            "backgroundcolor": "#E5ECF6",
            "gridcolor": "white",
            "gridwidth": 2,
            "linecolor": "white",
            "showbackground": true,
            "ticks": "",
            "zerolinecolor": "white"
           },
           "zaxis": {
            "backgroundcolor": "#E5ECF6",
            "gridcolor": "white",
            "gridwidth": 2,
            "linecolor": "white",
            "showbackground": true,
            "ticks": "",
            "zerolinecolor": "white"
           }
          },
          "shapedefaults": {
           "line": {
            "color": "#2a3f5f"
           }
          },
          "ternary": {
           "aaxis": {
            "gridcolor": "white",
            "linecolor": "white",
            "ticks": ""
           },
           "baxis": {
            "gridcolor": "white",
            "linecolor": "white",
            "ticks": ""
           },
           "bgcolor": "#E5ECF6",
           "caxis": {
            "gridcolor": "white",
            "linecolor": "white",
            "ticks": ""
           }
          },
          "title": {
           "x": 0.05
          },
          "xaxis": {
           "automargin": true,
           "gridcolor": "white",
           "linecolor": "white",
           "ticks": "",
           "title": {
            "standoff": 15
           },
           "zerolinecolor": "white",
           "zerolinewidth": 2
          },
          "yaxis": {
           "automargin": true,
           "gridcolor": "white",
           "linecolor": "white",
           "ticks": "",
           "title": {
            "standoff": 15
           },
           "zerolinecolor": "white",
           "zerolinewidth": 2
          }
         }
        },
        "title": {
         "text": "Empirical Distribution of the TVD"
        },
        "xaxis": {
         "anchor": "y",
         "domain": [
          0,
          1
         ],
         "title": {
          "text": "0"
         }
        },
        "yaxis": {
         "anchor": "x",
         "domain": [
          0,
          1
         ],
         "range": [
          0,
          0.1
         ],
         "title": {
          "text": "probability"
         }
        }
       }
      }
     },
     "metadata": {},
     "output_type": "display_data"
    }
   ],
   "source": [
    "#Simulation\n",
    "n_repetitions = 1000\n",
    "shuffled = df2.copy()\n",
    "tvds = []\n",
    "for _ in range(n_repetitions):\n",
    "    shuffled['league'] = np.random.permutation(shuffled['league'])\n",
    "    # Computing and storing the TVD.\n",
    "    pivoted = (\n",
    "        shuffled\n",
    "        .pivot_table(index='league', columns='assist_missing', aggfunc='size')\n",
    "    )\n",
    "    pivoted = pivoted / pivoted.sum()\n",
    "    tvd = pivoted.diff(axis=1).iloc[:, -1].abs().sum() / 2\n",
    "    tvds.append(tvd)\n",
    "#Observed_tvd\n",
    "observed_tvd = league_dist.diff(axis=1).iloc[:, -1].abs().sum() / 2\n",
    "#Graph\n",
    "fig = px.histogram(pd.DataFrame(tvds), x=0, nbins=50, histnorm='probability', \n",
    "                   title='Empirical Distribution of the TVD')\n",
    "fig.add_vline(x=observed_tvd, line_color='red')\n",
    "fig.add_annotation(text=f'<span style=\"color:red\">Observed TVD = {round(observed_tvd, 2)}</span>',\n",
    "                   x= -0.1 + observed_tvd, showarrow=False, y=0.08)\n",
    "fig.update_layout(yaxis_range=[0, 0.1])\n"
   ]
  },
  {
   "cell_type": "code",
   "execution_count": 106,
   "metadata": {},
   "outputs": [
    {
     "data": {
      "text/plain": [
       "0.0"
      ]
     },
     "execution_count": 106,
     "metadata": {},
     "output_type": "execute_result"
    }
   ],
   "source": [
    "(np.array(tvds) >= observed_tvd).mean()"
   ]
  },
  {
   "cell_type": "markdown",
   "metadata": {},
   "source": [
    "The observed statistic was: 1\n",
    "\n",
    "The p-value was:0.0\n",
    "\n",
    "The empirical distribution of the test statistic is the graph showed above.\n",
    "\n",
    "Since the p-value was close to 0, the missingness of 'firstkillassist' depends on 'league' which is MAR."
   ]
  },
  {
   "cell_type": "markdown",
   "metadata": {},
   "source": [
    "Now let's check if there is any missing relationshiip between the 'side' which is the game side (red or blue) of the game that the team picks and 'firstbloodassist'. "
   ]
  },
  {
   "cell_type": "code",
   "execution_count": 122,
   "metadata": {},
   "outputs": [
    {
     "data": {
      "text/html": [
       "<div>\n",
       "<style scoped>\n",
       "    .dataframe tbody tr th:only-of-type {\n",
       "        vertical-align: middle;\n",
       "    }\n",
       "\n",
       "    .dataframe tbody tr th {\n",
       "        vertical-align: top;\n",
       "    }\n",
       "\n",
       "    .dataframe thead th {\n",
       "        text-align: right;\n",
       "    }\n",
       "</style>\n",
       "<table border=\"1\" class=\"dataframe\">\n",
       "  <thead>\n",
       "    <tr style=\"text-align: right;\">\n",
       "      <th></th>\n",
       "      <th>side</th>\n",
       "      <th>position</th>\n",
       "      <th>firstbloodassist</th>\n",
       "      <th>assist_missing</th>\n",
       "    </tr>\n",
       "  </thead>\n",
       "  <tbody>\n",
       "    <tr>\n",
       "      <th>0</th>\n",
       "      <td>Blue</td>\n",
       "      <td>top</td>\n",
       "      <td>NaN</td>\n",
       "      <td>True</td>\n",
       "    </tr>\n",
       "    <tr>\n",
       "      <th>1</th>\n",
       "      <td>Blue</td>\n",
       "      <td>jng</td>\n",
       "      <td>NaN</td>\n",
       "      <td>True</td>\n",
       "    </tr>\n",
       "    <tr>\n",
       "      <th>2</th>\n",
       "      <td>Blue</td>\n",
       "      <td>mid</td>\n",
       "      <td>NaN</td>\n",
       "      <td>True</td>\n",
       "    </tr>\n",
       "    <tr>\n",
       "      <th>3</th>\n",
       "      <td>Blue</td>\n",
       "      <td>bot</td>\n",
       "      <td>NaN</td>\n",
       "      <td>True</td>\n",
       "    </tr>\n",
       "    <tr>\n",
       "      <th>4</th>\n",
       "      <td>Blue</td>\n",
       "      <td>sup</td>\n",
       "      <td>NaN</td>\n",
       "      <td>True</td>\n",
       "    </tr>\n",
       "    <tr>\n",
       "      <th>...</th>\n",
       "      <td>...</td>\n",
       "      <td>...</td>\n",
       "      <td>...</td>\n",
       "      <td>...</td>\n",
       "    </tr>\n",
       "    <tr>\n",
       "      <th>27293</th>\n",
       "      <td>Red</td>\n",
       "      <td>top</td>\n",
       "      <td>0.0</td>\n",
       "      <td>False</td>\n",
       "    </tr>\n",
       "    <tr>\n",
       "      <th>27294</th>\n",
       "      <td>Red</td>\n",
       "      <td>jng</td>\n",
       "      <td>0.0</td>\n",
       "      <td>False</td>\n",
       "    </tr>\n",
       "    <tr>\n",
       "      <th>27295</th>\n",
       "      <td>Red</td>\n",
       "      <td>mid</td>\n",
       "      <td>0.0</td>\n",
       "      <td>False</td>\n",
       "    </tr>\n",
       "    <tr>\n",
       "      <th>27296</th>\n",
       "      <td>Red</td>\n",
       "      <td>bot</td>\n",
       "      <td>0.0</td>\n",
       "      <td>False</td>\n",
       "    </tr>\n",
       "    <tr>\n",
       "      <th>27297</th>\n",
       "      <td>Red</td>\n",
       "      <td>sup</td>\n",
       "      <td>0.0</td>\n",
       "      <td>False</td>\n",
       "    </tr>\n",
       "  </tbody>\n",
       "</table>\n",
       "<p>22750 rows × 4 columns</p>\n",
       "</div>"
      ],
      "text/plain": [
       "       side position  firstbloodassist  assist_missing\n",
       "0      Blue      top               NaN            True\n",
       "1      Blue      jng               NaN            True\n",
       "2      Blue      mid               NaN            True\n",
       "3      Blue      bot               NaN            True\n",
       "4      Blue      sup               NaN            True\n",
       "...     ...      ...               ...             ...\n",
       "27293   Red      top               0.0           False\n",
       "27294   Red      jng               0.0           False\n",
       "27295   Red      mid               0.0           False\n",
       "27296   Red      bot               0.0           False\n",
       "27297   Red      sup               0.0           False\n",
       "\n",
       "[22750 rows x 4 columns]"
      ]
     },
     "execution_count": 122,
     "metadata": {},
     "output_type": "execute_result"
    }
   ],
   "source": [
    "df3 = pd.read_csv('2024_LoL_esports_match_data_from_OraclesElixir.csv')\n",
    "df3 = df3[['side', 'position','firstbloodassist']]\n",
    "df3 = df3[df3['position'] != 'team']\n",
    "df3['assist_missing'] = df2['firstbloodassist'].isna()\n",
    "df3"
   ]
  },
  {
   "cell_type": "code",
   "execution_count": 133,
   "metadata": {},
   "outputs": [
    {
     "data": {
      "text/html": [
       "<div>\n",
       "<style scoped>\n",
       "    .dataframe tbody tr th:only-of-type {\n",
       "        vertical-align: middle;\n",
       "    }\n",
       "\n",
       "    .dataframe tbody tr th {\n",
       "        vertical-align: top;\n",
       "    }\n",
       "\n",
       "    .dataframe thead th {\n",
       "        text-align: right;\n",
       "    }\n",
       "</style>\n",
       "<table border=\"1\" class=\"dataframe\">\n",
       "  <thead>\n",
       "    <tr style=\"text-align: right;\">\n",
       "      <th></th>\n",
       "      <th>assist_missing = False</th>\n",
       "      <th>assist_missing = True</th>\n",
       "    </tr>\n",
       "    <tr>\n",
       "      <th>side</th>\n",
       "      <th></th>\n",
       "      <th></th>\n",
       "    </tr>\n",
       "  </thead>\n",
       "  <tbody>\n",
       "    <tr>\n",
       "      <th>Blue</th>\n",
       "      <td>0.5</td>\n",
       "      <td>0.5</td>\n",
       "    </tr>\n",
       "    <tr>\n",
       "      <th>Red</th>\n",
       "      <td>0.5</td>\n",
       "      <td>0.5</td>\n",
       "    </tr>\n",
       "  </tbody>\n",
       "</table>\n",
       "</div>"
      ],
      "text/plain": [
       "      assist_missing = False  assist_missing = True\n",
       "side                                               \n",
       "Blue                     0.5                    0.5\n",
       "Red                      0.5                    0.5"
      ]
     },
     "execution_count": 133,
     "metadata": {},
     "output_type": "execute_result"
    }
   ],
   "source": [
    "patch_dist = (\n",
    "    df3\n",
    "    .assign(assist_missing=df2['firstbloodassist'].isna())\n",
    "    .pivot_table(index='side', columns='assist_missing', aggfunc='size')\n",
    ")\n",
    "patch_dist.columns = ['assist_missing = False', 'assist_missing = True']\n",
    "patch_dist = (patch_dist / patch_dist.sum()).fillna(0)\n",
    "patch_dist"
   ]
  },
  {
   "cell_type": "code",
   "execution_count": 259,
   "metadata": {},
   "outputs": [
    {
     "data": {
      "application/vnd.plotly.v1+json": {
       "config": {
        "plotlyServerURL": "https://plot.ly"
       },
       "data": [
        {
         "alignmentgroup": "True",
         "bingroup": "x",
         "histnorm": "probability",
         "hovertemplate": "0=%{x}<br>probability=%{y}<extra></extra>",
         "legendgroup": "",
         "marker": {
          "color": "#636efa",
          "pattern": {
           "shape": ""
          }
         },
         "name": "",
         "nbinsx": 50,
         "offsetgroup": "",
         "orientation": "v",
         "showlegend": false,
         "type": "histogram",
         "x": [
          0.018815573899618743,
          0.01732227438377601,
          0.010453096610899326,
          0.0029865990316855218,
          0.0152316550615961,
          0.011050416417236392,
          0.0023892792253484008,
          0.0023892792253484008,
          0.014037015448921913,
          0.00806381738555087,
          0.008661137191887991,
          0.0026879391285169474,
          0.016127634771101795,
          0.0059731980633710435,
          0.004181238644359708,
          0.013738355545753367,
          0.009258456998225056,
          0.006869177772876656,
          0.006869177772876656,
          0.011946396126742087,
          0.011050416417236392,
          0.012543715933079153,
          0.011050416417236392,
          0.0002986599031685744,
          0.011349076320404966,
          0.014634335255259034,
          0.012245056029910606,
          0.0059731980633710435,
          0.0032852589348540684,
          0.005674538160202469,
          0.0059731980633710435,
          0.00716783767604523,
          0.00806381738555087,
          0.010453096610899326,
          0.014335675352090488,
          0.006570517869708109,
          0.005375878257033895,
          0.002090619322179882,
          0.007765157482382351,
          0.009855776804562205,
          0.0038825787411911616,
          0.004778558450696829,
          0.0035839188380225873,
          0.0029865990316855218,
          0.008661137191887991,
          0.0023892792253484008,
          0.013439695642584848,
          0.004479898547528283,
          0.011050416417236392,
          0.000597319806337121,
          0.008362477288719417,
          0.000597319806337121,
          0.008362477288719417,
          0.004181238644359708,
          0.02030887341546156,
          0.005674538160202469,
          0.0032852589348540684,
          0.008362477288719417,
          0.014335675352090488,
          0.011946396126742087,
          0.006869177772876656,
          0.000597319806337121,
          0.014634335255259034,
          0.0038825787411911616,
          0.013141035739416274,
          0.007466497579213777,
          0.013738355545753367,
          0.0026879391285169474,
          0.00627185796653959,
          0.00627185796653959,
          0.0011946396126741865,
          0.012543715933079153,
          0.007466497579213777,
          0.000597319806337121,
          0.0017919594190113075,
          0.012245056029910606,
          0.011349076320404966,
          0.0011946396126741865,
          0.00716783767604523,
          0.004181238644359708,
          0.0029865990316855218,
          0.010751756514067845,
          0.0017919594190113075,
          0.019711553609124438,
          0.004181238644359708,
          0.00627185796653959,
          0.0011946396126741865,
          0.00716783767604523,
          0.004778558450696829,
          0.008362477288719417,
          0.00627185796653959,
          0.006869177772876656,
          0.0029865990316855218,
          0.009258456998225056,
          0.009258456998225056,
          0.00806381738555087,
          0.0029865990316855218,
          0.005375878257033895,
          0.0029865990316855218,
          0.013439695642584848,
          0.0026879391285169474,
          0.004778558450696829,
          0.01164773622357354,
          0.0017919594190113075,
          0.0059731980633710435,
          0.0059731980633710435,
          0.000597319806337121,
          0.0038825787411911616,
          0.005375878257033895,
          0.009557116901393659,
          0.01672495457743886,
          0.0011946396126741865,
          0.014932995158427553,
          0.01582897486793325,
          0.0002986599031685744,
          0.01164773622357354,
          0.0026879391285169474,
          0.004778558450696829,
          0.005674538160202469,
          0.004181238644359708,
          0.0014932995158427609,
          0.008362477288719417,
          0.0059731980633710435,
          0.012543715933079153,
          0.002090619322179882,
          0.0014932995158427609,
          0.03225526954220359,
          0.007466497579213777,
          0.011050416417236392,
          0.0008959797095056399,
          0.004181238644359708,
          0.012245056029910606,
          0.0014932995158427609,
          0.0026879391285169474,
          0.005375878257033895,
          0.00716783767604523,
          0.01672495457743886,
          0.0026879391285169474,
          0.005674538160202469,
          0.008959797095056538,
          0.005375878257033895,
          0.004181238644359708,
          0.000597319806337121,
          0.014037015448921913,
          0.0029865990316855218,
          0.0023892792253484008,
          0,
          0,
          0.0011946396126741865,
          0.008362477288719417,
          0.004181238644359708,
          0.005077218353865348,
          0.002090619322179882,
          0.009258456998225056,
          0.0002986599031685744,
          0.004181238644359708,
          0,
          0.016127634771101795,
          0.006869177772876656,
          0.007765157482382351,
          0.009557116901393659,
          0.013738355545753367,
          0.0023892792253484008,
          0.004479898547528283,
          0.007466497579213777,
          0.0014932995158427609,
          0.005077218353865348,
          0.0011946396126741865,
          0.022996812543978534,
          0.00627185796653959,
          0.0035839188380225873,
          0.016127634771101795,
          0.0023892792253484008,
          0.0032852589348540684,
          0.010751756514067845,
          0.0017919594190113075,
          0.005375878257033895,
          0.008661137191887991,
          0.002090619322179882,
          0.005077218353865348,
          0.01164773622357354,
          0.006869177772876656,
          0.0035839188380225873,
          0.005674538160202469,
          0.0014932995158427609,
          0.008661137191887991,
          0.00627185796653959,
          0.00716783767604523,
          0.004181238644359708,
          0.0023892792253484008,
          0.005674538160202469,
          0.0002986599031685744,
          0.008362477288719417,
          0.011946396126742087,
          0.008362477288719417,
          0.014037015448921913,
          0.0029865990316855218,
          0.0032852589348540684,
          0.005077218353865348,
          0.0017919594190113075,
          0.005077218353865348,
          0.0011946396126741865,
          0.0152316550615961,
          0.005375878257033895,
          0.013141035739416274,
          0.008959797095056538,
          0.008661137191887991,
          0.005375878257033895,
          0.008661137191887991,
          0,
          0.0038825787411911616,
          0.002090619322179882,
          0.014634335255259034,
          0.0002986599031685744,
          0.008362477288719417,
          0.010453096610899326,
          0.002090619322179882,
          0.00627185796653959,
          0.0035839188380225873,
          0.012245056029910606,
          0.0011946396126741865,
          0.012543715933079153,
          0.006570517869708109,
          0.009855776804562205,
          0.00627185796653959,
          0.0002986599031685744,
          0.000597319806337121,
          0.009855776804562205,
          0.00806381738555087,
          0.016426294674270314,
          0.013439695642584848,
          0.0023892792253484008,
          0.006869177772876656,
          0.012842375836247727,
          0.008661137191887991,
          0.017023614480607435,
          0.0023892792253484008,
          0.006869177772876656,
          0.016426294674270314,
          0.005674538160202469,
          0.009855776804562205,
          0.0014932995158427609,
          0.00716783767604523,
          0.00806381738555087,
          0.0011946396126741865,
          0.008959797095056538,
          0.002090619322179882,
          0.011349076320404966,
          0.0059731980633710435,
          0.02210083283447284,
          0.0008959797095056399,
          0.009855776804562205,
          0.0059731980633710435,
          0.004778558450696829,
          0.0035839188380225873,
          0.0038825787411911616,
          0.008362477288719417,
          0.00716783767604523,
          0.0026879391285169474,
          0.0011946396126741865,
          0.007466497579213777,
          0.004181238644359708,
          0.0014932995158427609,
          0.0029865990316855218,
          0.00627185796653959,
          0.011349076320404966,
          0.004778558450696829,
          0.004778558450696829,
          0.008959797095056538,
          0.006869177772876656,
          0.000597319806337121,
          0.0035839188380225873,
          0.014037015448921913,
          0.006570517869708109,
          0.008362477288719417,
          0.004181238644359708,
          0.0014932995158427609,
          0.0008959797095056399,
          0.0038825787411911616,
          0.00806381738555087,
          0.000597319806337121,
          0.006570517869708109,
          0.006570517869708109,
          0.02329547244714708,
          0.0032852589348540684,
          0.006570517869708109,
          0.008362477288719417,
          0.0014932995158427609,
          0.013141035739416274,
          0.010751756514067845,
          0.0035839188380225873,
          0.005077218353865348,
          0.0014932995158427609,
          0.008661137191887991,
          0.0014932995158427609,
          0.00627185796653959,
          0.008362477288719417,
          0,
          0.005674538160202469,
          0.01164773622357354,
          0.007765157482382351,
          0.00627185796653959,
          0.004181238644359708,
          0.004181238644359708,
          0.00627185796653959,
          0.006869177772876656,
          0.004181238644359708,
          0.013439695642584848,
          0.000597319806337121,
          0.009855776804562205,
          0.006570517869708109,
          0.002090619322179882,
          0.009855776804562205,
          0.004181238644359708,
          0.0017919594190113075,
          0.0017919594190113075,
          0.00627185796653959,
          0.012245056029910606,
          0.007466497579213777,
          0.005077218353865348,
          0.009855776804562205,
          0.006869177772876656,
          0.009557116901393659,
          0.0059731980633710435,
          0.0023892792253484008,
          0.004778558450696829,
          0.02329547244714708,
          0.012245056029910606,
          0.006869177772876656,
          0.00716783767604523,
          0.00716783767604523,
          0.000597319806337121,
          0.006869177772876656,
          0,
          0.005077218353865348,
          0.005077218353865348,
          0.0038825787411911616,
          0.008959797095056538,
          0.0014932995158427609,
          0.002090619322179882,
          0.013439695642584848,
          0.0023892792253484008,
          0.012842375836247727,
          0.008959797095056538,
          0.005674538160202469,
          0.004479898547528283,
          0.006869177772876656,
          0.0059731980633710435,
          0.0035839188380225873,
          0.004778558450696829,
          0.014335675352090488,
          0.008362477288719417,
          0.00806381738555087,
          0.000597319806337121,
          0.008661137191887991,
          0.0059731980633710435,
          0.0008959797095056399,
          0.0011946396126741865,
          0.008661137191887991,
          0.007765157482382351,
          0.00716783767604523,
          0.009557116901393659,
          0.008362477288719417,
          0.009855776804562205,
          0.008362477288719417,
          0.002090619322179882,
          0.018516913996450196,
          0.01582897486793325,
          0.002090619322179882,
          0.0002986599031685744,
          0.008661137191887991,
          0.00627185796653959,
          0.0029865990316855218,
          0.005077218353865348,
          0.002090619322179882,
          0.0023892792253484008,
          0.0026879391285169474,
          0.013738355545753367,
          0.005375878257033895,
          0.0017919594190113075,
          0.0038825787411911616,
          0.0011946396126741865,
          0.0017919594190113075,
          0.006570517869708109,
          0.0032852589348540684,
          0,
          0.0017919594190113075,
          0.011946396126742087,
          0.0026879391285169474,
          0.0017919594190113075,
          0.013141035739416274,
          0.0011946396126741865,
          0.0026879391285169474,
          0.000597319806337121,
          0.004181238644359708,
          0.00806381738555087,
          0.007765157482382351,
          0.01015443670773078,
          0.008362477288719417,
          0.002090619322179882,
          0.0059731980633710435,
          0.000597319806337121,
          0.0023892792253484008,
          0.0014932995158427609,
          0.013141035739416274,
          0.01164773622357354,
          0.008959797095056538,
          0.0023892792253484008,
          0.0035839188380225873,
          0.009557116901393659,
          0.0011946396126741865,
          0.007765157482382351,
          0.0059731980633710435,
          0.0035839188380225873,
          0.002090619322179882,
          0.0026879391285169474,
          0.008362477288719417,
          0.0011946396126741865,
          0.011050416417236392,
          0.004778558450696829,
          0.0011946396126741865,
          0.0002986599031685744,
          0.0026879391285169474,
          0.0023892792253484008,
          0.0038825787411911616,
          0.01015443670773078,
          0.020607533318630078,
          0.008362477288719417,
          0.007466497579213777,
          0.008362477288719417,
          0.004181238644359708,
          0.0032852589348540684,
          0.008959797095056538,
          0.01015443670773078,
          0.0032852589348540684,
          0.008959797095056538,
          0.008661137191887991,
          0.0038825787411911616,
          0.0059731980633710435,
          0.014335675352090488,
          0.012842375836247727,
          0.008661137191887991,
          0.00806381738555087,
          0.0059731980633710435,
          0.0026879391285169474,
          0.008661137191887991,
          0.004778558450696829,
          0.0011946396126741865,
          0.010751756514067845,
          0.006869177772876656,
          0.000597319806337121,
          0.004181238644359708,
          0.015530314964764674,
          0.012543715933079153,
          0.000597319806337121,
          0.0059731980633710435,
          0.00716783767604523,
          0.006570517869708109,
          0.0017919594190113075,
          0.014037015448921913,
          0.0059731980633710435,
          0.0059731980633710435,
          0.005674538160202469,
          0.008959797095056538,
          0,
          0.019711553609124438,
          0.00627185796653959,
          0.004778558450696829,
          0.0029865990316855218,
          0.0011946396126741865,
          0.0026879391285169474,
          0.004181238644359708,
          0.0026879391285169474,
          0.014335675352090488,
          0.004181238644359708,
          0.000597319806337121,
          0.009855776804562205,
          0.022996812543978534,
          0.0029865990316855218,
          0.017620934286944556,
          0.007466497579213777,
          0.004479898547528283,
          0.009258456998225056,
          0.0017919594190113075,
          0.008362477288719417,
          0.006869177772876656,
          0.0002986599031685744,
          0.0038825787411911616,
          0.007765157482382351,
          0.005077218353865348,
          0.0008959797095056399,
          0.013141035739416274,
          0.005674538160202469,
          0.014037015448921913,
          0.0023892792253484008,
          0.0029865990316855218,
          0.005375878257033895,
          0.00806381738555087,
          0.0035839188380225873,
          0.011946396126742087,
          0.0029865990316855218,
          0.009258456998225056,
          0.00627185796653959,
          0.00716783767604523,
          0.0212048531249672,
          0.013738355545753367,
          0.009855776804562205,
          0.00627185796653959,
          0.016426294674270314,
          0.011349076320404966,
          0.0029865990316855218,
          0.010453096610899326,
          0.01015443670773078,
          0.010751756514067845,
          0.011349076320404966,
          0.0011946396126741865,
          0.0011946396126741865,
          0.009258456998225056,
          0.011349076320404966,
          0.011946396126742087,
          0.006869177772876656,
          0.007765157482382351,
          0,
          0.0017919594190113075,
          0.0014932995158427609,
          0.009557116901393659,
          0.00627185796653959,
          0.004181238644359708,
          0.0011946396126741865,
          0.014335675352090488,
          0.004479898547528283,
          0.007765157482382351,
          0.0008959797095056399,
          0.009855776804562205,
          0.012842375836247727,
          0.007765157482382351,
          0.011349076320404966,
          0.005077218353865348,
          0.000597319806337121,
          0.0032852589348540684,
          0.006570517869708109,
          0.0038825787411911616,
          0.0017919594190113075,
          0.016426294674270314,
          0.0029865990316855218,
          0.000597319806337121,
          0.010453096610899326,
          0.008959797095056538,
          0.0008959797095056399,
          0,
          0.0023892792253484008,
          0.019114233802787373,
          0.012543715933079153,
          0.004181238644359708,
          0.00806381738555087,
          0.009258456998225056,
          0.0008959797095056399,
          0.002090619322179882,
          0.004479898547528283,
          0.0032852589348540684,
          0.013439695642584848,
          0.0038825787411911616,
          0.004181238644359708,
          0.018815573899618743,
          0.014932995158427553,
          0.013141035739416274,
          0.016426294674270314,
          0.0059731980633710435,
          0.011946396126742087,
          0.0002986599031685744,
          0.010751756514067845,
          0.0059731980633710435,
          0.0059731980633710435,
          0.013141035739416274,
          0.015530314964764674,
          0.0059731980633710435,
          0.01015443670773078,
          0.00627185796653959,
          0.0029865990316855218,
          0.0029865990316855218,
          0.0002986599031685744,
          0.002090619322179882,
          0.005077218353865348,
          0.0014932995158427609,
          0.020607533318630078,
          0,
          0.004778558450696829,
          0.005674538160202469,
          0.02180217293130432,
          0.006869177772876656,
          0.008959797095056538,
          0.0002986599031685744,
          0.0023892792253484008,
          0.009557116901393659,
          0.005077218353865348,
          0.0059731980633710435,
          0.0032852589348540684,
          0.00627185796653959,
          0.0014932995158427609,
          0.005375878257033895,
          0.005375878257033895,
          0.0032852589348540684,
          0.0029865990316855218,
          0,
          0.00627185796653959,
          0.00716783767604523,
          0.008959797095056538,
          0.0059731980633710435,
          0.0011946396126741865,
          0.009557116901393659,
          0.012842375836247727,
          0.005674538160202469,
          0.008959797095056538,
          0.00627185796653959,
          0.0059731980633710435,
          0.0029865990316855218,
          0.010751756514067845,
          0.0059731980633710435,
          0.009855776804562205,
          0.004778558450696829,
          0.005674538160202469,
          0.005077218353865348,
          0.0008959797095056399,
          0.002090619322179882,
          0.0023892792253484008,
          0.005674538160202469,
          0.0032852589348540684,
          0.0014932995158427609,
          0.011050416417236392,
          0.0038825787411911616,
          0.005077218353865348,
          0.0008959797095056399,
          0.0035839188380225873,
          0.005077218353865348,
          0.01732227438377601,
          0.0035839188380225873,
          0.00627185796653959,
          0.004181238644359708,
          0.016127634771101795,
          0.0023892792253484008,
          0.0023892792253484008,
          0.0023892792253484008,
          0.0026879391285169474,
          0.011050416417236392,
          0.004778558450696829,
          0.009855776804562205,
          0.0014932995158427609,
          0.0032852589348540684,
          0.008959797095056538,
          0.01015443670773078,
          0.01164773622357354,
          0.0026879391285169474,
          0.002090619322179882,
          0.014634335255259034,
          0.01015443670773078,
          0.006570517869708109,
          0.0017919594190113075,
          0.008959797095056538,
          0.011946396126742087,
          0.007466497579213777,
          0.0026879391285169474,
          0.0029865990316855218,
          0.014932995158427553,
          0.013439695642584848,
          0.022996812543978534,
          0.014037015448921913,
          0.0032852589348540684,
          0.01732227438377601,
          0.010751756514067845,
          0.004181238644359708,
          0.01164773622357354,
          0.0002986599031685744,
          0.012245056029910606,
          0.009855776804562205,
          0.002090619322179882,
          0.0038825787411911616,
          0.01672495457743886,
          0.0014932995158427609,
          0.01015443670773078,
          0.0026879391285169474,
          0.0035839188380225873,
          0.018516913996450196,
          0.0026879391285169474,
          0.004479898547528283,
          0.00806381738555087,
          0.0035839188380225873,
          0.0011946396126741865,
          0.0212048531249672,
          0.0152316550615961,
          0.0032852589348540684,
          0.012245056029910606,
          0.0032852589348540684,
          0.021503513028135773,
          0.014037015448921913,
          0.000597319806337121,
          0.01164773622357354,
          0.0038825787411911616,
          0.0038825787411911616,
          0.002090619322179882,
          0.010453096610899326,
          0.004479898547528283,
          0.0032852589348540684,
          0.019114233802787373,
          0.005375878257033895,
          0.009557116901393659,
          0.009855776804562205,
          0.0002986599031685744,
          0.002090619322179882,
          0.004479898547528283,
          0.0017919594190113075,
          0.00716783767604523,
          0.011349076320404966,
          0.01164773622357354,
          0.005077218353865348,
          0.002090619322179882,
          0.012543715933079153,
          0.012543715933079153,
          0.0026879391285169474,
          0.011349076320404966,
          0.014037015448921913,
          0.0035839188380225873,
          0.0029865990316855218,
          0.006570517869708109,
          0.005077218353865348,
          0.002090619322179882,
          0.017023614480607435,
          0.0023892792253484008,
          0.012842375836247727,
          0.01582897486793325,
          0.014932995158427553,
          0.00716783767604523,
          0.01582897486793325,
          0.000597319806337121,
          0.016426294674270314,
          0.0002986599031685744,
          0.013141035739416274,
          0.012842375836247727,
          0.006869177772876656,
          0.012842375836247727,
          0.01015443670773078,
          0.005077218353865348,
          0.0002986599031685744,
          0.0002986599031685744,
          0.004479898547528283,
          0.0023892792253484008,
          0.012543715933079153,
          0.0014932995158427609,
          0.0059731980633710435,
          0.0017919594190113075,
          0.008661137191887991,
          0.008959797095056538,
          0.014932995158427553,
          0.016127634771101795,
          0.0002986599031685744,
          0.005674538160202469,
          0.017620934286944556,
          0.0059731980633710435,
          0.010453096610899326,
          0.014634335255259034,
          0.0032852589348540684,
          0.0017919594190113075,
          0.0011946396126741865,
          0.005375878257033895,
          0.0035839188380225873,
          0.005077218353865348,
          0.012543715933079153,
          0.000597319806337121,
          0.009557116901393659,
          0.004181238644359708,
          0.005674538160202469,
          0.0032852589348540684,
          0.00627185796653959,
          0.0029865990316855218,
          0.0014932995158427609,
          0.0059731980633710435,
          0.007466497579213777,
          0.004479898547528283,
          0.014037015448921913,
          0.0032852589348540684,
          0.006869177772876656,
          0.005375878257033895,
          0.004778558450696829,
          0.00716783767604523,
          0.0011946396126741865,
          0.004479898547528283,
          0.0017919594190113075,
          0.002090619322179882,
          0.0008959797095056399,
          0.0002986599031685744,
          0.016426294674270314,
          0.013439695642584848,
          0.008362477288719417,
          0.0014932995158427609,
          0.0017919594190113075,
          0.012842375836247727,
          0.013439695642584848,
          0.006869177772876656,
          0.004479898547528283,
          0.00716783767604523,
          0.0029865990316855218,
          0.004479898547528283,
          0.008661137191887991,
          0.0014932995158427609,
          0.0002986599031685744,
          0.002090619322179882,
          0.00716783767604523,
          0.004181238644359708,
          0.005375878257033895,
          0.009855776804562205,
          0.004778558450696829,
          0.008362477288719417,
          0.026879391285169668,
          0.0026879391285169474,
          0.009557116901393659,
          0.0008959797095056399,
          0.010751756514067845,
          0.007466497579213777,
          0.012543715933079153,
          0.005077218353865348,
          0.009557116901393659,
          0.017023614480607435,
          0.004181238644359708,
          0.024788771962989786,
          0.008959797095056538,
          0.01582897486793325,
          0.00627185796653959,
          0.0059731980633710435,
          0.017023614480607435,
          0.014634335255259034,
          0.0002986599031685744,
          0.005077218353865348,
          0.007765157482382351,
          0,
          0.005375878257033895,
          0.005375878257033895,
          0.000597319806337121,
          0.004479898547528283,
          0.011349076320404966,
          0.013141035739416274,
          0.009557116901393659,
          0.005375878257033895,
          0.019114233802787373,
          0.008661137191887991,
          0.012842375836247727,
          0.002090619322179882,
          0.0011946396126741865,
          0.005674538160202469,
          0.01582897486793325,
          0.007466497579213777,
          0.007466497579213777,
          0.00627185796653959,
          0.0008959797095056399,
          0.006570517869708109,
          0.00716783767604523,
          0.0032852589348540684,
          0.0002986599031685744,
          0.0014932995158427609,
          0.01015443670773078,
          0.0032852589348540684,
          0.011349076320404966,
          0.010453096610899326,
          0.0014932995158427609,
          0.00627185796653959,
          0.013738355545753367,
          0.005674538160202469,
          0.00716783767604523,
          0.00806381738555087,
          0.007765157482382351,
          0.015530314964764674,
          0.007466497579213777,
          0.010751756514067845,
          0.006570517869708109,
          0.0002986599031685744,
          0.0026879391285169474,
          0.0038825787411911616,
          0.0026879391285169474,
          0.00716783767604523,
          0.008362477288719417,
          0.00716783767604523,
          0.016127634771101795,
          0.010751756514067845,
          0.013439695642584848,
          0.00627185796653959,
          0.002090619322179882,
          0.0035839188380225873,
          0.020607533318630078,
          0.000597319806337121,
          0.0038825787411911616,
          0.006570517869708109,
          0.019711553609124438,
          0.005077218353865348,
          0.0152316550615961,
          0.000597319806337121,
          0.00627185796653959,
          0.01015443670773078,
          0.004479898547528283,
          0.009557116901393659,
          0.00716783767604523,
          0.01015443670773078,
          0.000597319806337121,
          0.0011946396126741865,
          0.012842375836247727,
          0.005674538160202469,
          0.0014932995158427609,
          0.010453096610899326,
          0.006570517869708109,
          0.0023892792253484008,
          0.0032852589348540684,
          0.007765157482382351,
          0.0008959797095056399,
          0.00806381738555087,
          0.0026879391285169474,
          0.009557116901393659,
          0.014932995158427553,
          0.0032852589348540684,
          0.0029865990316855218,
          0.0017919594190113075,
          0.00627185796653959,
          0.0023892792253484008,
          0.009855776804562205,
          0.002090619322179882,
          0.0035839188380225873,
          0.0014932995158427609,
          0.0035839188380225873,
          0.016426294674270314,
          0.0002986599031685744,
          0.0002986599031685744,
          0.0038825787411911616,
          0.00627185796653959,
          0.011349076320404966,
          0.005674538160202469,
          0.016127634771101795,
          0.009258456998225056,
          0.0035839188380225873,
          0.012245056029910606,
          0.0038825787411911616,
          0.0002986599031685744,
          0.010751756514067845,
          0.0035839188380225873,
          0.005375878257033895,
          0.011946396126742087,
          0.0059731980633710435,
          0.0038825787411911616,
          0.013439695642584848,
          0.00716783767604523,
          0.019114233802787373,
          0.008661137191887991,
          0.0059731980633710435,
          0.0017919594190113075,
          0.013141035739416274,
          0.004778558450696829,
          0.01672495457743886,
          0.026879391285169668,
          0.005674538160202469,
          0.006869177772876656,
          0.00716783767604523,
          0.008661137191887991,
          0.008362477288719417,
          0.002090619322179882,
          0.019114233802787373,
          0.00627185796653959,
          0.0002986599031685744,
          0.004778558450696829,
          0.006869177772876656,
          0.0002986599031685744,
          0.00627185796653959,
          0.004778558450696829,
          0.005375878257033895,
          0.0008959797095056399,
          0.0038825787411911616,
          0.009258456998225056,
          0.0023892792253484008,
          0.013439695642584848,
          0.007466497579213777,
          0.0059731980633710435,
          0.0002986599031685744,
          0.007765157482382351,
          0.020010213512293012,
          0.004778558450696829,
          0.0002986599031685744,
          0.0008959797095056399,
          0.005674538160202469,
          0.0038825787411911616,
          0.010751756514067845,
          0.0002986599031685744,
          0.004778558450696829,
          0.00627185796653959,
          0.01672495457743886,
          0.005674538160202469,
          0.009557116901393659,
          0.008661137191887991,
          0.007466497579213777,
          0.01015443670773078,
          0.011050416417236392,
          0.013141035739416274,
          0.013439695642584848,
          0.0038825787411911616,
          0.005375878257033895,
          0.005077218353865348,
          0.004479898547528283
         ],
         "xaxis": "x",
         "yaxis": "y"
        }
       ],
       "layout": {
        "annotations": [
         {
          "showarrow": false,
          "text": "<span style=\"color:red\">Observed TVD = 0.0</span>",
          "x": 0.003,
          "y": 0.14
         }
        ],
        "barmode": "relative",
        "legend": {
         "tracegroupgap": 0
        },
        "shapes": [
         {
          "line": {
           "color": "red"
          },
          "type": "line",
          "x0": 0,
          "x1": 0,
          "xref": "x",
          "y0": 0,
          "y1": 1,
          "yref": "y domain"
         }
        ],
        "template": {
         "data": {
          "bar": [
           {
            "error_x": {
             "color": "#2a3f5f"
            },
            "error_y": {
             "color": "#2a3f5f"
            },
            "marker": {
             "line": {
              "color": "#E5ECF6",
              "width": 0.5
             },
             "pattern": {
              "fillmode": "overlay",
              "size": 10,
              "solidity": 0.2
             }
            },
            "type": "bar"
           }
          ],
          "barpolar": [
           {
            "marker": {
             "line": {
              "color": "#E5ECF6",
              "width": 0.5
             },
             "pattern": {
              "fillmode": "overlay",
              "size": 10,
              "solidity": 0.2
             }
            },
            "type": "barpolar"
           }
          ],
          "carpet": [
           {
            "aaxis": {
             "endlinecolor": "#2a3f5f",
             "gridcolor": "white",
             "linecolor": "white",
             "minorgridcolor": "white",
             "startlinecolor": "#2a3f5f"
            },
            "baxis": {
             "endlinecolor": "#2a3f5f",
             "gridcolor": "white",
             "linecolor": "white",
             "minorgridcolor": "white",
             "startlinecolor": "#2a3f5f"
            },
            "type": "carpet"
           }
          ],
          "choropleth": [
           {
            "colorbar": {
             "outlinewidth": 0,
             "ticks": ""
            },
            "type": "choropleth"
           }
          ],
          "contour": [
           {
            "colorbar": {
             "outlinewidth": 0,
             "ticks": ""
            },
            "colorscale": [
             [
              0,
              "#0d0887"
             ],
             [
              0.1111111111111111,
              "#46039f"
             ],
             [
              0.2222222222222222,
              "#7201a8"
             ],
             [
              0.3333333333333333,
              "#9c179e"
             ],
             [
              0.4444444444444444,
              "#bd3786"
             ],
             [
              0.5555555555555556,
              "#d8576b"
             ],
             [
              0.6666666666666666,
              "#ed7953"
             ],
             [
              0.7777777777777778,
              "#fb9f3a"
             ],
             [
              0.8888888888888888,
              "#fdca26"
             ],
             [
              1,
              "#f0f921"
             ]
            ],
            "type": "contour"
           }
          ],
          "contourcarpet": [
           {
            "colorbar": {
             "outlinewidth": 0,
             "ticks": ""
            },
            "type": "contourcarpet"
           }
          ],
          "heatmap": [
           {
            "colorbar": {
             "outlinewidth": 0,
             "ticks": ""
            },
            "colorscale": [
             [
              0,
              "#0d0887"
             ],
             [
              0.1111111111111111,
              "#46039f"
             ],
             [
              0.2222222222222222,
              "#7201a8"
             ],
             [
              0.3333333333333333,
              "#9c179e"
             ],
             [
              0.4444444444444444,
              "#bd3786"
             ],
             [
              0.5555555555555556,
              "#d8576b"
             ],
             [
              0.6666666666666666,
              "#ed7953"
             ],
             [
              0.7777777777777778,
              "#fb9f3a"
             ],
             [
              0.8888888888888888,
              "#fdca26"
             ],
             [
              1,
              "#f0f921"
             ]
            ],
            "type": "heatmap"
           }
          ],
          "heatmapgl": [
           {
            "colorbar": {
             "outlinewidth": 0,
             "ticks": ""
            },
            "colorscale": [
             [
              0,
              "#0d0887"
             ],
             [
              0.1111111111111111,
              "#46039f"
             ],
             [
              0.2222222222222222,
              "#7201a8"
             ],
             [
              0.3333333333333333,
              "#9c179e"
             ],
             [
              0.4444444444444444,
              "#bd3786"
             ],
             [
              0.5555555555555556,
              "#d8576b"
             ],
             [
              0.6666666666666666,
              "#ed7953"
             ],
             [
              0.7777777777777778,
              "#fb9f3a"
             ],
             [
              0.8888888888888888,
              "#fdca26"
             ],
             [
              1,
              "#f0f921"
             ]
            ],
            "type": "heatmapgl"
           }
          ],
          "histogram": [
           {
            "marker": {
             "pattern": {
              "fillmode": "overlay",
              "size": 10,
              "solidity": 0.2
             }
            },
            "type": "histogram"
           }
          ],
          "histogram2d": [
           {
            "colorbar": {
             "outlinewidth": 0,
             "ticks": ""
            },
            "colorscale": [
             [
              0,
              "#0d0887"
             ],
             [
              0.1111111111111111,
              "#46039f"
             ],
             [
              0.2222222222222222,
              "#7201a8"
             ],
             [
              0.3333333333333333,
              "#9c179e"
             ],
             [
              0.4444444444444444,
              "#bd3786"
             ],
             [
              0.5555555555555556,
              "#d8576b"
             ],
             [
              0.6666666666666666,
              "#ed7953"
             ],
             [
              0.7777777777777778,
              "#fb9f3a"
             ],
             [
              0.8888888888888888,
              "#fdca26"
             ],
             [
              1,
              "#f0f921"
             ]
            ],
            "type": "histogram2d"
           }
          ],
          "histogram2dcontour": [
           {
            "colorbar": {
             "outlinewidth": 0,
             "ticks": ""
            },
            "colorscale": [
             [
              0,
              "#0d0887"
             ],
             [
              0.1111111111111111,
              "#46039f"
             ],
             [
              0.2222222222222222,
              "#7201a8"
             ],
             [
              0.3333333333333333,
              "#9c179e"
             ],
             [
              0.4444444444444444,
              "#bd3786"
             ],
             [
              0.5555555555555556,
              "#d8576b"
             ],
             [
              0.6666666666666666,
              "#ed7953"
             ],
             [
              0.7777777777777778,
              "#fb9f3a"
             ],
             [
              0.8888888888888888,
              "#fdca26"
             ],
             [
              1,
              "#f0f921"
             ]
            ],
            "type": "histogram2dcontour"
           }
          ],
          "mesh3d": [
           {
            "colorbar": {
             "outlinewidth": 0,
             "ticks": ""
            },
            "type": "mesh3d"
           }
          ],
          "parcoords": [
           {
            "line": {
             "colorbar": {
              "outlinewidth": 0,
              "ticks": ""
             }
            },
            "type": "parcoords"
           }
          ],
          "pie": [
           {
            "automargin": true,
            "type": "pie"
           }
          ],
          "scatter": [
           {
            "fillpattern": {
             "fillmode": "overlay",
             "size": 10,
             "solidity": 0.2
            },
            "type": "scatter"
           }
          ],
          "scatter3d": [
           {
            "line": {
             "colorbar": {
              "outlinewidth": 0,
              "ticks": ""
             }
            },
            "marker": {
             "colorbar": {
              "outlinewidth": 0,
              "ticks": ""
             }
            },
            "type": "scatter3d"
           }
          ],
          "scattercarpet": [
           {
            "marker": {
             "colorbar": {
              "outlinewidth": 0,
              "ticks": ""
             }
            },
            "type": "scattercarpet"
           }
          ],
          "scattergeo": [
           {
            "marker": {
             "colorbar": {
              "outlinewidth": 0,
              "ticks": ""
             }
            },
            "type": "scattergeo"
           }
          ],
          "scattergl": [
           {
            "marker": {
             "colorbar": {
              "outlinewidth": 0,
              "ticks": ""
             }
            },
            "type": "scattergl"
           }
          ],
          "scattermapbox": [
           {
            "marker": {
             "colorbar": {
              "outlinewidth": 0,
              "ticks": ""
             }
            },
            "type": "scattermapbox"
           }
          ],
          "scatterpolar": [
           {
            "marker": {
             "colorbar": {
              "outlinewidth": 0,
              "ticks": ""
             }
            },
            "type": "scatterpolar"
           }
          ],
          "scatterpolargl": [
           {
            "marker": {
             "colorbar": {
              "outlinewidth": 0,
              "ticks": ""
             }
            },
            "type": "scatterpolargl"
           }
          ],
          "scatterternary": [
           {
            "marker": {
             "colorbar": {
              "outlinewidth": 0,
              "ticks": ""
             }
            },
            "type": "scatterternary"
           }
          ],
          "surface": [
           {
            "colorbar": {
             "outlinewidth": 0,
             "ticks": ""
            },
            "colorscale": [
             [
              0,
              "#0d0887"
             ],
             [
              0.1111111111111111,
              "#46039f"
             ],
             [
              0.2222222222222222,
              "#7201a8"
             ],
             [
              0.3333333333333333,
              "#9c179e"
             ],
             [
              0.4444444444444444,
              "#bd3786"
             ],
             [
              0.5555555555555556,
              "#d8576b"
             ],
             [
              0.6666666666666666,
              "#ed7953"
             ],
             [
              0.7777777777777778,
              "#fb9f3a"
             ],
             [
              0.8888888888888888,
              "#fdca26"
             ],
             [
              1,
              "#f0f921"
             ]
            ],
            "type": "surface"
           }
          ],
          "table": [
           {
            "cells": {
             "fill": {
              "color": "#EBF0F8"
             },
             "line": {
              "color": "white"
             }
            },
            "header": {
             "fill": {
              "color": "#C8D4E3"
             },
             "line": {
              "color": "white"
             }
            },
            "type": "table"
           }
          ]
         },
         "layout": {
          "annotationdefaults": {
           "arrowcolor": "#2a3f5f",
           "arrowhead": 0,
           "arrowwidth": 1
          },
          "autotypenumbers": "strict",
          "coloraxis": {
           "colorbar": {
            "outlinewidth": 0,
            "ticks": ""
           }
          },
          "colorscale": {
           "diverging": [
            [
             0,
             "#8e0152"
            ],
            [
             0.1,
             "#c51b7d"
            ],
            [
             0.2,
             "#de77ae"
            ],
            [
             0.3,
             "#f1b6da"
            ],
            [
             0.4,
             "#fde0ef"
            ],
            [
             0.5,
             "#f7f7f7"
            ],
            [
             0.6,
             "#e6f5d0"
            ],
            [
             0.7,
             "#b8e186"
            ],
            [
             0.8,
             "#7fbc41"
            ],
            [
             0.9,
             "#4d9221"
            ],
            [
             1,
             "#276419"
            ]
           ],
           "sequential": [
            [
             0,
             "#0d0887"
            ],
            [
             0.1111111111111111,
             "#46039f"
            ],
            [
             0.2222222222222222,
             "#7201a8"
            ],
            [
             0.3333333333333333,
             "#9c179e"
            ],
            [
             0.4444444444444444,
             "#bd3786"
            ],
            [
             0.5555555555555556,
             "#d8576b"
            ],
            [
             0.6666666666666666,
             "#ed7953"
            ],
            [
             0.7777777777777778,
             "#fb9f3a"
            ],
            [
             0.8888888888888888,
             "#fdca26"
            ],
            [
             1,
             "#f0f921"
            ]
           ],
           "sequentialminus": [
            [
             0,
             "#0d0887"
            ],
            [
             0.1111111111111111,
             "#46039f"
            ],
            [
             0.2222222222222222,
             "#7201a8"
            ],
            [
             0.3333333333333333,
             "#9c179e"
            ],
            [
             0.4444444444444444,
             "#bd3786"
            ],
            [
             0.5555555555555556,
             "#d8576b"
            ],
            [
             0.6666666666666666,
             "#ed7953"
            ],
            [
             0.7777777777777778,
             "#fb9f3a"
            ],
            [
             0.8888888888888888,
             "#fdca26"
            ],
            [
             1,
             "#f0f921"
            ]
           ]
          },
          "colorway": [
           "#636efa",
           "#EF553B",
           "#00cc96",
           "#ab63fa",
           "#FFA15A",
           "#19d3f3",
           "#FF6692",
           "#B6E880",
           "#FF97FF",
           "#FECB52"
          ],
          "font": {
           "color": "#2a3f5f"
          },
          "geo": {
           "bgcolor": "white",
           "lakecolor": "white",
           "landcolor": "#E5ECF6",
           "showlakes": true,
           "showland": true,
           "subunitcolor": "white"
          },
          "hoverlabel": {
           "align": "left"
          },
          "hovermode": "closest",
          "mapbox": {
           "style": "light"
          },
          "paper_bgcolor": "white",
          "plot_bgcolor": "#E5ECF6",
          "polar": {
           "angularaxis": {
            "gridcolor": "white",
            "linecolor": "white",
            "ticks": ""
           },
           "bgcolor": "#E5ECF6",
           "radialaxis": {
            "gridcolor": "white",
            "linecolor": "white",
            "ticks": ""
           }
          },
          "scene": {
           "xaxis": {
            "backgroundcolor": "#E5ECF6",
            "gridcolor": "white",
            "gridwidth": 2,
            "linecolor": "white",
            "showbackground": true,
            "ticks": "",
            "zerolinecolor": "white"
           },
           "yaxis": {
            "backgroundcolor": "#E5ECF6",
            "gridcolor": "white",
            "gridwidth": 2,
            "linecolor": "white",
            "showbackground": true,
            "ticks": "",
            "zerolinecolor": "white"
           },
           "zaxis": {
            "backgroundcolor": "#E5ECF6",
            "gridcolor": "white",
            "gridwidth": 2,
            "linecolor": "white",
            "showbackground": true,
            "ticks": "",
            "zerolinecolor": "white"
           }
          },
          "shapedefaults": {
           "line": {
            "color": "#2a3f5f"
           }
          },
          "ternary": {
           "aaxis": {
            "gridcolor": "white",
            "linecolor": "white",
            "ticks": ""
           },
           "baxis": {
            "gridcolor": "white",
            "linecolor": "white",
            "ticks": ""
           },
           "bgcolor": "#E5ECF6",
           "caxis": {
            "gridcolor": "white",
            "linecolor": "white",
            "ticks": ""
           }
          },
          "title": {
           "x": 0.05
          },
          "xaxis": {
           "automargin": true,
           "gridcolor": "white",
           "linecolor": "white",
           "ticks": "",
           "title": {
            "standoff": 15
           },
           "zerolinecolor": "white",
           "zerolinewidth": 2
          },
          "yaxis": {
           "automargin": true,
           "gridcolor": "white",
           "linecolor": "white",
           "ticks": "",
           "title": {
            "standoff": 15
           },
           "zerolinecolor": "white",
           "zerolinewidth": 2
          }
         }
        },
        "title": {
         "text": "Empirical Distribution of the TVD"
        },
        "xaxis": {
         "anchor": "y",
         "domain": [
          0,
          1
         ],
         "title": {
          "text": "0"
         }
        },
        "yaxis": {
         "anchor": "x",
         "domain": [
          0,
          1
         ],
         "range": [
          0,
          0.15
         ],
         "title": {
          "text": "probability"
         }
        }
       }
      }
     },
     "metadata": {},
     "output_type": "display_data"
    }
   ],
   "source": [
    "#Simulation\n",
    "n_repetitions = 1000\n",
    "shuffled = df3.copy()\n",
    "tvds = []\n",
    "for _ in range(n_repetitions):\n",
    "    shuffled['side'] = np.random.permutation(shuffled['side'])\n",
    "    # Computing and storing the TVD.\n",
    "    pivoted = (\n",
    "        shuffled\n",
    "        .pivot_table(index='side', columns='assist_missing', aggfunc='size')\n",
    "    )\n",
    "    pivoted = pivoted / pivoted.sum()\n",
    "    tvd = pivoted.diff(axis=1).iloc[:, -1].abs().sum() / 2\n",
    "    tvds.append(tvd)\n",
    "#Observed_tvd\n",
    "observed_tvd = patch_dist.diff(axis=1).iloc[:, -1].abs().sum() / 2\n",
    "#Graph\n",
    "fig = px.histogram(pd.DataFrame(tvds), x=0, nbins=50, histnorm='probability', \n",
    "                   title='Empirical Distribution of the TVD')\n",
    "fig.add_vline(x=observed_tvd, line_color='red')\n",
    "fig.add_annotation(text=f'<span style=\"color:red\">Observed TVD = {round(observed_tvd, 2)}</span>',\n",
    "                   x=0.003 + observed_tvd, showarrow=False, y=0.14)\n",
    "fig.update_layout(yaxis_range=[0, 0.15])"
   ]
  },
  {
   "cell_type": "code",
   "execution_count": 147,
   "metadata": {},
   "outputs": [
    {
     "data": {
      "text/plain": [
       "1.0"
      ]
     },
     "execution_count": 147,
     "metadata": {},
     "output_type": "execute_result"
    }
   ],
   "source": [
    "(np.array(tvds) >= observed_tvd).mean()"
   ]
  },
  {
   "cell_type": "markdown",
   "metadata": {},
   "source": [
    "The observed statistic was: 0\n",
    "\n",
    "The p-value was: 1.0\n",
    "\n",
    "The empirical distribution of the test statistic is the graph showed above.\n",
    "\n",
    "Since the p-value was close to 1, the missingness of 'firstkillassist' not depends on 'league' which is MCAR."
   ]
  },
  {
   "cell_type": "markdown",
   "metadata": {},
   "source": [
    "## Step 4: Hypothesis Testing"
   ]
  },
  {
   "cell_type": "markdown",
   "metadata": {},
   "source": [
    "In this part, I will use the columns 'position', 'result', and 'firstbloodkill' from the dataset.\n",
    "\n",
    "Null Hypothesis: The win rate of the jungle position gets the firstbloodkill is the same as the win rate of the jungle position not gets the firstbloodkill.\n",
    "\n",
    "Alternate Hypothesis: The win rate of the jungle position gets the firstbloodkill is different to the win rate of the jungle position not gets the firstbloodkill.\n",
    "\n",
    "Test Statistic: I choose the difference between the jungle position gets the firstbloodkill and won and the jungle position not gets the firstbloodkill and won which is Total Variation Distance (TVD).\n",
    "\n",
    "Significance Level: I choose 5% which is the most common significance level.\n"
   ]
  },
  {
   "cell_type": "code",
   "execution_count": 197,
   "metadata": {
    "ExecuteTime": {
     "end_time": "2019-10-31T23:36:28.666489Z",
     "start_time": "2019-10-31T23:36:28.664381Z"
    }
   },
   "outputs": [
    {
     "data": {
      "text/html": [
       "<div>\n",
       "<style scoped>\n",
       "    .dataframe tbody tr th:only-of-type {\n",
       "        vertical-align: middle;\n",
       "    }\n",
       "\n",
       "    .dataframe tbody tr th {\n",
       "        vertical-align: top;\n",
       "    }\n",
       "\n",
       "    .dataframe thead th {\n",
       "        text-align: right;\n",
       "    }\n",
       "</style>\n",
       "<table border=\"1\" class=\"dataframe\">\n",
       "  <thead>\n",
       "    <tr style=\"text-align: right;\">\n",
       "      <th></th>\n",
       "      <th>position</th>\n",
       "      <th>result</th>\n",
       "      <th>firstbloodkill</th>\n",
       "    </tr>\n",
       "  </thead>\n",
       "  <tbody>\n",
       "    <tr>\n",
       "      <th>1</th>\n",
       "      <td>jng</td>\n",
       "      <td>0</td>\n",
       "      <td>False</td>\n",
       "    </tr>\n",
       "    <tr>\n",
       "      <th>6</th>\n",
       "      <td>jng</td>\n",
       "      <td>1</td>\n",
       "      <td>False</td>\n",
       "    </tr>\n",
       "    <tr>\n",
       "      <th>13</th>\n",
       "      <td>jng</td>\n",
       "      <td>0</td>\n",
       "      <td>False</td>\n",
       "    </tr>\n",
       "    <tr>\n",
       "      <th>18</th>\n",
       "      <td>jng</td>\n",
       "      <td>1</td>\n",
       "      <td>False</td>\n",
       "    </tr>\n",
       "    <tr>\n",
       "      <th>25</th>\n",
       "      <td>jng</td>\n",
       "      <td>1</td>\n",
       "      <td>True</td>\n",
       "    </tr>\n",
       "    <tr>\n",
       "      <th>...</th>\n",
       "      <td>...</td>\n",
       "      <td>...</td>\n",
       "      <td>...</td>\n",
       "    </tr>\n",
       "    <tr>\n",
       "      <th>27270</th>\n",
       "      <td>jng</td>\n",
       "      <td>1</td>\n",
       "      <td>False</td>\n",
       "    </tr>\n",
       "    <tr>\n",
       "      <th>27277</th>\n",
       "      <td>jng</td>\n",
       "      <td>0</td>\n",
       "      <td>False</td>\n",
       "    </tr>\n",
       "    <tr>\n",
       "      <th>27282</th>\n",
       "      <td>jng</td>\n",
       "      <td>1</td>\n",
       "      <td>True</td>\n",
       "    </tr>\n",
       "    <tr>\n",
       "      <th>27289</th>\n",
       "      <td>jng</td>\n",
       "      <td>1</td>\n",
       "      <td>False</td>\n",
       "    </tr>\n",
       "    <tr>\n",
       "      <th>27294</th>\n",
       "      <td>jng</td>\n",
       "      <td>0</td>\n",
       "      <td>False</td>\n",
       "    </tr>\n",
       "  </tbody>\n",
       "</table>\n",
       "<p>4550 rows × 3 columns</p>\n",
       "</div>"
      ],
      "text/plain": [
       "      position  result  firstbloodkill\n",
       "1          jng       0           False\n",
       "6          jng       1           False\n",
       "13         jng       0           False\n",
       "18         jng       1           False\n",
       "25         jng       1            True\n",
       "...        ...     ...             ...\n",
       "27270      jng       1           False\n",
       "27277      jng       0           False\n",
       "27282      jng       1            True\n",
       "27289      jng       1           False\n",
       "27294      jng       0           False\n",
       "\n",
       "[4550 rows x 3 columns]"
      ]
     },
     "execution_count": 197,
     "metadata": {},
     "output_type": "execute_result"
    }
   ],
   "source": [
    "df4 = pd.read_csv('2024_LoL_esports_match_data_from_OraclesElixir.csv')\n",
    "df4 = df4[['position', 'result', 'firstbloodkill']]\n",
    "df4 = df4[(df4['position'] == 'jng')]\n",
    "df4['firstbloodkill'] = df4['firstbloodkill'].apply(lambda x : bool(x))\n",
    "df4"
   ]
  },
  {
   "cell_type": "code",
   "execution_count": 285,
   "metadata": {},
   "outputs": [
    {
     "data": {
      "text/plain": [
       "0.3324538258575198"
      ]
     },
     "execution_count": 285,
     "metadata": {},
     "output_type": "execute_result"
    }
   ],
   "source": [
    "win_dist = df4.copy()\n",
    "win_dist = win_dist.groupby('firstbloodkill').sum()['result']\n",
    "win_dist = win_dist / win_dist.sum()\n",
    "observed = win_dist.diff().abs().sum() / 2\n",
    "observed"
   ]
  },
  {
   "cell_type": "code",
   "execution_count": 289,
   "metadata": {},
   "outputs": [
    {
     "data": {
      "application/vnd.plotly.v1+json": {
       "config": {
        "plotlyServerURL": "https://plot.ly"
       },
       "data": [
        {
         "alignmentgroup": "True",
         "bingroup": "x",
         "histnorm": "probability",
         "hovertemplate": "0=%{x}<br>probability=%{y}<extra></extra>",
         "legendgroup": "",
         "marker": {
          "color": "#636efa",
          "pattern": {
           "shape": ""
          }
         },
         "name": "",
         "nbinsx": 50,
         "offsetgroup": "",
         "orientation": "v",
         "showlegend": false,
         "type": "histogram",
         "x": [
          0.36587510993843453,
          0.35971855760773963,
          0.35224274406332456,
          0.3636763412489006,
          0.36807387862796836,
          0.3641160949868074,
          0.3619173262972736,
          0.362796833773087,
          0.35839929639401935,
          0.36103781882146,
          0.36939313984168864,
          0.37379067722075643,
          0.35664028144239224,
          0.3641160949868074,
          0.3698328935795955,
          0.3531222515391381,
          0.3548812664907651,
          0.3605980650835532,
          0.36587510993843453,
          0.36103781882146,
          0.34916446789797717,
          0.35356200527704484,
          0.36499560246262097,
          0.3636763412489006,
          0.36455584872471414,
          0.36763412489006153,
          0.3623570800351803,
          0.3509234828496042,
          0.3482849604221636,
          0.3592788038698329,
          0.35532102022867196,
          0.36455584872471414,
          0.36323658751099386,
          0.366754617414248,
          0.3623570800351803,
          0.36499560246262097,
          0.36015831134564646,
          0.34916446789797717,
          0.3531222515391381,
          0.35004397537379073,
          0.3548812664907651,
          0.3641160949868074,
          0.3592788038698329,
          0.3531222515391381,
          0.3509234828496042,
          0.351363236587511,
          0.3575197889182058,
          0.35795954265611263,
          0.3605980650835532,
          0.36015831134564646,
          0.35795954265611263,
          0.36015831134564646,
          0.3562005277044855,
          0.36103781882146,
          0.35664028144239224,
          0.3509234828496042,
          0.3509234828496042,
          0.3575197889182058,
          0.3641160949868074,
          0.35708003518029907,
          0.362796833773087,
          0.351363236587511,
          0.35356200527704484,
          0.36763412489006153,
          0.35180299032541773,
          0.3619173262972736,
          0.3641160949868074,
          0.35971855760773963,
          0.3619173262972736,
          0.3544415127528584,
          0.3588390501319261,
          0.3548812664907651,
          0.35048372911169745,
          0.35839929639401935,
          0.3531222515391381,
          0.36455584872471414,
          0.35048372911169745,
          0.36103781882146,
          0.3588390501319261,
          0.36455584872471414,
          0.3540017590149517,
          0.3623570800351803,
          0.3654353562005277,
          0.3592788038698329,
          0.3654353562005277,
          0.36103781882146,
          0.36015831134564646,
          0.3557607739665787,
          0.3548812664907651,
          0.3641160949868074,
          0.3540017590149517,
          0.36103781882146,
          0.35708003518029907,
          0.35971855760773963,
          0.35048372911169745,
          0.3592788038698329,
          0.35971855760773963,
          0.362796833773087,
          0.35708003518029907,
          0.35180299032541773,
          0.3588390501319261,
          0.3548812664907651,
          0.3575197889182058,
          0.35708003518029907,
          0.36015831134564646,
          0.3592788038698329,
          0.35048372911169745,
          0.35356200527704484,
          0.3557607739665787,
          0.35839929639401935,
          0.36323658751099386,
          0.3482849604221636,
          0.3562005277044855,
          0.34916446789797717,
          0.3557607739665787,
          0.3548812664907651,
          0.3540017590149517,
          0.3641160949868074,
          0.35971855760773963,
          0.3592788038698329,
          0.3557607739665787,
          0.3592788038698329,
          0.35971855760773963,
          0.3707124010554089,
          0.3671943711521548,
          0.3482849604221636,
          0.36763412489006153,
          0.3605980650835532,
          0.36147757255936674,
          0.36103781882146,
          0.3548812664907651,
          0.3526824978012313,
          0.3540017590149517,
          0.35708003518029907,
          0.3619173262972736,
          0.3636763412489006,
          0.36147757255936674,
          0.3540017590149517,
          0.35971855760773963,
          0.3588390501319261,
          0.3478452066842568,
          0.35664028144239224,
          0.3562005277044855,
          0.35708003518029907,
          0.3654353562005277,
          0.366754617414248,
          0.3641160949868074,
          0.35708003518029907,
          0.36763412489006153,
          0.3575197889182058,
          0.36147757255936674,
          0.36587510993843453,
          0.3575197889182058,
          0.36455584872471414,
          0.35795954265611263,
          0.3715919085312225,
          0.3592788038698329,
          0.35224274406332456,
          0.35708003518029907,
          0.3540017590149517,
          0.35356200527704484,
          0.362796833773087,
          0.36499560246262097,
          0.36015831134564646,
          0.3557607739665787,
          0.36323658751099386,
          0.35532102022867196,
          0.3540017590149517,
          0.3588390501319261,
          0.3531222515391381,
          0.35180299032541773,
          0.35839929639401935,
          0.3588390501319261,
          0.35532102022867196,
          0.3588390501319261,
          0.35795954265611263,
          0.35180299032541773,
          0.3548812664907651,
          0.3548812664907651,
          0.36587510993843453,
          0.3641160949868074,
          0.3548812664907651,
          0.3575197889182058,
          0.3605980650835532,
          0.36499560246262097,
          0.3623570800351803,
          0.35224274406332456,
          0.36103781882146,
          0.3557607739665787,
          0.3531222515391381,
          0.3588390501319261,
          0.36147757255936674,
          0.36631486367634125,
          0.3619173262972736,
          0.3575197889182058,
          0.3654353562005277,
          0.35356200527704484,
          0.3715919085312225,
          0.3636763412489006,
          0.35795954265611263,
          0.35795954265611263,
          0.35532102022867196,
          0.35180299032541773,
          0.3548812664907651,
          0.3544415127528584,
          0.36323658751099386,
          0.35048372911169745,
          0.3654353562005277,
          0.35708003518029907,
          0.3619173262972736,
          0.36323658751099386,
          0.3623570800351803,
          0.3540017590149517,
          0.362796833773087,
          0.35839929639401935,
          0.35532102022867196,
          0.3540017590149517,
          0.36147757255936674,
          0.36631486367634125,
          0.3557607739665787,
          0.3544415127528584,
          0.3619173262972736,
          0.3654353562005277,
          0.36015831134564646,
          0.3562005277044855,
          0.3605980650835532,
          0.35532102022867196,
          0.3562005277044855,
          0.3588390501319261,
          0.36939313984168864,
          0.3623570800351803,
          0.36103781882146,
          0.36499560246262097,
          0.36587510993843453,
          0.35971855760773963,
          0.35971855760773963,
          0.35532102022867196,
          0.3526824978012313,
          0.35356200527704484,
          0.3531222515391381,
          0.3548812664907651,
          0.36455584872471414,
          0.3575197889182058,
          0.36147757255936674,
          0.36103781882146,
          0.35971855760773963,
          0.362796833773087,
          0.36015831134564646,
          0.36103781882146,
          0.3575197889182058,
          0.36015831134564646,
          0.35664028144239224,
          0.362796833773087,
          0.3623570800351803,
          0.3636763412489006,
          0.3575197889182058,
          0.3636763412489006,
          0.3636763412489006,
          0.3588390501319261,
          0.3540017590149517,
          0.36499560246262097,
          0.35224274406332456,
          0.35048372911169745,
          0.35048372911169745,
          0.35224274406332456,
          0.36103781882146,
          0.362796833773087,
          0.35356200527704484,
          0.3548812664907651,
          0.3588390501319261,
          0.35180299032541773,
          0.36807387862796836,
          0.3562005277044855,
          0.35839929639401935,
          0.3592788038698329,
          0.3531222515391381,
          0.3605980650835532,
          0.35180299032541773,
          0.3526824978012313,
          0.35971855760773963,
          0.35664028144239224,
          0.3641160949868074,
          0.36015831134564646,
          0.35664028144239224,
          0.3540017590149517,
          0.3592788038698329,
          0.3588390501319261,
          0.3685136323658751,
          0.36103781882146,
          0.36015831134564646,
          0.3654353562005277,
          0.36015831134564646,
          0.35356200527704484,
          0.3575197889182058,
          0.35048372911169745,
          0.35356200527704484,
          0.35708003518029907,
          0.3636763412489006,
          0.3509234828496042,
          0.3588390501319261,
          0.36323658751099386,
          0.3562005277044855,
          0.36103781882146,
          0.3720316622691293,
          0.35356200527704484,
          0.36939313984168864,
          0.36103781882146,
          0.3592788038698329,
          0.36631486367634125,
          0.35795954265611263,
          0.3540017590149517,
          0.362796833773087,
          0.35839929639401935,
          0.35795954265611263,
          0.3654353562005277,
          0.36499560246262097,
          0.35795954265611263,
          0.3562005277044855,
          0.3557607739665787,
          0.36103781882146,
          0.3575197889182058,
          0.3540017590149517,
          0.36015831134564646,
          0.35048372911169745,
          0.36015831134564646,
          0.3592788038698329,
          0.35971855760773963,
          0.36499560246262097,
          0.34872471416007034,
          0.351363236587511,
          0.3689533861037819,
          0.3575197889182058,
          0.3548812664907651,
          0.3707124010554089,
          0.34740545294635006,
          0.36103781882146,
          0.3619173262972736,
          0.3540017590149517,
          0.3575197889182058,
          0.3636763412489006,
          0.3588390501319261,
          0.3654353562005277,
          0.3588390501319261,
          0.3641160949868074,
          0.3654353562005277,
          0.3592788038698329,
          0.3605980650835532,
          0.3619173262972736,
          0.362796833773087,
          0.35532102022867196,
          0.36499560246262097,
          0.36323658751099386,
          0.3623570800351803,
          0.3496042216358839,
          0.36103781882146,
          0.35708003518029907,
          0.37423043095866315,
          0.35971855760773963,
          0.36103781882146,
          0.3540017590149517,
          0.35971855760773963,
          0.3641160949868074,
          0.3562005277044855,
          0.3671943711521548,
          0.3623570800351803,
          0.3548812664907651,
          0.3588390501319261,
          0.35795954265611263,
          0.36763412489006153,
          0.3689533861037819,
          0.35795954265611263,
          0.3641160949868074,
          0.3544415127528584,
          0.36499560246262097,
          0.3592788038698329,
          0.35971855760773963,
          0.36015831134564646,
          0.36015831134564646,
          0.3605980650835532,
          0.36499560246262097,
          0.3588390501319261,
          0.3575197889182058,
          0.3588390501319261,
          0.36147757255936674,
          0.3544415127528584,
          0.35048372911169745,
          0.3641160949868074,
          0.35048372911169745,
          0.362796833773087,
          0.3654353562005277,
          0.35708003518029907,
          0.35708003518029907,
          0.36103781882146,
          0.3623570800351803,
          0.3575197889182058,
          0.36455584872471414,
          0.36323658751099386,
          0.3575197889182058,
          0.3623570800351803,
          0.35664028144239224,
          0.35180299032541773,
          0.36455584872471414,
          0.362796833773087,
          0.3557607739665787,
          0.36103781882146,
          0.36015831134564646,
          0.36455584872471414,
          0.3623570800351803,
          0.35708003518029907,
          0.36631486367634125,
          0.35971855760773963,
          0.37291116974494287,
          0.362796833773087,
          0.35224274406332456,
          0.34916446789797717,
          0.35971855760773963,
          0.34740545294635006,
          0.3540017590149517,
          0.3544415127528584,
          0.3531222515391381,
          0.3588390501319261,
          0.3557607739665787,
          0.3588390501319261,
          0.36015831134564646,
          0.35356200527704484,
          0.3654353562005277,
          0.3619173262972736,
          0.34740545294635006,
          0.35795954265611263,
          0.35004397537379073,
          0.366754617414248,
          0.36587510993843453,
          0.3548812664907651,
          0.35180299032541773,
          0.3575197889182058,
          0.366754617414248,
          0.3562005277044855,
          0.3557607739665787,
          0.35180299032541773,
          0.3685136323658751,
          0.3575197889182058,
          0.36147757255936674,
          0.3575197889182058,
          0.3544415127528584,
          0.35532102022867196,
          0.3623570800351803,
          0.3641160949868074,
          0.3605980650835532,
          0.36103781882146,
          0.3478452066842568,
          0.3619173262972736,
          0.35708003518029907,
          0.3562005277044855,
          0.3623570800351803,
          0.3685136323658751,
          0.3654353562005277,
          0.3531222515391381,
          0.35708003518029907,
          0.35795954265611263,
          0.35708003518029907,
          0.3619173262972736,
          0.3592788038698329,
          0.3685136323658751,
          0.36147757255936674,
          0.3623570800351803,
          0.36455584872471414,
          0.3562005277044855,
          0.3588390501319261,
          0.3592788038698329,
          0.35839929639401935,
          0.3623570800351803,
          0.3619173262972736,
          0.36807387862796836,
          0.36455584872471414,
          0.35356200527704484,
          0.3592788038698329,
          0.3544415127528584,
          0.3557607739665787,
          0.35795954265611263,
          0.35224274406332456,
          0.36587510993843453,
          0.3575197889182058,
          0.3562005277044855,
          0.35532102022867196,
          0.35795954265611263,
          0.35971855760773963,
          0.36103781882146,
          0.3531222515391381,
          0.3540017590149517,
          0.36763412489006153,
          0.3671943711521548,
          0.3562005277044855,
          0.35708003518029907,
          0.35971855760773963,
          0.3623570800351803,
          0.3641160949868074,
          0.34916446789797717,
          0.35795954265611263,
          0.35708003518029907,
          0.35839929639401935,
          0.3636763412489006,
          0.35971855760773963,
          0.3605980650835532,
          0.35048372911169745,
          0.36015831134564646,
          0.36147757255936674,
          0.3526824978012313,
          0.36499560246262097,
          0.362796833773087,
          0.3575197889182058,
          0.35224274406332456,
          0.35839929639401935,
          0.351363236587511,
          0.35795954265611263,
          0.35839929639401935,
          0.36103781882146,
          0.3562005277044855,
          0.3562005277044855,
          0.35664028144239224,
          0.3592788038698329,
          0.36015831134564646,
          0.362796833773087,
          0.3619173262972736,
          0.3619173262972736,
          0.35839929639401935,
          0.36147757255936674,
          0.36763412489006153,
          0.3548812664907651,
          0.36455584872471414,
          0.362796833773087,
          0.3588390501319261,
          0.35795954265611263,
          0.3557607739665787,
          0.3623570800351803,
          0.3465259454705365,
          0.3544415127528584,
          0.3671943711521548,
          0.36015831134564646,
          0.36939313984168864,
          0.3544415127528584,
          0.351363236587511,
          0.3685136323658751,
          0.3605980650835532,
          0.3540017590149517,
          0.3588390501319261,
          0.3562005277044855,
          0.3588390501319261,
          0.3619173262972736,
          0.36323658751099386,
          0.36499560246262097,
          0.3562005277044855,
          0.36147757255936674,
          0.3689533861037819,
          0.36587510993843453,
          0.35839929639401935,
          0.3605980650835532,
          0.3544415127528584,
          0.366754617414248,
          0.3619173262972736,
          0.35708003518029907,
          0.36103781882146,
          0.3636763412489006,
          0.3557607739665787,
          0.3605980650835532,
          0.3619173262972736,
          0.36763412489006153,
          0.35795954265611263,
          0.3526824978012313,
          0.34872471416007034,
          0.36455584872471414,
          0.35708003518029907,
          0.3654353562005277,
          0.35356200527704484,
          0.3641160949868074,
          0.3641160949868074,
          0.36455584872471414,
          0.3557607739665787,
          0.3588390501319261,
          0.36587510993843453,
          0.36015831134564646,
          0.3588390501319261,
          0.35971855760773963,
          0.3654353562005277,
          0.3592788038698329,
          0.351363236587511,
          0.3496042216358839,
          0.36147757255936674,
          0.35971855760773963,
          0.35971855760773963,
          0.3531222515391381,
          0.36103781882146,
          0.3619173262972736,
          0.36587510993843453,
          0.35532102022867196,
          0.37423043095866315,
          0.3526824978012313,
          0.3588390501319261,
          0.35048372911169745,
          0.3526824978012313,
          0.3685136323658751,
          0.3548812664907651,
          0.35839929639401935,
          0.3557607739665787,
          0.3636763412489006,
          0.36323658751099386,
          0.351363236587511,
          0.36147757255936674,
          0.3636763412489006,
          0.366754617414248,
          0.3540017590149517,
          0.37247141600703604,
          0.35795954265611263,
          0.3540017590149517,
          0.36631486367634125,
          0.3575197889182058,
          0.35971855760773963,
          0.3605980650835532,
          0.36323658751099386,
          0.36015831134564646,
          0.366754617414248,
          0.36631486367634125,
          0.35180299032541773,
          0.35224274406332456,
          0.3465259454705365,
          0.36499560246262097,
          0.35664028144239224,
          0.36763412489006153,
          0.35795954265611263,
          0.36103781882146,
          0.3588390501319261,
          0.35532102022867196,
          0.3557607739665787,
          0.3636763412489006,
          0.34916446789797717,
          0.35708003518029907,
          0.35664028144239224,
          0.3548812664907651,
          0.36323658751099386,
          0.36103781882146,
          0.36103781882146,
          0.36499560246262097,
          0.35224274406332456,
          0.366754617414248,
          0.3619173262972736,
          0.35971855760773963,
          0.35839929639401935,
          0.3588390501319261,
          0.35708003518029907,
          0.3592788038698329,
          0.35795954265611263,
          0.3641160949868074,
          0.3605980650835532,
          0.35004397537379073,
          0.35839929639401935,
          0.35224274406332456,
          0.35839929639401935,
          0.36015831134564646,
          0.35532102022867196,
          0.3623570800351803,
          0.3636763412489006,
          0.3592788038698329,
          0.3588390501319261,
          0.3605980650835532,
          0.35664028144239224,
          0.36939313984168864,
          0.362796833773087,
          0.3654353562005277,
          0.3592788038698329,
          0.3588390501319261,
          0.3654353562005277,
          0.3654353562005277,
          0.36015831134564646,
          0.36763412489006153,
          0.36015831134564646,
          0.34740545294635006,
          0.36103781882146,
          0.3636763412489006,
          0.3671943711521548,
          0.3575197889182058,
          0.35795954265611263,
          0.36631486367634125,
          0.35532102022867196,
          0.35971855760773963,
          0.3702726473175022,
          0.3496042216358839,
          0.3623570800351803,
          0.3588390501319261,
          0.35532102022867196,
          0.3496042216358839,
          0.35795954265611263,
          0.35971855760773963,
          0.3592788038698329,
          0.3588390501319261,
          0.3496042216358839,
          0.3636763412489006,
          0.3588390501319261,
          0.35839929639401935,
          0.3746701846965699,
          0.3654353562005277,
          0.3636763412489006,
          0.36015831134564646,
          0.36631486367634125,
          0.35971855760773963,
          0.362796833773087,
          0.35795954265611263,
          0.36147757255936674,
          0.3592788038698329,
          0.3540017590149517,
          0.35839929639401935,
          0.3592788038698329,
          0.35532102022867196,
          0.3496042216358839,
          0.36015831134564646,
          0.3641160949868074,
          0.3636763412489006,
          0.3671943711521548,
          0.36323658751099386,
          0.36103781882146,
          0.3531222515391381,
          0.35224274406332456,
          0.35795954265611263,
          0.36103781882146,
          0.3592788038698329,
          0.3531222515391381,
          0.36103781882146,
          0.3685136323658751,
          0.35708003518029907,
          0.3509234828496042,
          0.3557607739665787,
          0.36499560246262097,
          0.3421284080914688,
          0.362796833773087,
          0.35795954265611263,
          0.35356200527704484,
          0.3619173262972736,
          0.36455584872471414,
          0.3544415127528584,
          0.362796833773087,
          0.35971855760773963,
          0.35708003518029907,
          0.3641160949868074,
          0.36631486367634125,
          0.36455584872471414,
          0.3619173262972736,
          0.35795954265611263,
          0.351363236587511,
          0.3592788038698329,
          0.3592788038698329,
          0.3592788038698329,
          0.3548812664907651,
          0.35795954265611263,
          0.36323658751099386,
          0.3619173262972736,
          0.362796833773087,
          0.3540017590149517,
          0.34740545294635006,
          0.35971855760773963,
          0.3619173262972736,
          0.3575197889182058,
          0.3557607739665787,
          0.3619173262972736,
          0.36147757255936674,
          0.3509234828496042,
          0.3526824978012313,
          0.3588390501319261,
          0.36631486367634125,
          0.36587510993843453,
          0.36939313984168864,
          0.35971855760773963,
          0.36499560246262097,
          0.36147757255936674,
          0.36455584872471414,
          0.35356200527704484,
          0.35708003518029907,
          0.35048372911169745,
          0.3623570800351803,
          0.3671943711521548,
          0.3623570800351803,
          0.35664028144239224,
          0.3478452066842568,
          0.35180299032541773,
          0.36103781882146,
          0.37423043095866315,
          0.36015831134564646,
          0.36323658751099386,
          0.3562005277044855,
          0.3540017590149517,
          0.3654353562005277,
          0.3557607739665787,
          0.3548812664907651,
          0.3548812664907651,
          0.3689533861037819,
          0.36147757255936674,
          0.36807387862796836,
          0.351363236587511,
          0.35708003518029907,
          0.362796833773087,
          0.3562005277044855,
          0.3605980650835532,
          0.3575197889182058,
          0.3548812664907651,
          0.35839929639401935,
          0.3641160949868074,
          0.362796833773087,
          0.36763412489006153,
          0.3557607739665787,
          0.3540017590149517,
          0.3509234828496042,
          0.36147757255936674,
          0.35356200527704484,
          0.3548812664907651,
          0.3623570800351803,
          0.35708003518029907,
          0.3557607739665787,
          0.3592788038698329,
          0.36587510993843453,
          0.3548812664907651,
          0.36499560246262097,
          0.3619173262972736,
          0.3548812664907651,
          0.3592788038698329,
          0.3619173262972736,
          0.35664028144239224,
          0.35708003518029907,
          0.3526824978012313,
          0.3654353562005277,
          0.3557607739665787,
          0.3531222515391381,
          0.3588390501319261,
          0.35971855760773963,
          0.3702726473175022,
          0.3588390501319261,
          0.3623570800351803,
          0.36499560246262097,
          0.36587510993843453,
          0.35532102022867196,
          0.3544415127528584,
          0.36323658751099386,
          0.35708003518029907,
          0.3588390501319261,
          0.35795954265611263,
          0.3557607739665787,
          0.35664028144239224,
          0.3509234828496042,
          0.3540017590149517,
          0.36147757255936674,
          0.35532102022867196,
          0.3654353562005277,
          0.3478452066842568,
          0.3636763412489006,
          0.3548812664907651,
          0.36103781882146,
          0.3469656992084432,
          0.36455584872471414,
          0.3636763412489006,
          0.3619173262972736,
          0.3544415127528584,
          0.3641160949868074,
          0.35971855760773963,
          0.35708003518029907,
          0.35180299032541773,
          0.36147757255936674,
          0.3575197889182058,
          0.35356200527704484,
          0.3575197889182058,
          0.3562005277044855,
          0.36103781882146,
          0.3575197889182058,
          0.3689533861037819,
          0.3605980650835532,
          0.362796833773087,
          0.3636763412489006,
          0.37247141600703604,
          0.3592788038698329,
          0.3592788038698329,
          0.35356200527704484,
          0.36807387862796836,
          0.35708003518029907,
          0.3605980650835532,
          0.35224274406332456,
          0.36587510993843453,
          0.3605980650835532,
          0.35004397537379073,
          0.351363236587511,
          0.35664028144239224,
          0.35708003518029907,
          0.36147757255936674,
          0.36015831134564646,
          0.3575197889182058,
          0.3562005277044855,
          0.3605980650835532,
          0.3641160949868074,
          0.3654353562005277,
          0.3548812664907651,
          0.36323658751099386,
          0.36499560246262097,
          0.362796833773087,
          0.36499560246262097,
          0.3605980650835532,
          0.36015831134564646,
          0.36455584872471414,
          0.3685136323658751,
          0.3619173262972736,
          0.3768689533861038,
          0.3531222515391381,
          0.3588390501319261,
          0.3605980650835532,
          0.35971855760773963,
          0.35971855760773963,
          0.36455584872471414,
          0.3623570800351803,
          0.36499560246262097,
          0.36455584872471414,
          0.3623570800351803,
          0.3671943711521548,
          0.3548812664907651,
          0.3698328935795955,
          0.36103781882146,
          0.3540017590149517,
          0.3575197889182058,
          0.35664028144239224,
          0.3575197889182058,
          0.3623570800351803,
          0.36015831134564646,
          0.3548812664907651,
          0.3592788038698329,
          0.36323658751099386,
          0.3671943711521548,
          0.351363236587511,
          0.35708003518029907,
          0.3605980650835532,
          0.3702726473175022,
          0.3605980650835532,
          0.3619173262972736,
          0.36015831134564646,
          0.35839929639401935,
          0.3623570800351803,
          0.35224274406332456,
          0.35971855760773963,
          0.3557607739665787,
          0.3588390501319261,
          0.3623570800351803,
          0.36939313984168864,
          0.36499560246262097,
          0.35971855760773963,
          0.3636763412489006,
          0.34872471416007034,
          0.3509234828496042,
          0.3540017590149517,
          0.35664028144239224,
          0.35532102022867196,
          0.3588390501319261,
          0.351363236587511,
          0.36499560246262097,
          0.35532102022867196,
          0.36455584872471414,
          0.35356200527704484,
          0.3605980650835532,
          0.36103781882146,
          0.3605980650835532,
          0.3698328935795955,
          0.3588390501319261,
          0.3636763412489006,
          0.36455584872471414,
          0.35795954265611263,
          0.3544415127528584,
          0.3531222515391381,
          0.3557607739665787,
          0.362796833773087,
          0.36631486367634125,
          0.3605980650835532,
          0.3592788038698329,
          0.3548812664907651,
          0.36587510993843453,
          0.35356200527704484,
          0.36147757255936674,
          0.35839929639401935,
          0.3605980650835532,
          0.3592788038698329,
          0.35839929639401935,
          0.36015831134564646,
          0.3509234828496042,
          0.35708003518029907,
          0.351363236587511,
          0.35664028144239224,
          0.3562005277044855,
          0.3605980650835532,
          0.3548812664907651,
          0.36323658751099386,
          0.36323658751099386,
          0.36631486367634125,
          0.36103781882146,
          0.37247141600703604,
          0.36499560246262097,
          0.3465259454705365,
          0.36103781882146,
          0.35839929639401935,
          0.3562005277044855,
          0.3496042216358839,
          0.36103781882146
         ],
         "xaxis": "x",
         "yaxis": "y"
        }
       ],
       "layout": {
        "annotations": [
         {
          "showarrow": false,
          "text": "<span style=\"color:red\">Observed TVD = 0.33</span>",
          "x": 0.3374538258575198,
          "y": 0.1
         }
        ],
        "barmode": "relative",
        "legend": {
         "tracegroupgap": 0
        },
        "shapes": [
         {
          "line": {
           "color": "red"
          },
          "type": "line",
          "x0": 0.3324538258575198,
          "x1": 0.3324538258575198,
          "xref": "x",
          "y0": 0,
          "y1": 1,
          "yref": "y domain"
         }
        ],
        "template": {
         "data": {
          "bar": [
           {
            "error_x": {
             "color": "#2a3f5f"
            },
            "error_y": {
             "color": "#2a3f5f"
            },
            "marker": {
             "line": {
              "color": "#E5ECF6",
              "width": 0.5
             },
             "pattern": {
              "fillmode": "overlay",
              "size": 10,
              "solidity": 0.2
             }
            },
            "type": "bar"
           }
          ],
          "barpolar": [
           {
            "marker": {
             "line": {
              "color": "#E5ECF6",
              "width": 0.5
             },
             "pattern": {
              "fillmode": "overlay",
              "size": 10,
              "solidity": 0.2
             }
            },
            "type": "barpolar"
           }
          ],
          "carpet": [
           {
            "aaxis": {
             "endlinecolor": "#2a3f5f",
             "gridcolor": "white",
             "linecolor": "white",
             "minorgridcolor": "white",
             "startlinecolor": "#2a3f5f"
            },
            "baxis": {
             "endlinecolor": "#2a3f5f",
             "gridcolor": "white",
             "linecolor": "white",
             "minorgridcolor": "white",
             "startlinecolor": "#2a3f5f"
            },
            "type": "carpet"
           }
          ],
          "choropleth": [
           {
            "colorbar": {
             "outlinewidth": 0,
             "ticks": ""
            },
            "type": "choropleth"
           }
          ],
          "contour": [
           {
            "colorbar": {
             "outlinewidth": 0,
             "ticks": ""
            },
            "colorscale": [
             [
              0,
              "#0d0887"
             ],
             [
              0.1111111111111111,
              "#46039f"
             ],
             [
              0.2222222222222222,
              "#7201a8"
             ],
             [
              0.3333333333333333,
              "#9c179e"
             ],
             [
              0.4444444444444444,
              "#bd3786"
             ],
             [
              0.5555555555555556,
              "#d8576b"
             ],
             [
              0.6666666666666666,
              "#ed7953"
             ],
             [
              0.7777777777777778,
              "#fb9f3a"
             ],
             [
              0.8888888888888888,
              "#fdca26"
             ],
             [
              1,
              "#f0f921"
             ]
            ],
            "type": "contour"
           }
          ],
          "contourcarpet": [
           {
            "colorbar": {
             "outlinewidth": 0,
             "ticks": ""
            },
            "type": "contourcarpet"
           }
          ],
          "heatmap": [
           {
            "colorbar": {
             "outlinewidth": 0,
             "ticks": ""
            },
            "colorscale": [
             [
              0,
              "#0d0887"
             ],
             [
              0.1111111111111111,
              "#46039f"
             ],
             [
              0.2222222222222222,
              "#7201a8"
             ],
             [
              0.3333333333333333,
              "#9c179e"
             ],
             [
              0.4444444444444444,
              "#bd3786"
             ],
             [
              0.5555555555555556,
              "#d8576b"
             ],
             [
              0.6666666666666666,
              "#ed7953"
             ],
             [
              0.7777777777777778,
              "#fb9f3a"
             ],
             [
              0.8888888888888888,
              "#fdca26"
             ],
             [
              1,
              "#f0f921"
             ]
            ],
            "type": "heatmap"
           }
          ],
          "heatmapgl": [
           {
            "colorbar": {
             "outlinewidth": 0,
             "ticks": ""
            },
            "colorscale": [
             [
              0,
              "#0d0887"
             ],
             [
              0.1111111111111111,
              "#46039f"
             ],
             [
              0.2222222222222222,
              "#7201a8"
             ],
             [
              0.3333333333333333,
              "#9c179e"
             ],
             [
              0.4444444444444444,
              "#bd3786"
             ],
             [
              0.5555555555555556,
              "#d8576b"
             ],
             [
              0.6666666666666666,
              "#ed7953"
             ],
             [
              0.7777777777777778,
              "#fb9f3a"
             ],
             [
              0.8888888888888888,
              "#fdca26"
             ],
             [
              1,
              "#f0f921"
             ]
            ],
            "type": "heatmapgl"
           }
          ],
          "histogram": [
           {
            "marker": {
             "pattern": {
              "fillmode": "overlay",
              "size": 10,
              "solidity": 0.2
             }
            },
            "type": "histogram"
           }
          ],
          "histogram2d": [
           {
            "colorbar": {
             "outlinewidth": 0,
             "ticks": ""
            },
            "colorscale": [
             [
              0,
              "#0d0887"
             ],
             [
              0.1111111111111111,
              "#46039f"
             ],
             [
              0.2222222222222222,
              "#7201a8"
             ],
             [
              0.3333333333333333,
              "#9c179e"
             ],
             [
              0.4444444444444444,
              "#bd3786"
             ],
             [
              0.5555555555555556,
              "#d8576b"
             ],
             [
              0.6666666666666666,
              "#ed7953"
             ],
             [
              0.7777777777777778,
              "#fb9f3a"
             ],
             [
              0.8888888888888888,
              "#fdca26"
             ],
             [
              1,
              "#f0f921"
             ]
            ],
            "type": "histogram2d"
           }
          ],
          "histogram2dcontour": [
           {
            "colorbar": {
             "outlinewidth": 0,
             "ticks": ""
            },
            "colorscale": [
             [
              0,
              "#0d0887"
             ],
             [
              0.1111111111111111,
              "#46039f"
             ],
             [
              0.2222222222222222,
              "#7201a8"
             ],
             [
              0.3333333333333333,
              "#9c179e"
             ],
             [
              0.4444444444444444,
              "#bd3786"
             ],
             [
              0.5555555555555556,
              "#d8576b"
             ],
             [
              0.6666666666666666,
              "#ed7953"
             ],
             [
              0.7777777777777778,
              "#fb9f3a"
             ],
             [
              0.8888888888888888,
              "#fdca26"
             ],
             [
              1,
              "#f0f921"
             ]
            ],
            "type": "histogram2dcontour"
           }
          ],
          "mesh3d": [
           {
            "colorbar": {
             "outlinewidth": 0,
             "ticks": ""
            },
            "type": "mesh3d"
           }
          ],
          "parcoords": [
           {
            "line": {
             "colorbar": {
              "outlinewidth": 0,
              "ticks": ""
             }
            },
            "type": "parcoords"
           }
          ],
          "pie": [
           {
            "automargin": true,
            "type": "pie"
           }
          ],
          "scatter": [
           {
            "fillpattern": {
             "fillmode": "overlay",
             "size": 10,
             "solidity": 0.2
            },
            "type": "scatter"
           }
          ],
          "scatter3d": [
           {
            "line": {
             "colorbar": {
              "outlinewidth": 0,
              "ticks": ""
             }
            },
            "marker": {
             "colorbar": {
              "outlinewidth": 0,
              "ticks": ""
             }
            },
            "type": "scatter3d"
           }
          ],
          "scattercarpet": [
           {
            "marker": {
             "colorbar": {
              "outlinewidth": 0,
              "ticks": ""
             }
            },
            "type": "scattercarpet"
           }
          ],
          "scattergeo": [
           {
            "marker": {
             "colorbar": {
              "outlinewidth": 0,
              "ticks": ""
             }
            },
            "type": "scattergeo"
           }
          ],
          "scattergl": [
           {
            "marker": {
             "colorbar": {
              "outlinewidth": 0,
              "ticks": ""
             }
            },
            "type": "scattergl"
           }
          ],
          "scattermapbox": [
           {
            "marker": {
             "colorbar": {
              "outlinewidth": 0,
              "ticks": ""
             }
            },
            "type": "scattermapbox"
           }
          ],
          "scatterpolar": [
           {
            "marker": {
             "colorbar": {
              "outlinewidth": 0,
              "ticks": ""
             }
            },
            "type": "scatterpolar"
           }
          ],
          "scatterpolargl": [
           {
            "marker": {
             "colorbar": {
              "outlinewidth": 0,
              "ticks": ""
             }
            },
            "type": "scatterpolargl"
           }
          ],
          "scatterternary": [
           {
            "marker": {
             "colorbar": {
              "outlinewidth": 0,
              "ticks": ""
             }
            },
            "type": "scatterternary"
           }
          ],
          "surface": [
           {
            "colorbar": {
             "outlinewidth": 0,
             "ticks": ""
            },
            "colorscale": [
             [
              0,
              "#0d0887"
             ],
             [
              0.1111111111111111,
              "#46039f"
             ],
             [
              0.2222222222222222,
              "#7201a8"
             ],
             [
              0.3333333333333333,
              "#9c179e"
             ],
             [
              0.4444444444444444,
              "#bd3786"
             ],
             [
              0.5555555555555556,
              "#d8576b"
             ],
             [
              0.6666666666666666,
              "#ed7953"
             ],
             [
              0.7777777777777778,
              "#fb9f3a"
             ],
             [
              0.8888888888888888,
              "#fdca26"
             ],
             [
              1,
              "#f0f921"
             ]
            ],
            "type": "surface"
           }
          ],
          "table": [
           {
            "cells": {
             "fill": {
              "color": "#EBF0F8"
             },
             "line": {
              "color": "white"
             }
            },
            "header": {
             "fill": {
              "color": "#C8D4E3"
             },
             "line": {
              "color": "white"
             }
            },
            "type": "table"
           }
          ]
         },
         "layout": {
          "annotationdefaults": {
           "arrowcolor": "#2a3f5f",
           "arrowhead": 0,
           "arrowwidth": 1
          },
          "autotypenumbers": "strict",
          "coloraxis": {
           "colorbar": {
            "outlinewidth": 0,
            "ticks": ""
           }
          },
          "colorscale": {
           "diverging": [
            [
             0,
             "#8e0152"
            ],
            [
             0.1,
             "#c51b7d"
            ],
            [
             0.2,
             "#de77ae"
            ],
            [
             0.3,
             "#f1b6da"
            ],
            [
             0.4,
             "#fde0ef"
            ],
            [
             0.5,
             "#f7f7f7"
            ],
            [
             0.6,
             "#e6f5d0"
            ],
            [
             0.7,
             "#b8e186"
            ],
            [
             0.8,
             "#7fbc41"
            ],
            [
             0.9,
             "#4d9221"
            ],
            [
             1,
             "#276419"
            ]
           ],
           "sequential": [
            [
             0,
             "#0d0887"
            ],
            [
             0.1111111111111111,
             "#46039f"
            ],
            [
             0.2222222222222222,
             "#7201a8"
            ],
            [
             0.3333333333333333,
             "#9c179e"
            ],
            [
             0.4444444444444444,
             "#bd3786"
            ],
            [
             0.5555555555555556,
             "#d8576b"
            ],
            [
             0.6666666666666666,
             "#ed7953"
            ],
            [
             0.7777777777777778,
             "#fb9f3a"
            ],
            [
             0.8888888888888888,
             "#fdca26"
            ],
            [
             1,
             "#f0f921"
            ]
           ],
           "sequentialminus": [
            [
             0,
             "#0d0887"
            ],
            [
             0.1111111111111111,
             "#46039f"
            ],
            [
             0.2222222222222222,
             "#7201a8"
            ],
            [
             0.3333333333333333,
             "#9c179e"
            ],
            [
             0.4444444444444444,
             "#bd3786"
            ],
            [
             0.5555555555555556,
             "#d8576b"
            ],
            [
             0.6666666666666666,
             "#ed7953"
            ],
            [
             0.7777777777777778,
             "#fb9f3a"
            ],
            [
             0.8888888888888888,
             "#fdca26"
            ],
            [
             1,
             "#f0f921"
            ]
           ]
          },
          "colorway": [
           "#636efa",
           "#EF553B",
           "#00cc96",
           "#ab63fa",
           "#FFA15A",
           "#19d3f3",
           "#FF6692",
           "#B6E880",
           "#FF97FF",
           "#FECB52"
          ],
          "font": {
           "color": "#2a3f5f"
          },
          "geo": {
           "bgcolor": "white",
           "lakecolor": "white",
           "landcolor": "#E5ECF6",
           "showlakes": true,
           "showland": true,
           "subunitcolor": "white"
          },
          "hoverlabel": {
           "align": "left"
          },
          "hovermode": "closest",
          "mapbox": {
           "style": "light"
          },
          "paper_bgcolor": "white",
          "plot_bgcolor": "#E5ECF6",
          "polar": {
           "angularaxis": {
            "gridcolor": "white",
            "linecolor": "white",
            "ticks": ""
           },
           "bgcolor": "#E5ECF6",
           "radialaxis": {
            "gridcolor": "white",
            "linecolor": "white",
            "ticks": ""
           }
          },
          "scene": {
           "xaxis": {
            "backgroundcolor": "#E5ECF6",
            "gridcolor": "white",
            "gridwidth": 2,
            "linecolor": "white",
            "showbackground": true,
            "ticks": "",
            "zerolinecolor": "white"
           },
           "yaxis": {
            "backgroundcolor": "#E5ECF6",
            "gridcolor": "white",
            "gridwidth": 2,
            "linecolor": "white",
            "showbackground": true,
            "ticks": "",
            "zerolinecolor": "white"
           },
           "zaxis": {
            "backgroundcolor": "#E5ECF6",
            "gridcolor": "white",
            "gridwidth": 2,
            "linecolor": "white",
            "showbackground": true,
            "ticks": "",
            "zerolinecolor": "white"
           }
          },
          "shapedefaults": {
           "line": {
            "color": "#2a3f5f"
           }
          },
          "ternary": {
           "aaxis": {
            "gridcolor": "white",
            "linecolor": "white",
            "ticks": ""
           },
           "baxis": {
            "gridcolor": "white",
            "linecolor": "white",
            "ticks": ""
           },
           "bgcolor": "#E5ECF6",
           "caxis": {
            "gridcolor": "white",
            "linecolor": "white",
            "ticks": ""
           }
          },
          "title": {
           "x": 0.05
          },
          "xaxis": {
           "automargin": true,
           "gridcolor": "white",
           "linecolor": "white",
           "ticks": "",
           "title": {
            "standoff": 15
           },
           "zerolinecolor": "white",
           "zerolinewidth": 2
          },
          "yaxis": {
           "automargin": true,
           "gridcolor": "white",
           "linecolor": "white",
           "ticks": "",
           "title": {
            "standoff": 15
           },
           "zerolinecolor": "white",
           "zerolinewidth": 2
          }
         }
        },
        "title": {
         "text": "Empirical Distribution of the Observed Statistic"
        },
        "xaxis": {
         "anchor": "y",
         "domain": [
          0,
          1
         ],
         "title": {
          "text": "0"
         }
        },
        "yaxis": {
         "anchor": "x",
         "domain": [
          0,
          1
         ],
         "range": [
          0,
          0.12
         ],
         "title": {
          "text": "probability"
         }
        }
       }
      }
     },
     "metadata": {},
     "output_type": "display_data"
    }
   ],
   "source": [
    "n_repetitions = 1000\n",
    "differences = []\n",
    "for _ in range(n_repetitions):\n",
    "    # Step 1: Shuffle the weights and store them in a DataFrame.\n",
    "    with_shuffled = df4.assign(Shuffled_result=np.random.permutation(df4['result']))\n",
    "    # Step 2: Compute the test statistic.\n",
    "    # Remember, False (0) comes before True (1),\n",
    "    # so this computes True - False.\n",
    "    dif = with_shuffled.groupby('firstbloodkill').sum()['Shuffled_result']\n",
    "    dif = dif / dif.sum()\n",
    "    difference = dif.diff().abs().sum() / 2\n",
    "    # Step 4: Store the result\n",
    "    differences.append(difference)\n",
    "\n",
    "fig = px.histogram(pd.DataFrame(differences), x=0, nbins=50, histnorm='probability', \n",
    "                   title='Empirical Distribution of the Observed Statistic')\n",
    "fig.add_vline(x=observed, line_color='red')\n",
    "fig.add_annotation(text=f'<span style=\"color:red\">Observed TVD = {round(observed, 2)}</span>',\n",
    "                   x= 0.005 + observed, showarrow=False, y=0.1)\n",
    "fig.update_layout(yaxis_range=[0, 0.12])\n"
   ]
  },
  {
   "cell_type": "code",
   "execution_count": 290,
   "metadata": {},
   "outputs": [
    {
     "data": {
      "text/plain": [
       "1.0"
      ]
     },
     "execution_count": 290,
     "metadata": {},
     "output_type": "execute_result"
    }
   ],
   "source": [
    "(np.array(differences) >= observed).mean()"
   ]
  },
  {
   "cell_type": "markdown",
   "metadata": {},
   "source": [
    "Because the p-value is 1, I fail to reject the null hypothesis that the win rate of the jungle position gets the firstbloodkill is the same as the win rate of the jungle position not gets the firstbloodkill. This answers my questiion because it shows that the relationship between jungle gets the first blood kill and the result of team wnning is not very clear. The jungle gets the first blood might not impact the game result at all. \n"
   ]
  },
  {
   "cell_type": "markdown",
   "metadata": {},
   "source": [
    "## Step 5: Framing a Prediction Problem"
   ]
  },
  {
   "cell_type": "markdown",
   "metadata": {},
   "source": [
    "Based on the Hypothesis test, we might conclude that the benefits for jungle taking the first blood kill will not increase the team win rate by a lot. Then it leads to another interesting question. If jungle will not increase the team win rate by taking first blood kill, is there such a position increase the team win rate by taking the first blood? In other words, which position gets the first blood kill, the team is most likely to win the game. \n",
    "\n",
    "Therefore, now let's try predict if a team will win or lose a game when different position gets the first blood kill. I will do a multiclass classification since there are 5 different types of position. I will choose predict output of 'result' which indicates the result of the game because most people care about winning while they are playing. I will use accuracy to evaluate my model because the idea of this model is to tell people when a type of position gets the first blood, their team are likely to win or not. If the accuracy is the least thing that I care about, it will be no difference of guessing the result than predicting the result by running the model. I use regession model first. "
   ]
  },
  {
   "cell_type": "code",
   "execution_count": 133,
   "metadata": {},
   "outputs": [],
   "source": [
    "from sklearn.linear_model import LinearRegression\n",
    "from sklearn.pipeline import Pipeline\n",
    "from sklearn.preprocessing import OneHotEncoder\n",
    "from sklearn.compose import ColumnTransformer\n",
    "from sklearn.preprocessing import StandardScaler\n",
    "from sklearn.model_selection import train_test_split\n",
    "from sklearn.preprocessing import PolynomialFeatures\n",
    "from sklearn.metrics import mean_squared_error\n",
    "from sklearn.tree import DecisionTreeClassifier\n",
    "from sklearn.tree import plot_tree"
   ]
  },
  {
   "cell_type": "code",
   "execution_count": 110,
   "metadata": {},
   "outputs": [],
   "source": [
    "df5 = pd.read_csv('2024_LoL_esports_match_data_from_OraclesElixir.csv')\n",
    "df5 = df5[['side', 'position', 'kills', 'firstbloodkill', 'result']]\n",
    "df5 = df5[df5['position'] != 'team']\n",
    "df5_X = df5[['side', 'position', 'kills', 'firstbloodkill']]\n",
    "X_train, X_test, y_train, y_test = train_test_split(df5_X, df5['result'], test_size=0.25, random_state=13)"
   ]
  },
  {
   "cell_type": "markdown",
   "metadata": {},
   "source": [
    "## Step 6: Baseline Model"
   ]
  },
  {
   "cell_type": "markdown",
   "metadata": {},
   "source": [
    "My base model has two predictors which are 'position' and 'firstbloodkill' columns. The 'position' is nominal since there are 5 positions and connot be compared. The 'firstbloodkill' is quantitative which indicates whether this position gets the first blood kill in the game. The output for my model is 'result' which is quantitative indicates the result of the game. \n",
    "\n",
    "In the beginning, I get the needed data from dataset, and then use train test split to get my train set and test set with which the test size is 25%. Because the 'position' is nonminal, I apply the ColumnTransformer to transform 'position' by using OneHotEncoder, and 'firstbloodkill' by using StandardScaler. Next, I just called a LinearRegression and fits the train set into my model. After fitting, I use score method to check the accuracy of my train and test set. This method calculate the value of R^2 of the model. I found out this model is not doing good because the R^2 is 0.0037852165311508257 for trian set, and 0.004114362110160696 for test set which is far from 1 which means the linear does not fit well. "
   ]
  },
  {
   "cell_type": "code",
   "execution_count": 108,
   "metadata": {
    "ExecuteTime": {
     "end_time": "2019-10-31T23:36:28.662099Z",
     "start_time": "2019-10-31T23:36:28.660016Z"
    }
   },
   "outputs": [
    {
     "data": {
      "text/plain": [
       "(0.003785512662262125, 0.004105817212896934)"
      ]
     },
     "execution_count": 108,
     "metadata": {},
     "output_type": "execute_result"
    }
   ],
   "source": [
    "preproc = ColumnTransformer(\n",
    "    transformers=[\n",
    "        ('categorical_cols', OneHotEncoder(), ['position']),\n",
    "        ('StandardScaler', StandardScaler(), ['firstbloodkill'])\n",
    "    ],\n",
    "    remainder='drop' # Specify what to do with all other columns ('total_bill' here) – drop or passthrough.\n",
    ")\n",
    "base_model = Pipeline([\n",
    "    ('preproc', preproc),\n",
    "    ('lin_reg', LinearRegression()),\n",
    "    ])\n",
    "base_model.fit(X_train, y_train)\n",
    "base_model.score(X_train, y_train), base_model.score(X_test, y_test)"
   ]
  },
  {
   "cell_type": "markdown",
   "metadata": {},
   "source": [
    "## Step 7: Final Model"
   ]
  },
  {
   "cell_type": "markdown",
   "metadata": {},
   "source": [
    "In order to improve my model. I start by adding more features. I add 'side' and 'kills' columns. The 'side' is nominal which indicates the game side of position which is either red or blue. I think this factor will help my model because the game map in League of Legends is not symmetry. The side red starts at top right, but the side blue starts at bottom left. Therefore, there are some place can be reached easily by one side than another which makes the benefit side more likely to get a kill. The 'kills' is quantitative which indicates the the total kills of that position got in the game. I think this factor matters because after a position gets the first blood, it will have more power which makes them most likely to get the kills again. In the game, more kills means more money means more items means more damage means more likely to win. \n",
    "\n",
    "Similiar to my base model, I do the same for 'position' and 'firstbloodkill', but I also OneHotEncoder 'side', and also StanardScaler 'kills'. After all ColumnTransforms, I fits a linear reggression into my data, and then check the accuracy. This time, the R^2 is 0.15981344297856914 for the train set, and 0.15531338549828344 for the test set. The accuracy is much better than my base model which increse about 15.5%. However, in general, the model is still not doing well. \n"
   ]
  },
  {
   "cell_type": "code",
   "execution_count": 112,
   "metadata": {
    "ExecuteTime": {
     "end_time": "2019-10-31T23:36:28.662099Z",
     "start_time": "2019-10-31T23:36:28.660016Z"
    }
   },
   "outputs": [
    {
     "data": {
      "text/plain": [
       "(0.15981344297856914, 0.15531338549828344)"
      ]
     },
     "execution_count": 112,
     "metadata": {},
     "output_type": "execute_result"
    }
   ],
   "source": [
    "preproc = ColumnTransformer(\n",
    "    transformers=[\n",
    "        ('categorical_cols', OneHotEncoder(), ['side', 'position']),\n",
    "        ('StandardScaler', StandardScaler(), ['kills', 'firstbloodkill'])\n",
    "    ],\n",
    "    remainder='passthrough' # Specify what to do with all other columns ('total_bill' here) – drop or passthrough.\n",
    ")\n",
    "improved_model = Pipeline([\n",
    "    ('preproc', preproc),\n",
    "    ('lin_reg', LinearRegression()),\n",
    "    ])\n",
    "improved_model.fit(X_train, y_train)\n",
    "improved_model.score(X_train, y_train), improved_model.score(X_test, y_test)"
   ]
  },
  {
   "cell_type": "markdown",
   "metadata": {},
   "source": [
    "Therefore, I start using hyperparameters to determine if it will improve my model. I create 2 empty list which are going to help me to find the hyperparameter that leads to the best test set performance. I run a for loop which range from 1 to 6 as my polynomial degree. \n",
    "\n",
    "After the for loop, I find out that when the degree is 2 the test error is the lowest, so I choose degree of 2 and use it to fit my train set again. This time, I get R^2 of 0.17695699054777625 for the train set, and 0.15531338549828344 for the test set. This model only improve the train set by about 2% and not improve test set at all. "
   ]
  },
  {
   "cell_type": "code",
   "execution_count": 113,
   "metadata": {},
   "outputs": [
    {
     "data": {
      "text/html": [
       "<div>\n",
       "<style scoped>\n",
       "    .dataframe tbody tr th:only-of-type {\n",
       "        vertical-align: middle;\n",
       "    }\n",
       "\n",
       "    .dataframe tbody tr th {\n",
       "        vertical-align: top;\n",
       "    }\n",
       "\n",
       "    .dataframe thead th {\n",
       "        text-align: right;\n",
       "    }\n",
       "</style>\n",
       "<table border=\"1\" class=\"dataframe\">\n",
       "  <thead>\n",
       "    <tr style=\"text-align: right;\">\n",
       "      <th></th>\n",
       "      <th>Train Error</th>\n",
       "      <th>Test Error</th>\n",
       "    </tr>\n",
       "  </thead>\n",
       "  <tbody>\n",
       "    <tr>\n",
       "      <th>0</th>\n",
       "      <td>0.458283</td>\n",
       "      <td>0.459618</td>\n",
       "    </tr>\n",
       "    <tr>\n",
       "      <th>1</th>\n",
       "      <td>0.453608</td>\n",
       "      <td>0.455157</td>\n",
       "    </tr>\n",
       "    <tr>\n",
       "      <th>2</th>\n",
       "      <td>0.453243</td>\n",
       "      <td>0.455047</td>\n",
       "    </tr>\n",
       "    <tr>\n",
       "      <th>3</th>\n",
       "      <td>0.453103</td>\n",
       "      <td>0.455270</td>\n",
       "    </tr>\n",
       "    <tr>\n",
       "      <th>4</th>\n",
       "      <td>0.453344</td>\n",
       "      <td>0.458724</td>\n",
       "    </tr>\n",
       "    <tr>\n",
       "      <th>5</th>\n",
       "      <td>0.452370</td>\n",
       "      <td>0.465876</td>\n",
       "    </tr>\n",
       "  </tbody>\n",
       "</table>\n",
       "</div>"
      ],
      "text/plain": [
       "   Train Error  Test Error\n",
       "0     0.458283    0.459618\n",
       "1     0.453608    0.455157\n",
       "2     0.453243    0.455047\n",
       "3     0.453103    0.455270\n",
       "4     0.453344    0.458724\n",
       "5     0.452370    0.465876"
      ]
     },
     "execution_count": 113,
     "metadata": {},
     "output_type": "execute_result"
    }
   ],
   "source": [
    "train_errs = []\n",
    "test_errs = []\n",
    "for d in range(1, 7):\n",
    "    pl = Pipeline([\n",
    "    ('preproc', preproc),\n",
    "    ('poly', PolynomialFeatures(d)),\n",
    "    ('lin_reg', LinearRegression()),\n",
    "    ])\n",
    "    pl.fit(X_train, y_train)\n",
    "    train_errs.append(mean_squared_error(y_train, pl.predict(X_train), squared=False))\n",
    "    test_errs.append(mean_squared_error(y_test, pl.predict(X_test), squared=False))\n",
    "errs = pd.DataFrame({'Train Error': train_errs, 'Test Error': test_errs})\n",
    "errs\n"
   ]
  },
  {
   "cell_type": "code",
   "execution_count": 116,
   "metadata": {},
   "outputs": [
    {
     "data": {
      "application/vnd.plotly.v1+json": {
       "config": {
        "plotlyServerURL": "https://plot.ly"
       },
       "data": [
        {
         "hovertemplate": "variable=Train Error<br>index=%{x}<br>value=%{y}<extra></extra>",
         "legendgroup": "Train Error",
         "line": {
          "color": "#636efa",
          "dash": "solid"
         },
         "marker": {
          "symbol": "circle"
         },
         "mode": "lines",
         "name": "Train Error",
         "orientation": "v",
         "showlegend": true,
         "type": "scatter",
         "x": [
          0,
          1,
          2,
          3,
          4,
          5
         ],
         "xaxis": "x",
         "y": [
          0.45828262962375105,
          0.4536075796735994,
          0.45324270520562887,
          0.4531028683995207,
          0.45334435263833245,
          0.45236978572570075
         ],
         "yaxis": "y"
        },
        {
         "hovertemplate": "variable=Test Error<br>index=%{x}<br>value=%{y}<extra></extra>",
         "legendgroup": "Test Error",
         "line": {
          "color": "#EF553B",
          "dash": "solid"
         },
         "marker": {
          "symbol": "circle"
         },
         "mode": "lines",
         "name": "Test Error",
         "orientation": "v",
         "showlegend": true,
         "type": "scatter",
         "x": [
          0,
          1,
          2,
          3,
          4,
          5
         ],
         "xaxis": "x",
         "y": [
          0.45961838433720414,
          0.45515748319569754,
          0.45504683442908805,
          0.4552695495311143,
          0.45872361527812483,
          0.46587577370525834
         ],
         "yaxis": "y"
        }
       ],
       "layout": {
        "legend": {
         "title": {
          "text": "variable"
         },
         "tracegroupgap": 0
        },
        "margin": {
         "t": 60
        },
        "showlegend": true,
        "template": {
         "data": {
          "bar": [
           {
            "error_x": {
             "color": "#2a3f5f"
            },
            "error_y": {
             "color": "#2a3f5f"
            },
            "marker": {
             "line": {
              "color": "#E5ECF6",
              "width": 0.5
             },
             "pattern": {
              "fillmode": "overlay",
              "size": 10,
              "solidity": 0.2
             }
            },
            "type": "bar"
           }
          ],
          "barpolar": [
           {
            "marker": {
             "line": {
              "color": "#E5ECF6",
              "width": 0.5
             },
             "pattern": {
              "fillmode": "overlay",
              "size": 10,
              "solidity": 0.2
             }
            },
            "type": "barpolar"
           }
          ],
          "carpet": [
           {
            "aaxis": {
             "endlinecolor": "#2a3f5f",
             "gridcolor": "white",
             "linecolor": "white",
             "minorgridcolor": "white",
             "startlinecolor": "#2a3f5f"
            },
            "baxis": {
             "endlinecolor": "#2a3f5f",
             "gridcolor": "white",
             "linecolor": "white",
             "minorgridcolor": "white",
             "startlinecolor": "#2a3f5f"
            },
            "type": "carpet"
           }
          ],
          "choropleth": [
           {
            "colorbar": {
             "outlinewidth": 0,
             "ticks": ""
            },
            "type": "choropleth"
           }
          ],
          "contour": [
           {
            "colorbar": {
             "outlinewidth": 0,
             "ticks": ""
            },
            "colorscale": [
             [
              0,
              "#0d0887"
             ],
             [
              0.1111111111111111,
              "#46039f"
             ],
             [
              0.2222222222222222,
              "#7201a8"
             ],
             [
              0.3333333333333333,
              "#9c179e"
             ],
             [
              0.4444444444444444,
              "#bd3786"
             ],
             [
              0.5555555555555556,
              "#d8576b"
             ],
             [
              0.6666666666666666,
              "#ed7953"
             ],
             [
              0.7777777777777778,
              "#fb9f3a"
             ],
             [
              0.8888888888888888,
              "#fdca26"
             ],
             [
              1,
              "#f0f921"
             ]
            ],
            "type": "contour"
           }
          ],
          "contourcarpet": [
           {
            "colorbar": {
             "outlinewidth": 0,
             "ticks": ""
            },
            "type": "contourcarpet"
           }
          ],
          "heatmap": [
           {
            "colorbar": {
             "outlinewidth": 0,
             "ticks": ""
            },
            "colorscale": [
             [
              0,
              "#0d0887"
             ],
             [
              0.1111111111111111,
              "#46039f"
             ],
             [
              0.2222222222222222,
              "#7201a8"
             ],
             [
              0.3333333333333333,
              "#9c179e"
             ],
             [
              0.4444444444444444,
              "#bd3786"
             ],
             [
              0.5555555555555556,
              "#d8576b"
             ],
             [
              0.6666666666666666,
              "#ed7953"
             ],
             [
              0.7777777777777778,
              "#fb9f3a"
             ],
             [
              0.8888888888888888,
              "#fdca26"
             ],
             [
              1,
              "#f0f921"
             ]
            ],
            "type": "heatmap"
           }
          ],
          "heatmapgl": [
           {
            "colorbar": {
             "outlinewidth": 0,
             "ticks": ""
            },
            "colorscale": [
             [
              0,
              "#0d0887"
             ],
             [
              0.1111111111111111,
              "#46039f"
             ],
             [
              0.2222222222222222,
              "#7201a8"
             ],
             [
              0.3333333333333333,
              "#9c179e"
             ],
             [
              0.4444444444444444,
              "#bd3786"
             ],
             [
              0.5555555555555556,
              "#d8576b"
             ],
             [
              0.6666666666666666,
              "#ed7953"
             ],
             [
              0.7777777777777778,
              "#fb9f3a"
             ],
             [
              0.8888888888888888,
              "#fdca26"
             ],
             [
              1,
              "#f0f921"
             ]
            ],
            "type": "heatmapgl"
           }
          ],
          "histogram": [
           {
            "marker": {
             "pattern": {
              "fillmode": "overlay",
              "size": 10,
              "solidity": 0.2
             }
            },
            "type": "histogram"
           }
          ],
          "histogram2d": [
           {
            "colorbar": {
             "outlinewidth": 0,
             "ticks": ""
            },
            "colorscale": [
             [
              0,
              "#0d0887"
             ],
             [
              0.1111111111111111,
              "#46039f"
             ],
             [
              0.2222222222222222,
              "#7201a8"
             ],
             [
              0.3333333333333333,
              "#9c179e"
             ],
             [
              0.4444444444444444,
              "#bd3786"
             ],
             [
              0.5555555555555556,
              "#d8576b"
             ],
             [
              0.6666666666666666,
              "#ed7953"
             ],
             [
              0.7777777777777778,
              "#fb9f3a"
             ],
             [
              0.8888888888888888,
              "#fdca26"
             ],
             [
              1,
              "#f0f921"
             ]
            ],
            "type": "histogram2d"
           }
          ],
          "histogram2dcontour": [
           {
            "colorbar": {
             "outlinewidth": 0,
             "ticks": ""
            },
            "colorscale": [
             [
              0,
              "#0d0887"
             ],
             [
              0.1111111111111111,
              "#46039f"
             ],
             [
              0.2222222222222222,
              "#7201a8"
             ],
             [
              0.3333333333333333,
              "#9c179e"
             ],
             [
              0.4444444444444444,
              "#bd3786"
             ],
             [
              0.5555555555555556,
              "#d8576b"
             ],
             [
              0.6666666666666666,
              "#ed7953"
             ],
             [
              0.7777777777777778,
              "#fb9f3a"
             ],
             [
              0.8888888888888888,
              "#fdca26"
             ],
             [
              1,
              "#f0f921"
             ]
            ],
            "type": "histogram2dcontour"
           }
          ],
          "mesh3d": [
           {
            "colorbar": {
             "outlinewidth": 0,
             "ticks": ""
            },
            "type": "mesh3d"
           }
          ],
          "parcoords": [
           {
            "line": {
             "colorbar": {
              "outlinewidth": 0,
              "ticks": ""
             }
            },
            "type": "parcoords"
           }
          ],
          "pie": [
           {
            "automargin": true,
            "type": "pie"
           }
          ],
          "scatter": [
           {
            "fillpattern": {
             "fillmode": "overlay",
             "size": 10,
             "solidity": 0.2
            },
            "type": "scatter"
           }
          ],
          "scatter3d": [
           {
            "line": {
             "colorbar": {
              "outlinewidth": 0,
              "ticks": ""
             }
            },
            "marker": {
             "colorbar": {
              "outlinewidth": 0,
              "ticks": ""
             }
            },
            "type": "scatter3d"
           }
          ],
          "scattercarpet": [
           {
            "marker": {
             "colorbar": {
              "outlinewidth": 0,
              "ticks": ""
             }
            },
            "type": "scattercarpet"
           }
          ],
          "scattergeo": [
           {
            "marker": {
             "colorbar": {
              "outlinewidth": 0,
              "ticks": ""
             }
            },
            "type": "scattergeo"
           }
          ],
          "scattergl": [
           {
            "marker": {
             "colorbar": {
              "outlinewidth": 0,
              "ticks": ""
             }
            },
            "type": "scattergl"
           }
          ],
          "scattermapbox": [
           {
            "marker": {
             "colorbar": {
              "outlinewidth": 0,
              "ticks": ""
             }
            },
            "type": "scattermapbox"
           }
          ],
          "scatterpolar": [
           {
            "marker": {
             "colorbar": {
              "outlinewidth": 0,
              "ticks": ""
             }
            },
            "type": "scatterpolar"
           }
          ],
          "scatterpolargl": [
           {
            "marker": {
             "colorbar": {
              "outlinewidth": 0,
              "ticks": ""
             }
            },
            "type": "scatterpolargl"
           }
          ],
          "scatterternary": [
           {
            "marker": {
             "colorbar": {
              "outlinewidth": 0,
              "ticks": ""
             }
            },
            "type": "scatterternary"
           }
          ],
          "surface": [
           {
            "colorbar": {
             "outlinewidth": 0,
             "ticks": ""
            },
            "colorscale": [
             [
              0,
              "#0d0887"
             ],
             [
              0.1111111111111111,
              "#46039f"
             ],
             [
              0.2222222222222222,
              "#7201a8"
             ],
             [
              0.3333333333333333,
              "#9c179e"
             ],
             [
              0.4444444444444444,
              "#bd3786"
             ],
             [
              0.5555555555555556,
              "#d8576b"
             ],
             [
              0.6666666666666666,
              "#ed7953"
             ],
             [
              0.7777777777777778,
              "#fb9f3a"
             ],
             [
              0.8888888888888888,
              "#fdca26"
             ],
             [
              1,
              "#f0f921"
             ]
            ],
            "type": "surface"
           }
          ],
          "table": [
           {
            "cells": {
             "fill": {
              "color": "#EBF0F8"
             },
             "line": {
              "color": "white"
             }
            },
            "header": {
             "fill": {
              "color": "#C8D4E3"
             },
             "line": {
              "color": "white"
             }
            },
            "type": "table"
           }
          ]
         },
         "layout": {
          "annotationdefaults": {
           "arrowcolor": "#2a3f5f",
           "arrowhead": 0,
           "arrowwidth": 1
          },
          "autotypenumbers": "strict",
          "coloraxis": {
           "colorbar": {
            "outlinewidth": 0,
            "ticks": ""
           }
          },
          "colorscale": {
           "diverging": [
            [
             0,
             "#8e0152"
            ],
            [
             0.1,
             "#c51b7d"
            ],
            [
             0.2,
             "#de77ae"
            ],
            [
             0.3,
             "#f1b6da"
            ],
            [
             0.4,
             "#fde0ef"
            ],
            [
             0.5,
             "#f7f7f7"
            ],
            [
             0.6,
             "#e6f5d0"
            ],
            [
             0.7,
             "#b8e186"
            ],
            [
             0.8,
             "#7fbc41"
            ],
            [
             0.9,
             "#4d9221"
            ],
            [
             1,
             "#276419"
            ]
           ],
           "sequential": [
            [
             0,
             "#0d0887"
            ],
            [
             0.1111111111111111,
             "#46039f"
            ],
            [
             0.2222222222222222,
             "#7201a8"
            ],
            [
             0.3333333333333333,
             "#9c179e"
            ],
            [
             0.4444444444444444,
             "#bd3786"
            ],
            [
             0.5555555555555556,
             "#d8576b"
            ],
            [
             0.6666666666666666,
             "#ed7953"
            ],
            [
             0.7777777777777778,
             "#fb9f3a"
            ],
            [
             0.8888888888888888,
             "#fdca26"
            ],
            [
             1,
             "#f0f921"
            ]
           ],
           "sequentialminus": [
            [
             0,
             "#0d0887"
            ],
            [
             0.1111111111111111,
             "#46039f"
            ],
            [
             0.2222222222222222,
             "#7201a8"
            ],
            [
             0.3333333333333333,
             "#9c179e"
            ],
            [
             0.4444444444444444,
             "#bd3786"
            ],
            [
             0.5555555555555556,
             "#d8576b"
            ],
            [
             0.6666666666666666,
             "#ed7953"
            ],
            [
             0.7777777777777778,
             "#fb9f3a"
            ],
            [
             0.8888888888888888,
             "#fdca26"
            ],
            [
             1,
             "#f0f921"
            ]
           ]
          },
          "colorway": [
           "#636efa",
           "#EF553B",
           "#00cc96",
           "#ab63fa",
           "#FFA15A",
           "#19d3f3",
           "#FF6692",
           "#B6E880",
           "#FF97FF",
           "#FECB52"
          ],
          "font": {
           "color": "#2a3f5f"
          },
          "geo": {
           "bgcolor": "white",
           "lakecolor": "white",
           "landcolor": "#E5ECF6",
           "showlakes": true,
           "showland": true,
           "subunitcolor": "white"
          },
          "hoverlabel": {
           "align": "left"
          },
          "hovermode": "closest",
          "mapbox": {
           "style": "light"
          },
          "paper_bgcolor": "white",
          "plot_bgcolor": "#E5ECF6",
          "polar": {
           "angularaxis": {
            "gridcolor": "white",
            "linecolor": "white",
            "ticks": ""
           },
           "bgcolor": "#E5ECF6",
           "radialaxis": {
            "gridcolor": "white",
            "linecolor": "white",
            "ticks": ""
           }
          },
          "scene": {
           "xaxis": {
            "backgroundcolor": "#E5ECF6",
            "gridcolor": "white",
            "gridwidth": 2,
            "linecolor": "white",
            "showbackground": true,
            "ticks": "",
            "zerolinecolor": "white"
           },
           "yaxis": {
            "backgroundcolor": "#E5ECF6",
            "gridcolor": "white",
            "gridwidth": 2,
            "linecolor": "white",
            "showbackground": true,
            "ticks": "",
            "zerolinecolor": "white"
           },
           "zaxis": {
            "backgroundcolor": "#E5ECF6",
            "gridcolor": "white",
            "gridwidth": 2,
            "linecolor": "white",
            "showbackground": true,
            "ticks": "",
            "zerolinecolor": "white"
           }
          },
          "shapedefaults": {
           "line": {
            "color": "#2a3f5f"
           }
          },
          "ternary": {
           "aaxis": {
            "gridcolor": "white",
            "linecolor": "white",
            "ticks": ""
           },
           "baxis": {
            "gridcolor": "white",
            "linecolor": "white",
            "ticks": ""
           },
           "bgcolor": "#E5ECF6",
           "caxis": {
            "gridcolor": "white",
            "linecolor": "white",
            "ticks": ""
           }
          },
          "title": {
           "x": 0.05
          },
          "xaxis": {
           "automargin": true,
           "gridcolor": "white",
           "linecolor": "white",
           "ticks": "",
           "title": {
            "standoff": 15
           },
           "zerolinecolor": "white",
           "zerolinewidth": 2
          },
          "yaxis": {
           "automargin": true,
           "gridcolor": "white",
           "linecolor": "white",
           "ticks": "",
           "title": {
            "standoff": 15
           },
           "zerolinecolor": "white",
           "zerolinewidth": 2
          }
         }
        },
        "xaxis": {
         "anchor": "y",
         "domain": [
          0,
          1
         ],
         "title": {
          "text": "Polynomial Degree"
         }
        },
        "yaxis": {
         "anchor": "x",
         "domain": [
          0,
          1
         ],
         "title": {
          "text": "RMSE"
         }
        }
       }
      }
     },
     "metadata": {},
     "output_type": "display_data"
    }
   ],
   "source": [
    "fig = px.line(errs)\n",
    "fig.update_layout(showlegend=True, xaxis_title='Polynomial Degree', yaxis_title='RMSE')"
   ]
  },
  {
   "cell_type": "code",
   "execution_count": 128,
   "metadata": {},
   "outputs": [
    {
     "data": {
      "text/plain": [
       "(0.17695699054777625, 0.15531338549828344)"
      ]
     },
     "execution_count": 128,
     "metadata": {},
     "output_type": "execute_result"
    }
   ],
   "source": [
    "pl = Pipeline([\n",
    "    ('preproc', preproc),\n",
    "    ('poly', PolynomialFeatures(errs['Test Error'].idxmin())),\n",
    "    ('lin_reg', LinearRegression()),\n",
    "    ])\n",
    "pl.fit(X_train, y_train)\n",
    "pl.score(X_train, y_train), improved_model.score(X_test, y_test)"
   ]
  },
  {
   "cell_type": "markdown",
   "metadata": {},
   "source": [
    "The model is still not doing well, so I decide to get DecisionTreeClassifier a try. Because DecisionTreeClassifier cannot handle any nominal and ordinal values, I transform my X trian and test by using the ColumnTransformer which I mentioned before. Then, I create a DecisionTreeClassifier, and run a for loop in range 1 to 20 for tree depth to determine which tree depth is best fit. \n",
    "\n",
    "After the loop, the value of accuracy stops changing after tree's depth is 14, so I make my DecisionTreeClassifier has the max depth of 14. This time, the R^2 is 0.6782909389286133 for train set, and 0.6729957805907173 for test set. It is a huge improvment model which increase the accuracy for about 50%. Although the accuracy still not reach above 80%, I still thing this is a good model since it improved a lot. Finally, I find a model that can be used. "
   ]
  },
  {
   "cell_type": "code",
   "execution_count": 129,
   "metadata": {},
   "outputs": [],
   "source": [
    "X1 = pl.named_steps['preproc'].transform(X_train)\n",
    "X2 = pl.named_steps['preproc'].transform(X_test)"
   ]
  },
  {
   "cell_type": "code",
   "execution_count": 131,
   "metadata": {},
   "outputs": [
    {
     "data": {
      "text/plain": [
       "[[1, 0.6518579299027077, 0.6520745428973277],\n",
       " [2, 0.6518579299027077, 0.6520745428973277],\n",
       " [3, 0.6622904700504044, 0.6633263009845288],\n",
       " [4, 0.6654553979603798, 0.6691279887482419],\n",
       " [5, 0.6724885710936584, 0.6747538677918424],\n",
       " [6, 0.6738365959442035, 0.6728199718706048],\n",
       " [7, 0.6763568163169617, 0.6744022503516175],\n",
       " [8, 0.6777634509436173, 0.6766877637130801],\n",
       " [9, 0.6781151096002813, 0.6731715893108298],\n",
       " [10, 0.6781151096002813, 0.6731715893108298],\n",
       " [11, 0.6781151096002813, 0.6729957805907173],\n",
       " [12, 0.6781151096002813, 0.6731715893108298],\n",
       " [13, 0.6782323291525026, 0.6729957805907173],\n",
       " [14, 0.6782909389286133, 0.6729957805907173],\n",
       " [15, 0.6782909389286133, 0.6729957805907173],\n",
       " [16, 0.6782909389286133, 0.6729957805907173],\n",
       " [17, 0.6782909389286133, 0.6729957805907173],\n",
       " [18, 0.6782909389286133, 0.6729957805907173],\n",
       " [19, 0.6782909389286133, 0.6729957805907173],\n",
       " [20, 0.6782909389286133, 0.6729957805907173]]"
      ]
     },
     "execution_count": 131,
     "metadata": {},
     "output_type": "execute_result"
    }
   ],
   "source": [
    "acc = []\n",
    "for d in range(1,21):\n",
    "    dt = DecisionTreeClassifier(max_depth=d, criterion='entropy')\n",
    "    dt.fit(X1, y_train)\n",
    "    acc.append([d, dt.score(X1, y_train), dt.score(X2, y_test)])\n",
    "acc"
   ]
  },
  {
   "cell_type": "code",
   "execution_count": 141,
   "metadata": {},
   "outputs": [
    {
     "data": {
      "text/plain": [
       "(0.6782909389286133, 0.6729957805907173)"
      ]
     },
     "execution_count": 141,
     "metadata": {},
     "output_type": "execute_result"
    }
   ],
   "source": [
    "dt = DecisionTreeClassifier(max_depth=14, criterion='entropy')\n",
    "dt.fit(X1, y_train)\n",
    "dt.score(X1, y_train), dt.score(X2, y_test)"
   ]
  },
  {
   "cell_type": "markdown",
   "metadata": {},
   "source": [
    "## Step 8: Fairness Analysis"
   ]
  },
  {
   "cell_type": "markdown",
   "metadata": {},
   "source": [
    "In League of Legends, if you get the eighth kill and after every kill that you get, the system will display that you are legendary to other players instead of just saying you killed a enemy champion. In order to perform a fairness analysis and this game setting, I make 2 group, the first group is a position gets at least 8 kills in the game, and another group will be the rest. \n",
    "\n",
    "C: Our desicion tree classifier (1 if win the game, 0 if lose the game)\n",
    "\n",
    "A: Whether or not it was legendary (has at least 8 kills) (1 if true, 0 if false).\n",
    "\n",
    "From the observed stats, the winning rate of a position is legendary is 0.997268, and the winning rate of a position is not legendary is 0.421270. Now, let's compute the accuracy of C in each group. If these two numbers are the same, C achieves accuracy parity. However, it has False for 0.660090, and True for 0.860656.\n"
   ]
  },
  {
   "cell_type": "code",
   "execution_count": 146,
   "metadata": {
    "ExecuteTime": {
     "end_time": "2019-10-31T23:36:28.666489Z",
     "start_time": "2019-10-31T23:36:28.664381Z"
    }
   },
   "outputs": [
    {
     "data": {
      "text/plain": [
       "(0.6843114691215957, 0.6323998582063098)"
      ]
     },
     "execution_count": 146,
     "metadata": {},
     "output_type": "execute_result"
    },
    {
     "data": {
      "image/png": "[encoded data removed]",
      "text/plain": [
       "<Figure size 640x480 with 2 Axes>"
      ]
     },
     "metadata": {},
     "output_type": "display_data"
    }
   ],
   "source": [
    "from sklearn import metrics\n",
    "from sklearn.metrics import ConfusionMatrixDisplay\n",
    "ConfusionMatrixDisplay.from_estimator(dt, X2, y_test)\n",
    "y_pred = dt.predict(X2)\n",
    "precision = metrics.precision_score(y_test, y_pred)\n",
    "recall = metrics.recall_score(y_test, y_pred)\n",
    "precision, recall"
   ]
  },
  {
   "cell_type": "code",
   "execution_count": 165,
   "metadata": {},
   "outputs": [
    {
     "data": {
      "text/plain": [
       "Legendary\n",
       "False    0.421270\n",
       "True     0.997268\n",
       "Name: pred_result, dtype: float64"
      ]
     },
     "execution_count": 165,
     "metadata": {},
     "output_type": "execute_result"
    }
   ],
   "source": [
    "results = X_test\n",
    "results['true_result'] = y_test\n",
    "results['pred_result'] = y_pred\n",
    "results['Legendary'] = (results['kills'] >= 8)\n",
    "results.groupby('Legendary')['pred_result'].mean()"
   ]
  },
  {
   "cell_type": "code",
   "execution_count": 166,
   "metadata": {},
   "outputs": [
    {
     "data": {
      "text/plain": [
       "Legendary\n",
       "False    0.660090\n",
       "True     0.860656\n",
       "Name: accuracy, dtype: float64"
      ]
     },
     "execution_count": 166,
     "metadata": {},
     "output_type": "execute_result"
    }
   ],
   "source": [
    "compute_accuracy = lambda x: metrics.accuracy_score(x['true_result'], x['pred_result'])\n",
    "(\n",
    "    results\n",
    "    .groupby('Legendary')\n",
    "    .apply(compute_accuracy)\n",
    "    .rename('accuracy')\n",
    ")"
   ]
  },
  {
   "cell_type": "markdown",
   "metadata": {},
   "source": [
    "Let's run a permutation test to see if the difference in accuracy is significant.\n",
    "\n",
    "Null Hypothesis: The classifier's accuracy is the same for both who is legendary and who is not legendary, and any differences are due to chance.\n",
    "\n",
    "Alternative Hypothesis: The classifier's accuracy is higher for who is not legendary.\n",
    "\n",
    "Test statistic: Difference in accuracy (True minus False).\n",
    "\n",
    "Significance level: 0.05\n",
    "\n",
    "Since the p-value is less than my significance level, I reject the null hypothesis."
   ]
  },
  {
   "cell_type": "code",
   "execution_count": 172,
   "metadata": {},
   "outputs": [
    {
     "data": {
      "application/vnd.plotly.v1+json": {
       "config": {
        "plotlyServerURL": "https://plot.ly"
       },
       "data": [
        {
         "alignmentgroup": "True",
         "bingroup": "x",
         "histnorm": "probability",
         "hovertemplate": "variable=0<br>value=%{x}<br>probability=%{y}<extra></extra>",
         "legendgroup": "0",
         "marker": {
          "color": "#636efa",
          "pattern": {
           "shape": ""
          }
         },
         "name": "0",
         "nbinsx": 20,
         "offsetgroup": "0",
         "orientation": "v",
         "showlegend": true,
         "type": "histogram",
         "x": [
          0.004916184597187012,
          0.013676603766610618,
          0.025357162659175314,
          -0.0009240948490953915,
          -0.01552479346480129,
          0.013676603766610618,
          -0.021365072911083693,
          -0.041806050973071884,
          0.01951688321289291,
          -0.006764374295377684,
          0.025357162659175314,
          -0.01552479346480129,
          0.031197442105457718,
          0.03995786127488121,
          -0.05056647014249538,
          0.010756464043469416,
          -0.03888591124993068,
          0.007836324320328214,
          -0.01552479346480129,
          0.004916184597187012,
          0.007836324320328214,
          -0.0038442345722364824,
          -0.009684514018518886,
          -0.0009240948490953915,
          0.01951688321289291,
          -0.024285212634224784,
          -0.0038442345722364824,
          -0.0038442345722364824,
          0.03411758182859892,
          0.042878000998022414,
          0.007836324320328214,
          0.007836324320328214,
          0.007836324320328214,
          0.007836324320328214,
          -0.0038442345722364824,
          -0.024285212634224784,
          0.01659674348975182,
          0.022437022936034112,
          -0.012604653741660088,
          0.004916184597187012,
          0.03703772155174012,
          0.042878000998022414,
          0.022437022936034112,
          0.010756464043469416,
          0.013676603766610618,
          0.007836324320328214,
          0.010756464043469416,
          -0.009684514018518886,
          0.007836324320328214,
          0.010756464043469416,
          -0.01844493318794249,
          -0.01844493318794249,
          -0.03596577152678948,
          -0.027205352357365875,
          -0.0038442345722364824,
          -0.0038442345722364824,
          0.031197442105457718,
          0.028277302382316516,
          -0.0038442345722364824,
          -0.021365072911083693,
          0.028277302382316516,
          -0.021365072911083693,
          0.028277302382316516,
          0.05455855989058722,
          0.007836324320328214,
          -0.027205352357365875,
          0.05455855989058722,
          -0.0038442345722364824,
          0.004916184597187012,
          -0.030125492080507077,
          -0.006764374295377684,
          0.028277302382316516,
          -0.027205352357365875,
          0.03411758182859892,
          0.010756464043469416,
          0.01951688321289291,
          -0.0009240948490953915,
          0.004916184597187012,
          -0.006764374295377684,
          -0.03304563180364828,
          -0.0038442345722364824,
          0.03411758182859892,
          0.022437022936034112,
          -0.009684514018518886,
          0.05747869961372842,
          0.013676603766610618,
          -0.021365072911083693,
          0.01659674348975182,
          0.07499953795257552,
          -0.012604653741660088,
          0.042878000998022414,
          0.0019960448740458103,
          0.03411758182859892,
          -0.0009240948490953915,
          -0.01552479346480129,
          -0.027205352357365875,
          0.007836324320328214,
          -0.006764374295377684,
          0.0019960448740458103,
          -0.012604653741660088,
          -0.05056647014249538,
          -0.0009240948490953915,
          -0.0038442345722364824,
          -0.030125492080507077,
          0.031197442105457718,
          0.0019960448740458103,
          0.025357162659175314,
          0.01951688321289291,
          0.022437022936034112,
          -0.006764374295377684,
          0.028277302382316516,
          -0.0038442345722364824,
          -0.0038442345722364824,
          0.022437022936034112,
          -0.05056647014249538,
          -0.04764633041935418,
          0.013676603766610618,
          -0.009684514018518886,
          -0.0009240948490953915,
          0.013676603766610618,
          -0.01844493318794249,
          -0.009684514018518886,
          -0.027205352357365875,
          -0.021365072911083693,
          0.031197442105457718,
          -0.006764374295377684,
          0.01951688321289291,
          0.028277302382316516,
          0.03703772155174012,
          0.031197442105457718,
          -0.012604653741660088,
          -0.006764374295377684,
          -0.006764374295377684,
          -0.0038442345722364824,
          0.004916184597187012,
          0.010756464043469416,
          0.022437022936034112,
          -0.0009240948490953915,
          -0.0009240948490953915,
          0.007836324320328214,
          -0.012604653741660088,
          -0.0038442345722364824,
          0.007836324320328214,
          -0.006764374295377684,
          -0.021365072911083693,
          -0.044726190696212975,
          0.007836324320328214,
          -0.012604653741660088,
          -0.009684514018518886,
          -0.04764633041935418,
          -0.03304563180364828,
          0.010756464043469416,
          0.01659674348975182,
          -0.0009240948490953915,
          0.010756464043469416,
          -0.03304563180364828,
          -0.05640674958877778,
          0.0019960448740458103,
          -0.021365072911083693,
          -0.01844493318794249,
          -0.012604653741660088,
          0.028277302382316516,
          -0.021365072911083693,
          0.0019960448740458103,
          0.022437022936034112,
          0.010756464043469416,
          0.004916184597187012,
          -0.0009240948490953915,
          0.007836324320328214,
          0.022437022936034112,
          -0.03596577152678948,
          0.0019960448740458103,
          -0.024285212634224784,
          0.0019960448740458103,
          0.06331897906001072,
          0.0019960448740458103,
          0.01951688321289291,
          -0.021365072911083693,
          0.028277302382316516,
          -0.027205352357365875,
          -0.012604653741660088,
          0.03703772155174012,
          0.01951688321289291,
          -0.0009240948490953915,
          -0.024285212634224784,
          -0.021365072911083693,
          0.004916184597187012,
          -0.009684514018518886,
          -0.05056647014249538,
          0.03411758182859892,
          -0.0009240948490953915,
          0.028277302382316516,
          0.028277302382316516,
          0.025357162659175314,
          0.013676603766610618,
          0.01659674348975182,
          -0.027205352357365875,
          -0.0009240948490953915,
          0.013676603766610618,
          0.01951688321289291,
          -0.006764374295377684,
          0.025357162659175314,
          0.01659674348975182,
          0.031197442105457718,
          -0.05056647014249538,
          -0.009684514018518886,
          0.03703772155174012,
          0.0019960448740458103,
          0.025357162659175314,
          0.05455855989058722,
          0.01659674348975182,
          -0.0009240948490953915,
          -0.03888591124993068,
          -0.024285212634224784,
          -0.03596577152678948,
          -0.0038442345722364824,
          0.05747869961372842,
          -0.05348660986563658,
          0.031197442105457718,
          -0.030125492080507077,
          0.03411758182859892,
          -0.01844493318794249,
          -0.03888591124993068,
          0.013676603766610618,
          0.013676603766610618,
          0.05163842016744602,
          -0.044726190696212975,
          -0.0038442345722364824,
          0.01659674348975182,
          -0.041806050973071884,
          0.01951688321289291,
          0.007836324320328214,
          0.01659674348975182,
          0.03703772155174012,
          0.007836324320328214,
          -0.006764374295377684,
          0.0019960448740458103,
          0.0019960448740458103,
          0.01951688321289291,
          -0.05348660986563658,
          0.01659674348975182,
          -0.012604653741660088,
          -0.041806050973071884,
          -0.05640674958877778,
          -0.024285212634224784,
          0.03703772155174012,
          0.03411758182859892,
          0.0019960448740458103,
          -0.021365072911083693,
          -0.01844493318794249,
          0.013676603766610618,
          0.004916184597187012,
          -0.027205352357365875,
          -0.030125492080507077,
          0.022437022936034112,
          0.013676603766610618,
          -0.021365072911083693,
          0.03995786127488121,
          0.03411758182859892,
          0.01951688321289291,
          0.010756464043469416,
          0.004916184597187012,
          0.01659674348975182,
          0.0019960448740458103,
          -0.006764374295377684,
          0.01951688321289291,
          -0.03596577152678948,
          -0.0038442345722364824,
          -0.009684514018518886,
          -0.024285212634224784,
          -0.059326889311918984,
          -0.01552479346480129,
          0.004916184597187012,
          -0.01552479346480129,
          0.025357162659175314,
          -0.021365072911083693,
          -0.0009240948490953915,
          -0.041806050973071884,
          0.004916184597187012,
          -0.05056647014249538,
          0.013676603766610618,
          -0.01844493318794249,
          -0.0009240948490953915,
          -0.03888591124993068,
          -0.024285212634224784,
          -0.06516716875820128,
          -0.0009240948490953915,
          -0.024285212634224784,
          -0.0038442345722364824,
          -0.01552479346480129,
          -0.012604653741660088,
          -0.012604653741660088,
          0.01951688321289291,
          -0.0009240948490953915,
          0.010756464043469416,
          0.007836324320328214,
          -0.0038442345722364824,
          0.01951688321289291,
          0.01951688321289291,
          -0.0038442345722364824,
          0.01659674348975182,
          -0.027205352357365875,
          -0.006764374295377684,
          0.03703772155174012,
          -0.0038442345722364824,
          0.01659674348975182,
          -0.01844493318794249,
          -0.041806050973071884,
          0.0019960448740458103,
          -0.03888591124993068,
          -0.030125492080507077,
          -0.041806050973071884,
          0.025357162659175314,
          -0.04764633041935418,
          0.013676603766610618,
          -0.024285212634224784,
          -0.006764374295377684,
          -0.03596577152678948,
          -0.01844493318794249,
          0.0019960448740458103,
          0.004916184597187012,
          0.013676603766610618,
          -0.012604653741660088,
          0.01659674348975182,
          -0.0038442345722364824,
          -0.030125492080507077,
          -0.059326889311918984,
          0.013676603766610618,
          0.004916184597187012,
          -0.05348660986563658,
          -0.0009240948490953915,
          0.031197442105457718,
          0.03995786127488121,
          0.0019960448740458103,
          0.004916184597187012,
          -0.006764374295377684,
          -0.027205352357365875,
          0.0019960448740458103,
          -0.01552479346480129,
          0.028277302382316516,
          -0.030125492080507077,
          -0.027205352357365875,
          -0.0038442345722364824,
          0.0019960448740458103,
          0.042878000998022414,
          0.0019960448740458103,
          0.060398839336869514,
          -0.021365072911083693,
          0.010756464043469416,
          -0.021365072911083693,
          -0.027205352357365875,
          -0.012604653741660088,
          -0.006764374295377684,
          -0.021365072911083693,
          0.004916184597187012,
          0.004916184597187012,
          -0.027205352357365875,
          -0.01552479346480129,
          0.03411758182859892,
          -0.009684514018518886,
          -0.012604653741660088,
          0.0019960448740458103,
          0.03995786127488121,
          0.022437022936034112,
          -0.012604653741660088,
          -0.021365072911083693,
          -0.05348660986563658,
          0.013676603766610618,
          0.010756464043469416,
          0.007836324320328214,
          -0.027205352357365875,
          0.022437022936034112,
          -0.024285212634224784,
          0.022437022936034112,
          -0.012604653741660088,
          0.022437022936034112,
          -0.021365072911083693,
          0.0019960448740458103,
          0.004916184597187012,
          -0.027205352357365875,
          -0.021365072911083693,
          0.028277302382316516,
          -0.012604653741660088,
          -0.01552479346480129,
          -0.0009240948490953915,
          -0.012604653741660088,
          -0.0009240948490953915,
          -0.0009240948490953915,
          0.022437022936034112,
          -0.006764374295377684,
          0.007836324320328214,
          0.010756464043469416,
          0.0019960448740458103,
          -0.009684514018518886,
          0.007836324320328214,
          -0.01844493318794249,
          -0.041806050973071884,
          0.03411758182859892,
          0.045798140721163616,
          -0.01844493318794249,
          0.05747869961372842,
          0.004916184597187012,
          -0.03304563180364828,
          0.01659674348975182,
          -0.012604653741660088,
          -0.03304563180364828,
          0.031197442105457718,
          -0.0038442345722364824,
          -0.024285212634224784,
          0.013676603766610618,
          -0.027205352357365875,
          0.004916184597187012,
          -0.021365072911083693,
          -0.01552479346480129,
          -0.006764374295377684,
          0.028277302382316516,
          0.07791967767571673,
          0.042878000998022414,
          -0.01844493318794249,
          -0.03888591124993068,
          0.01951688321289291,
          -0.03596577152678948,
          -0.006764374295377684,
          -0.03596577152678948,
          -0.024285212634224784,
          -0.01552479346480129,
          -0.027205352357365875,
          -0.021365072911083693,
          0.025357162659175314,
          -0.012604653741660088,
          0.007836324320328214,
          -0.009684514018518886,
          0.022437022936034112,
          0.042878000998022414,
          0.0019960448740458103,
          0.07207939822943432,
          0.022437022936034112,
          -0.0038442345722364824,
          0.007836324320328214,
          -0.030125492080507077,
          0.004916184597187012,
          -0.024285212634224784,
          0.06331897906001072,
          0.022437022936034112,
          -0.03596577152678948,
          0.004916184597187012,
          0.028277302382316516,
          0.028277302382316516,
          0.0019960448740458103,
          -0.006764374295377684,
          0.004916184597187012,
          -0.027205352357365875,
          -0.044726190696212975,
          -0.021365072911083693,
          0.025357162659175314,
          -0.01844493318794249,
          0.05455855989058722,
          -0.021365072911083693,
          0.03411758182859892,
          0.004916184597187012,
          -0.01552479346480129,
          -0.01552479346480129,
          -0.0009240948490953915,
          0.03411758182859892,
          0.05163842016744602,
          0.022437022936034112,
          0.042878000998022414,
          0.04871828044430482,
          0.010756464043469416,
          -0.01552479346480129,
          -0.01844493318794249,
          0.01951688321289291,
          -0.01552479346480129,
          0.013676603766610618,
          0.03411758182859892,
          0.04871828044430482,
          0.01659674348975182,
          0.010756464043469416,
          -0.01844493318794249,
          0.01951688321289291,
          -0.041806050973071884,
          -0.021365072911083693,
          -0.021365072911083693,
          -0.0038442345722364824,
          0.05747869961372842,
          0.010756464043469416,
          -0.009684514018518886,
          0.01951688321289291,
          -0.0009240948490953915,
          -0.05348660986563658,
          -0.04764633041935418,
          -0.041806050973071884,
          -0.044726190696212975,
          0.031197442105457718,
          0.004916184597187012,
          0.022437022936034112,
          0.007836324320328214,
          -0.03596577152678948,
          0.007836324320328214,
          -0.03596577152678948
         ],
         "xaxis": "x",
         "yaxis": "y"
        }
       ],
       "layout": {
        "annotations": [
         {
          "showarrow": false,
          "text": "<span style=\"color:red\">Observed = 0.2</span>",
          "x": 0.18056554604764632,
          "y": 0.15
         }
        ],
        "barmode": "relative",
        "legend": {
         "title": {
          "text": "variable"
         },
         "tracegroupgap": 0
        },
        "shapes": [
         {
          "line": {
           "color": "red"
          },
          "type": "line",
          "x0": 0.20056554604764631,
          "x1": 0.20056554604764631,
          "xref": "x",
          "y0": 0,
          "y1": 1,
          "yref": "y domain"
         }
        ],
        "template": {
         "data": {
          "bar": [
           {
            "error_x": {
             "color": "#2a3f5f"
            },
            "error_y": {
             "color": "#2a3f5f"
            },
            "marker": {
             "line": {
              "color": "#E5ECF6",
              "width": 0.5
             },
             "pattern": {
              "fillmode": "overlay",
              "size": 10,
              "solidity": 0.2
             }
            },
            "type": "bar"
           }
          ],
          "barpolar": [
           {
            "marker": {
             "line": {
              "color": "#E5ECF6",
              "width": 0.5
             },
             "pattern": {
              "fillmode": "overlay",
              "size": 10,
              "solidity": 0.2
             }
            },
            "type": "barpolar"
           }
          ],
          "carpet": [
           {
            "aaxis": {
             "endlinecolor": "#2a3f5f",
             "gridcolor": "white",
             "linecolor": "white",
             "minorgridcolor": "white",
             "startlinecolor": "#2a3f5f"
            },
            "baxis": {
             "endlinecolor": "#2a3f5f",
             "gridcolor": "white",
             "linecolor": "white",
             "minorgridcolor": "white",
             "startlinecolor": "#2a3f5f"
            },
            "type": "carpet"
           }
          ],
          "choropleth": [
           {
            "colorbar": {
             "outlinewidth": 0,
             "ticks": ""
            },
            "type": "choropleth"
           }
          ],
          "contour": [
           {
            "colorbar": {
             "outlinewidth": 0,
             "ticks": ""
            },
            "colorscale": [
             [
              0,
              "#0d0887"
             ],
             [
              0.1111111111111111,
              "#46039f"
             ],
             [
              0.2222222222222222,
              "#7201a8"
             ],
             [
              0.3333333333333333,
              "#9c179e"
             ],
             [
              0.4444444444444444,
              "#bd3786"
             ],
             [
              0.5555555555555556,
              "#d8576b"
             ],
             [
              0.6666666666666666,
              "#ed7953"
             ],
             [
              0.7777777777777778,
              "#fb9f3a"
             ],
             [
              0.8888888888888888,
              "#fdca26"
             ],
             [
              1,
              "#f0f921"
             ]
            ],
            "type": "contour"
           }
          ],
          "contourcarpet": [
           {
            "colorbar": {
             "outlinewidth": 0,
             "ticks": ""
            },
            "type": "contourcarpet"
           }
          ],
          "heatmap": [
           {
            "colorbar": {
             "outlinewidth": 0,
             "ticks": ""
            },
            "colorscale": [
             [
              0,
              "#0d0887"
             ],
             [
              0.1111111111111111,
              "#46039f"
             ],
             [
              0.2222222222222222,
              "#7201a8"
             ],
             [
              0.3333333333333333,
              "#9c179e"
             ],
             [
              0.4444444444444444,
              "#bd3786"
             ],
             [
              0.5555555555555556,
              "#d8576b"
             ],
             [
              0.6666666666666666,
              "#ed7953"
             ],
             [
              0.7777777777777778,
              "#fb9f3a"
             ],
             [
              0.8888888888888888,
              "#fdca26"
             ],
             [
              1,
              "#f0f921"
             ]
            ],
            "type": "heatmap"
           }
          ],
          "heatmapgl": [
           {
            "colorbar": {
             "outlinewidth": 0,
             "ticks": ""
            },
            "colorscale": [
             [
              0,
              "#0d0887"
             ],
             [
              0.1111111111111111,
              "#46039f"
             ],
             [
              0.2222222222222222,
              "#7201a8"
             ],
             [
              0.3333333333333333,
              "#9c179e"
             ],
             [
              0.4444444444444444,
              "#bd3786"
             ],
             [
              0.5555555555555556,
              "#d8576b"
             ],
             [
              0.6666666666666666,
              "#ed7953"
             ],
             [
              0.7777777777777778,
              "#fb9f3a"
             ],
             [
              0.8888888888888888,
              "#fdca26"
             ],
             [
              1,
              "#f0f921"
             ]
            ],
            "type": "heatmapgl"
           }
          ],
          "histogram": [
           {
            "marker": {
             "pattern": {
              "fillmode": "overlay",
              "size": 10,
              "solidity": 0.2
             }
            },
            "type": "histogram"
           }
          ],
          "histogram2d": [
           {
            "colorbar": {
             "outlinewidth": 0,
             "ticks": ""
            },
            "colorscale": [
             [
              0,
              "#0d0887"
             ],
             [
              0.1111111111111111,
              "#46039f"
             ],
             [
              0.2222222222222222,
              "#7201a8"
             ],
             [
              0.3333333333333333,
              "#9c179e"
             ],
             [
              0.4444444444444444,
              "#bd3786"
             ],
             [
              0.5555555555555556,
              "#d8576b"
             ],
             [
              0.6666666666666666,
              "#ed7953"
             ],
             [
              0.7777777777777778,
              "#fb9f3a"
             ],
             [
              0.8888888888888888,
              "#fdca26"
             ],
             [
              1,
              "#f0f921"
             ]
            ],
            "type": "histogram2d"
           }
          ],
          "histogram2dcontour": [
           {
            "colorbar": {
             "outlinewidth": 0,
             "ticks": ""
            },
            "colorscale": [
             [
              0,
              "#0d0887"
             ],
             [
              0.1111111111111111,
              "#46039f"
             ],
             [
              0.2222222222222222,
              "#7201a8"
             ],
             [
              0.3333333333333333,
              "#9c179e"
             ],
             [
              0.4444444444444444,
              "#bd3786"
             ],
             [
              0.5555555555555556,
              "#d8576b"
             ],
             [
              0.6666666666666666,
              "#ed7953"
             ],
             [
              0.7777777777777778,
              "#fb9f3a"
             ],
             [
              0.8888888888888888,
              "#fdca26"
             ],
             [
              1,
              "#f0f921"
             ]
            ],
            "type": "histogram2dcontour"
           }
          ],
          "mesh3d": [
           {
            "colorbar": {
             "outlinewidth": 0,
             "ticks": ""
            },
            "type": "mesh3d"
           }
          ],
          "parcoords": [
           {
            "line": {
             "colorbar": {
              "outlinewidth": 0,
              "ticks": ""
             }
            },
            "type": "parcoords"
           }
          ],
          "pie": [
           {
            "automargin": true,
            "type": "pie"
           }
          ],
          "scatter": [
           {
            "fillpattern": {
             "fillmode": "overlay",
             "size": 10,
             "solidity": 0.2
            },
            "type": "scatter"
           }
          ],
          "scatter3d": [
           {
            "line": {
             "colorbar": {
              "outlinewidth": 0,
              "ticks": ""
             }
            },
            "marker": {
             "colorbar": {
              "outlinewidth": 0,
              "ticks": ""
             }
            },
            "type": "scatter3d"
           }
          ],
          "scattercarpet": [
           {
            "marker": {
             "colorbar": {
              "outlinewidth": 0,
              "ticks": ""
             }
            },
            "type": "scattercarpet"
           }
          ],
          "scattergeo": [
           {
            "marker": {
             "colorbar": {
              "outlinewidth": 0,
              "ticks": ""
             }
            },
            "type": "scattergeo"
           }
          ],
          "scattergl": [
           {
            "marker": {
             "colorbar": {
              "outlinewidth": 0,
              "ticks": ""
             }
            },
            "type": "scattergl"
           }
          ],
          "scattermapbox": [
           {
            "marker": {
             "colorbar": {
              "outlinewidth": 0,
              "ticks": ""
             }
            },
            "type": "scattermapbox"
           }
          ],
          "scatterpolar": [
           {
            "marker": {
             "colorbar": {
              "outlinewidth": 0,
              "ticks": ""
             }
            },
            "type": "scatterpolar"
           }
          ],
          "scatterpolargl": [
           {
            "marker": {
             "colorbar": {
              "outlinewidth": 0,
              "ticks": ""
             }
            },
            "type": "scatterpolargl"
           }
          ],
          "scatterternary": [
           {
            "marker": {
             "colorbar": {
              "outlinewidth": 0,
              "ticks": ""
             }
            },
            "type": "scatterternary"
           }
          ],
          "surface": [
           {
            "colorbar": {
             "outlinewidth": 0,
             "ticks": ""
            },
            "colorscale": [
             [
              0,
              "#0d0887"
             ],
             [
              0.1111111111111111,
              "#46039f"
             ],
             [
              0.2222222222222222,
              "#7201a8"
             ],
             [
              0.3333333333333333,
              "#9c179e"
             ],
             [
              0.4444444444444444,
              "#bd3786"
             ],
             [
              0.5555555555555556,
              "#d8576b"
             ],
             [
              0.6666666666666666,
              "#ed7953"
             ],
             [
              0.7777777777777778,
              "#fb9f3a"
             ],
             [
              0.8888888888888888,
              "#fdca26"
             ],
             [
              1,
              "#f0f921"
             ]
            ],
            "type": "surface"
           }
          ],
          "table": [
           {
            "cells": {
             "fill": {
              "color": "#EBF0F8"
             },
             "line": {
              "color": "white"
             }
            },
            "header": {
             "fill": {
              "color": "#C8D4E3"
             },
             "line": {
              "color": "white"
             }
            },
            "type": "table"
           }
          ]
         },
         "layout": {
          "annotationdefaults": {
           "arrowcolor": "#2a3f5f",
           "arrowhead": 0,
           "arrowwidth": 1
          },
          "autotypenumbers": "strict",
          "coloraxis": {
           "colorbar": {
            "outlinewidth": 0,
            "ticks": ""
           }
          },
          "colorscale": {
           "diverging": [
            [
             0,
             "#8e0152"
            ],
            [
             0.1,
             "#c51b7d"
            ],
            [
             0.2,
             "#de77ae"
            ],
            [
             0.3,
             "#f1b6da"
            ],
            [
             0.4,
             "#fde0ef"
            ],
            [
             0.5,
             "#f7f7f7"
            ],
            [
             0.6,
             "#e6f5d0"
            ],
            [
             0.7,
             "#b8e186"
            ],
            [
             0.8,
             "#7fbc41"
            ],
            [
             0.9,
             "#4d9221"
            ],
            [
             1,
             "#276419"
            ]
           ],
           "sequential": [
            [
             0,
             "#0d0887"
            ],
            [
             0.1111111111111111,
             "#46039f"
            ],
            [
             0.2222222222222222,
             "#7201a8"
            ],
            [
             0.3333333333333333,
             "#9c179e"
            ],
            [
             0.4444444444444444,
             "#bd3786"
            ],
            [
             0.5555555555555556,
             "#d8576b"
            ],
            [
             0.6666666666666666,
             "#ed7953"
            ],
            [
             0.7777777777777778,
             "#fb9f3a"
            ],
            [
             0.8888888888888888,
             "#fdca26"
            ],
            [
             1,
             "#f0f921"
            ]
           ],
           "sequentialminus": [
            [
             0,
             "#0d0887"
            ],
            [
             0.1111111111111111,
             "#46039f"
            ],
            [
             0.2222222222222222,
             "#7201a8"
            ],
            [
             0.3333333333333333,
             "#9c179e"
            ],
            [
             0.4444444444444444,
             "#bd3786"
            ],
            [
             0.5555555555555556,
             "#d8576b"
            ],
            [
             0.6666666666666666,
             "#ed7953"
            ],
            [
             0.7777777777777778,
             "#fb9f3a"
            ],
            [
             0.8888888888888888,
             "#fdca26"
            ],
            [
             1,
             "#f0f921"
            ]
           ]
          },
          "colorway": [
           "#636efa",
           "#EF553B",
           "#00cc96",
           "#ab63fa",
           "#FFA15A",
           "#19d3f3",
           "#FF6692",
           "#B6E880",
           "#FF97FF",
           "#FECB52"
          ],
          "font": {
           "color": "#2a3f5f"
          },
          "geo": {
           "bgcolor": "white",
           "lakecolor": "white",
           "landcolor": "#E5ECF6",
           "showlakes": true,
           "showland": true,
           "subunitcolor": "white"
          },
          "hoverlabel": {
           "align": "left"
          },
          "hovermode": "closest",
          "mapbox": {
           "style": "light"
          },
          "paper_bgcolor": "white",
          "plot_bgcolor": "#E5ECF6",
          "polar": {
           "angularaxis": {
            "gridcolor": "white",
            "linecolor": "white",
            "ticks": ""
           },
           "bgcolor": "#E5ECF6",
           "radialaxis": {
            "gridcolor": "white",
            "linecolor": "white",
            "ticks": ""
           }
          },
          "scene": {
           "xaxis": {
            "backgroundcolor": "#E5ECF6",
            "gridcolor": "white",
            "gridwidth": 2,
            "linecolor": "white",
            "showbackground": true,
            "ticks": "",
            "zerolinecolor": "white"
           },
           "yaxis": {
            "backgroundcolor": "#E5ECF6",
            "gridcolor": "white",
            "gridwidth": 2,
            "linecolor": "white",
            "showbackground": true,
            "ticks": "",
            "zerolinecolor": "white"
           },
           "zaxis": {
            "backgroundcolor": "#E5ECF6",
            "gridcolor": "white",
            "gridwidth": 2,
            "linecolor": "white",
            "showbackground": true,
            "ticks": "",
            "zerolinecolor": "white"
           }
          },
          "shapedefaults": {
           "line": {
            "color": "#2a3f5f"
           }
          },
          "ternary": {
           "aaxis": {
            "gridcolor": "white",
            "linecolor": "white",
            "ticks": ""
           },
           "baxis": {
            "gridcolor": "white",
            "linecolor": "white",
            "ticks": ""
           },
           "bgcolor": "#E5ECF6",
           "caxis": {
            "gridcolor": "white",
            "linecolor": "white",
            "ticks": ""
           }
          },
          "title": {
           "x": 0.05
          },
          "xaxis": {
           "automargin": true,
           "gridcolor": "white",
           "linecolor": "white",
           "ticks": "",
           "title": {
            "standoff": 15
           },
           "zerolinecolor": "white",
           "zerolinewidth": 2
          },
          "yaxis": {
           "automargin": true,
           "gridcolor": "white",
           "linecolor": "white",
           "ticks": "",
           "title": {
            "standoff": 15
           },
           "zerolinecolor": "white",
           "zerolinewidth": 2
          }
         }
        },
        "title": {
         "text": "Difference in Accuracy (Legendary -  not Legendary)"
        },
        "xaxis": {
         "anchor": "y",
         "domain": [
          0,
          1
         ],
         "title": {
          "text": "value"
         }
        },
        "yaxis": {
         "anchor": "x",
         "domain": [
          0,
          1
         ],
         "title": {
          "text": "probability"
         }
        }
       }
      }
     },
     "metadata": {},
     "output_type": "display_data"
    }
   ],
   "source": [
    "obs = results.groupby('Legendary').apply(compute_accuracy).diff().iloc[-1]\n",
    "diff_in_acc = []\n",
    "for _ in range(1000):\n",
    "    s = (\n",
    "        results[['Legendary', 'pred_result', 'true_result']]\n",
    "        .assign(Legendary=np.random.permutation(results['Legendary']))\n",
    "        .groupby('Legendary')\n",
    "        .apply(compute_accuracy)\n",
    "        .diff()\n",
    "        .iloc[-1]\n",
    "    )\n",
    "    \n",
    "    diff_in_acc.append(s)\n",
    "fig = pd.Series(diff_in_acc).plot(kind='hist', histnorm='probability', nbins=20,\n",
    "                            title='Difference in Accuracy (Legendary -  not Legendary)')\n",
    "fig.add_vline(x=obs, line_color='red')\n",
    "fig.add_annotation(text=f'<span style=\"color:red\">Observed = {round(obs, 2)}</span>',\n",
    "                   x= -0.02 + obs, showarrow=False, y=0.15)"
   ]
  },
  {
   "cell_type": "code",
   "execution_count": 179,
   "metadata": {},
   "outputs": [
    {
     "data": {
      "text/plain": [
       "0.0"
      ]
     },
     "execution_count": 179,
     "metadata": {},
     "output_type": "execute_result"
    }
   ],
   "source": [
    "(diff_in_acc >= obs).mean()"
   ]
  },
  {
   "cell_type": "code",
   "execution_count": null,
   "metadata": {},
   "outputs": [],
   "source": []
  }
 ],
 "metadata": {
  "kernelspec": {
   "display_name": "Python 3 (ipykernel)",
   "language": "python",
   "name": "python3"
  },
  "language_info": {
   "codemirror_mode": {
    "name": "ipython",
    "version": 3
   },
   "file_extension": ".py",
   "mimetype": "text/x-python",
   "name": "python",
   "nbconvert_exporter": "python",
   "pygments_lexer": "ipython3",
   "version": "3.8.18"
  }
 },
 "nbformat": 4,
 "nbformat_minor": 2
}
